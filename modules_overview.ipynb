{
 "cells": [
  {
   "cell_type": "markdown",
   "metadata": {},
   "source": [
    "<p style=\"text-align: center;font-size: 40pt\">Overview of modules</p>"
   ]
  },
  {
   "cell_type": "markdown",
   "metadata": {},
   "source": [
    "Pick your poison:\n",
    "\n",
    "Optional primers on [Python, Jupyter and Virtual Machines](./primers/0-overview.ipynb)\n",
    "\n",
    "1. [Welcome to a flat world](./transformations_2d/0-overview.ipynb)\n",
    "1. [Robot operating system (ROS)](./ros/0-overview.ipynb)\n",
    "1. [How hard can it be in 3D?](./transformations_3d/0-overview.ipynb)\n",
    "1. [Autonomous vehicles](./autonomous_vehicles/0-overview.ipynb)\n",
    "1. (part 2) [Uncertainty](./uncertainty/0-overview.ipynb) \n",
    "1. (part 2) [3D tools](./3d_tools/0-overview.ipynb) \n",
    "1. (part 2) [Point cloud registration](./registration/0-overview.ipynb) \n",
    "1. (part 2) [Mapping softwares](./mapping_softwares/0-overview.ipynb) "
   ]
  },
  {
   "cell_type": "markdown",
   "metadata": {},
   "source": [
    "# Interconnections\n",
    "\n",
    "<p style=\"text-align:center\">\n",
    "<img src=\"../common/images/overview.jpeg\" width=100% />\n",
    "</p>"
   ]
  }
 ],
 "metadata": {
  "kernelspec": {
   "display_name": "Python 3",
   "language": "python",
   "name": "python3"
  },
  "language_info": {
   "codemirror_mode": {
    "name": "ipython",
    "version": 3
   },
   "file_extension": ".py",
   "mimetype": "text/x-python",
   "name": "python",
   "nbconvert_exporter": "python",
   "pygments_lexer": "ipython3",
   "version": "3.7.6"
  }
 },
 "nbformat": 4,
 "nbformat_minor": 4
}