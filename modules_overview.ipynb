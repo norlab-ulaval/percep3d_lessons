{
 "cells": [
  {
   "cell_type": "markdown",
   "metadata": {},
   "source": [
    "<p style=\"text-align: center;font-size: 40pt\">Overview of modules</p>"
   ]
  },
  {
   "cell_type": "markdown",
   "metadata": {},
   "source": [
    "Pick your poison:\n",
    "\n",
    "Optional primers on [Python, Jupyter and Virtual Machines](./0-primers/0.0-overview.ipynb)\n",
    "\n",
    "1. [Welcome to a flat world](./1-transformations_2d/1.0-overview.ipynb)\n",
    "1. [Robot operating system (ROS)](./2-ros/2.0-overview.ipynb)\n",
    "1. [How hard can it be in 3D?](./3-transformations_3d/3.0-overview.ipynb)\n",
    "1. [Autonomous vehicles](./4-autonomous_vehicles/4.0-overview.ipynb)\n",
    "1. [Uncertainty](./5-uncertainty/5.0-overview.ipynb) \n",
    "1. [3D tools](./6-3d_tools/6.0-overview.ipynb) \n",
    "1. [Point cloud registration](./7-registration/7.0-overview.ipynb) \n",
    "1. [Mapping softwares](./8-mapping_softwares/8.0-overview.ipynb) "
   ]
  },
  {
   "cell_type": "markdown",
   "metadata": {},
   "source": [
    "# Interconnections\n",
    "\n",
    "<p style=\"text-align:center\">\n",
    "<img src=\"../common/images/overview.jpeg\" width=100% />\n",
    "</p>"
   ]
  }
 ],
 "metadata": {
  "kernelspec": {
   "display_name": "Python 3",
   "language": "python",
   "name": "python3"
  },
  "language_info": {
   "codemirror_mode": {
    "name": "ipython",
    "version": 3
   },
   "file_extension": ".py",
   "mimetype": "text/x-python",
   "name": "python",
   "nbconvert_exporter": "python",
   "pygments_lexer": "ipython3",
   "version": "3.7.6"
  }
 },
 "nbformat": 4,
 "nbformat_minor": 4
}
