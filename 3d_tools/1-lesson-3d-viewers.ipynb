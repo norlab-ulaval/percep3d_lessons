{
 "cells": [
  {
   "cell_type": "markdown",
   "metadata": {
    "slideshow": {
     "slide_type": "slide"
    }
   },
   "source": [
    "<p style=\"text-align: center;font-size: 40pt\">3D viewers</p>"
   ]
  },
  {
   "cell_type": "markdown",
   "metadata": {},
   "source": [
    "# Overview \n",
    "\n",
    "Requirements\n",
    "- [Primer on virtual machine](../primers/3-lesson_virtual_machine.ipynb)\n",
    "\n",
    "Objectives of this lesson:\n",
    "\n",
    "- get your eyes used to 3D point clouds\n",
    "- explore point clouds beyond their 3D representations\n"
   ]
  },
  {
   "cell_type": "markdown",
   "metadata": {},
   "source": [
    "# List of 3D viewers\n",
    "\n",
    "Many domains use 3D viewers (e.g., road survey, inspection of mechanical parts, aerial survey, games) and part of those domains support point clouds.\n",
    "Here is an overview of viewers that are typically used in robotics:\n",
    "\n",
    "- [Paraview](https://www.paraview.org/) - Free, multi-platform, scientific visualization\n",
    "- [Meshlab](https://www.meshlab.net/) - Open source, multi-platform, 3D meshing tools\n",
    "- [Cloud Compare](https://www.danielgm.net/cc/) - Open source, multi-platform, point cloud manipulation\n",
    "- [Blender](https://www.blender.org/) - Open source, multi-platform, 3D animations\n",
    "- [rviz](http://wiki.ros.org/rviz) - Open source, used for online streaming of data within ROS\n",
    "- Multiple software from surveying companies such as Trimble, Leica, Bentley, and Faro\n",
    "- Multiple online viewers relying on html5\n",
    "\n",
    "Also, typical extensions for point clouds in open formats are:\n",
    "- `.vtk`: [The Visualization Toolkit](https://vtk.org/)\n",
    "- `.ply`: [Polygon File Format](https://en.wikipedia.org/wiki/PLY_(file_format))\n",
    "- `.las`: [LASer format](https://en.wikipedia.org/wiki/LAS_file_format)\n",
    "- `.csv`: Comma-Separated Values\n",
    "- `.xyz`: [this is essentially a csv format with a different extension](https://abaqus-docs.mit.edu/2017/English/SIMACAECAERefMap/simacae-c-fldusingmappointxyz.htm)\n",
    "\n",
    "We will mostly use `.vtk` files for this lesson, but most of the viewers open all of those formats.\n",
    "On a side note, most of those viewers also open `.stl`, which is used for 3D printing.\n"
   ]
  },
  {
   "cell_type": "markdown",
   "metadata": {},
   "source": [
    "# Paraview\n",
    "\n",
    "All of the free viewers listed above are great and have their pros and cons.\n",
    "For this lesson we will use [Paraview](https://www.paraview.org/) from [Kitware](https://www.kitware.com/).\n",
    "For those of you who know c++ well, they are also the maintainer of CMake.\n",
    "Paraview double as a scientific visualization tool, which was useful during the last ten years I was doing research.\n",
    "So at the end, I'm not trying to sell you Paraview as the best 3D viewer, it is just the one that I'm the most comfortable with to do a tutorial.\n",
    "\n",
    "The following video will guide you through basic manipulations of point clouds.\n",
    "Skip to the next section if you want to have everything ready in order to do the tutorial at the same time you are watching it."
   ]
  },
  {
   "cell_type": "code",
   "execution_count": 1,
   "metadata": {},
   "outputs": [
    {
     "data": {
      "image/jpeg": "[encoded data removed]",
      "text/html": [
       "\n",
       "        <iframe\n",
       "            width=\"720\"\n",
       "            height=\"480\"\n",
       "            src=\"https://www.youtube.com/embed/FZ47P2eFecs\"\n",
       "            frameborder=\"0\"\n",
       "            allowfullscreen\n",
       "        ></iframe>\n",
       "        "
      ],
      "text/plain": [
       "<IPython.lib.display.YouTubeVideo at 0x7f47f0632890>"
      ]
     },
     "execution_count": 1,
     "metadata": {},
     "output_type": "execute_result"
    }
   ],
   "source": [
    "from IPython.display import YouTubeVideo\n",
    "YouTubeVideo('FZ47P2eFecs', width=720, height=480)"
   ]
  },
  {
   "cell_type": "markdown",
   "metadata": {},
   "source": [
    "## Tutorial\n",
    "\n",
    "You should try the tutorial by yourself.\n",
    "For that you need to:\n",
    "1. use the installation of Paraview that was provided in the virtual machine **or** you can install it natively on your computer from [their download page](https://www.paraview.org/download/).\n",
    "The version used for the tutorial was `v5.8`.\n",
    "1. download the dataset with point clouds used in the video from [this link](http://norlab.s3.valeria.science/percep3d/stairs.zip?AWSAccessKeyId=XMBLP3A0338XN5LASKV2&Expires=2286820607&Signature=1xWjYsnqMyLVNGvETEfrip9ZpSA%3D).\n",
    "For contextual photos and more information in general, you can read the [`stairs` dataset dedicated webpage](https://projects.asl.ethz.ch/datasets/doku.php?id=laserregistration:stairs:home#point_clouds_in_global_frame).\n",
    "\n",
    "If you want to jump to a specific section of the video, here is the table of content:\n",
    "\n",
    "1. [introduction](https://www.youtube.com/watch?v=FZ47P2eFecs&t=0s)\n",
    "1. [geometric shapes and basic navigation](https://www.youtube.com/watch?v=FZ47P2eFecs&t=33s)\n",
    "    - ruler: snap to points \n",
    "    - selection and inverse selection\n",
    "    - probe for values\n",
    "    - 1D field: color\n",
    "    - 3D field: Glyph\n",
    "    - parallel camera view\n",
    "1. [single scan](https://www.youtube.com/watch?v=FZ47P2eFecs&t=1129s)\n",
    "    - open the file `PointCloud0.vtk` or explore other point clouds\n",
    "    - 1D field: color\n",
    "    - histogram\n",
    "    - 3D field: Glyph\n",
    "1. [exploring a 3D map](https://www.youtube.com/watch?v=FZ47P2eFecs&t=1430s)\n",
    "    - open the file `globalMap_converted.vtk`\n",
    "    - alpha\n",
    "    - measuring the size of a room\n",
    "    - investigating the surface normals\n",
    "    - extracting the ground\n",
    "    - new field with the calculator\n",
    "1. [volumetric exploration](https://www.youtube.com/watch?v=FZ47P2eFecs&t=2282s)\n",
    "    - Click on open, then search for: `Examples/headsq.vti`\n",
    "    - Clip filter\n",
    "    - Volume rendering\n",
    "    - Advance manipulation of color bar\n",
    "    \n",
    "    "
   ]
  },
  {
   "cell_type": "markdown",
   "metadata": {},
   "source": [
    "# Types of views\n",
    "\n",
    "When taking screenshots, the viewer is projecting a point cloud onto a plane and producing an image of the rendering.\n",
    "It is useful to know that different types of view can be use to understand a scene from an image. \n",
    "Typically, one would provide orthogonal views from the top, and two sides.\n",
    "To provide a better sense of the 3D scene, a perspective view is often added.\n",
    "The following images show two examples of views:\n",
    "\n",
    "<p style=\"text-align: center;\">\n",
    "    <img src=\"images/types_views.jpeg\" width=\"100%\" alt=\"\">\n",
    "    <br>\n",
    "    Two types of projections. Left: orthogonal top view. Right: perspective view. \n",
    "</p>"
   ]
  },
  {
   "cell_type": "markdown",
   "metadata": {},
   "source": [
    "\n",
    "Reference to the complete dataset:\n",
    "- F. Pomerleau, M. Liu, F. Colas, and R. Siegwart, Challenging data sets for point cloud registration algorithms, International Journal of Robotic Research, vol. 31, no. 14, pp. 1705–1711, Dec. 2012. [web pages](https://projects.asl.ethz.ch/datasets/doku.php?id=laserregistration:laserregistration)"
   ]
  },
  {
   "cell_type": "markdown",
   "metadata": {},
   "source": [
    "&#8635; [Go back to the list of lessons](0-overview.ipynb)"
   ]
  }
 ],
 "metadata": {
  "kernelspec": {
   "display_name": "Python 3",
   "language": "python",
   "name": "python3"
  },
  "language_info": {
   "codemirror_mode": {
    "name": "ipython",
    "version": 3
   },
   "file_extension": ".py",
   "mimetype": "text/x-python",
   "name": "python",
   "nbconvert_exporter": "python",
   "pygments_lexer": "ipython3",
   "version": "3.7.6"
  }
 },
 "nbformat": 4,
 "nbformat_minor": 4
}
