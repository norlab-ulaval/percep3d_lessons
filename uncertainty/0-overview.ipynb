{
 "cells": [
  {
   "cell_type": "markdown",
   "metadata": {
    "slideshow": {
     "slide_type": "slide"
    }
   },
   "source": [
    "<p style=\"text-align: center;font-size: 40pt\">Module 5</p>\n",
    "<p style=\"text-align: center;font-size: 20pt\">Uncertainty</p>"
   ]
  },
  {
   "cell_type": "markdown",
   "metadata": {},
   "source": [
    "# Overview\n",
    "\n",
    "Requirements:\n",
    "\n",
    "- Prior knowledge on statistics\n",
    "\n",
    "Objectives:\n",
    "\n",
    "- Introduce uncertainty in 3D\n",
    "- Explain how to use uncertainty to extract spatial features\n",
    "\n",
    "Time planning:\n",
    "   - Expect a total of 5.7 hours\n",
    "   - 53 % for three reading activities \n",
    "   - 47 % for three exercises"
   ]
  },
  {
   "cell_type": "markdown",
   "metadata": {},
   "source": [
    "# Activities\n",
    "\n",
    "By starting with some basic concepts related to statistics, we will build on more complex representations of uncertainty.\n",
    "We will use geometry to better understand multivariate normal distributions, which in turn will help us to extract geometrical information from noisy point clouds.\n",
    "In this module, there are plenty of code examples to explore in order to bring the theory more tangible.\n",
    "\n",
    "Here is the list of activities for this theoretical module:\n",
    "\n",
    "1. [Descriptive statistics](1-lesson_descriptive_statistics.ipynb) + [exercises](../../exercises/uncertainty/1e-exercises_descriptive_statistics.ipynb)\n",
    "1. [Uncertainty in 3D](2-lesson_uncertainty.ipynb)\n",
    "1. [Differential geometry](3-lesson_diff_geo.ipynb)\n"
   ]
  },
  {
   "cell_type": "markdown",
   "metadata": {},
   "source": [
    "&#8635; [Go back to the list of modules](../modules_overview.ipynb)"
   ]
  },
  {
   "cell_type": "markdown",
   "metadata": {},
   "source": [
    "<p style=\"text-align:center\">\n",
    "<img src=\"../../common/images/module_5.jpeg\" width=100%/>\n",
    "</p>"
   ]
  }
 ],
 "metadata": {
  "kernelspec": {
   "display_name": "Python 3",
   "language": "python",
   "name": "python3"
  },
  "language_info": {
   "codemirror_mode": {
    "name": "ipython",
    "version": 3
   },
   "file_extension": ".py",
   "mimetype": "text/x-python",
   "name": "python",
   "nbconvert_exporter": "python",
   "pygments_lexer": "ipython3",
   "version": "3.7.6"
  }
 },
 "nbformat": 4,
 "nbformat_minor": 4
}
