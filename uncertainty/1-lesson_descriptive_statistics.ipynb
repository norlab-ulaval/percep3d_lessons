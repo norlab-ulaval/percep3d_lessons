{
 "cells": [
  {
   "cell_type": "markdown",
   "metadata": {},
   "source": [
    "<p style=\"text-align: center;font-size: 40pt\">Descriptive statistics</p>"
   ]
  },
  {
   "cell_type": "code",
   "execution_count": 6,
   "metadata": {},
   "outputs": [],
   "source": [
    "%matplotlib widget\n",
    "#%matplotlib inline\n",
    "import matplotlib.pyplot as plt\n",
    "\n",
    "import pandas as pd\n",
    "\n",
    "import numpy as np\n",
    "\n",
    "import ipywidgets as widgets\n",
    "plt.style.use('dark_background')\n",
    "\n",
    "%run ./scripts/helper_func.py"
   ]
  },
  {
   "cell_type": "markdown",
   "metadata": {},
   "source": [
    "# Overview \n",
    "\n",
    "- If a salesman argue that his thermometer is precise at 0.001 &deg;C, would you use it to detect fever?\n",
    "- Is it satisfying to brag about being over the average grade of an exam if a lot students had high grades?\n",
    ">TODO: add graph with Beta distribution\n",
    "\n",
    "Objectives of this module:\n",
    "\n",
    "- start easy with the math (or not, but at least start)\n",
    "- introduce part of the notations used in this lecture in a simple context\n",
    "- recall notions of statistic in 1D, which we will build on for 2D and 3D\n",
    "- introduce some basic usage of `numpy` and `matplotlib`"
   ]
  },
  {
   "cell_type": "markdown",
   "metadata": {},
   "source": [
    "Hidden custom latex commands here $ \\curvearrowright$\n",
    "\n",
    "----\n",
    "[comment]: <> (Useful commands)\n",
    "$\\newcommand{\\textcomma}{\\quad,}$\n",
    "$\\newcommand{\\textdot}{\\quad.}$\n",
    "$\\newcommand{\\vec}[1]{\\mathbf{#1}}$\n",
    "$\\newcommand{\\mat}[1]{\\mathbf{#1}}$\n",
    "$\\newcommand{\\vecsim}[1]{\\boldsymbol{#1}}$\n",
    "$\\newcommand{\\matsim}[1]{\\boldsymbol{#1}}$\n",
    "$\\newcommand{\\real}{\\mathbb{R}}$\n",
    "$\\newcommand{\\E}{\\mathrm{E}}$\n",
    "$\\newcommand{\\L}{\\mathrm{L}}$\n",
    "$\\newcommand{\\Var}{\\mathrm{Var}}$\n",
    "$\\newcommand{\\normal}{\\mathcal{N}}$\n",
    "----"
   ]
  },
  {
   "cell_type": "markdown",
   "metadata": {},
   "source": [
    "## A complex definition of the mean\n",
    "\n",
    "Lets define a set $\\mathcal{X} = \\{x_1, x_2, \\dots, x_i\\}$, with its cadinality being $|\\mathcal{X}| = n $ and $x \\in \\mathbb{R}$.\n",
    "\n",
    "We can define the expectation of the set $\\mathcal{X}$ using\n",
    "\n",
    "\\begin{equation}\n",
    "\\E[\\mathcal{X}] = \\sum_i^n p_i x_i  \\textcomma\n",
    "\\end{equation}\n",
    "\n",
    "where $p_i$ is the probability associated to a given $x_i$. \n",
    "This can also be understand as a weigthed mean. \n",
    "Most of the time, we don't have any prior on the probability of a given $x_i$.\n",
    "By assuming a uniform distribution (i.e, equal chance weight for all $x_i$), we get the well known aritmetic mean  defined as\n",
    "\n",
    "\\begin{equation}\n",
    "\\E[\\mathcal{X}] = \\frac{1}{n}\\sum_i^n x_i \\textdot\n",
    "\\end{equation}\n",
    "\n",
    "Note that the expectation is considered as the first **raw** moment.\n",
    "The name \"raw\" comes from the computation being centered to zero (i.e., the origine), which make it describes roughly the location of the set.\n",
    "The general equation of the $k$-th raw moment is\n",
    "\n",
    "\\begin{aligned}\n",
    "\\E[\\mathcal{X}^k] = \\sum_i^n p_i x_i^k  \\textcomma\n",
    "\\end{aligned}\n",
    "\n",
    "but for the context of this lecture, we are only interested in $k=1$.\n",
    "Depending on how authors write their equations, you will find those synonymes for the \n",
    "first raw moment are: \n",
    "- mean\n",
    "- expectation\n",
    "- $\\mu$\n",
    "- $\\E[\\mathcal{X}] $\n",
    "- $\\bar{x}$\n",
    "\n",
    "### Example\n",
    "\n",
    "We can do an example where all $x_i$ are draw from a uniform distribution."
   ]
  },
  {
   "cell_type": "code",
   "execution_count": 7,
   "metadata": {
    "jupyter": {
     "source_hidden": true
    }
   },
   "outputs": [
    {
     "data": {
      "text/html": [
       "<div>\n",
       "<style scoped>\n",
       "    .dataframe tbody tr th:only-of-type {\n",
       "        vertical-align: middle;\n",
       "    }\n",
       "\n",
       "    .dataframe tbody tr th {\n",
       "        vertical-align: top;\n",
       "    }\n",
       "\n",
       "    .dataframe thead th {\n",
       "        text-align: right;\n",
       "    }\n",
       "</style>\n",
       "<table border=\"1\" class=\"dataframe\">\n",
       "  <thead>\n",
       "    <tr style=\"text-align: right;\">\n",
       "      <th></th>\n",
       "      <th>0</th>\n",
       "      <th>1</th>\n",
       "      <th>2</th>\n",
       "      <th>3</th>\n",
       "      <th>4</th>\n",
       "      <th>5</th>\n",
       "      <th>6</th>\n",
       "      <th>7</th>\n",
       "      <th>8</th>\n",
       "      <th>9</th>\n",
       "      <th>...</th>\n",
       "      <th>2990</th>\n",
       "      <th>2991</th>\n",
       "      <th>2992</th>\n",
       "      <th>2993</th>\n",
       "      <th>2994</th>\n",
       "      <th>2995</th>\n",
       "      <th>2996</th>\n",
       "      <th>2997</th>\n",
       "      <th>2998</th>\n",
       "      <th>2999</th>\n",
       "    </tr>\n",
       "  </thead>\n",
       "  <tbody>\n",
       "    <tr>\n",
       "      <th>0</th>\n",
       "      <td>2.551333</td>\n",
       "      <td>2.83797</td>\n",
       "      <td>2.413608</td>\n",
       "      <td>1.968369</td>\n",
       "      <td>1.909399</td>\n",
       "      <td>1.916483</td>\n",
       "      <td>2.809889</td>\n",
       "      <td>2.660151</td>\n",
       "      <td>1.204534</td>\n",
       "      <td>1.975993</td>\n",
       "      <td>...</td>\n",
       "      <td>1.877807</td>\n",
       "      <td>1.546212</td>\n",
       "      <td>2.365868</td>\n",
       "      <td>2.895905</td>\n",
       "      <td>1.096462</td>\n",
       "      <td>2.943546</td>\n",
       "      <td>2.552134</td>\n",
       "      <td>1.13367</td>\n",
       "      <td>2.757412</td>\n",
       "      <td>1.016851</td>\n",
       "    </tr>\n",
       "  </tbody>\n",
       "</table>\n",
       "<p>1 rows × 3000 columns</p>\n",
       "</div>"
      ],
      "text/plain": [
       "       0        1         2         3         4         5         6     \\\n",
       "0  2.551333  2.83797  2.413608  1.968369  1.909399  1.916483  2.809889   \n",
       "\n",
       "       7         8         9     ...      2990      2991      2992      2993  \\\n",
       "0  2.660151  1.204534  1.975993  ...  1.877807  1.546212  2.365868  2.895905   \n",
       "\n",
       "       2994      2995      2996     2997      2998      2999  \n",
       "0  1.096462  2.943546  2.552134  1.13367  2.757412  1.016851  \n",
       "\n",
       "[1 rows x 3000 columns]"
      ]
     },
     "metadata": {},
     "output_type": "display_data"
    },
    {
     "name": "stdout",
     "output_type": "stream",
     "text": [
      "1.9989200172263215\n",
      "1.998920017226325\n"
     ]
    }
   ],
   "source": [
    "n = 3000\n",
    "uni_start = 1.\n",
    "uni_end = 3.\n",
    "\n",
    "X = np.random.uniform(uni_start, uni_end, n)\n",
    "pretty_print(X)\n",
    "\n",
    "# manual\n",
    "xbar = 0\n",
    "for x in X:\n",
    "    xbar += x # the same as xbar = xbar + x\n",
    "xbar /= n # the same as xbar = xbar/x\n",
    "print(xbar)\n",
    "\n",
    "# with numpy\n",
    "xbar = np.mean(X)\n",
    "print(xbar)"
   ]
  },
  {
   "cell_type": "code",
   "execution_count": 8,
   "metadata": {},
   "outputs": [
    {
     "data": {
      "application/vnd.jupyter.widget-view+json": {
       "model_id": "561f21b8a1f4489ca6d443348dcbdca4",
       "version_major": 2,
       "version_minor": 0
      },
      "text/plain": [
       "Canvas(toolbar=Toolbar(toolitems=[('Home', 'Reset original view', 'home', 'home'), ('Back', 'Back to previous …"
      ]
     },
     "metadata": {},
     "output_type": "display_data"
    }
   ],
   "source": [
    "fig, ax = plt.subplots(nrows=1, ncols=1, figsize=(5,2))\n",
    "\n",
    "n, _, _, = ax.hist(X, bins=50);\n",
    "ax.plot(xbar, np.max(n)/5, 'o', color='tab:red');\n",
    "ax.legend(['mean'])\n",
    "pretty_ax(ax, \n",
    "          'Histogram of $\\mathcal{X}$', \n",
    "          'Count', \n",
    "          'Values of $x_i$')"
   ]
  },
  {
   "cell_type": "markdown",
   "metadata": {},
   "source": [
    "## Variance as a moment\n",
    "\n",
    "For a set $\\mathcal{X}$, the variance $\\text{Var}(\\mathcal{X})$ corresponds to how much each values vary from the mean $\\E[\\mathcal{X}]$, and is define as\n",
    "\n",
    "\\begin{equation}\n",
    "\\text{Var}(\\mathcal{X}) = \\E(\\mathcal{X} -\\E[\\mathcal{X}])^2] \\textdot\n",
    "\\end{equation}\n",
    "\n",
    "In the case of a discreet set, the variance can be computed as\n",
    "\n",
    "\\begin{equation}\n",
    "\\text{Var}(\\mathcal{X}) = \\sum_i^n p_i (x_i - \\bar{x})^2  \\textcomma\n",
    "\\end{equation}\n",
    "\n",
    "with the same simplification for uniform distribution as for $\\E[\\mathcal{X}]$ leading to\n",
    "\n",
    "\\begin{equation}\n",
    "\\text{Var}(\\mathcal{X}) = \\frac{1}{n}\\sum_i^n (x_i - \\bar{x})^2 \\textdot\n",
    "\\end{equation}\n",
    "\n",
    "**Trick**: One interesting thing about a summation of squared values is that it can be easily converted to matrix operations, which are usually better optimized in many programation languages.\n",
    "Let convert our set $\\mathcal{X}$ to a vector $\\vec{x} \\in \\real^n$.\n",
    "We can than compute the variance using\n",
    "\n",
    "\\begin{aligned}\n",
    "\\text{Var}(\\mathcal{X}) &= \\frac{1}{n}\\vec{x}^T \\vec{x} - \\bar{x}  \\textdot\n",
    "\\end{aligned}\n",
    "\n",
    "\n",
    "Some useful properties of the variance:\n",
    "- non negative: $\\text{Var}(\\mathcal{X}) \\leq 0$\n",
    "- translation invariant: $\\text{Var}(\\mathcal{X}) = \\text{Var}(\\mathcal{X}+a)$\n",
    "\n",
    "The variance is also known as the second **central** moment.\n",
    "The name \"central\" comes from that fact that its computation is centered to a raw moment defined in the previous section.\n",
    "Central moments describe more the spread of the set.\n",
    "The general equation of the $k$-th central moment is\n",
    "\n",
    "\\begin{equation}\n",
    "\\E(\\mathcal{X} -\\E[\\mathcal{X}])^k] = \\sum_i^n p_i (x_i - \\bar{x})^k \\textdot\n",
    "\\end{equation}\n",
    "\n",
    "Again, for this lecture, we will only used the **second central moment**, for which some synonyms can be:\n",
    "- variance\n",
    "- $\\sigma^2$ (not to be confused with $\\sigma$ which is named standard deviation)\n",
    "- $s^2$\n",
    "- $\\text{Var}(\\mathcal{X})$\n",
    "- scale\n",
    "- spread\n",
    "\n",
    "## Example\n",
    "\n",
    "As we did with the mean, we can compute the variance from a uniform distribution."
   ]
  },
  {
   "cell_type": "code",
   "execution_count": 9,
   "metadata": {
    "jupyter": {
     "source_hidden": true
    }
   },
   "outputs": [
    {
     "data": {
      "text/html": [
       "<div>\n",
       "<style scoped>\n",
       "    .dataframe tbody tr th:only-of-type {\n",
       "        vertical-align: middle;\n",
       "    }\n",
       "\n",
       "    .dataframe tbody tr th {\n",
       "        vertical-align: top;\n",
       "    }\n",
       "\n",
       "    .dataframe thead th {\n",
       "        text-align: right;\n",
       "    }\n",
       "</style>\n",
       "<table border=\"1\" class=\"dataframe\">\n",
       "  <thead>\n",
       "    <tr style=\"text-align: right;\">\n",
       "      <th></th>\n",
       "      <th>0</th>\n",
       "      <th>1</th>\n",
       "      <th>2</th>\n",
       "      <th>3</th>\n",
       "      <th>4</th>\n",
       "      <th>5</th>\n",
       "      <th>6</th>\n",
       "      <th>7</th>\n",
       "      <th>8</th>\n",
       "      <th>9</th>\n",
       "      <th>...</th>\n",
       "      <th>4990</th>\n",
       "      <th>4991</th>\n",
       "      <th>4992</th>\n",
       "      <th>4993</th>\n",
       "      <th>4994</th>\n",
       "      <th>4995</th>\n",
       "      <th>4996</th>\n",
       "      <th>4997</th>\n",
       "      <th>4998</th>\n",
       "      <th>4999</th>\n",
       "    </tr>\n",
       "  </thead>\n",
       "  <tbody>\n",
       "    <tr>\n",
       "      <th>0</th>\n",
       "      <td>1.417953</td>\n",
       "      <td>2.160068</td>\n",
       "      <td>2.366084</td>\n",
       "      <td>2.459884</td>\n",
       "      <td>1.703876</td>\n",
       "      <td>1.838056</td>\n",
       "      <td>2.709159</td>\n",
       "      <td>2.69823</td>\n",
       "      <td>1.34314</td>\n",
       "      <td>1.260013</td>\n",
       "      <td>...</td>\n",
       "      <td>2.762523</td>\n",
       "      <td>2.453137</td>\n",
       "      <td>1.197337</td>\n",
       "      <td>2.370536</td>\n",
       "      <td>2.451883</td>\n",
       "      <td>1.616576</td>\n",
       "      <td>2.350541</td>\n",
       "      <td>1.386265</td>\n",
       "      <td>2.963437</td>\n",
       "      <td>1.427455</td>\n",
       "    </tr>\n",
       "  </tbody>\n",
       "</table>\n",
       "<p>1 rows × 5000 columns</p>\n",
       "</div>"
      ],
      "text/plain": [
       "       0         1         2         3         4         5         6     \\\n",
       "0  1.417953  2.160068  2.366084  2.459884  1.703876  1.838056  2.709159   \n",
       "\n",
       "      7        8         9     ...      4990      4991      4992      4993  \\\n",
       "0  2.69823  1.34314  1.260013  ...  2.762523  2.453137  1.197337  2.370536   \n",
       "\n",
       "       4994      4995      4996      4997      4998      4999  \n",
       "0  2.451883  1.616576  2.350541  1.386265  2.963437  1.427455  \n",
       "\n",
       "[1 rows x 5000 columns]"
      ]
     },
     "metadata": {},
     "output_type": "display_data"
    },
    {
     "name": "stdout",
     "output_type": "stream",
     "text": [
      "0.33187594703345574\n",
      "0.331875947033458\n",
      "0.3318759470334564\n"
     ]
    }
   ],
   "source": [
    "n = 5000\n",
    "uni_start = 1.\n",
    "uni_end = 3.\n",
    "\n",
    "X = np.random.uniform(uni_start, uni_end, n)\n",
    "pretty_print(X)\n",
    "\n",
    "xbar = np.mean(X)\n",
    "\n",
    "# manual with iterations\n",
    "var = 0\n",
    "for x in X:\n",
    "    var += (x - xbar)**2. # the same as var = var + (x - xbar)^2\n",
    "var /= n # the same as var = var/x\n",
    "print(var)\n",
    "\n",
    "# manual with matrix\n",
    "var = np.dot(X, X)/n - xbar**2.\n",
    "print(var)\n",
    "\n",
    "# with numpy\n",
    "var = np.var(X)\n",
    "print(var)"
   ]
  },
  {
   "cell_type": "code",
   "execution_count": 10,
   "metadata": {},
   "outputs": [
    {
     "data": {
      "application/vnd.jupyter.widget-view+json": {
       "model_id": "d66480eebc264dae97485362248e8d57",
       "version_major": 2,
       "version_minor": 0
      },
      "text/plain": [
       "Canvas(toolbar=Toolbar(toolitems=[('Home', 'Reset original view', 'home', 'home'), ('Back', 'Back to previous …"
      ]
     },
     "metadata": {},
     "output_type": "display_data"
    }
   ],
   "source": [
    "sigma = np.sqrt(var)\n",
    "offset = 10.\n",
    "plt.close(fig)\n",
    "fig, ax = plt.subplots(nrows=1, ncols=1, figsize=(5,2))\n",
    "\n",
    "n, _, _, = ax.hist(X, bins=50);\n",
    "ax.plot(xbar, np.max(n)/5, 'o', color='tab:red');\n",
    "ax.annotate('', xy=(xbar + sigma/2., np.max(n)/5),\n",
    "             xytext=(xbar - sigma/2., np.max(n)/5),\n",
    "             arrowprops=dict(arrowstyle= '|-|', color='tab:red', lw=3)\n",
    "           )\n",
    "ax.text(xbar*1.05, np.max(n)/4.5, '$\\sigma$', color='tab:red', size=20)\n",
    "\n",
    "ax.legend(['mean'])\n",
    "pretty_ax(ax, \n",
    "          'Histogram of $\\mathcal{X}$', \n",
    "          'Count', \n",
    "          'Values of $x_i$')"
   ]
  },
  {
   "cell_type": "markdown",
   "metadata": {},
   "source": [
    "Note that, when plotting a representation of the varianceon the original data, we can only show its square root (i.e., the standard deviation).\n",
    "Otherwise, the units wouldn't fit."
   ]
  },
  {
   "cell_type": "markdown",
   "metadata": {},
   "source": [
    "## One more type of moment...\n",
    "\n",
    "The last type of moment is the **standardized moment**.\n",
    "As for the other types of moments, there is a general definition for the  $k$-th standardized moment, but two most popular are the third standardized moment (i.e., skewness) and the forth standardized moment (i.e.,  kurtosis).\n",
    "Standardized moments are useful as they describe a set in a way that is scale invariant (i.e., invariant to multiply the whole set by a constant (e.g., $a \\mathcal{X} = \\{a x_1, a x_2, \\dots, a x_i\\}$).\n",
    "\n",
    "Skewness gives an idea of how much the set is symmetric, with a skewness of zero meaning perfect symmetry, such as a Gaussian or a uniform distribution.\n",
    "Kurtosis mesures the level of outliers in a set.\n",
    "The interpretation of the kurtosis is less intuitive, so people tend to compare with with Normal distribution, which has a kurtosis of 3.\n",
    "So, a kurtosis larger than 3 would have outliers than a Normal distribution.\n",
    "As an example, the kurtosis of a uniform distribution is 9/5 (i.e., 1.8).\n",
    "\n",
    "We won't use those standardized moments for this lecture, but"
   ]
  },
  {
   "cell_type": "markdown",
   "metadata": {},
   "source": [
    "<img src=\"images/themoreyouknow.jpg\">"
   ]
  },
  {
   "cell_type": "markdown",
   "metadata": {},
   "source": [
    "## Precision vs accuracy\n",
    "\n",
    "Being careful between the difference of those terms is useful in engineering, when comparing specification sheets, and in science when comparing your results to other or to ground truth values.\n",
    "\n",
    "Let start with a entertainting example with a robotic dartboard to explain the difference between precision and accuracy."
   ]
  },
  {
   "cell_type": "code",
   "execution_count": 11,
   "metadata": {
    "jupyter": {
     "source_hidden": true
    }
   },
   "outputs": [
    {
     "data": {
      "image/jpeg": "[encoded data removed]",
      "text/html": [
       "\n",
       "        <iframe\n",
       "            width=\"720\"\n",
       "            height=\"480\"\n",
       "            src=\"https://www.youtube.com/embed/MHTizZ_XcUM\"\n",
       "            frameborder=\"0\"\n",
       "            allowfullscreen\n",
       "        ></iframe>\n",
       "        "
      ],
      "text/plain": [
       "<IPython.lib.display.YouTubeVideo at 0x7f0aa623e470>"
      ]
     },
     "execution_count": 11,
     "metadata": {},
     "output_type": "execute_result"
    }
   ],
   "source": [
    "from IPython.display import YouTubeVideo\n",
    "YouTubeVideo('MHTizZ_XcUM', width=720, height=480)"
   ]
  },
  {
   "cell_type": "code",
   "execution_count": 12,
   "metadata": {},
   "outputs": [
    {
     "data": {
      "application/vnd.jupyter.widget-view+json": {
       "model_id": "fe771d3603ce49db8e118fa0a1f1f595",
       "version_major": 2,
       "version_minor": 0
      },
      "text/plain": [
       "Canvas(toolbar=Toolbar(toolitems=[('Home', 'Reset original view', 'home', 'home'), ('Back', 'Back to previous …"
      ]
     },
     "metadata": {},
     "output_type": "display_data"
    },
    {
     "data": {
      "application/vnd.jupyter.widget-view+json": {
       "model_id": "1bc59ae5abcc4a6a94bd95ddf3996041",
       "version_major": 2,
       "version_minor": 0
      },
      "text/plain": [
       "interactive(children=(Checkbox(value=False, description='is_display'), FloatSlider(value=0.0, description='u_x…"
      ]
     },
     "metadata": {},
     "output_type": "display_data"
    }
   ],
   "source": [
    "n = 300\n",
    "u_x = 0.1; sigma_x = 0.4\n",
    "u_y = 1.0; sigma_y = 0.2\n",
    "\n",
    "X = np.array([np.random.normal(u_x, sigma_x, n),\n",
    "              np.random.normal(u_y, sigma_y, n)])\n",
    "\n",
    "fig, ax = plt.subplots(nrows=1, ncols=1, figsize=(5,5))\n",
    "scat = ax.scatter(X[0,:], X[1,:], zorder=2, alpha = 0.6)\n",
    "\n",
    "draw_dartboard(ax)\n",
    "\n",
    "def update(is_display = False, u_x = 0., sigma_x = 0.1, u_y = 0., sigma_y = 0.1):\n",
    "\n",
    "    if(is_display):\n",
    "        X = np.array([np.random.normal(u_x, sigma_x, n),\n",
    "                      np.random.normal(u_y, sigma_y, n)])\n",
    "        scat.set_offsets(X.T)\n",
    "        scat.set_visible(True)\n",
    "    else:\n",
    "        scat.set_visible(False)\n",
    "        \n",
    "    \n",
    "    fig.canvas.draw_idle()\n",
    "\n",
    "widgets.interact(update, u_x = (-2.5, 2.5, 0.1), sigma_x = (0.1, 1.5, 0.1), u_y = (-2.5, 2.5, 0.1), sigma_y = (0.1, 1.5, 0.1));\n",
    "pretty_ax(ax,\n",
    "         'A dartboard',\n",
    "         'y',\n",
    "         'x')"
   ]
  },
  {
   "cell_type": "code",
   "execution_count": 13,
   "metadata": {
    "jupyter": {
     "source_hidden": true
    }
   },
   "outputs": [
    {
     "data": {
      "application/vnd.jupyter.widget-view+json": {
       "model_id": "2a1d1342c1484061a5e40e212b005f89",
       "version_major": 2,
       "version_minor": 0
      },
      "text/plain": [
       "Canvas(toolbar=Toolbar(toolitems=[('Home', 'Reset original view', 'home', 'home'), ('Back', 'Back to previous …"
      ]
     },
     "metadata": {},
     "output_type": "display_data"
    },
    {
     "data": {
      "application/vnd.jupyter.widget-view+json": {
       "model_id": "212b0096845e4e529b968a1efe92031a",
       "version_major": 2,
       "version_minor": 0
      },
      "text/plain": [
       "interactive(children=(Checkbox(value=False, description='is_display'), Output()), _dom_classes=('widget-intera…"
      ]
     },
     "metadata": {},
     "output_type": "display_data"
    }
   ],
   "source": [
    "n = 300\n",
    "\n",
    "u_1 = [1.0, 1.]\n",
    "sigma_1 = [0.2, 0.2]\n",
    "\n",
    "X1 = np.array([np.random.normal(u_1[0], sigma_1[0], n),\n",
    "              np.random.normal(u_1[1], sigma_1[1], n)])\n",
    "\n",
    "u_2 = [-1.0, 1.]\n",
    "sigma_2 = [0.4, 0.4]\n",
    "X2 = np.array([np.random.normal(u_2[0], sigma_2[0], n),\n",
    "              np.random.normal(u_2[1], sigma_2[1], n)])\n",
    "\n",
    "fig, ax = plt.subplots(nrows=1, ncols=1, figsize=(5,5))\n",
    "ax.scatter(u_1[0], u_1[1], zorder=3, edgecolors='b')\n",
    "ax.scatter(u_2[0], u_2[1], zorder=3, edgecolors='b')\n",
    "scat1 = ax.scatter(X1[0,:], X1[1,:], zorder=2, alpha = 0.2)\n",
    "scat2 = ax.scatter(X2[0,:], X2[1,:], zorder=2, alpha = 0.2)\n",
    "\n",
    "\n",
    "draw_dartboard(ax)\n",
    "\n",
    "def update(is_display = False):\n",
    "    if(is_display):\n",
    "        scat1.set_visible(True)\n",
    "        scat2.set_visible(True)\n",
    "    else:\n",
    "        scat1.set_visible(False)\n",
    "        scat2.set_visible(False)\n",
    "    \n",
    "widgets.interact(update);\n",
    "pretty_ax(ax,\n",
    "         'A dartboard',\n",
    "         'y',\n",
    "         'x')"
   ]
  },
  {
   "cell_type": "markdown",
   "metadata": {},
   "source": [
    "Robotic arms typically report precision insteast of accuracy.\n",
    "An arm with high precision means that it is high repeatable, but when given commands in global coordinates, might be off the expected pose.\n",
    "This is why a lot of cobots (i.e., collaborative robots) are programmed by putting the arm somewhere where and then ask to repeat the task.\n",
    "\n",
    "As an example, here is the arm from Mecademic, a company from Montreal making miniature arms."
   ]
  },
  {
   "cell_type": "code",
   "execution_count": 14,
   "metadata": {
    "jupyter": {
     "source_hidden": true
    }
   },
   "outputs": [
    {
     "data": {
      "image/jpeg": "[encoded data removed]",
      "text/html": [
       "\n",
       "        <iframe\n",
       "            width=\"720\"\n",
       "            height=\"480\"\n",
       "            src=\"https://www.youtube.com/embed/Aagm-z4nvRo\"\n",
       "            frameborder=\"0\"\n",
       "            allowfullscreen\n",
       "        ></iframe>\n",
       "        "
      ],
      "text/plain": [
       "<IPython.lib.display.YouTubeVideo at 0x7f0aa5926e48>"
      ]
     },
     "execution_count": 14,
     "metadata": {},
     "output_type": "execute_result"
    }
   ],
   "source": [
    "from IPython.display import YouTubeVideo\n",
    "YouTubeVideo('Aagm-z4nvRo', width=720, height=480)"
   ]
  },
  {
   "cell_type": "markdown",
   "metadata": {},
   "source": [
    "## Robust statistic\n",
    "\n",
    "We often want to project multidimensional results, 2D in our example of dartboard, in one dimension to simplify the interpretation.\n",
    "A typical way of doing so, it to compute an error $e$ (i.e., a scalar) based on the Euclidean distance from a result $\\vec{x}$ to a ground truth value $\\vec{g}$, such that\n",
    "\n",
    "\\begin{aligned}\n",
    "e \n",
    "&=  \\lVert \\vec{x} - \\vec{g} \\rVert_2 \\\\\n",
    "&=  \\sqrt{\\sum_i^d ( x_j - g_j} )^2\n",
    "\\textcomma\n",
    "\\end{aligned}\n",
    "\n",
    "where both vectors $\\vec{x}$ and $\\vec{g}$ are $d$-dimensional vectors $\\in \\real^n$ and where $x_j$ and $g_j$ are individual component of each vector.\n",
    "The is also known as $\\L^2$-norm, thus the notation $\\lVert \\cdot \\rVert_2 $.\n",
    "We will dig deeper in the concept of distances later when learning about point cloud registrations.\n",
    "\n",
    "When we have a set of trials $\\mathcal{X} = \\{ \\vec{x}_1, \\vec{x}_2, \\cdots, \\vec{x}_n \\}$, we can report the mean error $\\bar{e}$ over all trials using \n",
    "\n",
    "\\begin{aligned}\n",
    "\\bar{e}\n",
    "&=  \\E \\big[ \\lVert \\mathcal{X} - \\vec{g} \\rVert_2 \\big] \\\\\n",
    "&=  \\frac{1}{n} \\sum_i^n \\lVert \\vec{x}_i - \\vec{g} \\rVert_2 \n",
    "\\textdot\n",
    "\\end{aligned}\n",
    "\n",
    "Note here that $\\mathcal{X}$ is now a set composed of vectors instead of scalars used in prior sections.\n",
    "\n",
    "\n",
    "Another way to achieve the same result is to build a second set of **residual errors** $\\mathcal{E} = \\{ \\vec{e}_1, \\vec{e}_2, \\cdots, \\vec{e}_n  \\}$, where $\\vec{e}_n = (\\vec{x}_i - \\vec{g})$. \n",
    "This representation will be useful when explaining the optimization process to register point clouds.\n",
    "Then, we can simply write\n",
    "\n",
    "\\begin{aligned}\n",
    "\\bar{e}\n",
    "&=  \\E \\big[ \\lVert \\mathcal{E} \\rVert_2 \\big] \n",
    "\\textdot\n",
    "\\end{aligned}\n",
    "\n",
    "### Example\n",
    "\n",
    "Lets reuse our dartboard example from the last section and explicit how the different throws were modeled.\n",
    "The dartboard is on the $xy$-plane, so our observation set $\\mathcal{X}$ will have 2D vectors.\n",
    "We can formalize the construction of the set by saying $\\vec{x} \\sim \\normal(\\vecsim{\\mu}, \\matsim{\\Sigma})$, where $\\normal$ is a normal distribution, $\\vecsim{\\mu} \\in \\real^2$, and $\\matsim{\\Sigma} = \\mat{I}\\vecsim{\\sigma}$, with $\\sigma \\in \\real^2$.\n",
    "Another way to explain it, it's simply to say that $\\mathcal{X}$ is build from two independant normal distribution.\n",
    "The cardinality of our set is $|\\mathcal{X}| = n$, which means that we have $n$ observations in our set."
   ]
  },
  {
   "cell_type": "code",
   "execution_count": 15,
   "metadata": {},
   "outputs": [
    {
     "data": {
      "application/vnd.jupyter.widget-view+json": {
       "model_id": "ec1508e87e6d4d8b932f43d8ddf52372",
       "version_major": 2,
       "version_minor": 0
      },
      "text/plain": [
       "Canvas(toolbar=Toolbar(toolitems=[('Home', 'Reset original view', 'home', 'home'), ('Back', 'Back to previous …"
      ]
     },
     "metadata": {},
     "output_type": "display_data"
    },
    {
     "data": {
      "application/vnd.jupyter.widget-view+json": {
       "model_id": "1d8bf5a32f50417eafa3ae08cfdc5668",
       "version_major": 2,
       "version_minor": 0
      },
      "text/plain": [
       "interactive(children=(FloatSlider(value=0.0, description='u_x', max=2.5, min=-2.5), FloatSlider(value=0.4, des…"
      ]
     },
     "metadata": {},
     "output_type": "display_data"
    }
   ],
   "source": [
    "n = 3000\n",
    "u_x = 0.1; sigma_x = 0.4\n",
    "u_y = 1.0; sigma_y = 0.2\n",
    "\n",
    "X = np.array([np.random.normal(u_x, sigma_x, n),\n",
    "              np.random.normal(u_y, sigma_y, n)])\n",
    "E = np.linalg.norm(X, axis=0)\n",
    "\n",
    "plt.close(fig)\n",
    "fig, axs = plt.subplots(nrows=2, ncols=2, figsize=(5,5))\n",
    "scat = axs[0,0].scatter(X[0,:], X[1,:], zorder=2, alpha = 0.6,\n",
    "                        s=10,\n",
    "                        color='tab:blue')\n",
    "draw_dartboard(axs[0,0])\n",
    "pretty_ax(axs[0,0],\n",
    "         'A dartboard', 'y', 'x')\n",
    "\n",
    "\n",
    "# y\n",
    "_, _, bars_y = axs[0,1].hist(X[1,:], bins=50, \n",
    "                                    orientation=\"horizontal\")\n",
    "axs[0,1].set_ylim((-3., 3.))\n",
    "pretty_ax(axs[0,1], 'Histogram of $\\mathcal{X}$', 'y', 'count')\n",
    "# x\n",
    "_, _, bars_x = axs[1,0].hist(X[0,:], bins=50)\n",
    "axs[1,0].set_xlim((-3., 3.))\n",
    "axs[1,0].invert_yaxis()\n",
    "pretty_ax(axs[1,0], 'Histogram of $\\mathcal{X}$', 'count', 'x')\n",
    "# E \n",
    "_, _, bars_e = axs[1,1].hist(E, bins=50)\n",
    "axs[1,1].set_xlim((0., 3.))\n",
    "pretty_ax(axs[1,1], 'Histogram of $\\mathcal{E}$', 'count', 'e')\n",
    "\n",
    "def update(u_x = 0., sigma_x = 0.4, u_y = 0., sigma_y = 0.4):\n",
    "    global bars_y, bars_x, bars_e\n",
    "    X = np.array([np.random.normal(u_x, sigma_x, n),\n",
    "                  np.random.normal(u_y, sigma_y, n)])\n",
    "    E = np.linalg.norm(X, axis=0)\n",
    "    \n",
    "    scat.set_offsets(X.T)\n",
    "    scat.set_visible(True)\n",
    "    \n",
    "    # y\n",
    "    t = [b.remove() for b in bars_y]\n",
    "    count, bins, bars_y = axs[0,1].hist(X[1,:], bins=50, \n",
    "                                        orientation=\"horizontal\",\n",
    "                                       color='tab:blue')\n",
    "    # x\n",
    "    t = [b.remove() for b in bars_x]\n",
    "    count, bins, bars_x = axs[1,0].hist(X[0,:], bins=50, \n",
    "                                        color='tab:blue')\n",
    "    # E\n",
    "    t = [b.remove() for b in bars_e]\n",
    "    count, bins, bars_e = axs[1,1].hist(E, bins=50,\n",
    "                                       color='tab:blue')\n",
    "        \n",
    "    fig.canvas.draw_idle()\n",
    "\n",
    "widgets.interact(update, u_x = (-2.5, 2.5, 0.1), sigma_x = (0.1, 1.5, 0.1), u_y = (-2.5, 2.5, 0.1), sigma_y = (0.1, 1.5, 0.1));\n",
    "plt.tight_layout()"
   ]
  },
  {
   "cell_type": "markdown",
   "metadata": {},
   "source": [
    "The problem here is that, eventhough we use normal distributions to construct $\\mathcal{X}$, after computing the Euclidean distance the distribution of $\\mathcal{E}$ is asymetric.\n",
    "This asymetry is particulary apparent when variances are large and the means are close to zero.\n",
    "\n",
    "At this point, we need to make a difference between the **mode** of a distribution and the mean:\n",
    "- mode: the most probable value of a distribution (i.e., the peak)\n",
    "- mean: the center of mass of a distribution\n",
    "\n",
    "The mean and the mode are the same for symmetric distributions (e.g., uniform, normal), but can differ highly for asymmetric distributions.\n",
    "For example, a Cauchy distribution as no mean, but has a mode.\n",
    "This distribution is known has \"heavy tail\", so much that we need to truncate each extremity to plot it."
   ]
  },
  {
   "cell_type": "code",
   "execution_count": 16,
   "metadata": {
    "jupyter": {
     "source_hidden": true
    }
   },
   "outputs": [
    {
     "data": {
      "application/vnd.jupyter.widget-view+json": {
       "model_id": "2fcfda944bf94a81a02f0efe0740803c",
       "version_major": 2,
       "version_minor": 0
      },
      "text/plain": [
       "Canvas(toolbar=Toolbar(toolitems=[('Home', 'Reset original view', 'home', 'home'), ('Back', 'Back to previous …"
      ]
     },
     "metadata": {},
     "output_type": "display_data"
    }
   ],
   "source": [
    "n = 1000000\n",
    "x_lim = 2.\n",
    "\n",
    "X = np.random.standard_cauchy(n)\n",
    "\n",
    "# truncate distribution so it plots well\n",
    "X = X[(X>-x_lim) & (X<x_lim)]  # comment to see what happen!\n",
    "\n",
    "plt.close(fig)\n",
    "fig, ax = plt.subplots(nrows=1, ncols=1, figsize=(5,3))\n",
    "ax.hist(X, bins=50);\n",
    "pretty_ax(ax, 'Histogram of a Cauchy distribution', 'count', 'x')\n",
    "plt.tight_layout()"
   ]
  },
  {
   "cell_type": "markdown",
   "metadata": {},
   "source": [
    "Here are some examples of modes, means, median, standard deviation (std), and  interquartile ranges (IQR) for two distributions.\n",
    "We can see that mean and variance can cause problem when one assumes that it is the same as the mode for a skew distribution.\n",
    "This problem is often observed in scientific paper adding error bars to their results with the lower error bar being negative for a distance (i.e., something that can only be positive)."
   ]
  },
  {
   "cell_type": "code",
   "execution_count": 17,
   "metadata": {
    "jupyter": {
     "source_hidden": true
    }
   },
   "outputs": [
    {
     "data": {
      "application/vnd.jupyter.widget-view+json": {
       "model_id": "a77159486b964e14b2195ba79114ba94",
       "version_major": 2,
       "version_minor": 0
      },
      "text/plain": [
       "Canvas(toolbar=Toolbar(toolitems=[('Home', 'Reset original view', 'home', 'home'), ('Back', 'Back to previous …"
      ]
     },
     "metadata": {},
     "output_type": "display_data"
    }
   ],
   "source": [
    "n = 1000000\n",
    "u_1 = 0.\n",
    "sigma_1 = 2.\n",
    "u_2 = 3.\n",
    "sigma_2 = 1.\n",
    "\n",
    "X1 = np.random.normal(u_1, sigma_1, n)\n",
    "mean1 = np.mean(X1)\n",
    "var1 = np.var(X1)\n",
    "quart1 = np.quantile(X1, [0.25, 0.5, 0.75])\n",
    "\n",
    "X2 = np.random.lognormal(u_1, sigma_2, n)\n",
    "mean2 = np.mean(X2)\n",
    "var2 = np.var(X2)\n",
    "quart2 = np.quantile(X2, [0.25, 0.5, 0.75])\n",
    "\n",
    "# truncate distribution so it plots well\n",
    "X = X[(X>-x_lim) & (X<x_lim)]  # comment to see what happen!\n",
    "\n",
    "plt.close(fig)\n",
    "fig, axs = plt.subplots(nrows=2, ncols=1, figsize=(5,5))\n",
    "\n",
    "# normal\n",
    "n, bins, _, = axs[0].hist(X1, bins=50);\n",
    "mode1 = (bins[np.argmax(n)] + bins[np.argmax(n)+1])/2.\n",
    "axs[0].axvline(mode1, color='white', linewidth=2);\n",
    "axs[0].plot(mean1, np.max(n)/5, 'o', color='tab:red');\n",
    "axs[0].plot(quart1[1], np.max(n)/3, 'o', color='tab:blue');\n",
    "axs[0].annotate('', xy=(mean1 + var1/2., np.max(n)/5),\n",
    "             xytext=(mean1 - var1/2., np.max(n)/5),\n",
    "             arrowprops=dict(arrowstyle= '|-|', color='tab:red', lw=2)\n",
    "           )\n",
    "axs[0].annotate('', xy=(quart1[2], np.max(n)/3),\n",
    "             xytext=(quart1[0], np.max(n)/3),\n",
    "             arrowprops=dict(arrowstyle= '|-|', color='tab:blue', lw=2)\n",
    "           )\n",
    "pretty_ax(axs[0], 'Histogram of a normal distribution', 'count', 'x')\n",
    "axs[0].legend(['mode', 'mean, std', 'median, IQR'])\n",
    "\n",
    "#log-normal\n",
    "X2 = X2[(X2<4.5)] # truncate distribution so it plots well\n",
    "n, bins, _, = axs[1].hist(X2, bins=50);\n",
    "mode2 = (bins[np.argmax(n)] + bins[np.argmax(n)+1])/2.\n",
    "axs[1].axvline(mode2, color='white', linewidth=2);\n",
    "axs[1].plot(mean2, np.max(n)/5, 'o', color='tab:red');\n",
    "axs[1].plot(quart2[1], np.max(n)/3, 'o', color='tab:blue');\n",
    "\n",
    "axs[1].annotate('', xy=(mean2 + var2/2., np.max(n)/5),\n",
    "             xytext=(mean2 - var2/2., np.max(n)/5),\n",
    "             arrowprops=dict(arrowstyle= '|-|', color='tab:red', lw=2)\n",
    "           )\n",
    "axs[1].annotate('', xy=(quart2[2], np.max(n)/3),\n",
    "            xytext=(quart2[0], np.max(n)/3),\n",
    "             arrowprops=dict(arrowstyle= '|-|', color='tab:blue', lw=2)\n",
    "           )\n",
    "pretty_ax(axs[1], 'Histogram of a log-normal distribution', 'count', 'x')\n",
    "axs[1].set_xlim([-1., 4.5])\n",
    "axs[1].legend(['mode', 'mean, std', 'median, IQR'])\n",
    "\n",
    "plt.tight_layout()"
   ]
  },
  {
   "cell_type": "markdown",
   "metadata": {},
   "source": [
    "When we want to use the mean to estimate the mode, we can use robust statistics to lower the impact of outliers.\n",
    "The arithmetic mean is not a robust estimator.\n",
    "If a single point in the set equal to infinity, the mean will also be infinity.\n",
    "This is not the case for the median, which is a robust estimator.\n",
    "Another way to handle outliers, is to come back to our definition of the expectation.\n",
    "\n",
    "\\begin{equation}\n",
    "\\E[\\mathcal{X}] = \\sum_i^n p_i x_i  \\textdot\n",
    "\\end{equation}\n",
    "\n",
    "Instead of assuming a uniform distribution for all elements in a set, we can make a better assumption about the probability $p_i$.\n",
    "For example, with better knowledge about the problem at hand, one could define a better range for the uniform distribution, trimming a percentage of the tail (i.e., trimmed mean), or use any known probability distribution such as the normal distribution."
   ]
  },
  {
   "cell_type": "code",
   "execution_count": 18,
   "metadata": {
    "jupyter": {
     "source_hidden": true
    }
   },
   "outputs": [
    {
     "data": {
      "application/vnd.jupyter.widget-view+json": {
       "model_id": "d43422c01006432fa8d318a57ac8b6f6",
       "version_major": 2,
       "version_minor": 0
      },
      "text/plain": [
       "Canvas(toolbar=Toolbar(toolitems=[('Home', 'Reset original view', 'home', 'home'), ('Back', 'Back to previous …"
      ]
     },
     "metadata": {},
     "output_type": "display_data"
    }
   ],
   "source": [
    "n = 300000\n",
    "u_x = 0.1; sigma_x = 1.4\n",
    "u_y = 2.5; sigma_y = 2.8\n",
    "\n",
    "X = np.array([np.random.normal(u_x, sigma_x, n),\n",
    "              np.random.normal(u_y, sigma_y, n)])\n",
    "E = np.linalg.norm(X, axis=0)\n",
    "# uniform distribution\n",
    "p1 = (E < 4.)/len(E)\n",
    "# normal distribution\n",
    "mu = 0.\n",
    "sigma = 2.7\n",
    "p2 = np.exp( - (E - mu)**2 / (2 * sigma**2) )\n",
    "\n",
    "plt.close(fig)\n",
    "colors = plt.rcParams['axes.prop_cycle'].by_key()['color']\n",
    "fig, axs = plt.subplots(nrows=3, ncols=1, figsize=(5,6))\n",
    "\n",
    "\n",
    "n, bins, _, = axs[0].hist(E, bins=50, color=colors[0], density=True, alpha=1.)\n",
    "mode = (bins[np.argmax(n)] + bins[np.argmax(n)+1])/2.\n",
    "axs[0].axvline(mode, color='white', linewidth=2);\n",
    "axs[0].plot(np.mean(E), np.max(n)/5, 'o', color='tab:red');\n",
    "pretty_ax(axs[0], 'Histogram of Euclidean distance', 'count', 'e')\n",
    "axs[0].legend(['mode', 'mean'])\n",
    "\n",
    "axs[1].hist(E, bins=50, weights=p1, color=colors[2], density=True, alpha=1.)\n",
    "axs[1].axvline(mode, color='white', linewidth=2);\n",
    "axs[1].plot(np.average(E, weights=p1), np.max(n)/5, 'o', color='tab:red');\n",
    "pretty_ax(axs[1], 'Robust estimation with uniform distribution', 'count', 'e')\n",
    "axs[1].legend(['original mode', 'weighted mean'])\n",
    "\n",
    "axs[2].hist(E, bins=50, weights=p2, color=colors[4], density=True, alpha=1.)\n",
    "axs[2].axvline(mode, color='white', linewidth=2);\n",
    "axs[2].plot(np.average(E, weights=p2), np.max(n)/5, 'o', color='tab:red');\n",
    "pretty_ax(axs[2], 'Robust estimation with gaussian distribution', 'count', 'e')\n",
    "axs[2].legend(['original mode', 'weighted mean'])\n",
    "\n",
    "\n",
    "plt.tight_layout()"
   ]
  },
  {
   "cell_type": "markdown",
   "metadata": {},
   "source": [
    "## Conclusion\n",
    "\n",
    "Actions:\n",
    "- add notes and annotations in the markdown to help you review the material later\n",
    "- run the code in your notebook and play with the parameters to understand the behavior of the computation show as examples.\n",
    "- do the [exercises](../../exercises/uncertainty/1e-exercises_descriptive_statistics.ipynb) related to this lesson\n",
    "\n",
    "At the end, you should be able to \n",
    "- relate: expectation, mean, raw moment, center of mass, accuracy\n",
    "- relate: expectation, variance, central moment, spread, precision\n",
    "- differ: mode, mean, median\n",
    "- understand: why the mean is not robust\n",
    "- apply: use `numpy` and `matplotlib`\n",
    "- apply: use `latex` for mathematical demonstrations\n",
    "\n"
   ]
  },
  {
   "cell_type": "markdown",
   "metadata": {},
   "source": [
    "### Symbol definitions\n",
    "\n",
    "| Symbol             | Definition            |\n",
    "|--------------------|-------------          |\n",
    "| $\\mathcal{X}$      | set                   |\n",
    "| $|\\mathcal{X}|$    | cardinality of a set (i.e., how many elements in a set) |\n",
    "| $x$                | scalar                |\n",
    "| $\\vec{x}$          | vector                |\n",
    "| $x_i$              | $i^{\\text{th}}$ scalar of a set                |\n",
    "| $\\real$       | real set              |\n",
    "| $\\normal$       | normal distribution              |\n",
    "| $\\E[\\mathcal{X}]$       | expectation of the set $\\mathcal{X}$             |\n",
    "| $\\in$              | ... is part of ...           |"
   ]
  },
  {
   "cell_type": "markdown",
   "metadata": {},
   "source": [
    "### Glossary\n",
    "\n",
    "| English             | Français   |\n",
    "|-----------          |------------|\n",
    "| expectation         | espérance |\n",
    "| raw moment          | moment ordinaire |\n",
    "| central moment      | moment centré    |\n",
    "| standardized moment | moment centré réduit |\n",
    "| precision           | précision  |\n",
    "| accurary            | exactitude |\n",
    "| outliers            | valeurs aberrantes |"
   ]
  }
 ],
 "metadata": {
  "kernelspec": {
   "display_name": "Python 3",
   "language": "python",
   "name": "python3"
  },
  "language_info": {
   "codemirror_mode": {
    "name": "ipython",
    "version": 3
   },
   "file_extension": ".py",
   "mimetype": "text/x-python",
   "name": "python",
   "nbconvert_exporter": "python",
   "pygments_lexer": "ipython3",
   "version": "3.8.2"
  },
  "toc-autonumbering": true,
  "toc-showcode": false,
  "toc-showmarkdowntxt": false,
  "toc-showtags": false
 },
 "nbformat": 4,
 "nbformat_minor": 4
}
