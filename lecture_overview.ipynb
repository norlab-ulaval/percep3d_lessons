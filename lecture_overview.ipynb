{
 "cells": [
  {
   "cell_type": "markdown",
   "metadata": {},
   "source": [
    "<p style=\"text-align: center;font-size: 40pt\">Overview of the lecture</p>\n",
    "\n",
    "Objectives of the presentation:\n",
    "- learning objectives\n",
    "- similar lectures in the world\n",
    "- reading materials\n",
    "- asynchronous teaching\n",
    "- grading methods\n",
    "- overview of the modules\n",
    "- accessibility\n",
    "   - use `>` to take notes, for example\n",
    "> TODO Review this concept\n",
    "- communication (Slack)\n",
    "- exercises are mandatory but not graded\n",
    "- hand written explanations\n",
    "    \n",
    "The following [xkcd strip](https://xkcd.com/1319/) resumes pretty well how I built this class, with the mention that I prefer coding than doing PowerPoints...\n",
    "\n",
    "<p style=\"text-align:center\">\n",
    "<img src=\"../common/images/automation_2x.png\" width=50% />\n",
    "</p>\n",
    "    "
   ]
  },
  {
   "cell_type": "markdown",
   "metadata": {},
   "source": [
    "# Overview of the modules\n",
    "\n",
    "<p style=\"text-align:center\">\n",
    "<img src=\"../common/images/schemaConcepts.jpeg\" width=100% />\n",
    "</p>"
   ]
  },
  {
   "cell_type": "markdown",
   "metadata": {},
   "source": [
    "# List of modules\n",
    "\n",
    "Pick your poison:\n",
    "- [Primers on Python, Jupyter and Virtual Machines](./primers/0-overview.ipynb) (optional)\n",
    "- [Welcome to a flat world](./transformations_2d/0-overview.ipynb)\n",
    "- [Autonomous vehicles](./autonomous_vehicles/0-overview.ipynb)\n",
    "- [Uncertainty](./uncertainty/0-overview.ipynb)\n",
    "- [3D tools](./3d_tools/0-overview.ipynb)\n",
    "- [Robot operating system (ROS)](./ros/0-overview.ipynb)\n",
    "- [How hard can it be in 3D?](./transformations_3d/0-overview.ipynb)\n",
    "- [Point cloud registration](./registration/0-overview.ipynb)\n",
    "- [Mapping softwares](./mapping_softwares/0-overview.ipynb)"
   ]
  },
  {
   "cell_type": "markdown",
   "metadata": {},
   "source": [
    "# List of special projects\n",
    "\n",
    "By special, I mean long...\n",
    "I suggest you to select only one project and to focus on it once you have done the required lessons to well understand what you need to do.\n",
    "The projects were design for different _style_ of students.\n",
    "In the incredible case where you decided to complete more than one, the project with the best grades will be kept.\n",
    "- Evaluation of 3D trajectories \n",
    "   - style: at ease with theory\n",
    "- Analysis of registration papers\n",
    "   - style: reading and writing skills\n",
    "- Development of an autonomous vehicle\n",
    "   - style: practical implementation\n",
    "- Reconstruction of an environment in 3D\n",
    "   - style: technical skills"
   ]
  }
 ],
 "metadata": {
  "kernelspec": {
   "display_name": "Python 3",
   "language": "python",
   "name": "python3"
  },
  "language_info": {
   "codemirror_mode": {
    "name": "ipython",
    "version": 3
   },
   "file_extension": ".py",
   "mimetype": "text/x-python",
   "name": "python",
   "nbconvert_exporter": "python",
   "pygments_lexer": "ipython3",
   "version": "3.8.2"
  }
 },
 "nbformat": 4,
 "nbformat_minor": 4
}
