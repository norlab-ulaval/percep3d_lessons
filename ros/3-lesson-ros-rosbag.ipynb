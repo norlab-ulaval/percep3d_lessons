{
 "cells": [
  {
   "cell_type": "markdown",
   "metadata": {
    "slideshow": {
     "slide_type": "slide"
    }
   },
   "source": [
    "<p style=\"text-align: center;font-size: 40pt\">RVIZ<\\p>\n",
    "<p style=\"text-align: center;font-size: 20pt\">3D visualization tool for ROS<\\p>\n",
    "<img src=\"images/rviz_snap_2.png\" width=\"100%\" alt=\"Retrieved from ros.org\">"
   ]
  },
  {
   "cell_type": "markdown",
   "metadata": {},
   "source": [
    "Fortunately, not everything is done through a terminal in ROS.\n",
    "[_Rviz_](http://wiki.ros.org/rviz) is a 3D visualization tool for ROS which allows us to inspect data flowing through ROS topics.\n",
    "It is especially well suited for displaying data that live in 3D, such as point clouds, mesh models of robots, trajectories or markers.\n",
    "It also allows us to display streams of camera images.\n",
    "\n",
    "In this lesson, we will have a look on basic controls and settings which are necessary to correctly display point clouds, images and markers.\n",
    "For all other types of data, we will refer you to a [list of available displays](http://wiki.ros.org/rviz/DisplayTypes).\n",
    "Good news is that using them always follows the same pattern, so it is easy to learn using a new one."
   ]
  },
  {
   "cell_type": "markdown",
   "metadata": {},
   "source": [
    "# Prerequisities for using RVIZ in this lesson\n",
    "\n",
    "The Rviz itself is already installed in your virtual machine as a part of ROS.\n",
    "Given that you have a `roscore` running in some terminal, you can enter `rviz` (same effect as `rosrun rviz rviz`) in another terminal and run it.\n",
    "You will see a default layout and no data displayed.\n",
    "\n",
    "To be able to play with Rviz displays, we need some data in ROS topics in the first place.\n",
    "On a real ro\n",
    "\n"
   ]
  },
  {
   "cell_type": "markdown",
   "metadata": {},
   "source": [
    "&#8635; [Go back to the list of lessons](0-overview.ipynb)"
   ]
  },
  {
   "cell_type": "code",
   "execution_count": null,
   "metadata": {},
   "outputs": [],
   "source": []
  }
 ],
 "metadata": {
  "kernelspec": {
   "display_name": "Python 3",
   "language": "python",
   "name": "python3"
  },
  "language_info": {
   "codemirror_mode": {
    "name": "ipython",
    "version": 3
   },
   "file_extension": ".py",
   "mimetype": "text/x-python",
   "name": "python",
   "nbconvert_exporter": "python",
   "pygments_lexer": "ipython3",
   "version": "3.8.2"
  }
 },
 "nbformat": 4,
 "nbformat_minor": 4
}
