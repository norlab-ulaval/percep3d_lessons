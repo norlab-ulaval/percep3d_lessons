{
 "cells": [
  {
   "cell_type": "markdown",
   "metadata": {
    "slideshow": {
     "slide_type": "slide"
    }
   },
   "source": [
    "<p style=\"text-align: center;font-size: 40pt\">Exam<\\p>\n",
    "<p style=\"text-align: center;font-size: 20pt\">The curse of dimensionality<\\p>"
   ]
  },
  {
   "cell_type": "code",
   "execution_count": 2,
   "metadata": {},
   "outputs": [],
   "source": [
    "%run ./scripts/helper_func.py\n",
    "path = \"{0}/lessons/transformations_3d/scripts/exam_questions.py\".format(get_root_path())\n",
    "%run $path"
   ]
  },
  {
   "cell_type": "markdown",
   "metadata": {},
   "source": [
    "Hidden custom latex commands here $ \\curvearrowright$\n",
    "\n",
    "----\n",
    "[comment]: <> (General commands)\n",
    "$\\newcommand{\\textcomma}{\\quad\\text{,}}$\n",
    "$\\newcommand{\\textdot}{\\quad\\text{.}}$\n",
    "$\\newcommand{\\vec}[1]{\\overrightarrow{#1}}$\n",
    "$\\newcommand{\\mat}[1]{\\mathbf{#1}}$\n",
    "$\\newcommand{\\frame}[1]{\\mathcal{#1}}$\n",
    "$\\newcommand{\\point}[2][]{{}^{#1}\\mathbf{#2}}$\n",
    "$\\newcommand{\\pointsym}[2][]{{}^{#1}\\boldsymbol{#2}}$\n",
    "$\\newcommand{\\matsym}[1]{\\boldsymbol{#1}}$\n",
    "$\\newcommand{\\real}{\\mathbb{R}}$\n",
    "$\\newcommand{\\bmat}[1]{\\begin{bmatrix}#1\\end{bmatrix}}$\n",
    "$\\newcommand{\\F}[2][]{{}_{#2}^{#1}\\mathscr{F}}$\n",
    "$\\newcommand{\\Fmat}[2][]{{}_{#2}^{#1}\\mat{F}}$\n",
    "$\\newcommand{\\origin}[2][]{{}_{#2}^{#1}\\mat{o}}$\n",
    "$\\newcommand{\\T}[2][]{{}_{#2}^{#1}\\mat{T}}$\n",
    "$\\newcommand{\\t}[2][]{{}_{#2}^{#1}\\mat{t}}$\n",
    "$\\newcommand{\\R}[2][]{{}_{#2}^{#1}\\mat{R}}$\n",
    "$\\newcommand{\\f}{\\vec{\\mathscr{f}}}$\n",
    "$\\newcommand{\\ax}[2][]{{}_{#2}^{#1}\\vec{\\mathscr{x}}}$\n",
    "$\\newcommand{\\ay}[2][]{{}_{#2}^{#1}\\vec{\\mathscr{y}}}$\n",
    "$\\newcommand{\\az}[2][]{{}_{#2}^{#1}\\vec{\\mathscr{z}}}$\n",
    "$\\newcommand{\\aw}[2][]{{}_{#2}^{#1}\\vec{\\mathscr{w}}}$\n",
    "$\\newcommand{\\axi}{\\mathscr{x}}$\n",
    "$\\newcommand{\\ayi}{\\mathscr{y}}$\n",
    "$\\newcommand{\\azi}{\\mathscr{z}}$\n",
    "$\\newcommand{\\awi}{\\mathscr{w}}$\n",
    "$\\newcommand{\\pointx}[2][]{{}^{#1}{#2}_{\\axi}}$\n",
    "$\\newcommand{\\pointy}[2][]{{}^{#1}{#2}_{\\ayi}}$\n",
    "$\\newcommand{\\pointz}[2][]{{}^{#1}{#2}_{\\azi}}$\n",
    "$\\newcommand{\\SO}[1]{\\mathrm{SO}(#1)}$\n",
    "$\\newcommand{\\SE}[1]{\\mathrm{SE}(#1)}$\n",
    "$\\newcommand{\\cin}{\\color{green}{\\in}}$\n",
    "$\\newcommand{\\cnotin}{\\color{red}{\\notin}}$\n",
    "----"
   ]
  },
  {
   "cell_type": "markdown",
   "metadata": {},
   "source": [
    "# General remarks\n",
    "\n",
    "**Expected time**: \n",
    "   - 4 hours of study\n",
    "   - 5 min preparation\n",
    "   - 15 min interview\n",
    "   \n",
    "**Goal**: evaluate the following objectives of the lecture:\n",
    "  - Understand the mathematical foundations for processing point clouds\n",
    "  - Convert between different 3D rotation formalism\n",
    "  - Explain the advantages and disadvantages of the different rotation formalism\n",
    "\n",
    "**Requirements**:\n",
    "1. Module [Welcome to a flat world](../transformations_2d/0-overview.ipynb)\n",
    "1. Module [How hard can it be in 3D?](0-overview.ipynb)\n"
   ]
  },
  {
   "cell_type": "markdown",
   "metadata": {},
   "source": [
    "# Motivation\n",
    "\n",
    "Because the exam is quite different than usual, I'll clarify a bit the motivation and mean of evaluation so it doesn't look like a hack from a heretic professor.\n",
    "The curse of dimensionality is an expression referring to problems arising when applying a method in low-dimensional space to a high-dimensional space, where the complexity explodes.\n",
    "Passing from $\\SE{2}$ to $\\SE{3}$ is one example, but oddly it is not to what I'm referring here in the title of this exam.\n",
    "It is rather hard to evaluate someone's skill when teaching a knowledge-based lecture.\n",
    "The _knowledge space_ increases significantly for advanced topics such as the ones covered in this lecture and simple evaluation tools used in high school seems less applicable."
   ]
  },
  {
   "cell_type": "markdown",
   "metadata": {},
   "source": [
    "## Random sampling\n",
    "\n",
    "For this exam, I'll let you access a pool of questions covering all the lectures on Euclidean space and simply randomly draw three questions from this pool during an interview.\n",
    "Through a discussion, an instructor will determine how advance are your skills and you will be graded accordingly.\n",
    "The trade-off is the exam is quick, but its preparation might be long, depending of your tolerance to risk.\n",
    "Now, judging how advance a skill is seems pretty abstract, but this is why we have educational psychologists.\n",
    "Somewhere in 1956, the [Bloom's taxonomy](https://en.wikipedia.org/wiki/Bloom%27s_taxonomy) was published.\n",
    "This taxonomy proposes categories from concrete to abstract levels of reasoning.\n",
    "The revised version of his taxonomy looks like this:\n",
    "\n",
    "1. **Remembering**: Can you recall concepts?\n",
    "1. **Understanding**: Can you explain concepts?\n",
    "1. **Applying**: Can you reuse concepts in a similar context?\n",
    "1. **Analyzing**: Can you link concepts together?\n",
    "1. **Evaluating$^*$**: Can you make a judgment on concepts and justify it?\n",
    "1. **Creating$^*$**: Can you reorganize concepts to produce something new?\n",
    "\n",
    "$^*$For the purpose of this lecture, we will only focus on the first four elements and relate them to the objective of the lecture."
   ]
  },
  {
   "cell_type": "markdown",
   "metadata": {},
   "source": [
    "# Grading\n",
    "\n",
    "Since you have access to all the questions, simply answering them will get you to the _remembering_ level.\n",
    "Being able to explain your answers will get you to the _understanding_ level.\n",
    "Listing details on how to use the main concept of the question and where it can be used will get you to the _applying_ level.\n",
    "Finally, linking to concepts outside the question will get you to the _analyzing_ level.\n",
    "Of course, since it's a discussion, just dropping empty disconnected buzzwords will not get you far.\n",
    "\n",
    "For each question, you will receive a grade depending on if you can ...\n",
    "\n",
    "- &nbsp;0 %: not remember\n",
    "- 30 %: remember with some help\n",
    "- 50 %: remember autonomously\n",
    "- 60 %: understand with some help\n",
    "- 70 %: understand autonomously\n",
    "- 80 %: apply with some help\n",
    "- 90 %: apply autonomously\n",
    "- 100 %: analyze at a larger scale\n",
    "\n",
    "It is the responsibility of the instructor to ask questions progressively more complex and stop when the student needs too much help."
   ]
  },
  {
   "cell_type": "markdown",
   "metadata": {},
   "source": [
    "# Planning your exam\n",
    "\n",
    "## Between two and seven days in advance\n",
    "\n",
    "Steps:\n",
    "1. Review the lessons and your notes\n",
    "1. Test your microphone and camera access and settings (you can use your phone if you wish)\n",
    "   - go to [Google Meet](https://meet.google.com/) and click _start a meeting_\n",
    "   - before joining the meeting, we will have access to your video stream\n",
    "   - click on the three vertical dots on the lower-right side of your video stream, then Settings\n",
    "   - validate that all accesses are granted and that your settings point to the right microphone and camera\n",
    "   - start a meeting by clicking on the button **Present**, then select **Entire Screen**\n",
    "   - it's normal if you don't see your own screen streaming. \n",
    "     If no pop up appears, you are ready to go.\n",
    "   - close Google Meet\n",
    "1. Test your [connection speed](https://www.google.com/search?q=test+internet+speed)\n",
    "   - a speed above 8 Mb/s should be comfortable"
   ]
  },
  {
   "cell_type": "markdown",
   "metadata": {},
   "source": [
    "## Ten minutes before your appointment\n",
    "\n",
    "Steps:\n",
    "\n",
    "1. Prepare a piece of paper and a pen.\n",
    "   It can be helpful for you to structure your thoughts or to explain something graphically.\n",
    "1. You will receive a link asking you to join a videoconference in your private channel. Start the meeting."
   ]
  },
  {
   "cell_type": "markdown",
   "metadata": {},
   "source": [
    "## During the appointment\n",
    "\n",
    "Steps:\n",
    "\n",
    "1. Few minutes at the beginning will be used to ensure that you understood the instructions and that you are ready\n",
    "1. The instructor will also answer any organization questions you may have\n",
    "1. Once everything is clear, the exam will start:\n",
    "   1. the instructor will share his screen and draw three questions randomly\n",
    "   1. the instructor will copy those questions to your private Slack channel to make sure you can read them properly\n",
    "   1. for the first two minutes, the instructor will quietly observe what you are doing\n",
    "   1. for the next five minutes, you will discuss about the first question\n",
    "   1. for the next five minutes, you will discuss about the second question\n",
    "   1. for the remaining three minutes, you will discuss about the last question\n",
    "1. After 15 min, the evaluation is over.\n",
    "1. Results of the evaluation will be transmitted later during the day."
   ]
  },
  {
   "cell_type": "markdown",
   "metadata": {},
   "source": [
    "# What my exam will look like?\n",
    "\n",
    "During the exam, an instructor will run the following cell block.\n",
    "Three questions will be randomly drawn from a list of questions.\n",
    "You can run the function as much as you want to practice your exam.\n",
    "By far, your best training is to have a colleague asking you those questions, so you can verbalize the answer instead of keeping it in your head."
   ]
  },
  {
   "cell_type": "code",
   "execution_count": 3,
   "metadata": {},
   "outputs": [
    {
     "data": {
      "text/markdown": [
       "## Question 1 (10 points):"
      ],
      "text/plain": [
       "<IPython.core.display.Markdown object>"
      ]
     },
     "metadata": {},
     "output_type": "display_data"
    },
    {
     "data": {
      "text/markdown": [
       "1. EN: Give an advantage of rotation matrix over other rotation representation.\n",
       "\n",
       "   FR: _Donnez un avantage des matrices de rotation par rapport aux autres représentations des rotations._\n"
      ],
      "text/plain": [
       "<IPython.core.display.Markdown object>"
      ]
     },
     "metadata": {},
     "output_type": "display_data"
    },
    {
     "data": {
      "text/markdown": [
       "## Question 2 (10 points):"
      ],
      "text/plain": [
       "<IPython.core.display.Markdown object>"
      ]
     },
     "metadata": {},
     "output_type": "display_data"
    },
    {
     "data": {
      "text/markdown": [
       "1. EN: In the axis-angle representation, what happen to the axis when $\\theta=\\pi$?\n",
       "\n",
       "   FR: _Dans la représentation axe-angle, qu'arrive-t-il à l'axe lorsque $\\theta=\\pi$ ?_\n"
      ],
      "text/plain": [
       "<IPython.core.display.Markdown object>"
      ]
     },
     "metadata": {},
     "output_type": "display_data"
    },
    {
     "data": {
      "text/markdown": [
       "## Question 3 (5 points):"
      ],
      "text/plain": [
       "<IPython.core.display.Markdown object>"
      ]
     },
     "metadata": {},
     "output_type": "display_data"
    },
    {
     "data": {
      "text/markdown": [
       "1. EN: What is the difference between $\\SO{3}$ and $\\SE{3}$?\n",
       "\n",
       "   FR: _Quelle est la différence entre $\\SO{3}$ and $\\SE{3}$ ?_\n"
      ],
      "text/plain": [
       "<IPython.core.display.Markdown object>"
      ]
     },
     "metadata": {},
     "output_type": "display_data"
    }
   ],
   "source": [
    "exam = Exam_eucl_space()\n",
    "exam.random_sampling()"
   ]
  },
  {
   "cell_type": "markdown",
   "metadata": {},
   "source": [
    "# How can I prepare for the exam?\n",
    "\n",
    "I'm a very open person, just run the following code block to see all the questions.\n",
    "There won't be any surprise or hidden questions for the random selection.\n",
    "Recall that those questions are the starting point of a conversation on that topic.\n",
    "Simply memorising the answers will give you a passing grade, not much more. "
   ]
  },
  {
   "cell_type": "code",
   "execution_count": 4,
   "metadata": {},
   "outputs": [
    {
     "data": {
      "text/markdown": [
       "1. EN: In the axis-angle representation, what happen to the axis when $\\theta=\\pi$?\n",
       "\n",
       "   FR: _Dans la représentation axe-angle, qu'arrive-t-il à l'axe lorsque $\\theta=\\pi$ ?_\n",
       "1. EN: Give a disadvantage of rotation matrix over other rotation representation.\n",
       "\n",
       "   FR: _Donnez un désavantage des matrices de rotation par rapport aux autres représentations des rotations._\n",
       "1. EN: What is the operator associated with a rotation matrix that defines the Special Euclidean group?\n",
       "\n",
       "   FR: _Quelle opération associée à une matrice de rotation permet de définir le groupe euclidien spécial ?_\n",
       "1. EN: Give an advantage of Euler angles over other rotation representations.\n",
       "\n",
       "   FR: _Donnez un avantage de la représentation des angles d'Euler par rapport aux autres représentations des rotations._\n",
       "1. EN: What is the minimal number of parameters required to represent a 3D rotation?\n",
       "\n",
       "   FR: _Quel est le nombre minimal de paramètres requis pour représenter une rotation ?_\n",
       "1. EN: What is the identity element of the Special orthogonal group?\n",
       "\n",
       "   FR: _Quel est l'élément neutre du groupe orthogonal spécial ?_\n",
       "1. EN: Give a disadvantage of quaternion over other rotation representations.\n",
       "\n",
       "   FR: _Donnez un désavantage des quaternions par rapport aux autres représentations des rotations._\n",
       "1. EN: Give a disadvantage of Euler angles over other rotation representations.\n",
       "\n",
       "   FR: _Donnez un désavantage de la représentation des angles d'Euler par rapport aux autres représentations des rotations._\n",
       "1. EN: Give an advantage of rotation matrix over other rotation representation.\n",
       "\n",
       "   FR: _Donnez un avantage des matrices de rotation par rapport aux autres représentations des rotations._\n",
       "1. EN: What is the operation connecting the cross product and the dot product?\n",
       "\n",
       "   FR: _Quel opération relie le produit vectoriel et le produit scalaire ?_\n",
       "1. EN: What format would have a point cloud that needs to be transformed by a matrix in $\\SO{3}$ using a single matrix multiplication?\n",
       "\n",
       "   FR: _Quel format aurait un nuage de point devant être transformé par un matrice faisant partie de $\\SO{3}$ en utilisant une seule multiplication matricielle ?_\n",
       "1. EN: Give an advantage of axis-angle representation over other rotation representations.\n",
       "\n",
       "   FR: _Donnez un avantage de la représentation axe-angle par rapport aux autres représentations des rotations._\n",
       "1. EN: What is the difference between proper Euler and Tait–Bryan angles?\n",
       "\n",
       "   FR: _Quelle est la différence entre les angles originaux d'Euler et les angles Tait-Bryan ?_\n",
       "1. EN: How to compute the distance between two rotation matrices?\n",
       "\n",
       "   FR: _Comment calculer la distance entre deux matrices de rotation ?_\n",
       "1. EN: Explain what are nautical angles.\n",
       "\n",
       "   FR: _Expliquez qu'est que les angles nautiques._\n",
       "1. EN: Give an advantage of quaternion over other rotation representation.\n",
       "\n",
       "   FR: _Donnez un avantage des quaternions par rapport aux autres représentations des rotations._\n",
       "1. EN: What is a principal rotation?\n",
       "\n",
       "   FR: _Qu'est-ce qu'une rotation de base ?_\n",
       "1. EN: Give a disadvantage of axis-angle representation over other rotation representations.\n",
       "\n",
       "   FR: _Donnez un désavantage de la représentation axe-angle par rapport aux autres représentations des rotations._\n",
       "1. EN: What is the link between a rotation matrix and a reflexion matrix?\n",
       "\n",
       "   FR: _Quel est le lien entre une matrice de rotation et une matrice de réflexion ?_\n",
       "1. EN: In the axis-angle representation, what happen to the axis when $\\theta=0$?\n",
       "\n",
       "   FR: _Dans la représentation axe-angle, qu'arrive-t-il à l'axe lorsque $\\theta=0$ ?_\n",
       "1. EN: Express the following quaternion $1 + 2i + 3j + 4k$ as a vector.\n",
       "\n",
       "   FR: _Exprimez le quaternion $1 + 2i + 3j + 4k$ en vecteur._\n",
       "1. EN: Which homogeneous coordinates cannot be expressed in cartesian coordinates?\n",
       "\n",
       "   FR: _Quelles coordonnées homogènes ne peuvent pas être exprimées en coordonnées cartésiennes ?_\n",
       "1. EN: How many different shear matrices are possible in 3D?\n",
       "\n",
       "   FR: _Combien de matrices de transvection sont possibles en 3D ?_\n",
       "1. EN: What is the operator associated with a rotation matrix that defines the Special orthogonal group?\n",
       "\n",
       "   FR: _Quelle opération associée à une matrice de rotation permet de définir le groupe orthogonal spécial ?_\n",
       "1. EN: What is the identity element of the Special Euclidean group?\n",
       "\n",
       "   FR: _Quel est l'élément neutre du groupe euclidien spécial ?_\n",
       "1. EN: What is or are the constraints defining a rotation matrix?\n",
       "\n",
       "   FR: _Quelles sont la/les contraintes définissant une matrice de rotation ?_\n",
       "1. EN: What is a gimbal lock?\n",
       "\n",
       "   FR: _Qu'est-ce qu'un blocage de cardan ?_\n",
       "1. EN: What is the result of the cross product?\n",
       "\n",
       "   FR: _Quel est le résultat d'un produit vectoriel ?_\n",
       "1. EN: What is or are the constraints defining an axis-angle representation?\n",
       "\n",
       "   FR: _Quelles sont la/les contraintes définissant la représentation axe-angle ?_\n",
       "1. EN: What is the difference between $\\SO{3}$ and $\\SE{3}$?\n",
       "\n",
       "   FR: _Quelle est la différence entre $\\SO{3}$ and $\\SE{3}$ ?_\n",
       "1. EN: What is defining a frame of reference?\n",
       "\n",
       "   FR: _Qu'est-ce qui définit un référentiel ?_\n",
       "1. EN: What is or are the constraints defining a quaternion?\n",
       "\n",
       "   FR: _Quelles sont la/les contraintes définissant un quaternion ?_\n",
       "1. EN: What is the link between a rotation matrix and a frame of reference?\n",
       "\n",
       "   FR: _Quel est le lien entre une matrice de rotation et un référentiel ?_\n",
       "1. EN: What are the four parameters of a quaternion producing no rotation?\n",
       "\n",
       "   FR: _Quels sont les quatre paramètres d'un quaternion ne produisant aucune rotation ?_\n",
       "1. EN: What format would have a point cloud that needs to be transformed by a matrix in $\\SE{3}$ using a single matrix multiplication?\n",
       "\n",
       "   FR: _Quel format aurait un nuage de point devant être transformé par une matrice faisant partie de $\\SE{3}$ en utilisant une seule multiplication matricielle ?_\n",
       "1. EN: What is the difference between an intrinsic and an extrinsic rotation?\n",
       "\n",
       "   FR: _Quel est la différence entre une rotation intrinsèque et extrinsèque ?_\n"
      ],
      "text/plain": [
       "<IPython.core.display.Markdown object>"
      ]
     },
     "metadata": {},
     "output_type": "display_data"
    }
   ],
   "source": [
    "exam.show_all()"
   ]
  },
  {
   "cell_type": "code",
   "execution_count": null,
   "metadata": {},
   "outputs": [],
   "source": []
  }
 ],
 "metadata": {
  "kernelspec": {
   "display_name": "Python 3",
   "language": "python",
   "name": "python3"
  },
  "language_info": {
   "codemirror_mode": {
    "name": "ipython",
    "version": 3
   },
   "file_extension": ".py",
   "mimetype": "text/x-python",
   "name": "python",
   "nbconvert_exporter": "python",
   "pygments_lexer": "ipython3",
   "version": "3.7.6"
  }
 },
 "nbformat": 4,
 "nbformat_minor": 4
}
