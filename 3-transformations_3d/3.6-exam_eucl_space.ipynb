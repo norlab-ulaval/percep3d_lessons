{
 "cells": [
  {
   "cell_type": "markdown",
   "metadata": {
    "slideshow": {
     "slide_type": "slide"
    }
   },
   "source": [
    "<p style=\"text-align: center;font-size: 40pt\">Exam<\\p>\n",
    "<p style=\"text-align: center;font-size: 20pt\">The curse of dimensionality<\\p>"
   ]
  },
  {
   "cell_type": "code",
   "execution_count": null,
   "metadata": {},
   "outputs": [],
   "source": [
    "%run ./scripts/helper_func.py\n",
    "path = \"{0}/lessons/3-transformations_3d/scripts/exam_questions.py\".format(get_root_path())\n",
    "%run $path"
   ]
  },
  {
   "cell_type": "markdown",
   "metadata": {},
   "source": [
    "Hidden custom latex commands here $ \\curvearrowright$\n",
    "\n",
    "----\n",
    "[comment]: <> (General commands)\n",
    "$\\newcommand{\\textcomma}{\\quad\\text{,}}$\n",
    "$\\newcommand{\\textdot}{\\quad\\text{.}}$\n",
    "$\\newcommand{\\vec}[1]{\\overrightarrow{#1}}$\n",
    "$\\newcommand{\\mat}[1]{\\mathbf{#1}}$\n",
    "$\\newcommand{\\frame}[1]{\\mathcal{#1}}$\n",
    "$\\newcommand{\\point}[2][]{{}^{#1}\\mathbf{#2}}$\n",
    "$\\newcommand{\\pointsym}[2][]{{}^{#1}\\boldsymbol{#2}}$\n",
    "$\\newcommand{\\matsym}[1]{\\boldsymbol{#1}}$\n",
    "$\\newcommand{\\real}{\\mathbb{R}}$\n",
    "$\\newcommand{\\bmat}[1]{\\begin{bmatrix}#1\\end{bmatrix}}$\n",
    "$\\newcommand{\\F}[2][]{{}_{#2}^{#1}\\mathscr{F}}$\n",
    "$\\newcommand{\\Fmat}[2][]{{}_{#2}^{#1}\\mat{F}}$\n",
    "$\\newcommand{\\origin}[2][]{{}_{#2}^{#1}\\mat{o}}$\n",
    "$\\newcommand{\\T}[2][]{{}_{#2}^{#1}\\mat{T}}$\n",
    "$\\newcommand{\\t}[2][]{{}_{#2}^{#1}\\mat{t}}$\n",
    "$\\newcommand{\\R}[2][]{{}_{#2}^{#1}\\mat{R}}$\n",
    "$\\newcommand{\\f}{\\vec{\\mathscr{f}}}$\n",
    "$\\newcommand{\\ax}[2][]{{}_{#2}^{#1}\\vec{\\mathscr{x}}}$\n",
    "$\\newcommand{\\ay}[2][]{{}_{#2}^{#1}\\vec{\\mathscr{y}}}$\n",
    "$\\newcommand{\\az}[2][]{{}_{#2}^{#1}\\vec{\\mathscr{z}}}$\n",
    "$\\newcommand{\\aw}[2][]{{}_{#2}^{#1}\\vec{\\mathscr{w}}}$\n",
    "$\\newcommand{\\axi}{\\mathscr{x}}$\n",
    "$\\newcommand{\\ayi}{\\mathscr{y}}$\n",
    "$\\newcommand{\\azi}{\\mathscr{z}}$\n",
    "$\\newcommand{\\awi}{\\mathscr{w}}$\n",
    "$\\newcommand{\\pointx}[2][]{{}^{#1}{#2}_{\\axi}}$\n",
    "$\\newcommand{\\pointy}[2][]{{}^{#1}{#2}_{\\ayi}}$\n",
    "$\\newcommand{\\pointz}[2][]{{}^{#1}{#2}_{\\azi}}$\n",
    "$\\newcommand{\\SO}[1]{\\mathrm{SO}(#1)}$\n",
    "$\\newcommand{\\SE}[1]{\\mathrm{SE}(#1)}$\n",
    "$\\newcommand{\\cin}{\\color{green}{\\in}}$\n",
    "$\\newcommand{\\cnotin}{\\color{red}{\\notin}}$\n",
    "----"
   ]
  },
  {
   "cell_type": "markdown",
   "metadata": {},
   "source": [
    "# General remarks\n",
    "\n",
    "**Expected time**: \n",
    "   - 4 hours of study\n",
    "   - 5 min preparation\n",
    "   - 15 min interview\n",
    "   \n",
    "**Goal**: evaluate the following objectives of the lecture:\n",
    "  - Understand the mathematical foundations for processing point clouds\n",
    "  - Convert between different 3D rotation formalism\n",
    "  - Explain the advantages and disadvantages of the different rotation formalism\n",
    "\n",
    "**Requirements**:\n",
    "1. Module [Welcome to a flat world](../1-transformations_2d/1.0-overview.ipynb)\n",
    "1. Module [How hard can it be in 3D?](3.0-overview.ipynb)\n"
   ]
  },
  {
   "cell_type": "markdown",
   "metadata": {},
   "source": [
    "# Motivation\n",
    "\n",
    "Because the exam is quite different than usual, I'll clarify a bit the motivation and mean of evaluation so it doesn't look like a hack from a heretic professor.\n",
    "The curse of dimensionality is an expression referring to problems arising when applying a method in low-dimensional space to a high-dimensional space, where the complexity explodes.\n",
    "Passing from $\\SE{2}$ to $\\SE{3}$ is one example, but oddly it is not to what I'm referring here in the title of this exam.\n",
    "It is rather hard to evaluate someone's skill when teaching a knowledge-based lecture.\n",
    "The _knowledge space_ increases significantly for advanced topics such as the ones covered in this lecture and simple evaluation tools used in high school seems less applicable."
   ]
  },
  {
   "cell_type": "markdown",
   "metadata": {},
   "source": [
    "## Random sampling\n",
    "\n",
    "For this exam, I'll let you access a pool of questions covering all the lectures on Euclidean space and simply randomly draw three questions from this pool during an interview.\n",
    "Through a discussion, an instructor will determine how advance are your skills and you will be graded accordingly.\n",
    "The trade-off is the exam is quick, but its preparation might be long, depending of your tolerance to risk.\n",
    "Now, judging how advance a skill is seems pretty abstract, but this is why we have educational psychologists.\n",
    "Somewhere in 1956, the [Bloom's taxonomy](https://en.wikipedia.org/wiki/Bloom%27s_taxonomy) was published.\n",
    "This taxonomy proposes categories from concrete to abstract levels of reasoning.\n",
    "The revised version of his taxonomy looks like this:\n",
    "\n",
    "1. **Remembering**: Can you recall concepts?\n",
    "1. **Understanding**: Can you explain concepts?\n",
    "1. **Applying**: Can you reuse concepts in a similar context?\n",
    "1. **Analyzing**: Can you link concepts together?\n",
    "1. **Evaluating$^*$**: Can you make a judgment on concepts and justify it?\n",
    "1. **Creating$^*$**: Can you reorganize concepts to produce something new?\n",
    "\n",
    "$^*$For the purpose of this lecture, we will only focus on the first four elements and relate them to the objective of the lecture."
   ]
  },
  {
   "cell_type": "markdown",
   "metadata": {},
   "source": [
    "# Grading\n",
    "\n",
    "Since you have access to all the questions, simply answering them will get you to the _remembering_ level.\n",
    "Being able to explain your answers will get you to the _understanding_ level.\n",
    "Listing details on how to use the main concept of the question and where it can be used will get you to the _applying_ level.\n",
    "Finally, linking to concepts outside the question will get you to the _analyzing_ level.\n",
    "Of course, since it's a discussion, just dropping empty disconnected buzzwords will not get you far.\n",
    "\n",
    "For each question, you will receive a grade depending on if you can ...\n",
    "\n",
    "- &nbsp;0 %: not remember\n",
    "- 30 %: remember with some help\n",
    "- 50 %: remember autonomously\n",
    "- 60 %: understand with some help\n",
    "- 70 %: understand autonomously\n",
    "- 80 %: apply with some help\n",
    "- 90 %: apply autonomously\n",
    "- 100 %: analyze at a larger scale\n",
    "\n",
    "It is the responsibility of the instructor to ask questions progressively more complex and stop when the student needs too much help."
   ]
  },
  {
   "cell_type": "markdown",
   "metadata": {},
   "source": [
    "# Planning your exam\n",
    "\n",
    "## Between two and seven days in advance\n",
    "\n",
    "Steps:\n",
    "1. Review the lessons and your notes\n",
    "1. Test your microphone and camera access and settings (you can use your phone if you wish)\n",
    "   - go to [Google Meet](https://meet.google.com/) and click _start a meeting_\n",
    "   - before joining the meeting, we will have access to your video stream\n",
    "   - click on the three vertical dots on the lower-right side of your video stream, then Settings\n",
    "   - validate that all accesses are granted and that your settings point to the right microphone and camera\n",
    "   - start a meeting by clicking on the button **Present**, then select **Entire Screen**\n",
    "   - it's normal if you don't see your own screen streaming. \n",
    "     If no pop up appears, you are ready to go.\n",
    "   - close Google Meet\n",
    "1. Test your [connection speed](https://www.google.com/search?q=test+internet+speed)\n",
    "   - a speed above 8 Mb/s should be comfortable"
   ]
  },
  {
   "cell_type": "markdown",
   "metadata": {},
   "source": [
    "## Ten minutes before your appointment\n",
    "\n",
    "Steps:\n",
    "\n",
    "1. Prepare a piece of paper and a pen.\n",
    "   It can be helpful for you to structure your thoughts or to explain something graphically.\n",
    "1. You will receive a link asking you to join a videoconference in your private channel. Start the meeting."
   ]
  },
  {
   "cell_type": "markdown",
   "metadata": {},
   "source": [
    "## During the appointment\n",
    "\n",
    "Steps:\n",
    "\n",
    "1. Few minutes at the beginning will be used to ensure that you understood the instructions and that you are ready\n",
    "1. The instructor will also answer any organization questions you may have\n",
    "1. Once everything is clear, the exam will start:\n",
    "   1. the instructor will share his screen and draw three questions randomly\n",
    "   1. the instructor will copy those questions to your private Slack channel to make sure you can read them properly\n",
    "   1. for the first two minutes, the instructor will quietly observe what you are doing\n",
    "   1. for the next five minutes, you will discuss about the first question\n",
    "   1. for the next five minutes, you will discuss about the second question\n",
    "   1. for the remaining three minutes, you will discuss about the last question\n",
    "1. After 15 min, the evaluation is over.\n",
    "1. Results of the evaluation will be transmitted later during the day."
   ]
  },
  {
   "cell_type": "markdown",
   "metadata": {},
   "source": [
    "# What my exam will look like?\n",
    "\n",
    "During the exam, an instructor will run the following cell block.\n",
    "Three questions will be randomly drawn from a list of questions.\n",
    "You can run the function as much as you want to practice your exam.\n",
    "By far, your best training is to have a colleague asking you those questions, so you can verbalize the answer instead of keeping it in your head."
   ]
  },
  {
   "cell_type": "code",
   "execution_count": null,
   "metadata": {},
   "outputs": [],
   "source": [
    "exam = Exam_eucl_space()\n",
    "exam.random_sampling()"
   ]
  },
  {
   "cell_type": "markdown",
   "metadata": {},
   "source": [
    "# How can I prepare for the exam?\n",
    "\n",
    "I'm a very open person, just run the following code block to see all the questions.\n",
    "There won't be any surprise or hidden questions for the random selection.\n",
    "Recall that those questions are the starting point of a conversation on that topic.\n",
    "Simply memorising the answers will give you a passing grade, not much more. "
   ]
  },
  {
   "cell_type": "code",
   "execution_count": null,
   "metadata": {},
   "outputs": [],
   "source": [
    "exam.show_all()"
   ]
  },
  {
   "cell_type": "code",
   "execution_count": null,
   "metadata": {},
   "outputs": [],
   "source": []
  }
 ],
 "metadata": {
  "kernelspec": {
   "display_name": "Python 3",
   "language": "python",
   "name": "python3"
  },
  "language_info": {
   "codemirror_mode": {
    "name": "ipython",
    "version": 3
   },
   "file_extension": ".py",
   "mimetype": "text/x-python",
   "name": "python",
   "nbconvert_exporter": "python",
   "pygments_lexer": "ipython3",
   "version": "3.7.6"
  }
 },
 "nbformat": 4,
 "nbformat_minor": 4
}
