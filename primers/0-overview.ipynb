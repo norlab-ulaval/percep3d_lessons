{
 "cells": [
  {
   "cell_type": "markdown",
   "metadata": {
    "slideshow": {
     "slide_type": "slide"
    }
   },
   "source": [
    "<p style=\"text-align: center;font-size: 40pt\">Module</p>\n",
    "<p style=\"text-align: center;font-size: 20pt\">Primers on Python, Jupyter and Virtual Machines</p>"
   ]
  },
  {
   "cell_type": "markdown",
   "metadata": {},
   "source": [
    "\n",
    "\n",
    "This module is not mandatory. \n",
    "If you know the concepts listed down there, don't waste your time over here.\n",
    "\n",
    "**For the others, don't worry!**\n",
    "You don't need a background in Computer Science to do this lecture and the goal of this module is not to have you do another undergrad diploma.\n",
    "You will find practical information on the few practical concepts you need to be at ease in through the lecture.\n",
    "\n",
    "1. [How to use JupyterLab](1-lesson_jupyterlab.ipynb)\n",
    "1. [Transiting from Matlab to Python](2-lesson_matlab_python.ipynb)\n",
    "1. [How to install a virtual machine](3-lesson_virtual_machine.ipynb)\n",
    "   "
   ]
  },
  {
   "cell_type": "markdown",
   "metadata": {},
   "source": [
    "&#8635; [Go back to the list of modules](../lecture_overview.ipynb#List-of-modules)"
   ]
  }
 ],
 "metadata": {
  "kernelspec": {
   "display_name": "Python 3",
   "language": "python",
   "name": "python3"
  },
  "language_info": {
   "codemirror_mode": {
    "name": "ipython",
    "version": 3
   },
   "file_extension": ".py",
   "mimetype": "text/x-python",
   "name": "python",
   "nbconvert_exporter": "python",
   "pygments_lexer": "ipython3",
   "version": "3.8.2"
  }
 },
 "nbformat": 4,
 "nbformat_minor": 4
}
