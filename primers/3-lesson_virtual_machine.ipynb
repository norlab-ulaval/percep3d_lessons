{
 "cells": [
  {
   "cell_type": "markdown",
   "metadata": {},
   "source": [
    "<p style=\"text-align: center;font-size: 40pt\">Virtual Machine with Ubuntu and ROS</p>"
   ]
  },
  {
   "cell_type": "markdown",
   "metadata": {},
   "source": [
    "# Overview \n",
    "\n",
    "The practical part of this course involves working with the Robot Operating System (ROS) running on top of the Linux distribution Ubuntu.\n",
    "The exercises expect you to have your own instance of the system to experiment with.\n",
    "There are several possibilities on how to proceed:\n",
    "\n",
    "\n",
    "1. __You have your Windows or Mac installation and no Linux will ever touch your hard drive__\n",
    "\n",
    "   This is actually the most probable scenario.\n",
    "   We have prepared an image of a virtual machine with Ubuntu and ROS already installed and set.\n",
    "   There is a price to pay in performance since the virtualized system cannot run as fast as a real one, yet it will allow you to do all the exercises.\n",
    "   Follow the [instructions from here](#Virtual-machine-download-and-installation).\n",
    "   \n",
    "1. __You have a PC with Linux (Ubuntu or not)__\n",
    "\n",
    "   Even if you have Ubuntu ready, we would like you to install the virtual machine because we installed specific files on it for the lecture.\n",
    "   We tried the installation with VMware and can support you with the steps.\n",
    "   You might encounter an issue with the `vmmon` kernel module, when launching the virtual machine using VMWare.\n",
    "   To fix the issue, follow the steps described [here](https://askubuntu.com/questions/1096052/vmware-15-error-on-ubuntu-18-4-could-not-open-dev-vmmon-no-such-file-or-dire#1145426).\n",
    "   Then, follow the [instructions from here](#Virtual-machine-download-and-installation).\n",
    "   \n"
   ]
  },
  {
   "cell_type": "markdown",
   "metadata": {},
   "source": [
    "# Virtual machine download and installation\n",
    "\n",
    "This section describes how to get the virtual machine up and running.\n",
    "We will use Vmware for the virtualisation.\n",
    "For those wondering why we went for a paid product instead of an open solution like _Oracle VirtualBox_, the reason is that VirtualBox only supports an older version of OpenGL and, as the name of the lecture suggests, we will need good 3D support for the tools we use.\n",
    "\n",
    "__First, download the virtual machine image we prepared for you:__\n",
    "   \n",
    "   - Use this [FTP link](http://fsg-p-ftp01.fsg.ulaval.ca/percep3d_ubuntu.zip) to download a zip file containing the whole virtual machine.\n",
    "   The image is around 9 GB and should take 40 min to download on a 30 Mb/s connection.\n",
    "   \n",
    "__Then, extract the .ZIP file:__\n",
    "\n",
    "   - The extraction operation should only output a .ova file. If you see various other file extensions such as .vmdk, .omf or .ovf, this means that the .ova was extracted as well. If this is the case, we suggest using another extraction tool or re-downloadig the file.\n",
    "   \n",
    "__Then, depending of your host OS, you will need to:__\n",
    "\n",
    "- [install VMware Workstation Player on a Windows or Linux host](#VMware-Workstation-Player-for-Windows-or-Linux), or\n",
    "- [install VMware Fusion on a OSX host](#VMware-Fusion-for-OSX)."
   ]
  },
  {
   "cell_type": "markdown",
   "metadata": {},
   "source": [
    "## VMware Workstation Player for Windows or Linux"
   ]
  },
  {
   "cell_type": "markdown",
   "metadata": {},
   "source": [
    "### Prelude\n",
    "Something good to know is that modern x86 virtualization software depends on hardware technology making the virtual systems reasonably fast. \n",
    "At Intel, they call it [VT-x](https://en.wikipedia.org/wiki/X86_virtualization#Intel_virtualization_(VT-x)), AMD calls it [AMD-v](https://en.wikipedia.org/wiki/X86_virtualization#AMD_virtualization_(AMD-V)).\n",
    "You will have to turn it on in the BIOS, otherwise the virtual machine software will complain, or run slow, or not run at all.\n",
    "These screenshots demonstrate how it is done on a Lenovo laptop with an Intel CPU:\n",
    "\n",
    "<p align=\"middle\">\n",
    "<img src=\"virtual_machine/figures/bios1.jpg\" width=\"49%\" />\n",
    "<img src=\"virtual_machine/figures/bios2.jpg\" width=\"49%\" />\n",
    "</p>\n",
    "\n",
    "Look for something similar in the BIOS of your machine."
   ]
  },
  {
   "cell_type": "markdown",
   "metadata": {},
   "source": [
    "### VMware Workstation Player\n",
    "\n",
    "Here are the steps for the installation: \n",
    "\n",
    "1. __Download and install the _VMware Workstation Player_ intended for your system__\n",
    "\n",
    "   Follow the offocial VMware link to download and install the [VMware Workstation Player](https://www.vmware.com/ca/products/workstation-player/workstation-player-evaluation.html).\n",
    "      \n",
    "2. __Open and run the virtual machine__\n",
    "\n",
    "    You are almost there, choose _Open a Virtual Machine_:\n",
    "    \n",
    "    <img src=\"virtual_machine/figures/vmware1_player.png\" width=\"50%\"/>\n",
    "\n",
    "    Locate the file you have downloaded:\n",
    "    \n",
    "    <img src=\"virtual_machine/figures/vmware2_pro.jpg\" width=\"50%\"/>\n",
    "    \n",
    "    Choose the location to extract the machine image to, the defaults work fine:\n",
    "    \n",
    "    <img src=\"virtual_machine/figures/vmware2b_pro.jpg\" width=\"50%\"/>\n",
    "    \n",
    "    Go make yourself a coffee or a cup of tea. If there is a warning message about the machine specifications mismatch during this process, choose \"Retry\":\n",
    "    \n",
    "    <img src=\"virtual_machine/figures/vmware2c_pro.jpg\" width=\"50%\"/>\n",
    "    \n",
    "    Now you can finally boot the machine:\n",
    "    \n",
    "    <img src=\"virtual_machine/figures/vmware3_player.png\" width=\"50%\"/>"
   ]
  },
  {
   "cell_type": "markdown",
   "metadata": {},
   "source": [
    "## VMware Fusion for OSX\n",
    "\n",
    "Here are the steps for installation: \n",
    "\n",
    "1. __Download and install the _VMware Fusion_ intended for your system__\n",
    "\n",
    "    Laval University offers free licenses for VWware software. Follow the instructions from Service LiberT over here. \n",
    "    When facing the product list, select VMware Fusion 12.X Pro, which should look similar to this (with the current version):\n",
    "   \n",
    "   <img src=\"virtual_machine/macos/download_fusion.jpg\" width=\"50%\"/>\n",
    "   \n",
    "1. __Install and open VMware Fusion__.\n",
    "   The first time you open VMware Fusion, it should look like this:\n",
    "   <img src=\"virtual_machine/macos/step1.png\" width=\"50%\"/>\n",
    "   \n",
    "   You can click on __import an existing virtual machine__.\n",
    "   Select the file with the extension `.ova` you've just downloaded.\n",
    "\n",
    "1. Select a folder where Ubuntu will be installed and the image uncompressed.\n",
    "   It can be anywhere.\n",
    "   I guess it's better to have it in a place where you keep your files for the lecture.\n",
    "   <img src=\"virtual_machine/macos/step2.png\" width=\"50%\"/>\n",
    "   \n",
    "1. The installation should take 5 minutes.\n",
    "   <img src=\"virtual_machine/macos/step3.png\" width=\"50%\"/>\n",
    "   \n",
    "1. You don't need to customize any setting, so you can just click _Finish_.\n",
    "   <img src=\"virtual_machine/macos/step4.png\" width=\"50%\"/>\n",
    "\n",
    "1. Your VM will boot automatically once you're done.\n",
    "You can go ahead and put it full screen if you wish.\n",
    "Drag & drop files and copy & paste between your host and Ubuntu are activated.\n",
    "\n",
    "1. [optional] You can delete the `.ova` extension if you want.\n",
    "It is just the compressed image of the operating system you just installed."
   ]
  },
  {
   "cell_type": "markdown",
   "metadata": {},
   "source": [
    "# Using the virtual machine\n",
    "\n",
    "There is already an account for you with administrator rights with the username `Student Percept3D`. \n",
    "The password is `lidars`.\n",
    "Familiarize yourself with the virtual machine controls, for example how to switch to full screen.\n",
    "Also, we have set the operation memory to be 4 GB for the virtual machine.\n",
    "If you happen to have plenty on your host machine, you can increase the amount in the virtual machine settings.\n",
    "    \n",
    "<img src=\"virtual_machine/figures/vmware4_pro.jpg\" width=\"50%\"/>\n",
    "    \n",
    "After successfully logging-in, you can run graphical benchmarks to see if everything works alright:\n",
    "Open a terminal by pressing `CTRL+ALT+T`, type\n",
    "    \n",
    "```bash\n",
    "$ sl\n",
    "``` \n",
    "    \n",
    "and press enter.\n",
    "If you are already impressed, brace yourself for this:\n",
    "    \n",
    "```bash\n",
    "$ glxgears\n",
    "```\n",
    "\n",
    "If you don't see the gears running smoothly, tell an instructor as soon as possible.\n",
    "This means that there is a problem with the 3D acceleration an you will have problems viewing 3D point clouds later on.\n",
    "Otherwise, you are ready to go!"
   ]
  },
  {
   "cell_type": "markdown",
   "metadata": {},
   "source": [
    "# Remarks on the virtual machine\n",
    "\n",
    "The system is a freshly installed Ubuntu 18.04 together with the ROS Melodic, which will be used for some exercises, and few other useful programs (e.g., `vim`, `mc`, `htop`, `sl`).\n",
    "In the home folder `/home/student`, you will find a folder containing the _Paraview_ scientific data visualizer, useful for point cloud visualization.\n",
    "We have already prepared a link to the executable _Paraview_ binary, it is sufficient to type `paraview` in the terminal to run it.\n",
    "\n",
    "Moreover, there is an empty folder `percep3d_data` intended for datasets that we will provide you for the exercises.\n",
    "The folder `percep3d_workspace` contains ROS software packages that will come handy during the ROS lessons and the mapping lessons.\n",
    "\n",
    "No worries, you will be guided through these tools and folders step by step during the exercises.\n",
    "\n",
    "Other useful tips for Ubuntu newbies:\n",
    "- New terminal window: `CTRL+ALT+T`\n",
    "- New tab in the terminal window: `CTRL+SHIFT+T`\n",
    "- Quick terminal shutdown (no process running in that terminal): `CTRL+D` (sends the end-of-file symbol)\n",
    "- Usual way to kill a process running in a terminal: `CTRL+C` \n",
    "  - If that does not work, some accept `q` \n",
    "    - If that still does not kill it, try `CTRL+\\` which sends a stronger signal to terminate\n",
    "      - You have a strong-willed process there, I must say. Close the whole terminal window.\n",
    "- Copy text from a terminal: select text and `CTRL+SHIFT+C`\n",
    "- Paste into a terminal: `CTRL+SHIFT+V`\n",
    "- Copy text and paste it right back to the same terminal: select text and press middle mouse button"
   ]
  },
  {
   "cell_type": "markdown",
   "metadata": {},
   "source": [
    "&#8635; [Go back to the list of primers](./0-overview.ipynb)"
   ]
  }
 ],
 "metadata": {
  "kernelspec": {
   "display_name": "Python 3",
   "language": "python",
   "name": "python3"
  },
  "language_info": {
   "codemirror_mode": {
    "name": "ipython",
    "version": 3
   },
   "file_extension": ".py",
   "mimetype": "text/x-python",
   "name": "python",
   "nbconvert_exporter": "python",
   "pygments_lexer": "ipython3",
   "version": "3.7.6"
  }
 },
 "nbformat": 4,
 "nbformat_minor": 4
}
