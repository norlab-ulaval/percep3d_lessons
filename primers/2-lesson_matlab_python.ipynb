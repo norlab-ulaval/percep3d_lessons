{
 "cells": [
  {
   "cell_type": "markdown",
   "metadata": {},
   "source": [
    "<p style=\"text-align: center;font-size: 40pt\">Transition from Matlab to Python</p>"
   ]
  },
  {
   "cell_type": "markdown",
   "metadata": {},
   "source": [
    "Requirement:\n",
    "- [Primer on JupyterLab](1-lesson_jupyterlab.ipynb)\n",
    "\n",
    "If you're used to Matlab and stating this lecture without knowledge on Python, well fear not!\n",
    "You are not the first one having to learn it rapidly.\n",
    "For this lecture, you will not be asked to develop an application using Python, just to use its scripting capacity to better understand the theory, just like Matlab.\n",
    "\n",
    "Start by reading carefully the official tutorial [NumPy for Matlab users](https://docs.scipy.org/doc/numpy/user/numpy-for-matlab-users.html).\n",
    "\n",
    "In Python, modules need to be loaded to access some of the mathematic capabilities we need.\n",
    "In this lecture, the following names will be used.\n",
    "\n",
    "```python\n",
    "import numpy as np\n",
    "import matplotlib.pyplot as plt\n",
    "```\n",
    "For example, this means that to call a fonctionnality from `numpy`, you will need to do `np.afunction()`.\n",
    "The same apply for the other modules.\n",
    "\n",
    "For plotting, we use `matplotlib`. \n",
    "A good starting point is this [official introduction](https://matplotlib.org/3.2.1/tutorials/introductory/usage.html)."
   ]
  },
  {
   "cell_type": "markdown",
   "metadata": {},
   "source": [
    "# Examples\n",
    "\n",
    "Here is a quick example to play with:"
   ]
  },
  {
   "cell_type": "code",
   "execution_count": 12,
   "metadata": {},
   "outputs": [],
   "source": [
    "# run this header first to load packages\n",
    "import numpy as np\n",
    "import matplotlib.pyplot as plt\n",
    "\n",
    "%run ../../common/scripts/style.py"
   ]
  },
  {
   "cell_type": "code",
   "execution_count": 13,
   "metadata": {},
   "outputs": [
    {
     "name": "stdout",
     "output_type": "stream",
     "text": [
      "[2.3 8.4]\n",
      "(2,)\n"
     ]
    }
   ],
   "source": [
    "# Building a vector\n",
    "a = np.array([2.3,8.4])\n",
    "\n",
    "print(a)\n",
    "print(a.shape)"
   ]
  },
  {
   "cell_type": "code",
   "execution_count": 14,
   "metadata": {},
   "outputs": [
    {
     "name": "stdout",
     "output_type": "stream",
     "text": [
      "[[1 2]\n",
      " [3 4]]\n",
      "(2, 2)\n"
     ]
    }
   ],
   "source": [
    "# Building a matrix\n",
    "A = np.array([[1,2],\n",
    "              [3,4]])\n",
    "print(A)\n",
    "print(A.shape)"
   ]
  },
  {
   "cell_type": "code",
   "execution_count": 15,
   "metadata": {},
   "outputs": [
    {
     "name": "stdout",
     "output_type": "stream",
     "text": [
      "[[ 0.  1.  2.  3.  4.  5.  6.  7.  8.  9. 10.]\n",
      " [10.  9.  8.  7.  6.  5.  4.  3.  2.  1.  0.]]\n"
     ]
    }
   ],
   "source": [
    "# Building a larger matrix\n",
    "B = np.array([[0., 1., 2., 3., 4., 5., 6., 7., 8., 9., 10.],\n",
    "              [10., 9., 8., 7., 6., 5., 4., 3., 2., 1., 0.]])\n",
    "print(B)"
   ]
  },
  {
   "cell_type": "code",
   "execution_count": 16,
   "metadata": {},
   "outputs": [
    {
     "name": "stdout",
     "output_type": "stream",
     "text": [
      "[ 0.  1.  2.  3.  4.  5.  6.  7.  8.  9. 10.]\n"
     ]
    }
   ],
   "source": [
    "# Selecting the first row\n",
    "print(B[0,:])"
   ]
  },
  {
   "cell_type": "code",
   "execution_count": 17,
   "metadata": {},
   "outputs": [
    {
     "name": "stdout",
     "output_type": "stream",
     "text": [
      "[ 0. 10.]\n"
     ]
    }
   ],
   "source": [
    "# Selecting the first column\n",
    "print(B[:,0])"
   ]
  },
  {
   "cell_type": "code",
   "execution_count": 18,
   "metadata": {},
   "outputs": [
    {
     "name": "stdout",
     "output_type": "stream",
     "text": [
      "[[20. 19. 18. 17. 16. 15. 14. 13. 12. 11. 10.]\n",
      " [40. 39. 38. 37. 36. 35. 34. 33. 32. 31. 30.]]\n"
     ]
    }
   ],
   "source": [
    "# matrix mutiplication\n",
    "C = A @ B\n",
    "\n",
    "print(C)"
   ]
  },
  {
   "cell_type": "code",
   "execution_count": 19,
   "metadata": {},
   "outputs": [
    {
     "name": "stdout",
     "output_type": "stream",
     "text": [
      "[[ 2.  -4. ]\n",
      " [ 1.5  0.4]]\n"
     ]
    }
   ],
   "source": [
    "# element-wise mutiplication (be careful!)\n",
    "D = np.array([[2.0, -2.0],\n",
    "              [0.5,  0.1]])\n",
    "E = A * D\n",
    "\n",
    "print(E)"
   ]
  },
  {
   "cell_type": "code",
   "execution_count": 20,
   "metadata": {},
   "outputs": [
    {
     "data": {
      "text/plain": [
       "<matplotlib.legend.Legend at 0x7fd074bbc9b0>"
      ]
     },
     "execution_count": 20,
     "metadata": {},
     "output_type": "execute_result"
    },
    {
     "data": {
      "image/png": "[encoded data removed]",
      "text/plain": [
       "<Figure size 360x360 with 1 Axes>"
      ]
     },
     "metadata": {},
     "output_type": "display_data"
    }
   ],
   "source": [
    "# Basic plot for lines\n",
    "\n",
    "plt.plot(C[0,:])\n",
    "plt.plot(C[1,:])\n",
    "plt.plot(C[0,:], C[1,:])\n",
    "plt.legend(['First row', 'Second row', 'xy coordinates'])"
   ]
  },
  {
   "cell_type": "code",
   "execution_count": 21,
   "metadata": {},
   "outputs": [
    {
     "data": {
      "text/plain": [
       "<matplotlib.collections.PathCollection at 0x7fd074b316d8>"
      ]
     },
     "execution_count": 21,
     "metadata": {},
     "output_type": "execute_result"
    },
    {
     "data": {
      "image/png": "[encoded data removed]",
      "text/plain": [
       "<Figure size 360x360 with 1 Axes>"
      ]
     },
     "metadata": {},
     "output_type": "display_data"
    }
   ],
   "source": [
    "# Basic scatter for points\n",
    "\n",
    "plt.scatter(C[0,:], C[1,:])"
   ]
  },
  {
   "cell_type": "markdown",
   "metadata": {},
   "source": [
    "# Personal notes\n",
    "\n",
    "Use these free cells (and add as much as you need) to try things and keep track of useful pieces of code you will need."
   ]
  },
  {
   "cell_type": "code",
   "execution_count": null,
   "metadata": {},
   "outputs": [],
   "source": []
  },
  {
   "cell_type": "code",
   "execution_count": null,
   "metadata": {},
   "outputs": [],
   "source": []
  },
  {
   "cell_type": "code",
   "execution_count": null,
   "metadata": {},
   "outputs": [],
   "source": []
  },
  {
   "cell_type": "code",
   "execution_count": null,
   "metadata": {},
   "outputs": [],
   "source": []
  },
  {
   "cell_type": "code",
   "execution_count": null,
   "metadata": {},
   "outputs": [],
   "source": []
  }
 ],
 "metadata": {
  "kernelspec": {
   "display_name": "Python 3",
   "language": "python",
   "name": "python3"
  },
  "language_info": {
   "codemirror_mode": {
    "name": "ipython",
    "version": 3
   },
   "file_extension": ".py",
   "mimetype": "text/x-python",
   "name": "python",
   "nbconvert_exporter": "python",
   "pygments_lexer": "ipython3",
   "version": "3.8.2"
  }
 },
 "nbformat": 4,
 "nbformat_minor": 4
}
