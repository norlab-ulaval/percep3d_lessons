{
 "cells": [
  {
   "cell_type": "markdown",
   "metadata": {},
   "source": [
    "<p style=\"text-align: center;font-size: 40pt\">JupyterLab</p>\n"
   ]
  },
  {
   "cell_type": "markdown",
   "metadata": {},
   "source": [
    "# Overview \n",
    "\n",
    "Objectives:\n",
    "\n",
    "1. Get you started with JupyterLab and Notebooks\n",
    "1. Give some tips specific to this lecture\n",
    "1. Provide extra resources to contextualize tools we use"
   ]
  },
  {
   "cell_type": "markdown",
   "metadata": {},
   "source": [
    "# The basis\n",
    "\n",
    "Let's start with the absolute basis.\n",
    "Notebooks are made of cells, some of them are for text, like that one, others are bits of code that can be executed.\n",
    "\n",
    "Click on the following cell and then press `ctrl-enter` to execute the code and load a video.\n",
    "Once the video is there, watch it...\n",
    "It's a great general introduction to JupyterLab and Markdown."
   ]
  },
  {
   "cell_type": "code",
   "execution_count": null,
   "metadata": {},
   "outputs": [],
   "source": [
    "from IPython.display import YouTubeVideo\n",
    "YouTubeVideo('A5YyoCKxEOU', width=720, height=480)"
   ]
  },
  {
   "cell_type": "markdown",
   "metadata": {},
   "source": [
    "# Tips specifically for the lecture \n",
    "\n",
    "Content:\n",
    "1. navigation\n",
    "1. table of content\n",
    "1. side video\n",
    "1. split screen for exercises\n",
    "1. `ctrl-enter` and `enter` for quick testing\n",
    "1. show contextual help\n",
    "1. stop the kernel (e.g., stop infinite loop)\n",
    "1. test for global variables"
   ]
  },
  {
   "cell_type": "code",
   "execution_count": null,
   "metadata": {},
   "outputs": [],
   "source": [
    "from IPython.display import YouTubeVideo\n",
    "YouTubeVideo('F_ylDEL8IU0', width=720, height=480)"
   ]
  },
  {
   "cell_type": "markdown",
   "metadata": {},
   "source": [
    "# Supplementary information \n",
    "\n",
    "A more technical introduction given in a conference:"
   ]
  },
  {
   "cell_type": "code",
   "execution_count": null,
   "metadata": {},
   "outputs": [],
   "source": [
    "from IPython.display import YouTubeVideo\n",
    "YouTubeVideo('ctOM-Gza04Y', width=720, height=480)"
   ]
  },
  {
   "cell_type": "markdown",
   "metadata": {},
   "source": [
    "&#8635; [Go back to the list of primers](./0-overview.ipynb)"
   ]
  }
 ],
 "metadata": {
  "kernelspec": {
   "display_name": "Python 3",
   "language": "python",
   "name": "python3"
  },
  "language_info": {
   "codemirror_mode": {
    "name": "ipython",
    "version": 3
   },
   "file_extension": ".py",
   "mimetype": "text/x-python",
   "name": "python",
   "nbconvert_exporter": "python",
   "pygments_lexer": "ipython3",
   "version": "3.7.6"
  }
 },
 "nbformat": 4,
 "nbformat_minor": 4
}
