{
 "cells": [
  {
   "cell_type": "markdown",
   "metadata": {},
   "source": [
    "<p style=\"text-align: center;font-size: 40pt\">Virtual Machine with Ubuntu and ROS</p>"
   ]
  },
  {
   "cell_type": "markdown",
   "metadata": {},
   "source": [
    "# Overview \n",
    "\n",
    "The practical part of this course involves working with the Robot Operating System (ROS) running on top of the Linux distribution Ubuntu.\n",
    "The exercises expect you to have your own instance of the system to experiment with.\n",
    "There are several possibilities on how to proceed:\n",
    "\n",
    "\n",
    "1. __You have your Windows or Mac installation and no Linux will ever touch your hard drive__\n",
    "\n",
    "   This is actually the most probable scenario.\n",
    "   We have prepared an image of a virtual machine with Ubuntu and ROS already installed and set.\n",
    "   There is a price to pay in performance since the virtualized system cannot run as fast as a real one, yet it will allow you to do all the exercises.\n",
    "   Follow the [instructions from here](#Virtual-machine-download-and-installation).\n",
    "   \n",
    "1. __You have a PC with Linux (Ubuntu or not)__\n",
    "\n",
    "   Even if you have Ubuntu ready, we would like you to install the virtual machine because we installed specific files on it for the lecture.\n",
    "   We tried the installation with VMware and can support you with the steps.\n",
    "   You might encounter an issue with the `vmmon` kernel module, when launching the virtual machine using VMWare.\n",
    "   To fix the issue, follow the steps described [here](https://askubuntu.com/questions/1096052/vmware-15-error-on-ubuntu-18-4-could-not-open-dev-vmmon-no-such-file-or-dire#1145426).\n",
    "   Then, follow the [instructions from here](#Virtual-machine-download-and-installation).\n",
    "   \n"
   ]
  },
  {
   "cell_type": "markdown",
   "metadata": {},
   "source": [
    "# Virtual machine download and installation\n",
    "\n",
    "This section describes how to get the virtual machine up and running.\n",
    "We will use Vmware for the virtualisation.\n",
    "For those wondering why we went for a paid product instead of an open solution like _Oracle VirtualBox_, the reason is that VirtualBox only supports an older version of OpenGL and, as the name of the lecture suggests, we will need good 3D support for the tools we use.\n",
    "\n",
    "\n",
    "\n",
    "__First, verify that you have enough space__\n",
    "To install the virtual machine of the class you need at least 40 GB: \n",
    "* 10 GB for the zip of the image \n",
    "* 10 GB to extract the virtual machine from the .zip \n",
    "* 20 GB when the virtual machine is loaded in the VMware.  \n",
    "\n",
    "__Then download the virtual machine image we prepared for you:__\n",
    "   \n",
    "   - Use this [link](http://norlab.s3.valeria.science/percep3d/percep3d_ubuntu.zip?AWSAccessKeyId=XMBLP3A0338XN5LASKV2&Expires=2287756789&Signature=gqpWNF9uNsBC7tGlpn41QveftkA%3D) to download a zip file containing the whole virtual machine.\n",
    "   The image is around 9 GB and should take 40 min to download on a 30 Mb/s connection.\n",
    "   \n",
    "__Then, extract the .ZIP file:__\n",
    "\n",
    "   - The extraction operation should only output a .ova file. If you see various other file extensions such as .vmdk, .omf or .ovf, this means that the .ova was extracted as well. If this is the case, we suggest using another extraction tool or re-downloadig the file.\n",
    "\n",
    "__Then you will need to:__\n",
    "\n",
    "- [](## A Download the VMware installer) \n",
    "\n",
    "\n",
    "__Then, depending of your host OS, you will need to:__\n",
    "- [A - Download the VMware installer](##-A---Download-the-VMware-installer).\n",
    "- [B - Install-VMware](##-B---Install-VMware)\n",
    "- [C - Importing the virtual machine in VMware](##-C---Importing-the-virtual-machine-in-VMware)\n"
   ]
  },
  {
   "cell_type": "markdown",
   "metadata": {},
   "source": [
    "\n",
    "### Prelude for Windows or Linux\n",
    "Something good to know is that modern x86 virtualization software depends on hardware technology making the virtual systems reasonably fast. \n",
    "At Intel, they call it [VT-x](https://en.wikipedia.org/wiki/X86_virtualization#Intel_virtualization_(VT-x)), AMD calls it [AMD-v](https://en.wikipedia.org/wiki/X86_virtualization#AMD_virtualization_(AMD-V)).\n",
    "You will have to turn it on in the BIOS, otherwise the virtual machine software will complain, or run slow, or not run at all.\n",
    "These screenshots demonstrate how it is done on a Lenovo laptop with an Intel CPU:\n",
    "\n",
    "<p align=\"middle\">\n",
    "<img src=\"virtual_machine/figures/bios1.jpg\" width=\"49%\" />\n",
    "<img src=\"virtual_machine/figures/bios2.jpg\" width=\"49%\" />\n",
    "</p>\n",
    "\n",
    "Look for something similar in the BIOS of your machine."
   ]
  },
  {
   "cell_type": "markdown",
   "metadata": {},
   "source": [
    "## A - Download the VMware installer"
   ]
  },
  {
   "cell_type": "markdown",
   "metadata": {},
   "source": [
    "\n",
    "\n",
    "1. Create yourself a broadcom account using this [link](https://profile.broadcom.com/web/registration).\n",
    "2. Click on that [link](https://support.broadcom.com/group/ecx/downloads) and login, to arrive on the following page: \n",
    "\n",
    "<img src=\"virtual_machine/figures/broadcom.png\" width=\"49%\" />\n",
    "\n",
    "3. Click on the __HERE__ text to get to the free software page. \n",
    "4. If you are on Windows or Linux: find and click on the _VMware Workstation Pro_ . Select the Linux or the Windows version depending on your OS. Select the latest version. \n",
    "5. If you are on Mac, find and click on VMware Fusion. Select the latest version.   \n",
    "6. Accept the terms and download VMware by clicking in the download icon (square green in the image below).\n",
    "\n",
    "<img src=\"virtual_machine/figures/broadcom_download.png\" width=\"49%\" />\n",
    " "
   ]
  },
  {
   "cell_type": "markdown",
   "metadata": {},
   "source": [
    "## B - Install VMware"
   ]
  },
  {
   "cell_type": "markdown",
   "metadata": {},
   "source": [
    "### For Linux, to install the VMware .bundle you need to:\n",
    "\n",
    "7. add permission to the .bundle file. You can use the folowing command lines but you need to **replace the `<`name of the bundle`>` by the actual name of your .bundle file**.  \n",
    "    ```chmod a+x <name of the bundle>```\n",
    "\n",
    "8.  execute the bundle file using sudo if necessary. \n",
    "    ```sudo ./<name of the bundle>```\n",
    "\n",
    "9. If you have a Gnu error message (see image below) when executing the file, you can fix it by redownloading the gnu compiler then try re-executing the code.\n",
    "\n",
    " ```sudo apt install gcc-12 libgcc-12-dev```\n",
    "     <img src=\"virtual_machine/figures/gnu_error.png\" width=\"49%\" />\n"
   ]
  },
  {
   "cell_type": "markdown",
   "metadata": {},
   "source": [
    "### For Windows: \n",
    "7. Execute the downloaded VMware executable and follow the steps.    \n"
   ]
  },
  {
   "cell_type": "markdown",
   "metadata": {},
   "source": [
    "### For Mac user, here are the step to install the .dmg file:  \n",
    "\n",
    "7. Double-click the `.dmg` file. This will mount the disk image and open a new Finder window showing its contents.\n",
    "8. In the window, you’ll typically see the app icon and a shortcut to the **Applications** folder. Drag the app icon into the **Applications** folder.\n",
    "\n",
    "9. After copying the app, eject the mounted disk image by Right-clicking the mounted disk on your desktop or in Finder’s sidebar and selecting **Eject**.\n",
    "\n",
    "10. Go to the **Applications** folder and double-click the app to open it. The first time you open it, macOS may warn you it’s from the internet — click **Open** if you trust the source."
   ]
  },
  {
   "cell_type": "markdown",
   "metadata": {},
   "source": [
    "## C - Importing the virtual machine in VMware"
   ]
  },
  {
   "cell_type": "markdown",
   "metadata": {},
   "source": [
    "### Importing the virtual machine in VMware Workstation Player (Linux and Windows)\n",
    "\n",
    "Here are the steps for the installation of the virtual machine in VMware: \n",
    "\n",
    "      \n",
    "1. __Open and run the virtual machine__\n",
    "\n",
    "    You are almost there, choose _Open a Virtual Machine_:\n",
    "    \n",
    "    <img src=\"virtual_machine/figures/vmware1_player.png\" width=\"50%\"/>\n",
    "\n",
    "    Locate the file you have downloaded:\n",
    "    \n",
    "    <img src=\"virtual_machine/figures/vmware2_pro.jpg\" width=\"50%\"/>\n",
    "    \n",
    "    Choose the location to extract the machine image to, the defaults work fine:\n",
    "    \n",
    "    <img src=\"virtual_machine/figures/vmware2b_pro.jpg\" width=\"50%\"/>\n",
    "    \n",
    "    Go make yourself a coffee or a cup of tea. If there is a warning message about the machine specifications mismatch during this process, choose \"Retry\":\n",
    "    \n",
    "    <img src=\"virtual_machine/figures/vmware2c_pro.jpg\" width=\"50%\"/>\n",
    "    \n",
    "    Now you can finally boot the machine:\n",
    "    \n",
    "    <img src=\"virtual_machine/figures/vmware3_player.png\" width=\"50%\"/>"
   ]
  },
  {
   "cell_type": "markdown",
   "metadata": {},
   "source": [
    "## Importing the virtual machine in VMware Fusion for OSX \n",
    "\n",
    "Here are the steps to install the virtual machine in VMware Fusion: \n",
    "   \n",
    "1. The first time you open VMware Fusion, it should look like this:\n",
    "   <img src=\"virtual_machine/macos/step1.png\" width=\"50%\"/>\n",
    "   \n",
    "   You can click on __import an existing virtual machine__.\n",
    "   Select the file with the extension `.ova` you've just downloaded.\n",
    "\n",
    "1. Select a folder where Ubuntu will be installed and the image uncompressed.\n",
    "   It can be anywhere.\n",
    "   I guess it's better to have it in a place where you keep your files for the lecture.\n",
    "   <img src=\"virtual_machine/macos/step2.png\" width=\"50%\"/>\n",
    "   \n",
    "1. The installation should take 5 minutes.\n",
    "   <img src=\"virtual_machine/macos/step3.png\" width=\"50%\"/>\n",
    "   \n",
    "1. You don't need to customize any setting, so you can just click _Finish_.\n",
    "   <img src=\"virtual_machine/macos/step4.png\" width=\"50%\"/>\n",
    "\n",
    "1. Your VM will boot automatically once you're done.\n",
    "You can go ahead and put it full screen if you wish.\n",
    "Drag & drop files and copy & paste between your host and Ubuntu are activated.\n",
    "\n",
    "1. [optional] You can delete the `.ova` extension if you want.\n",
    "It is just the compressed image of the operating system you just installed."
   ]
  },
  {
   "cell_type": "markdown",
   "metadata": {},
   "source": [
    "# Using the virtual machine\n",
    "\n",
    "There is already an account for you with administrator rights with the username `Student Percept3D`. \n",
    "The password is `lidars`.\n",
    "Familiarize yourself with the virtual machine controls, for example how to switch to full screen.\n",
    "Also, we have set the operation memory to be 4 GB for the virtual machine.\n",
    "If you happen to have plenty on your host machine, you can increase the amount in the virtual machine settings.\n",
    "    \n",
    "<img src=\"virtual_machine/figures/vmware4_pro.jpg\" width=\"50%\"/>\n",
    "    \n",
    "After successfully logging-in, you can run graphical benchmarks to see if everything works alright:\n",
    "Open a terminal by pressing `CTRL+ALT+T`, type\n",
    "    \n",
    "```bash\n",
    "$ sl\n",
    "``` \n",
    "    \n",
    "and press enter.\n",
    "If you are already impressed, brace yourself for this:\n",
    "    \n",
    "```bash\n",
    "$ glxgears\n",
    "```\n",
    "\n",
    "If you don't see the gears running smoothly, tell an instructor as soon as possible.\n",
    "This means that there is a problem with the 3D acceleration an you will have problems viewing 3D point clouds later on.\n",
    "Otherwise, you are ready to go!"
   ]
  },
  {
   "cell_type": "markdown",
   "metadata": {},
   "source": [
    "# Remarks on the virtual machine\n",
    "\n",
    "The system is a freshly installed Ubuntu 18.04 together with the ROS Melodic, which will be used for some exercises, and few other useful programs (e.g., `vim`, `mc`, `htop`, `sl`).\n",
    "In the home folder `/home/student`, you will find a folder containing the _Paraview_ scientific data visualizer, useful for point cloud visualization.\n",
    "We have already prepared a link to the executable _Paraview_ binary, it is sufficient to type `paraview` in the terminal to run it.\n",
    "\n",
    "Moreover, there is an empty folder `percep3d_data` intended for datasets that we will provide you for the exercises.\n",
    "The folder `percep3d_workspace` contains ROS software packages that will come handy during the ROS lessons and the mapping lessons.\n",
    "\n",
    "No worries, you will be guided through these tools and folders step by step during the exercises.\n",
    "\n",
    "Other useful tips for Ubuntu newbies:\n",
    "- New terminal window: `CTRL+ALT+T`\n",
    "- New tab in the terminal window: `CTRL+SHIFT+T`\n",
    "- Quick terminal shutdown (no process running in that terminal): `CTRL+D` (sends the end-of-file symbol)\n",
    "- Usual way to kill a process running in a terminal: `CTRL+C` \n",
    "  - If that does not work, some accept `q` \n",
    "    - If that still does not kill it, try `CTRL+\\` which sends a stronger signal to terminate\n",
    "      - You have a strong-willed process there, I must say. Close the whole terminal window.\n",
    "- Copy text from a terminal: select text and `CTRL+SHIFT+C`\n",
    "- Paste into a terminal: `CTRL+SHIFT+V`\n",
    "- Copy text and paste it right back to the same terminal: select text and press middle mouse button"
   ]
  },
  {
   "cell_type": "markdown",
   "metadata": {},
   "source": [
    "&#8635; [Go back to the list of primers](./0.0-overview.ipynb)"
   ]
  }
 ],
 "metadata": {
  "kernelspec": {
   "display_name": "Python 3",
   "language": "python",
   "name": "python3"
  },
  "language_info": {
   "codemirror_mode": {
    "name": "ipython",
    "version": 3
   },
   "file_extension": ".py",
   "mimetype": "text/x-python",
   "name": "python",
   "nbconvert_exporter": "python",
   "pygments_lexer": "ipython3",
   "version": "3.7.6"
  }
 },
 "nbformat": 4,
 "nbformat_minor": 4
}
