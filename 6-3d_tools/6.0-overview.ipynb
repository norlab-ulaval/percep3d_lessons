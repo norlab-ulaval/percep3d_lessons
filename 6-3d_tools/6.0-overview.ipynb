{
 "cells": [
  {
   "cell_type": "markdown",
   "metadata": {
    "slideshow": {
     "slide_type": "slide"
    }
   },
   "source": [
    "<p style=\"text-align: center;font-size: 40pt\">Module 6</p>\n",
    "<p style=\"text-align: center;font-size: 20pt\">3D tools</p>"
   ]
  },
  {
   "cell_type": "markdown",
   "metadata": {},
   "source": [
    "# Overview\n",
    "\n",
    "Requirements:\n",
    "\n",
    "- [Primer on virtual machine](../primers/3-lesson_virtual_machine.ipynb)\n",
    "\n",
    "Objectives:\n",
    "\n",
    "- manipulate and explore 3D point clouds\n",
    "\n",
    "Time planning:\n",
    "   - Expect a total of one hour\n",
    "   - 15 % for installation\n",
    "   - 75 % for a video tutorial"
   ]
  },
  {
   "cell_type": "markdown",
   "metadata": {},
   "source": [
    "# Activity\n",
    "\n",
    "It cannot be lighter than this.\n",
    "Here is the practical lesson:\n",
    "\n",
    "1. [3D viewers](1-lesson-3d-viewers.ipynb)\n"
   ]
  },
  {
   "cell_type": "markdown",
   "metadata": {},
   "source": [
    "&#8635; [Go back to the list of modules](../modules_overview.ipynb)"
   ]
  },
  {
   "cell_type": "markdown",
   "metadata": {},
   "source": [
    "<p style=\"text-align:center\">\n",
    "<img src=\"../../common/images/module_6.jpeg\" width=100%/>\n",
    "</p>"
   ]
  }
 ],
 "metadata": {
  "kernelspec": {
   "display_name": "Python 3",
   "language": "python",
   "name": "python3"
  },
  "language_info": {
   "codemirror_mode": {
    "name": "ipython",
    "version": 3
   },
   "file_extension": ".py",
   "mimetype": "text/x-python",
   "name": "python",
   "nbconvert_exporter": "python",
   "pygments_lexer": "ipython3",
   "version": "3.7.6"
  }
 },
 "nbformat": 4,
 "nbformat_minor": 4
}
