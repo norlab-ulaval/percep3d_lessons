{
 "cells": [
  {
   "cell_type": "markdown",
   "metadata": {
    "slideshow": {
     "slide_type": "slide"
    }
   },
   "source": [
    "<p style=\"text-align: center;font-size: 40pt\">Exam<\\p>\n",
    "<p style=\"text-align: center;font-size: 20pt\">Now you are by your own<\\p>"
   ]
  },
  {
   "cell_type": "markdown",
   "metadata": {},
   "source": [
    "# General remarks\n",
    "\n",
    "**Expected time**: \n",
    "   - 4 hours of study\n",
    "   - 6 hours of preparation\n",
    "   \n",
    "**Goal**: evaluate two main objectives of the lecture:\n",
    "  - Understand the mathematical foundations for processing point clouds\n",
    "  - Implement a point cloud registration algorithm\n",
    "\n",
    "**Requirements**:\n",
    "1. Module [Welcome to a flat world](../transformations_2d/0-overview.ipynb)\n",
    "1. Module [How hard can it be in 3D?](../transformations_3d/0-overview.ipynb)\n",
    "1. Module [Uncertainty](../uncertainty/0-overview.ipynb)\n",
    "1. Module [Point cloud registration](0-overview.ipynb)"
   ]
  },
  {
   "cell_type": "markdown",
   "metadata": {},
   "source": [
    "# Motivation\n",
    "\n",
    "By know, you have seen bits of code for almost all the theory explained in this lecture.\n",
    "It is time to bring all in a final application.\n",
    "Your goal will be to build a pipeline being able to process a sequence of scans in Python.\n",
    "As oppose to the other evaluations, you will have a day to work with the material prepared for the evaluation.\n",
    "This exam aims at balancing the types of evaluations used during this lecture.\n",
    "You will have more time to prepare and think about the proposed problem."
   ]
  },
  {
   "cell_type": "markdown",
   "metadata": {},
   "source": [
    "# Grading\n",
    "\n",
    "The evaluation is over 25 points.\n",
    "Here are the high level elements that will be evaluated:\n",
    "\n",
    "- 5 points: the notebook submitted is substantial, clear and well structured;\n",
    "- 20 points: the code produced the expected results; and\n",
    "\n",
    "You are expected to:\n",
    "\n",
    "- work alone on the notebook use for evaluation.\n",
    "- submit your notebook within the allocated period. Recall that there is a timestamp associated to submission on MonPortail;\n",
    "- reuse all the code you need from the lessons, exercises, and assignments; and\n",
    "- search on the Internet when needed."
   ]
  },
  {
   "cell_type": "markdown",
   "metadata": {},
   "source": [
    "# Planning your exam\n",
    "\n",
    "## Between two and seven days in advance\n",
    "\n",
    "Steps:\n",
    "1. Review the lessons, your notes, and most importantly the code\n",
    "   \n",
    "## The morning of your exam\n",
    "\n",
    "Steps:\n",
    "\n",
    "1. You will receive an email at 9am with instructions\n",
    "1. Follow the instructions and work on the provided notebook\n",
    "1. During the exam, you can ask clarifications on what is asked on the communication channel of the lecture if something is not clear\n",
    "1. Submit your evaluation material on MonPortail **before 4pm**\n"
   ]
  }
 ],
 "metadata": {
  "kernelspec": {
   "display_name": "Python 3",
   "language": "python",
   "name": "python3"
  },
  "language_info": {
   "codemirror_mode": {
    "name": "ipython",
    "version": 3
   },
   "file_extension": ".py",
   "mimetype": "text/x-python",
   "name": "python",
   "nbconvert_exporter": "python",
   "pygments_lexer": "ipython3",
   "version": "3.7.6"
  }
 },
 "nbformat": 4,
 "nbformat_minor": 4
}
