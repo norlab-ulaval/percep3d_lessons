{
 "cells": [
  {
   "cell_type": "markdown",
   "metadata": {},
   "source": [
    "<p style=\"text-align: center;font-size: 40pt\">NIFTi and TRADR projects</p>\n",
    "<p style=\"text-align: center;font-size: 20pt\">Examples of (almost...) autonomous vehicles developed and deployed in the search and rescue projects</p>\n",
    "<img src=\"images/tradr_rotterdam.jpg\" width=\"100%\">"
   ]
  },
  {
   "cell_type": "code",
   "execution_count": null,
   "metadata": {},
   "outputs": [],
   "source": [
    "from IPython.display import YouTubeVideo\n",
    "from IPython.display import VimeoVideo"
   ]
  },
  {
   "cell_type": "markdown",
   "metadata": {},
   "source": [
    "The goal of this lesson is to show you that autonomous vehicles is a larger set than autonomous cars.\n",
    "The lesson will also give you background information on some of the data sets used for the more practical aspects of the lecture.\n",
    "We choose to present these two robotic research projects which several members of the [Norlab](https://norlab.ulaval.ca/) have contributed to.\n",
    "[NIFTi](https://www.dfki.de/en/web/research/projects-and-publications/projects-overview/project/nifti/) (2010-2013) and [TRADR](http://www.tradr-project.eu/) (2013-2017) were funded by the European Union and from their inception had the ambition to equip mobile robots with perception and autonomy capabilities which would come handy to human operators in search and rescue missions.\n",
    "They reflect, to some degree, the development of capabilities of mobile robotic systems in that decade.\n",
    "\n",
    "The concept was that a team of robots and humans would cooperate and leverage capabilities of each member to achieve higher safety and situation awareness for the humans in the team.\n",
    "The robots would go first in the area hit by one of several accident or disaster scenarios (industrial accident, fire in a highway tunnel or an earthquake).\n",
    "They would be equipped with a range of sensors as required by the human operators and would collect data, build 3D maps and locate possible points of interest (either potential risks for human rescuers, or the accident survivors).\n",
    "The following two images show training sites of German (a decommissioned foundry, left) and Dutch (a harbor industry simulator, right) fire brigades with the robots in action.\n",
    "\n",
    "<p float=\"center\">\n",
    "<img src=\"images/tradr_dortmund.jpg\" width=\"39%\"/>\n",
    "<img src=\"images/tradr_detection_manipulation.jpg\" width=\"52%\"/>\n",
    "</p>\n"
   ]
  },
  {
   "cell_type": "markdown",
   "metadata": {},
   "source": [
    "Since the researchers in these projects quickly realized that full autonomy of the robots will not be either achievable with the current technology or desirable by the firefighter users, a lot of effort was put into the human-robot interfacing.\n",
    "Even though the initial ambition was to have one human operator controlling several robots, this feature got only to a prototype version.\n",
    "Testing with the firefighters converged into setup with one human operator per one robot, a team commander having overview of the whole situation and a drone data operator with a dedicated drone pilot.\n",
    "The following image shows the interface of the mission commander, with tools to see live video stream from the ground robots and an overview map with inserted points of interest.\n",
    "\n",
    "<img src=\"images/tradr_commander.png\" width=\"75%\" style=\"display:block; margin: 0 auto;\" />"
   ]
  },
  {
   "cell_type": "markdown",
   "metadata": {},
   "source": [
    "The following video provides an overview of a training session with firefighters in the decommissioned foundry in Dortmund, Germany.\n",
    "The human-robot team is searching for survivors and potentially hazardous objects (chemicals in this scenario)."
   ]
  },
  {
   "cell_type": "code",
   "execution_count": null,
   "metadata": {},
   "outputs": [],
   "source": [
    "YouTubeVideo('4z86nUlgEqc', width=720, height=480)"
   ]
  },
  {
   "cell_type": "markdown",
   "metadata": {},
   "source": [
    "The robotic part of the research projects was based on ROS which you should be already familiar with.\n",
    "Our colleagues Martin and Sergio nicely wrapped-up the project for the ROS community during the ROSCon in 2017.\n",
    "The presentation recapitulates the purpose of the research project, the architecture and mainly the technical issues with deploying a robotic system in real life.\n",
    "\n",
    "In this stage of the project, the autonomy (or _shared autonomy_ to be more precise) functionalities started to be useful or at least relevant to the end-users.\n",
    "One improvement was the capability to autonomously guard a designated area, looking for starting fires or chemical contamination thus saving human resources, both in the field and in the mission command post.\n",
    "The other capability was assisted grasping by a robotic arm, which is otherwise quite challenging with the communication delay, limited field of view and the general fact of not seeing the object with one's own eyes."
   ]
  },
  {
   "cell_type": "code",
   "execution_count": null,
   "metadata": {},
   "outputs": [],
   "source": [
    "VimeoVideo('236184930', width=720, height=480)"
   ]
  },
  {
   "cell_type": "markdown",
   "metadata": {},
   "source": [
    "The projects NIFTi and TRADR had the opportunity to test the technology in the conditions of an earthquake aftermath.\n",
    "In 2012, the Italian town Mirandola was hit by an earthquake. Among the damaged buildings, a church was selected by the fire brigade as a good testing area for the robots.\n",
    "The hardware and software was in its early version, the deployment was thus limited to line-of-sight and data collection.\n",
    "In the case of failure, the robots would not be recovered for several weeks since the areas were not considered safe for people to enter.\n",
    "The mission goal as requested by the fire brigade was determining the state of buildings and mainly of its cultural heritage elements.\n",
    "The question was if it is still worth to try to save the building and what priority this task should get."
   ]
  },
  {
   "cell_type": "code",
   "execution_count": null,
   "metadata": {},
   "outputs": [],
   "source": [
    "YouTubeVideo('BENz7ZOS-M8', width=720, height=480)"
   ]
  },
  {
   "cell_type": "markdown",
   "metadata": {},
   "source": [
    "The second opportunity to test the system and provide some help to the fire brigade was arose again in Italy, in the town Amatrice in 2016.\n",
    "The scenario for the deployment of robots was similar to the one in 2012.\n",
    "There were two churches considered unsafe for human rescuers to enter - the rescue mission commander generally tries to minimize the exposure of the personnel to the dangerous zones.\n",
    "However, there was still the need to document the state of the churches inside, the extent of the damage.\n",
    "\n",
    "This time, two ground robots and one drone were sent in the church with the task of creating a textured 3D model of the interiors.\n",
    "There was no possibility of line-of-sight control.\n",
    "In this stage of the research project, autonomy was still not considered reliable enough, especially in these conditions.\n",
    "The following video shows the 3D point cloud and the video stream recorded by one of the ground robots.\n",
    "In the time 16:00 of the video, the connection to the robot was lost and the operator had to wait half an hour for the firefighters to relocate the base-station antenna to improve the reception and to continue with the mission.\n",
    "This event triggered the effort to search for even more reliable wireless communication solutions and also for methods for automatic return of the robots in the case of losing the signal."
   ]
  },
  {
   "cell_type": "code",
   "execution_count": null,
   "metadata": {},
   "outputs": [],
   "source": [
    "YouTubeVideo('mwNII88Xwjc', width=720, height=480)"
   ]
  },
  {
   "cell_type": "markdown",
   "metadata": {},
   "source": [
    "The final years of the TRADR project brought advances in the partial autonomy.\n",
    "The robots were eventually able to explore and patrol a given area, yet this functionality reached the _demonstration_ level of maturity - it was necessary a considerable effort to make it run.\n",
    "Mainly because it depended on a large number of subsystems, each needed to be stable and well-behaving: the 3D mapping systems, wireless communication, planning and plan execution.\n",
    "\n",
    "While the remote controlled way of deployment was considered stable and even the firefighters were able to control and use the system, the autonomous functionalities continue to be developed and re-thought.\n",
    "The hardware developed during the projects stays with the former partners and in the case of the Czech Technical University, is is being deployed again in the [DARPA SubT challenge](https://norlab.ulaval.ca/research/darpa-subt-urban/) together with the robots of NORLAB from our university.\n",
    "Compared to the deployments with the firefighters, the push for autonomous functionality is much stronger given the demands and goals of the challenge.\n",
    "Because of the limited time and only one person allowed to remotely interact with the robots, the more autonomous the robots are, the more area in underground environments they can explore while potentially finding scored artifacts.\n",
    "\n",
    "<p float=\"center\">\n",
    "<img src=\"images/darpa_ready.jpg\" width=\"30%\" />\n",
    "<img src=\"images/darpa_broken.jpg\" width=\"30%\" />\n",
    "<img src=\"images/darpa_going_in.jpg\" width=\"30%\" />\n",
    "</p>\n",
    "\n",
    "While the last decade was about getting the mobile robots outside to real-world conditions, the next task will be to really make them do something useful by themselves.\n",
    "\n",
    "Of course, this is one example of many field deployments and experiment realized with robots.\n",
    "If you are interested to hear stories about one of the systems in the following image, don't hesitate to ask!\n",
    "\n",
    "<p style=\"text-align: center;\">\n",
    "<img src=\"images/table_robots.jpg\" width=\"100%\" />\n",
    "</p>\n",
    "\n",
    "Next lesson:\n",
    "- [General architecture of autonomous vehicles](3-lesson_architecture.ipynb)"
   ]
  },
  {
   "cell_type": "markdown",
   "metadata": {},
   "source": [
    "&#8635; [Go back to the list of lessons](0-overview.ipynb)"
   ]
  }
 ],
 "metadata": {
  "kernelspec": {
   "display_name": "Python 3",
   "language": "python",
   "name": "python3"
  },
  "language_info": {
   "codemirror_mode": {
    "name": "ipython",
    "version": 3
   },
   "file_extension": ".py",
   "mimetype": "text/x-python",
   "name": "python",
   "nbconvert_exporter": "python",
   "pygments_lexer": "ipython3",
   "version": "3.7.6"
  }
 },
 "nbformat": 4,
 "nbformat_minor": 4
}
