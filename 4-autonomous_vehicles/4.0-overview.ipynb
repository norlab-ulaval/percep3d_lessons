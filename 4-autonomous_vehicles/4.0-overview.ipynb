{
 "cells": [
  {
   "cell_type": "markdown",
   "metadata": {
    "slideshow": {
     "slide_type": "slide"
    }
   },
   "source": [
    "<p style=\"text-align: center;font-size: 40pt\">Module 4</p>\n",
    "<p style=\"text-align: center;font-size: 20pt\">Autonomous vehicles</p>"
   ]
  },
  {
   "attachments": {},
   "cell_type": "markdown",
   "metadata": {},
   "source": [
    "# Overview\n",
    "\n",
    "Requirements:\n",
    "- [General introduction](../general_introduction.ipynb)\n",
    "- [Primer on JupyterLab](../0-primers/0.1-lesson_jupyterlab.ipynb)\n",
    "- [Primer on Python](../0-primers/0.2-linear_algebra_python.ipynb)\n",
    "\n",
    "Objectives:\n",
    "- augment your general knowledge about autonomous vehicles\n",
    "- understanding the social and technical implications of an autonomous vehicle\n",
    "\n",
    "Time planning:\n",
    "   - Expect a total of 11.2 hours\n",
    "   - 22 % for five reading activities \n",
    "   - 7 % for one exercise\n",
    "   - 36 % for two assignments"
   ]
  },
  {
   "attachments": {},
   "cell_type": "markdown",
   "metadata": {},
   "source": [
    "# Activities\n",
    "\n",
    "This module covers one of the most popular applications of robotics of the last few years: autonomous vehicles. \n",
    "An autonomous vehicle is a more general term than an autonomous car, but recently, autonomous cars are taking a larger place in the media due to massive investment from well-established companies.\n",
    "We will see through historical notes, that people are predicting autonomous cars since almost the existence of cars.\n",
    "With the extensive use of external videos, we will also give some examples of technology necessary to develop an autonomous vehicle.\n",
    "Finally, as autonomous vehicles are considered as a disruptive technology, we will shortly address their implications on society.\n",
    "\n",
    "1. [Historical notes on autonomous cars](4.1-lesson_history.ipynb)\n",
    "1. [Examples of autonomous vehicles](4.2-lesson_examples.ipynb)\n",
    "1. [General architecture of autonomous vehicles](4.3-lesson_architecture.ipynb)\n",
    "1. [Localization and mapping](4.4-lesson_localization_mapping.ipynb)\n",
    "1. [Overview of lidars](4.5-lesson_lidars.ipynb) + [exercises](../../exercises/4-ex_autonomous_vehicles/4.1-exercises_lidars.ipynb)\n",
    "\n",
    "and two assignments:\n",
    "- [What is happening with those companies?](../../exercises/4-TP_assignement_av/4.1-assignment_company.ipynb)\n",
    "- [Analysis of commercial lidars](../../exercises/4-TP_assignement_lidars/4.2-assignment_lidars.ipynb)"
   ]
  },
  {
   "cell_type": "markdown",
   "metadata": {},
   "source": [
    "&#8635; [Go back to the list of modules](../modules_overview.ipynb)"
   ]
  },
  {
   "cell_type": "markdown",
   "metadata": {},
   "source": [
    "<p style=\"text-align:center\">\n",
    "<img src=\"../../common/images/module_4.jpeg\" alt=\"../../common/images/module_4.jpeg\" width=100%/>\n",
    "</p>\n"
   ]
  },
  {
   "cell_type": "code",
   "execution_count": null,
   "metadata": {},
   "outputs": [],
   "source": []
  }
 ],
 "metadata": {
  "kernelspec": {
   "display_name": "Python 3 (ipykernel)",
   "language": "python",
   "name": "python3"
  },
  "language_info": {
   "codemirror_mode": {
    "name": "ipython",
    "version": 3
   },
   "file_extension": ".py",
   "mimetype": "text/x-python",
   "name": "python",
   "nbconvert_exporter": "python",
   "pygments_lexer": "ipython3",
   "version": "3.10.12"
  }
 },
 "nbformat": 4,
 "nbformat_minor": 4
}
