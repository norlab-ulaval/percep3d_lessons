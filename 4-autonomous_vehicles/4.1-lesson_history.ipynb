{
 "cells": [
  {
   "cell_type": "markdown",
   "metadata": {},
   "source": [
    "<p style=\"text-align: center;font-size: 40pt\">Historical notes on autonomous cars</p>"
   ]
  },
  {
   "cell_type": "code",
   "execution_count": null,
   "metadata": {},
   "outputs": [],
   "source": [
    "from IPython.display import HTML, YouTubeVideo\n",
    "import matplotlib.pyplot as plt\n",
    "import matplotlib.patches as patches\n",
    "import numpy as np\n",
    "import random\n",
    "\n",
    "%run ./scripts/helper_func.py\n",
    "path = \"{0}/common/scripts/style.py\".format(get_root_path())\n",
    "%run $path"
   ]
  },
  {
   "cell_type": "markdown",
   "metadata": {},
   "source": [
    "# Early development (1900 - 1980)\n",
    "\n",
    "Let's pick an arbitrary point to start in time, otherwise I will have to cover the invention of the wheel.\n",
    "Cars started to be mass-produced in an Oldsmobile factory during the year 1901.\n",
    "Why we recall more the name of Henry Ford is because he optimized the production line and increased the production speed by the factor of eight in 1913.\n",
    "Fun fact, the sentence \n",
    "> _\"You can have a car any color as long as it's black\"_ &mdash; Henry Ford\n",
    "\n",
    "comes from the fact that only one kind of paint, Japan black, was drying fast enough for his early assembly line.\n",
    "Then, the First World War happen (1914 - 1918), so we need a bit of time to recover..."
   ]
  },
  {
   "cell_type": "markdown",
   "metadata": {},
   "source": [
    "## Remote operations\n",
    "\n",
    "Radios were getting more and more popular in the general public, but they were very large.\n",
    "A former US army electrical engineer put together a radio-controlled car name _The American Wonder_ in 1925. \n",
    "It was mainly used for entertainment and demonstrated on Broadway, New York, USA.\n",
    "Almost 10 years later (1932), the same idea was recycled under the name _Phantom Auto_ for some demonstration in fairs.\n",
    "The operation was the same. \n",
    "There was a large antenna connected to electric motors for the steering and some to control the linear motion.\n",
    "A pilot was seated in another car following the driver-less one.\n",
    "\n",
    "<p style=\"text-align: center;\">\n",
    "    <img src=\"images/history/Linrrican_Wonder.png\" width=\"33%\" alt=\"By The Houdina Radio Car circa 1925. It was dubbed \"American Wonder.\" - https://fsmedia.imgix.net/17/95/f6/8c/959e/4f9d/b256/ae75ec01518e/the-houdina-radio-car-circa-1925-it-was-dubbed-american-wonder.png?auto=format%2Ccompress&w=650, CC BY-SA 4.0, https://commons.wikimedia.org/w/index.php?curid=79312067\">\n",
    "    <img src=\"images/history/Phantom_auto.jpg\" width=\"32%\" alt=\"The Free Lance-Star - Jun 17, 1932, \n",
    "https://news.google.com/newspapers?id=PthNAAAAIBAJ&sjid=yYoDAAAAIBAJ&pg=6442%2C3879017\">\n",
    "    <img src=\"images/history/1935_Pontiac.jpg\" width=\"32%\" alt=\"By State Library of New South Wales collection - https://www.flickr.com/photos/statelibraryofnsw/3566267470/, No restrictions, https://commons.wikimedia.org/w/index.php?curid=41531088\">\n",
    "    Left: the American Wonder (1925). You can see the gigantic antenna on the car. Middle: announcement for the demonstration of the Phantom Auto in Virginia (1932). Right: a Pontiac of the same model used for the Phantom Auto (1936).\n",
    "</p>\n",
    "\n",
    "To give an historical perspective, in 1930, a radio named _Motorola_ was sold for cars at the price of \\\\$&nbsp;130, while a complete car Ford Model A was sold at \\\\$&nbsp;540.\n",
    "Yes, that same Motorola you may recall producing smartphones."
   ]
  },
  {
   "cell_type": "markdown",
   "metadata": {},
   "source": [
    "## Roadway infrastructure\n",
    "\n",
    "Then, the Second World War happen (1939 - 1945), so we need to way again for innovation in the realm of autonomous cars.\n",
    "Eventually, Isaac Asimov published a short story, named _Sally_, about autonomous cars having computer brains and personalities.\n",
    "Few years later (1956), the US government was signing the Federal Aid Highway Act.\n",
    "This release of massive investment in road infrastructure to connect all states in the US was a good context to try something new.\n",
    "General Motors was already presenting concept cars, named Firebirds II and subsequently III and IV, equipped with different levels of autonomous driving capabilities.\n",
    "Also, roads with detector circuit that could communicate with a vehicle were tested in Nebraska (1957).\n",
    "A similar concept related to intelligent roads was investigated during 15 years in the United Kingdom (UK).\n",
    "From 1960 to 1975, the UK government ran experiments with a Citroen DS that was equipped with sensor capable of reading magnetic cables installed in the road and follow them.\n",
    "In both cases, the estimated cost of the infrastructure was to high for large scale deployment through a country and prohibited further development.\n",
    "Here is the English vehicle in action:"
   ]
  },
  {
   "cell_type": "code",
   "execution_count": null,
   "metadata": {},
   "outputs": [],
   "source": [
    "YouTubeVideo('5ocvNxjN3dc', width=720, height=480)"
   ]
  },
  {
   "cell_type": "markdown",
   "metadata": {},
   "source": [
    "We are also in the era of the Cold War and the race to the moon.\n",
    "It is around those years that the Defense Advanced Research Projects Agency (DARPA) started to fund robotics projects leading to the well known mobile robot from Stanford, [Shakey](https://en.wikipedia.org/wiki/Shakey_the_robot).\n",
    "During the same time, and still in Stanford, a least popular robot was tested on roads to follow lines.\n",
    "The Stanford Cart was created to support moon exploration and eventually was refurbished to investigate visual navigation algorithms.\n",
    "We can see in the next video some early results of line following (you can skip to 1:55 for some action):"
   ]
  },
  {
   "cell_type": "code",
   "execution_count": null,
   "metadata": {},
   "outputs": [],
   "source": [
    "YouTubeVideo('8Mxk2L3lu9Q', width=720, height=480)"
   ]
  },
  {
   "cell_type": "markdown",
   "metadata": {},
   "source": [
    "# Autonomy on the rise (1980 - 1990)\n",
    "\n",
    "Different levels of autonomy start to appear in classic movies, such as Back to the Future (1985) [with a remote operated DeLorean](https://youtu.be/Psxktpxkc6o?t=140), Batman (1989) with a [fully autonomous Batmobile](https://youtu.be/we_eTOeNSEE?t=114), and the original Total recall (1990) with [Johnny cab](https://youtu.be/eWgrvNHjKkY).\n",
    "I though that the James Bond franchise would be high on the list, but we need to wait for Tomorrow Never Dies (1997) to see a [remotely operated BMW 750il](https://youtu.be/smou7nQTcis?t=76).\n",
    "Yes, still the James Bond with doubtful jokes around women...\n",
    "The control of the vehicle relied on a cellphone, although we would have to wait ten years before the first iPhone was marketed.\n",
    "\n",
    "We also see a boom in research on autonomous vehicles around the world.\n",
    "In Japan, Tsukuba Mechanical Engineering Lab was able to demonstrate road-line following using cameras (1977).\n",
    "In the US, DARPA was pursuing research on their side with the Autonomous Land vehicle (ALV) demoed publicly in 1984.\n",
    "This vehicle was the first to use what would become lidars in the future.\n",
    "In Europe, the largest funded project on autonomous cars was starting in 1987 with a budget over one billion Canadian dollars.\n",
    "This project, named Prometheus, raised the bar of what was possible with current technology by demonstrating autonomous driving for more than 1 000 km on a Paris multi-lane highway in standard heavy traffic at speeds up to 130 km/h in 1994.\n",
    "You can see a video explaining the achievements of the project [over here](https://youtu.be/I39sxwYKlEE).\n",
    "One year later, the Navlab from Carnegie Mellon was driving 98.2 % of 5 000 km (Pittsburgh to San Diego) without touch the steering wheel, but with the brake and gas pedal still controlled by a driver.\n",
    "\n",
    "<p style=\"text-align: center;\">\n",
    "    <img src=\"images/history/Japanese-car_1977.jpg\" width=\"42%\" alt=\"\">\n",
    "    <img src=\"images/history/darpa_ALV.jpg\" width=\"56%\" alt=\"\">\n",
    "    <br>\n",
    "    Left: what would be the autonomous car (1977) from Tsukuba Mechanical Engineering Lab (unknown source). \n",
    "    Right: DARPA Autonomous Land Vehicle (1984) with a suspicious representation of laser rangefinder.\n",
    "    Maybe there goal was to burn bushes instead of avoiding them.\n",
    "</p>"
   ]
  },
  {
   "cell_type": "markdown",
   "metadata": {},
   "source": [
    "# The new millennium (2000 - 2010)\n",
    "\n",
    "So everybody survived the Y2K bug, the World Wide Web has been there for 10 years and there is that new company, called Google, that just launched a search engine (1998).\n",
    "DARPA changed its strategy and decided to setup large scale challenges, for which they give cash prices in the order of one million US dollars only to winning teams.\n",
    "The first Grand Challenge was held in March 2004 with the goal to cross a 240 km-long path autonomously in the Mojave Desert.\n",
    "No team managed to finish the race, with the best team only driving 12 km.\n",
    "In October 2005, the second DARPA Grand Challenge was organized.\n",
    "This time, five teams managed to complete the task with Stanford, lead by Sebastian Thrun, winning the race with a time of 6 hours and 54 minutes.\n",
    "Carnegie Mellon finished second with a very close racing time of 7 hours and 5 minutes.\n",
    "\n",
    "On a personal note, this is the same year I started to on autonomous cars with the Smartter project as an undergraduate intern.\n",
    "The project was lead by the EPFL (Switzerland) in collaboration with Daimler Chrysler and utilized a modified Smart that we could use to prank people."
   ]
  },
  {
   "cell_type": "code",
   "execution_count": null,
   "metadata": {},
   "outputs": [],
   "source": [
    "YouTubeVideo('wqlE3QCX2w0', width=720, height=480)"
   ]
  },
  {
   "cell_type": "markdown",
   "metadata": {},
   "source": [
    "Recall that at that time, no car manufacturer was advertising autonomous cars to the general public.\n",
    "The driver in the other car following the Smart was quite confused on what was happening in front...\n",
    "Meanwhile, a company funded by a billionaire from Google's early stakeholder was created: [Willow Garage](https://en.wikipedia.org/wiki/Willow_Garage).\n",
    "This company, which created the Robot Operating System (ROS), was one of the first company massively hiring top-level roboticists from around the world.\n",
    "Private funding was on the rise for autonomous systems in general.\n",
    "In November 2007, DARPA organized the third and last challenge related to autonomous cars.\n",
    "The scenario moved from the desert to an urban setting with traffic regulation and other cars to avoid.\n",
    "This time, the winner order flipped with Carnegie Mellon taking the first place and Stanford the second one.\n",
    "\n",
    "A secret branch of Google was massively hiring researchers.\n",
    "This branch, eventually known as Google \\[X\\] was made public in 2009 and eventually lead to the creation of Waymo.\n",
    "At this point, virtually all participants to the DARPA challenges were having key positions in large companies to lead an autonomous car crave.\n",
    "Major car manufacturers were making partnerships with robotics laboratories or just emptying them.\n",
    "Something big was happening and no one wanted to be left behind."
   ]
  },
  {
   "cell_type": "markdown",
   "metadata": {},
   "source": [
    "# The long tail (2010 - now)\n",
    "\n",
    "We are getting close the last milestone realized by a public research lab.\n",
    "One partner of the Prometheus project was an Italian research laboratory from the  University of Parma.\n",
    "In 2009, researchers split the lab from the university to commercialize their results.\n",
    "A year later, they were launching a large scale technical demonstration named the VisLab Intercontinental Autonomous Challenge, in which they drove 15 900 km (Parma to Shanghai) autonomously.\n",
    "They used [four modified vans](https://youtu.be/cIjR06TjaNg) and it took them 100 days to complete their intercontinental journey.\n",
    "\n",
    "As pointed out by [Chris Urmson](https://en.wikipedia.org/wiki/Chris_Urmson) in some keynote talks car manufacturers were on the edge and reacting to this new technological change.\n",
    "The best example is the Dodge Charger 2011 advertising campaign _Never Neutral_, from which I could find three interesting videos: [The Future of Driving](https://youtu.be/p-MGQqaY3eo), [Slippery Slope](https://youtu.be/Fdi8me2z--w), and [Real Test Drive](https://youtu.be/SExwdcMqAxY).\n",
    "Funny story, Dodge is own by Chrysler, which signed a deal with Aurora in 2019 to to push autonomy in their vehicles.\n",
    "And who is one of the founders of Aurora? Yes, Chris Urmson.\n",
    "\n",
    "The transition from the research to private development resulted in a long list of claims made by companies stating that autonomous cars would be on our roads very soon.\n",
    "As well pointed out by Philip E. Ross, a senior editor at IEEE Spectrum:\n",
    "\n",
    "> _\"\\[The industry effort\\] launched a cycle of hype that paraded ever more ambitious deadlines—the most famous of which, made by Alphabet’s Sergei Brin in 2012, was that full self-driving technology would be ready by 2017. Those deadlines have all been missed.\"_ &mdash; [IEEE Spectrum](https://spectrum.ieee.org/transportation/self-driving/qa-the-masterminds-behind-toyotas-selfdriving-cars-say-ai-still-has-a-way-to-go)\n",
    "\n",
    "From those dates, a lot of partnerships and acquisitions are making key moments hard to track.\n",
    "In 2015, Tesla was releasing its Autopilot which resulted in the first fatal crash of a driver in 2016.\n",
    "More recently, Uber incident resulted in the first fatal collision with a pedestrian.\n",
    "Those events changed the public opinion and slowed down ambitious goals set by companies.\n",
    "One key concept keep be mentioned in recent technical talks is the [long tail distribution](https://en.wikipedia.org/wiki/Long_tail).\n",
    "For autonomous cars it means that there are too many single events to deal with current learning approaches and the size of dataset to make work is larger than expected.\n",
    "Real case seen by autonomous car: how to you deal with a cyclist biking with a stop sign in his hands? Other human not following red lights? and so on..."
   ]
  },
  {
   "cell_type": "markdown",
   "metadata": {},
   "source": [
    "## SAE six autonomous levels\n",
    "\n",
    "In 2014, SAE International published _J3016, Taxonomy and Definitions for Terms Related to On-Road Motor Vehicle Automated Driving Systems_, which was revised in 2016 and in 2018.\n",
    "There was some confusions at first with other standards, but now this is the accepted gradation for autonomous cars.\n",
    "The big picture is that from SAE Level 0 to 2, we are talking about assistance driving features and from SAE Level 3 to 5, we are talking about automated driving features.\n",
    "The typical claim from companies is that they will release a SAE Level 5 vehicle in X years.\n",
    "The detail description is as follow:\n",
    "\n",
    "<p style=\"text-align: center;\">\n",
    "    <img src=\"images/history/j3016-levels-of-driving-automation-12-10.jpg\" width=\"100%\" alt=\"\">\n",
    "    <br>\n",
    "    SAE Level of autonomy, revision 2018 (<a href=\"https://www.sae.org/standards/content/j3016_201806/\">J3016_201806</a>). \n",
    "</p>"
   ]
  },
  {
   "cell_type": "markdown",
   "metadata": {},
   "source": [
    "## The Trolley problem\n",
    "\n",
    "There is quite a list of potential limits and social challenges including liability in case of accidents, job lost and accessibility of expensive technology.\n",
    "But one moral dilemma gain attraction in the general public: the Trolley problem.\n",
    "By definition, a dilemma is a situation where you need to make a difficult choice and the border between a good and a bad decision is gray enough that we don't have a complete consensus on the answer.\n",
    "The video [Would you sacrifice one person to save five?](https://www.youtube.com/watch?v=yg16u_bzjPE) from TED-Ed explains well the problem.\n",
    "You can also try the more explicit verion of the TV show [The Good Place](https://www.youtube.com/watch?v=JWb_svTrcOg) or [how a kid would solve the problem](https://www.youtube.com/watch?v=-N_RZJUAQY4).\n",
    "Go ahead and watch them, I'll wait.\n",
    "Ahahah, I'm not even there...\n",
    "Ok, back to our problem.\n",
    "\n",
    "Many variation of this scenario are expressed in the context of autonomous cars.\n",
    "Most of these variations make an assumption that a software engineer has to actively program that decision, which is not the case for complex system relying on machine learning.\n",
    "Also, it is assumed that the car sensor has access to an infinite list of characteristics of the environment (i.e., gender, age, context), which is not the case due to sensor and real-time computation limitation.\n",
    "Moreover, results from the [MIT Moral Machine](https://www.moralmachine.net/) shows that results vary from culture to culture.\n",
    "\n",
    "The intention with this section is not to transmit an opinion on the problem, but to know its existence.\n",
    "\n"
   ]
  },
  {
   "cell_type": "markdown",
   "metadata": {},
   "source": [
    "# Revision\n",
    "\n",
    "I was not ending this lesson without coding something, so here is the timeline of key events listed in the text.\n",
    "Before executing the cell:\n",
    "- use the two first commented line to add the year of your birthday and the one of a relative to make the timeline more personnal!\n",
    "- add any other events that make sense for you and help you to put the dates into context."
   ]
  },
  {
   "cell_type": "code",
   "execution_count": null,
   "metadata": {},
   "outputs": [],
   "source": [
    "general_dates = [\n",
    "#    [1990, \"My birthday\"],\n",
    "#    [1960, \"My parent's birthday\"],\n",
    "    [2011, \"Dodge Charger ads\"],\n",
    "    [2011, \"Dodge Charger ads\"],\n",
    "    [2007, \"First iPhone\"],\n",
    "    [1990, \"World Wide Web\"],\n",
    "    [1998, \"First Google search\"],\n",
    "    [[1939, 1945], \"World War II\"],\n",
    "    [1989, \"Batmobile\"],\n",
    "    [1997, \"Tomorrow Never Dies\"], \n",
    "    [1969.5, \"First step on the moon\"],\n",
    "    [[1929,1933], \"The Great Depression\"],\n",
    "    [1956, \"Federal Aid Highway Act (USA)\"],\n",
    "    [[2006,2014], \"Willow Garage\"],\n",
    "    [1953, \"Sally, from Isaac Asimov\"],\n",
    "    [[1947,1991], \"Cold War\"],\n",
    "    [1985, \"Back to the Future\"],\n",
    "                ]\n",
    "\n",
    "autonomous_car_dates = [\n",
    "    [1925, \"American Wonder\"],\n",
    "    [1932, \"Phantom Auto\"],\n",
    "    [[1960,1975], \"UK testing magnetic cables\"], \n",
    "    [[1987,1995],\"Prometheus Project\"],\n",
    "    [2004, \"1st DARPA's Grand Challenge\"],\n",
    "    [2005, \"2nd DARPA's Grand Challenge\"],\n",
    "    [2007, \"3rd DARPA's Grand Challenge\"],\n",
    "    [2014, \"First SAE Levels\"],\n",
    "    [2016, \"First fatal crash of AV\"],\n",
    "    [2009, \"Google [X] / Waymo\"],\n",
    "    [2005, r\"$\\mathit{Smatter}$ (personal landmark)\"],\n",
    "    [1957, \"Intelligent road in Nebraska\"],\n",
    "    [2010, \"VisLab made 15 900 km\"],\n",
    "    [1995, \"CMU Navlab\"],\n",
    "    [[1966,1971], \"Stanford Cart on the road\"],\n",
    "    [[1956,1964], \"GM's Firebirds II, III, IV\"],\n",
    "    [1984, \"DARPA Autonomous Land Vehicle\"],\n",
    "    [2018, \"First fatal accident with a pedestrian\"],\n",
    "    [1977, \"Tsukuba Mechanical Engineering Lab\"],\n",
    "    [2015, \"Tesla Autopilot release\"],\n",
    "                       ]\n",
    "\n",
    "\n",
    "\n",
    "space_text_labels(autonomous_car_dates, thresh = 3)\n",
    "space_text_labels(general_dates, thresh = 3)\n",
    "\n",
    "if 'fig' in globals():\n",
    "    plt.close(fig)\n",
    "\n",
    "fig = plt.figure(figsize=(7,20))\n",
    "#------------------------\n",
    "ax1 = fig.add_subplot(111)\n",
    "ax = ax1\n",
    "\n",
    "plot_dates(ax, autonomous_car_dates, x_coord = 0.5)\n",
    "plot_dates(ax, general_dates, x_coord = -0.5)\n",
    "\n",
    "ax.set_title(r\"Timeline of autonomous cars\")\n",
    "ax.spines['left'].set_position('zero')\n",
    "ax.spines['right'].set_visible(False)\n",
    "ax.spines['bottom'].set_visible(False)\n",
    "ax.spines['top'].set_visible(False)\n",
    "ax.get_xaxis().set_visible(False)\n",
    "ax.set_xlim(-1, 1)\n",
    "ax.invert_yaxis()\n"
   ]
  },
  {
   "cell_type": "markdown",
   "metadata": {},
   "source": [
    "# Conclusion\n",
    "\n",
    "You should do the following activities to enhance your understanding of the concepts viewed in this lesson:\n",
    "- play with the Python scripts provided;\n",
    "- modify the markdown by adding your own notes using `> my notes`; and\n",
    "- complete the tables [Glossary](#Glossary) and add your own definitions.\n",
    "- if you want to go further, here are extra video material:\n",
    "    - [(1h) Chris Urmson - Aurora: Perspectives on Self-Driving Cars](https://www.youtube.com/watch?v=BtgBySRrN0Q)\n",
    "    - [(1h) Drago Anguelov - Waymo: The long tail ](https://www.youtube.com/watch?v=Q0nGo2-y0xY&t=271s)\n",
    "    - [(30 min)The Greater Good - Mind Field S2,Ep 1](https://www.youtube.com/watch?v=1sl5KJ69qiA): Real-life experience of the Trolley Problem showing the difference between just surveying people versus having them to take action.\n",
    "    - [(12 min) Why Don’t We Have Self-Driving Cars Yet?](https://www.youtube.com/watch?v=qf6VrDZ04EQ): CNBC Nov 27,2019\n",
    "\n",
    "Once you are done with this lesson, you can \n",
    "- go to the next lesson [Examples of autonomous vehicles](2-lesson_examples.ipynb), and \n",
    "- do the assignment [What is happening with those companies?](../../exercises/assignement_av/2-assignment_company.ipynb)"
   ]
  },
  {
   "cell_type": "markdown",
   "metadata": {},
   "source": [
    "## Glossary\n",
    "\n",
    "| English               | Français                | Definition |\n",
    "|-----------            |------------             |------------|\n",
    "| DARPA                 | DARPA                   |            |\n",
    "| Grand Challenge       | Grand Challenge         |            |\n",
    "| SAE Levels            | Niveau SAE              |            |\n",
    "| ...                   |                         |            |"
   ]
  },
  {
   "cell_type": "markdown",
   "metadata": {},
   "source": [
    "&#8635; [Go back to the list of lessons](0-overview.ipynb)"
   ]
  }
 ],
 "metadata": {
  "kernelspec": {
   "display_name": "Python 3",
   "language": "python",
   "name": "python3"
  },
  "language_info": {
   "codemirror_mode": {
    "name": "ipython",
    "version": 3
   },
   "file_extension": ".py",
   "mimetype": "text/x-python",
   "name": "python",
   "nbconvert_exporter": "python",
   "pygments_lexer": "ipython3",
   "version": "3.7.6"
  }
 },
 "nbformat": 4,
 "nbformat_minor": 4
}
