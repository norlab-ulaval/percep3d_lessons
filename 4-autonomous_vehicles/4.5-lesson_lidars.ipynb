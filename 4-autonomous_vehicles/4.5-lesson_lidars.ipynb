{
 "cells": [
  {
   "cell_type": "markdown",
   "metadata": {},
   "source": [
    "<p style=\"text-align: center;font-size: 40pt\">Overview of lidars</p>"
   ]
  },
  {
   "cell_type": "code",
   "execution_count": null,
   "metadata": {},
   "outputs": [],
   "source": [
    "%matplotlib inline\n",
    "\n",
    "import matplotlib.pyplot as plt\n",
    "import matplotlib.patches as patches\n",
    "from matplotlib import animation\n",
    "from IPython.display import HTML, YouTubeVideo\n",
    "import numpy as np\n",
    "import scipy.stats as stats\n",
    "import math\n",
    "\n",
    "%run ./scripts/helper_func.py\n",
    "path = \"{0}/common/scripts/style.py\".format(get_root_path())\n",
    "%run $path"
   ]
  },
  {
   "cell_type": "markdown",
   "metadata": {},
   "source": [
    "# Introduction\n",
    "\n",
    "The name LiDAR was originally an acronym for Light Detection And Ranging, but as this technology gained popularity, the word began to exist on its own.\n",
    "You can now write directly _lidar_ as a noun and not an acronym.\n",
    "Lidars are one of the most common sensors one can find on autonomous vehicles.\n",
    "The reason behind their popularity is that they are becoming more and more affordable and provide rich 3D information about their surroundings.\n",
    "In this lesson, you will learn the basics of how lidars work and what are their limitations.\n",
    "But first, here is the visualisation of some data gathered by a 3D lidar fixed on the roof of a car:"
   ]
  },
  {
   "cell_type": "code",
   "execution_count": null,
   "metadata": {},
   "outputs": [],
   "source": [
    "YouTubeVideo('nXlqv_k4P8Q', width=720, height=480)"
   ]
  },
  {
   "cell_type": "markdown",
   "metadata": {},
   "source": [
    "# Basic principle"
   ]
  },
  {
   "cell_type": "markdown",
   "metadata": {},
   "source": [
    "## In one dimension\n",
    "First of all, what is a lidar?\n",
    "Well, a 1D lidar would be a [laser rangefinder](https://en.wikipedia.org/wiki/Laser_rangefinder), you know, those small devices used to measure a distance.\n",
    "They send a laser pulse on an object and measure how much time it takes for the pulse to bounce on it and come back.\n",
    "Knowing this time and the speed at which the pulse travels (i.e., the speed of light), one can compute the distance between the lidar and the object.\n",
    "\n",
    "<p style=\"text-align: center;\">\n",
    "<img src=\"images/1d_lidar.svg\" width=\"50%\" alt=\"By RCraig09 - Own work, CC BY-SA 4.0, https://commons.wikimedia.org/w/index.php?curid=89646954\">\n",
    "</p>"
   ]
  },
  {
   "cell_type": "markdown",
   "metadata": {},
   "source": [
    "## In two dimensions\n",
    "If you take this laser and point it to a mirror rotating along the Z axis, you can _scan_ a line around the sensor, meaning you now have a 2D lidar.\n",
    "The output of such a lidar is no longer a single distance or point, but a set of points (i.e., a point cloud) in 2D.\n",
    "The position of a point is computed using the time it takes for a laser pulse to bounce back to the lidar as well as the mirror angle at the moment at which the pulse was fired.\n",
    "This will give you an angle and a distance (i.e., [polar coordinates](https://en.wikipedia.org/wiki/Polar_coordinate_system)), which can then be converted to [2D Cartesian coordinates](https://en.wikipedia.org/wiki/Cartesian_coordinate_system#Cartesian_coordinates_in_two_dimensions) in the frame of the lidar.\n",
    "\n",
    "<p style=\"text-align: center;\">\n",
    "<img src=\"images/2d_lidar.gif\" width=\"15%\" alt=\"By Mike1024 - Drawn and animated by Mike1024, Public Domain, https://commons.wikimedia.org/w/index.php?curid=3688414\">\n",
    "</p>"
   ]
  },
  {
   "cell_type": "markdown",
   "metadata": {},
   "source": [
    "## In three dimensions\n",
    "Finally, if you take multiple lasers, also known as channels or beams, and point them to the good old rotating mirror, you can _scan_ multiple lines (at different heights) around the sensor, which means you now have a 3D lidar.\n",
    "The following image shows the output of such a lidar.\n",
    "Please note that this image is a rendering, actual 3D scan are not that dense, but it is reasonably close.\n",
    "If you look carefully at the layout of the points, you will be able to see the scan lines of the different lasers around the lidar.\n",
    "Those scan lines are often referred as rings.\n",
    "When computing the position of a point in 3D, the difference with 2D is that positions are computed using two angles: the vertical angle (i.e., channel angle) as well as the horizontal/azimuth angle (i.e., mirror angle).\n",
    "Therefore, you will have two angles and one distance expressing [spherical coordinates](https://en.wikipedia.org/wiki/Spherical_coordinate_system), which can then be converted to [3D Cartesian coordinates](https://en.wikipedia.org/wiki/Cartesian_coordinate_system#Cartesian_coordinates_in_three_dimensions) in the frame of the lidar.\n",
    "\n",
    "<p style=\"text-align: center\">\n",
    "<img src=\"images/3d_lidar.jpg\" width=\"100%\" alt=\"Visualization of a LiDAR point cloud. By Graham Murdock for Popular Science\">\n",
    "</p>"
   ]
  },
  {
   "cell_type": "markdown",
   "metadata": {},
   "source": [
    "# Now, in real life\n",
    "\n",
    "In real life though, everything is not so simple.\n",
    "Mostly, things go bad because of the physics of light propagation.\n",
    "Here are some limitations that you should be aware of when using a lidar."
   ]
  },
  {
   "cell_type": "markdown",
   "metadata": {},
   "source": [
    "## Laser pulses are not instantaneous\n",
    "Laser pulses are not just a punctual burst of energy, as we might think.\n",
    "Although light is very fast, the electronic producing a laser needs some time to start producing a reasonable number of photons.\n",
    "When a pulse is emitted by a lidar, the intensity released in function of time looks a little like this:"
   ]
  },
  {
   "cell_type": "code",
   "execution_count": null,
   "metadata": {},
   "outputs": [],
   "source": [
    "if 'fig' in globals():\n",
    "    plt.close(fig)\n",
    "\n",
    "fig = plt.figure(figsize=(7,7))\n",
    "\n",
    "#------------------------\n",
    "ax1 = fig.add_subplot(111)\n",
    "ax = ax1\n",
    "ax.set_title(r\"Emitted laser pulse intensity\")\n",
    "ax.set_xticklabels([])\n",
    "ax.set_yticklabels([])\n",
    "ax.set_xlabel('time [s]')\n",
    "ax.set_ylabel('intensity')\n",
    "\n",
    "mu = 0\n",
    "variance = 20\n",
    "sigma = math.sqrt(variance)\n",
    "x = np.linspace(mu - 3*sigma, mu + 3*sigma, 100)\n",
    "_ = ax.plot(x, stats.norm.pdf(x, mu, sigma), color=\"C0\")"
   ]
  },
  {
   "cell_type": "markdown",
   "metadata": {},
   "source": [
    "When the pulse is reflected back, the intensity recorded by the lidar looks similar.\n",
    "Even though this intensity variation happens in a really short amount of time, we cannot consider it as an instantaneous peak, since we are dealing with things happening at the speed of light here.\n",
    "This consideration leads to the following problem: when the pulse bounces back to the lidar, how to determine exactly the moment at which it arrives?\n",
    "Most lidars have a threshold and when the intensity goes above and back below it, they take the time in the middle and assume that this is when the pulse came back.\n",
    "However, in some cases, the intensity recorded by the lidar looks more like this:"
   ]
  },
  {
   "cell_type": "code",
   "execution_count": null,
   "metadata": {},
   "outputs": [],
   "source": [
    "if 'fig' in globals():\n",
    "    plt.close(fig)\n",
    "\n",
    "fig = plt.figure(figsize=(7,7))\n",
    "\n",
    "#------------------------\n",
    "ax1 = fig.add_subplot(111)\n",
    "ax = ax1\n",
    "ax.set_title(r\"Ugly returned laser pulse intensity\")\n",
    "ax.set_xticklabels([])\n",
    "ax.set_yticklabels([])\n",
    "ax.set_xlabel('time [s]')\n",
    "ax.set_ylabel('intensity')\n",
    "\n",
    "mu_1 = 0\n",
    "variance_1 = 20\n",
    "sigma_1 = math.sqrt(variance_1)\n",
    "\n",
    "mu_2 = 12\n",
    "variance_2 = 20\n",
    "sigma_2 = math.sqrt(variance_2)\n",
    "\n",
    "x = np.linspace(mu_1 - 3*sigma_1, mu_2 + 3*sigma_2, 100)\n",
    "_ = ax.plot(x, 0.6*stats.norm.pdf(x, mu_1, sigma_1) + 0.4*stats.norm.pdf(x, mu_2, sigma_2), color=\"C1\")"
   ]
  },
  {
   "cell_type": "markdown",
   "metadata": {},
   "source": [
    "This kind of intensity reading can lead to a bad detection of the time at which the pulse came back to the lidar, thus leading to a bad measure of distance."
   ]
  },
  {
   "cell_type": "markdown",
   "metadata": {},
   "source": [
    "## Laser pulses are not perfectly reflected back to lidars\n",
    "Most of the time, [diffuse reflection](https://en.wikipedia.org/wiki/Diffuse_reflection) takes place and laser pulses are reflected in all directions when they hit an object, meaning that only a very small portion of their energy actually comes back to the lidar.\n",
    "This energy lost leads to returned pulse intensities looking like this:"
   ]
  },
  {
   "cell_type": "code",
   "execution_count": null,
   "metadata": {},
   "outputs": [],
   "source": [
    "if 'fig' in globals():\n",
    "    plt.close(fig)\n",
    "\n",
    "fig = plt.figure(figsize=(7,7))\n",
    "\n",
    "#------------------------\n",
    "ax1 = fig.add_subplot(111)\n",
    "ax = ax1\n",
    "ax.set_title(r\"Emitted and returned laser pulse intensities\")\n",
    "ax.set_xticklabels([])\n",
    "ax.set_yticklabels([])\n",
    "ax.set_xlabel('time [s]')\n",
    "ax.set_ylabel('intensity')\n",
    "\n",
    "mu = 0\n",
    "variance = 20\n",
    "sigma = math.sqrt(variance)\n",
    "x = np.linspace(mu - 3*sigma, mu + 3*sigma, 100)\n",
    "_ = ax.plot(x, stats.norm.pdf(x, mu, sigma))\n",
    "_ = ax.annotate('emitted pulse', xy=(3, 0.07), xytext=(13, 0.08), arrowprops=dict(facecolor='black', shrink=0.05))\n",
    "\n",
    "_ = ax.text(17, 0.01, '...', fontsize=25)\n",
    "\n",
    "mu = 40\n",
    "variance = 20\n",
    "sigma = math.sqrt(variance)\n",
    "x = np.linspace(mu - 3*sigma, mu + 3*sigma, 100)\n",
    "_ = ax.plot(x, stats.norm.pdf(x, mu, sigma)*0.5)\n",
    "_ = ax.annotate('returned pulse', xy=(38, 0.04), xytext=(10, 0.05), arrowprops=dict(facecolor='black', shrink=0.05))"
   ]
  },
  {
   "cell_type": "markdown",
   "metadata": {},
   "source": [
    "In some cases, the intensity of the returned pulse is so low that it is below the intensity threshold of the lidar and nothing is measured.\n",
    "The intensity of the returned pulse varies in function of the distance to the surface, the incidence angle between the laser and the surface as well as the reflective properties of the surface.\n",
    "If the surface is too polished, a [specular reflection](https://en.wikipedia.org/wiki/Specular_reflection) can even occur and the whole pulse will get reflected in a different direction.\n",
    "Finally, some surfaces absorb pulses completely.\n",
    "This is the case of black surfaces and of water, which absorbs infrared wavelengths."
   ]
  },
  {
   "cell_type": "markdown",
   "metadata": {},
   "source": [
    "## Reflections\n",
    "When a specular reflection occurs, the reflected pulse sometimes bounces on a second surface, which reflects the laser pulse back to the lidar.\n",
    "This phenomenon is called a reflection, or virtual point.\n",
    "For the lidar, it is as if the laser pulse had traveled in a straight line, as illustrated below :\n",
    "\n",
    "<p style=\"text-align: center\">\n",
    "<img src=\"images/virtual_point.png\" width=\"50%\" alt=\"Visualization of a LiDAR point cloud. By Graham Murdock for Popular Science\">\n",
    "</p>\n",
    "\n",
    "Because the laser pulse gets reflected twice, the distance it travels is bigger than if it had been reflected only once, causing the point to be placed behind the first surface it hits.\n",
    "Reflections can happen when the scanned area contains reflective objects, such as mirrors or windows."
   ]
  },
  {
   "cell_type": "markdown",
   "metadata": {},
   "source": [
    "## Laser beams are shaped like cones\n",
    "Shocking right?\n",
    "Even though we are tempted to consider lidar laser beams as zero-width lines, in fact, they are shaped like cones with their tip located in the lidar.\n",
    "When a laser beam hits a surface, it looks more like this:"
   ]
  },
  {
   "cell_type": "code",
   "execution_count": null,
   "metadata": {},
   "outputs": [],
   "source": [
    "if 'fig' in globals():\n",
    "    plt.close(fig)\n",
    "\n",
    "fig = plt.figure(figsize=(7,7))\n",
    "\n",
    "#------------------------\n",
    "ax1 = fig.add_subplot(111)\n",
    "ax = ax1\n",
    "ax.set_title(r\"Laser beam hitting a surface (seen from above)\")\n",
    "ax.set_axis_off()\n",
    "ax.set_xlim(0, 1)\n",
    "ax.set_ylim(0, 1)\n",
    "\n",
    "_ = ax.add_patch(patches.Wedge((0.025, 0.025), 1.05, 35, 42, color='blue', alpha=0.2))\n",
    "_ = ax.add_patch(patches.Circle((0.025, 0.025), radius=0.02, color='blue'))\n",
    "img = plt.imread(\"images/turtle.png\")\n",
    "_ = ax.imshow(img, extent=[0.82, 0.92, 0.6, 0.7])"
   ]
  },
  {
   "cell_type": "markdown",
   "metadata": {},
   "source": [
    "In this case, when the laser pulse comes back to the lidar, there is no way of knowing exactly where the object was within the cone of the beam.\n",
    "This uncertainty means that the farther you are from the lidar, the less accuracy you have, because the beam width increases with distance.\n",
    "In fact, the surface at the end of a beam cone increases quadratically with distance, as shown below :"
   ]
  },
  {
   "cell_type": "code",
   "execution_count": null,
   "metadata": {},
   "outputs": [],
   "source": [
    "if 'fig' in globals():\n",
    "    plt.close(fig)\n",
    "\n",
    "fig = plt.figure(figsize=(7,7))\n",
    "\n",
    "#------------------------\n",
    "ax1 = fig.add_subplot(111)\n",
    "ax = ax1\n",
    "ax.set_title(\"Laser beam surface increasing with distance\\n(with beam divergence of 2.8 mrad)\")\n",
    "ax.set_xlabel(\"Distance (m)\")\n",
    "ax.set_ylabel(r\"Laser beam surface (cm²)\")\n",
    "\n",
    "x = np.linspace(0.0, 100.0, 1000)\n",
    "_ = ax.plot(x, np.pi * (np.tan(0.0014) * x * 100)**2)"
   ]
  },
  {
   "cell_type": "markdown",
   "metadata": {},
   "source": [
    "A side effect of the shape of lidar laser beams is the following: when lidar data is taken on roadsides, traffic signs appear bigger than they are in reality.\n",
    "This is caused by the fact that those signs are coated with a highly reflective material.\n",
    "Even if only a small portion of the beam cone hits the sign, it is so reflective that a lot of intensity will get reflected back to the lidar, and the returned pulse will be measured.\n",
    "If this coating was not present, the returned pulses would not be strong enough.\n",
    "The signs will therefore intercept more laser beams than normal surfaces, causing them to look bigger."
   ]
  },
  {
   "cell_type": "markdown",
   "metadata": {},
   "source": [
    "## Shadow points\n",
    "Shadow points are points that do not really exist.\n",
    "They are the result of averaging portions of a pulse reflected by different surfaces.\n",
    "Indeed, because laser beams have a width, one emitted pulse can cause multiple intensity peaks at different times in the returned pulse.\n",
    "Here is an example of how it could happen:"
   ]
  },
  {
   "cell_type": "code",
   "execution_count": null,
   "metadata": {},
   "outputs": [],
   "source": [
    "fig, ax = plt.subplots(nrows=1, ncols=1, figsize=(7, 7))\n",
    "plt.close(fig)\n",
    "ax.set_title(\"Object geometry causing two \\n intensity peaks in the returned pulse\")\n",
    "\n",
    "ax.set_axis_off()\n",
    "ax.set_xlim(0, 1)\n",
    "ax.set_ylim(0, 1)\n",
    "\n",
    "_ = ax.add_patch(patches.Wedge((0.025, 0.025), 1.055, 35, 42, color='white', alpha=0.2))\n",
    "_ = ax.add_patch(patches.Circle((0.025, 0.025), radius=0.02, color='white'))\n",
    "_ = ax.add_patch(patches.Polygon((np.array([[0.75, 0.7], [0.8, 0.64], [0.848, 0.678], [0.9, 0.61], [0.96, 0.658], [0.86, 0.785]]))))\n",
    "poly_1 = patches.Arc((0.025, 0.025), 0.05, 0.05, angle=0.0, theta1=35, theta2=38.5, linewidth=3)\n",
    "ax.add_patch(poly_1)\n",
    "poly_2 = patches.Arc((0.025, 0.025), 0.05, 0.05, angle=0.0, theta1=38.5, theta2=42, linewidth=3)\n",
    "ax.add_patch(poly_2)\n",
    "point = patches.Circle((0.83, 0.66), radius=0.02, color='red', alpha=0)\n",
    "_ = ax.add_patch(point)\n",
    "\n",
    "def draw(t):\n",
    "    if t > 2.11:\n",
    "        poly_1.center = (1.716, 1.287)\n",
    "        poly_1.angle = 180\n",
    "    poly_1.width = t\n",
    "    poly_1.height = t\n",
    "    if t > 2:\n",
    "        poly_2.center = (1.551, 1.317)\n",
    "        poly_2.angle = 180\n",
    "    poly_2.width = t\n",
    "    poly_2.height = t\n",
    "    if t > 4:\n",
    "        poly_2.set_alpha(0)\n",
    "    if t > 4.22:\n",
    "        poly_1.set_alpha(0)\n",
    "        point.set_alpha(1)\n",
    "        point.radius = 0.0741 - 0.0128 * t\n",
    "    \n",
    "    return (poly_1, poly_2, point)\n",
    "HTML(animation.FuncAnimation(fig, func=draw, frames=np.arange(0.025, 5, 0.02), interval=40, blit=True, repeat=False).to_html5_video())"
   ]
  },
  {
   "cell_type": "markdown",
   "metadata": {},
   "source": [
    "In this case, the returned pulse intensity would look something like this:"
   ]
  },
  {
   "cell_type": "code",
   "execution_count": null,
   "metadata": {},
   "outputs": [],
   "source": [
    "if 'fig' in globals():\n",
    "    plt.close(fig)\n",
    "\n",
    "fig = plt.figure(figsize=(7,7))\n",
    "\n",
    "#------------------------\n",
    "ax1 = fig.add_subplot(111)\n",
    "ax = ax1\n",
    "ax.set_title(r\"Returned pulse intensity\")\n",
    "ax.set_xticklabels([])\n",
    "ax.set_yticklabels([])\n",
    "ax.set_xlabel('time [s]')\n",
    "ax.set_ylabel('intensity')\n",
    "\n",
    "mu_1 = 0\n",
    "variance_1 = 20\n",
    "sigma_1 = math.sqrt(variance_1)\n",
    "\n",
    "mu_2 = 15\n",
    "variance_2 = 20\n",
    "sigma_2 = math.sqrt(variance_2)\n",
    "\n",
    "x = np.linspace(mu_1 - 3*sigma_1, mu_2 + 3*sigma_2, 100)\n",
    "_ = ax.plot(x, 0.5*stats.norm.pdf(x, mu_1, sigma_1) + 0.5*stats.norm.pdf(x, mu_2, sigma_2), color=\"C1\")"
   ]
  },
  {
   "cell_type": "markdown",
   "metadata": {},
   "source": [
    "If the intensity in the middle section of this plot is above the lidar intensity threshold, the distance computed for the point will be located between the two surfaces as shown by the red dot in the animation above.\n",
    "It results in a point being placed in a spot where nothing was really measured.\n",
    "Shadow points are present in lidar data when things are placed in front of each others in a scan.\n",
    "Some lidars support multiple _echoes_ or _returns_ and will place two points at different distances instead.\n",
    "To the best of my knowledge, even with lidars with multi-echo produced a lot of shadow points."
   ]
  },
  {
   "cell_type": "markdown",
   "metadata": {},
   "source": [
    "## Laser incidence angle distorts the measurements\n",
    "As surprising as this might sound, when the incidence angle between the laser beam and a surface is too high, the distance measured by the lidar is smaller than it should.\n",
    "This is due to the fact that most of the laser pulse intensity is reflected back to the lidar when the first portion of the beam cone hits the surface, as illustrated here:\n",
    "\n",
    "<p style=\"text-align: center\">\n",
    "<img src=\"images/bias.png\" width=\"50%\">\n",
    "</p>\n",
    "\n",
    "Here, the color represents the intensity distribution of the laser pulse.\n",
    "In this case, because we are intersecting a cone and a plane, this distribution is shaped like an ellipse.\n",
    "Most of the intensity of the laser pulse is concentrated on the side of the ellipse which is closer to the lidar, rather than in its center, like it would with a small incidence angle.\n",
    "This results in a distance measurement smaller than reality, because most of the beam intensity is reflected back to the lidar before the cone center hits the surface.\n",
    "Although this bias is mostly caused by the incidence angle between the laser beam and the surface it hits, it is also influenced by distance.\n",
    "Also, between lidar models, differences exist because of the different beam divergences, electronic components, etc."
   ]
  },
  {
   "cell_type": "markdown",
   "metadata": {},
   "source": [
    "# Lidar specifications\n",
    "In order to compare lidars, it is important to be able to read the specifications documented in their datasheets.\n",
    "Here are the most common ones for mobile terrestrial lidars.\n",
    "For the sake of learning, they are presented separately, but it is important to remember that they influence each other.\n",
    "For example, if the scan rate of a lidar is set to its maximum, its maximum range might decrease.\n",
    "This kind of details is usually hard to find when reading lidar specifications."
   ]
  },
  {
   "cell_type": "markdown",
   "metadata": {},
   "source": [
    "## Laser beam divergence\n",
    "The laser beam divergence is the opening angle of the beam cone.\n",
    "It is usually expressed in milliradians or millidegrees.\n",
    "Here is an illustration of the laser beam divergence of a lidar, seen from above:\n",
    "\n",
    "<p style=\"text-align: center\">\n",
    "<img src=\"images/divergence.png\" width=\"50%\">\n",
    "</p>\n",
    "\n",
    "Some safety lidar will prefer larger beams with overlap to be sure that thin objects will be detected.\n",
    "Others will have a very fine beams, but will take lot of time per reading.\n",
    "Those ultra small divergence angle are typically used for surveying lidars used on tripods."
   ]
  },
  {
   "cell_type": "markdown",
   "metadata": {},
   "source": [
    "## Accuracy and precision\n",
    "Although their meaning is close, accuracy and precision are two different things.\n",
    "A high accuracy means that the measurements are close to to the real value we want to measure.\n",
    "On the other hand, a high precision means that the measurements are close to each other for a same value we want to measure.\n",
    "\n",
    "<p style=\"text-align: center\">\n",
    "<img src=\"images/accuracy_vs_precision.png\" alt=\"https://geoslam.com/blog/2016/05/31/laser-scanning-accuracy/\" width=\"50%\">\n",
    "</p>\n",
    "\n",
    "Accuracy and precision can both be given in terms of range or laser angles.\n",
    "Range refers to the distance measured for a point while laser angles refer to the horizontal and vertical angles of the direction in which a pulse is fired.\n",
    "In the context of range, accuracy and precision are usually expressed in centimeters.\n",
    "In the context of laser angles, they are usually expressed in degrees or radians."
   ]
  },
  {
   "cell_type": "markdown",
   "metadata": {},
   "source": [
    "## Range resolution\n",
    "The range resolution is the smallest range difference necessary between two objects to be able to distinguish them in a scan.\n",
    "It is usually expressed in meters.\n",
    "If the range difference between two objects is smaller than this resolution, they will be at the same distance from the lidar in the scans."
   ]
  },
  {
   "cell_type": "markdown",
   "metadata": {},
   "source": [
    "## Field of view\n",
    "The horizontal and vertical field of views are respectively the horizontal and vertical areas captured by a lidar.\n",
    "They are usually expressed in degrees or radians."
   ]
  },
  {
   "cell_type": "markdown",
   "metadata": {},
   "source": [
    "## Angular resolution\n",
    "The horizontal (or azimuth) angular resolution is the smallest horizontal angle difference necessary between two objects to be able to distinguish them in a scan, expressed in degrees or radians.\n",
    "On the other hand, the vertical angular resolution is the smallest vertical angle difference necessary between two objects to be able to distinguish them in a scan, expressed in degrees or radians.\n",
    "If the angle difference between two objects is smaller than the angular resolution, there will be no space between them in the scans."
   ]
  },
  {
   "cell_type": "markdown",
   "metadata": {},
   "source": [
    "## Horizontal and vertical resolution\n",
    "Horizontal resolution is the number of points per row in a scan.\n",
    "It can be computed as follows:\n",
    "\\begin{aligned}\n",
    "\\text{horizontal resolution} = \\frac{\\text{horizontal field of view}}{\\text{horizontal angular resolution}} + 1\n",
    "\\end{aligned}\n",
    "\n",
    "Vertical resolution is the number of rows of points in a scan, also called channels or beams.\n",
    "It can be computed as follows:\n",
    "\\begin{aligned}\n",
    "\\text{vertical resolution} = \\frac{\\text{vertical field of view}}{\\text{vertical angular resolution}} + 1\n",
    "\\end{aligned}"
   ]
  },
  {
   "cell_type": "markdown",
   "metadata": {},
   "source": [
    "## Scan rate\n",
    "The scan rate is the number of scans generated per second by a lidar.\n",
    "In the case of 360-degree lidars, it is also called rotation rate.\n",
    "It is usually expressed in hertz."
   ]
  },
  {
   "cell_type": "markdown",
   "metadata": {},
   "source": [
    "## Points per second\n",
    "Points per second are the total number of points generated per second by a lidar.\n",
    "It can be computed as follows:\n",
    "\\begin{aligned}\n",
    "\\text{points per second} = \\text{horizontal resolution} \\times \\text{vertical resolution} \\times \\text{scan rate}\n",
    "\\end{aligned}"
   ]
  },
  {
   "cell_type": "markdown",
   "metadata": {},
   "source": [
    "## Laser safety class\n",
    "[Laser safety classes](https://en.wikipedia.org/wiki/Laser_safety#Classification) were invented to classify lasers depending on their wavelength and output power.\n",
    "The goal of this classification system is to avoid injuries by defining safety procedures to follow when operating lasers.\n",
    "Most mobile terrestrial lidars use class-1 lasers, which are eye-safe."
   ]
  },
  {
   "cell_type": "markdown",
   "metadata": {},
   "source": [
    "## Range\n",
    "Minimum and maximum ranges are respectively the smallest and biggest distances from a target from which a lidar can operate.\n",
    "It is usually expressed in meters."
   ]
  },
  {
   "attachments": {},
   "cell_type": "markdown",
   "metadata": {},
   "source": [
    "# Conclusion\n",
    "Here is all there is to know about lidars in the context of autonomous vehicles.\n",
    "I hope you now have a better understanding of how those sensors work and what are their limitations.\n",
    "Once you are done with this lesson, you can do \n",
    "\n",
    "- the related [exercise](../../exercises/4-ex_autonomous_vehicles/4.1-exercises_lidars.ipynb), and\n",
    "- the assignment [Analysis of commercial lidars](../../exercises/4-TP_assignement_lidars/4.2-assignment_lidars.ipynb)."
   ]
  },
  {
   "cell_type": "markdown",
   "metadata": {},
   "source": [
    "&#8635; [Go back to the list of lessons](4.0-overview.ipynb)"
   ]
  }
 ],
 "metadata": {
  "kernelspec": {
   "display_name": "Python 3 (ipykernel)",
   "language": "python",
   "name": "python3"
  },
  "language_info": {
   "codemirror_mode": {
    "name": "ipython",
    "version": 3
   },
   "file_extension": ".py",
   "mimetype": "text/x-python",
   "name": "python",
   "nbconvert_exporter": "python",
   "pygments_lexer": "ipython3",
   "version": "3.10.12"
  },
  "toc-autonumbering": true,
  "toc-showcode": false,
  "toc-showmarkdowntxt": false,
  "toc-showtags": false
 },
 "nbformat": 4,
 "nbformat_minor": 4
}
