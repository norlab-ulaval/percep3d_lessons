{
 "cells": [
  {
   "cell_type": "markdown",
   "metadata": {
    "slideshow": {
     "slide_type": "slide"
    }
   },
   "source": [
    "<p style=\"text-align: center;font-size: 40pt\">Module 7</p>\n",
    "<p style=\"text-align: center;font-size: 20pt\">Point cloud registration</p>"
   ]
  },
  {
   "cell_type": "markdown",
   "metadata": {},
   "source": [
    "# Overview\n",
    "\n",
    "Requirements:\n",
    "- [How hard can it be in 3D?](../transformations_3d/0-overview.ipynb)\n",
    "- [Uncertainty](../uncertainty/0-overview.ipynb)\n",
    "\n",
    "Objectives:\n",
    "- cover the theory behind point cloud registration\n",
    "- give an idea of possible applications\n",
    "- prepare for mapping softwares\n",
    "\n",
    "Time planning:\n",
    "- Expect a total of 20.2 hours\n",
    "- 31 % for nine reading activities\n",
    "- 20 % for one assignment\n",
    "- 20 % for studying\n",
    "- 30 % for an exam"
   ]
  },
  {
   "cell_type": "markdown",
   "metadata": {},
   "source": [
    "# Activities\n",
    "\n",
    "This is where all the theory seen in this lecture converge.\n",
    "To understand registration algorithms for 3D point clouds, you will need a lot of concepts introduced in the modules [How hard can it be in 3D?](../transformations_3d/0-overview.ipynb) and [Uncertainty](../uncertainty/0-overview.ipynb).\n",
    "Registration algorithms are used in a lot of applications, such as 3D localization and mapping, which will be demonstrated during the last module of the lecture.\n",
    "On one side, you will be exposed to a large set of possible solutions with multiple references to original scientific publications.\n",
    "**You don't need to open and read all the references to complete the module.**\n",
    "The references are given only for those who want to dig further for some specific solutions.\n",
    "The idea is to give you a broader overview of different algorithms, so you don't finish this lecture having in mind that there is only one way to implement a registration algorithm.\n",
    "On the other side, you will have access to bits of code demonstrating few possible implementations.\n",
    "You should take the time to play and understand them properly as they will the building blocks for the evaluations.\n",
    "\n",
    "Here is the list of activities for this module mixing theory and application:\n",
    "1. [Overview of registration algorithms](1-lesson_overview.ipynb)\n",
    "1. in any order:\n",
    "   - [Point clouds processing](2-lesson_processing.ipynb)\n",
    "   - [Data association](2-lesson_association.ipynb)\n",
    "1. [Outliers](3-lesson_outliers.ipynb)\n",
    "1. [Error minimization](4-lesson_error_minimization.ipynb)\n",
    "1. in any order:\n",
    "   - [Use case 1](5-lesson_use_case_1.ipynb)\n",
    "   - [Use case 2](5-lesson_use_case_2.ipynb)\n",
    "   - [Use case 3](5-lesson_use_case_3.ipynb)\n",
    "1. [Registration challenges](6-lesson_challenges.ipynb)\n",
    "\n",
    "and one assignment and an exam:\n",
    "- [Registration implementation](../../exercises/registration/1-assignment_implementation.ipynb)\n",
    "- [Exam on registration](7-exam_registration.ipynb)"
   ]
  },
  {
   "cell_type": "markdown",
   "metadata": {},
   "source": [
    "&#8635; [Go back to the list of modules](../modules_overview.ipynb)"
   ]
  },
  {
   "cell_type": "markdown",
   "metadata": {},
   "source": [
    "<p style=\"text-align:center\">\n",
    "<img src=\"../../common/images/module_7.jpeg\" alt=\"../../common/images/module_7.jpeg\" width=100%/>\n",
    "</p>"
   ]
  }
 ],
 "metadata": {
  "kernelspec": {
   "display_name": "Python 3",
   "language": "python",
   "name": "python3"
  },
  "language_info": {
   "codemirror_mode": {
    "name": "ipython",
    "version": 3
   },
   "file_extension": ".py",
   "mimetype": "text/x-python",
   "name": "python",
   "nbconvert_exporter": "python",
   "pygments_lexer": "ipython3",
   "version": "3.7.6"
  }
 },
 "nbformat": 4,
 "nbformat_minor": 4
}
