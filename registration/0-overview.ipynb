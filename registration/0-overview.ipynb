{
 "cells": [
  {
   "cell_type": "markdown",
   "metadata": {
    "slideshow": {
     "slide_type": "slide"
    }
   },
   "source": [
    "<p style=\"text-align: center;font-size: 40pt\">Module</p>\n",
    "<p style=\"text-align: center;font-size: 20pt\">Point cloud registration</p>"
   ]
  },
  {
   "cell_type": "markdown",
   "metadata": {},
   "source": [
    "\n",
    "\n",
    "This module has X lessons with exercises:\n",
    "1. [Overview of registration algorithms] + [exercises]\n",
    "1. in any order:\n",
    "   - Point cloud association\n",
    "   - Point cloud preprocessing\n",
    "1. Outliers\n",
    "1. Error minimization\n",
    "1. in any order:\n",
    "   - Use case 1\n",
    "   - Use case 2\n",
    "   - Use case 3\n",
    "   \n",
    "and one assignment:\n",
    "- [TODO](4-TODO.ipynb)"
   ]
  },
  {
   "cell_type": "markdown",
   "metadata": {},
   "source": [
    "&#8635; [Go back to the list of modules](../lecture_overview.ipynb#List-of-modules)"
   ]
  }
 ],
 "metadata": {
  "kernelspec": {
   "display_name": "Python 3",
   "language": "python",
   "name": "python3"
  },
  "language_info": {
   "codemirror_mode": {
    "name": "ipython",
    "version": 3
   },
   "file_extension": ".py",
   "mimetype": "text/x-python",
   "name": "python",
   "nbconvert_exporter": "python",
   "pygments_lexer": "ipython3",
   "version": "3.8.2"
  }
 },
 "nbformat": 4,
 "nbformat_minor": 4
}
