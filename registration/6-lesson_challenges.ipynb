{
 "cells": [
  {
   "cell_type": "markdown",
   "metadata": {},
   "source": [
    "<p style=\"text-align: center;font-size: 40pt\">Registration challenges</p>"
   ]
  },
  {
   "cell_type": "markdown",
   "metadata": {},
   "source": [
    "# Overview \n",
    "\n",
    "Requirements\n",
    "- [Use case 1](5-lesson_use_case_1.ipynb)\n",
    "- [Use case 2](5-lesson_use_case_2.ipynb)\n",
    "- [Use case 3](5-lesson_use_case_3.ipynb)\n",
    "\n",
    "Objectives of this lesson:\n",
    "- give an idea of the different challenges related to point cloud registration and how to deal with them"
   ]
  },
  {
   "cell_type": "markdown",
   "metadata": {},
   "source": [
    "# Guidelines for solution implementations\n",
    "\n",
    "We started by presenting a framework of registration solutions in the [lesson Overview of registration algorithms](1-lesson_overview.ipynb) to eventually expose main application challenges through [three use cases](5-lesson_use_case_1.ipynb).\n",
    "This lesson bridge those concepts and proposes a high level guideline based the experience developed over several years implementing, tuning and testing registration solutions. \n",
    "It should be use as an investigation starting point when problems arise from a given application. \n",
    "For a more quantitative interpretation of the impact of a specific module and its parameters on registration quality, we direct readers toward [Pomerleau et al., 2012](https://link.springer.com/article/10.1007/s10514-013-9327-2). \n",
    "In this lesson, we will overlook three modules the were in the tables for all use cases their selections mainly depends on the context of an application than on registration tuning.\n",
    "<em>Reading and reference sources</em> follow the sensors at hand and can be upgraded based on their specifications, but hardly for only tuning a registration solution.\n",
    "<em>Transformation parameters</em> follow the data acquisition process and the deformation resulting from moving a given sensor in the environment. \n",
    "Lastly, <em>transformation checkers</em> depend on transformation parameters used and the application.\n",
    "Detecting convergence, divergence or timeout of the algorithm can be implemented in a generic way, but the actions resulting of such events (e.g., discarding the result, restarting with other parameters or another solution) depend on the application.\n",
    "Moreover, it worth noting that some suggestions are contradictory when addressing a given challenge. \n",
    "For example, the row <em>Real-time</em> highlights the fact that point-to-plane error has a faster convergence rate, but at the same time, highlight that surface reconstruction is expensive to compute. \n",
    "The general registration strategy selected for an application may require to balance advantages and disadvantages of the proposed solutions. \n",
    "Also, cells in dark red represent configurations that were not encountered in this work, which could be an opportunity for innovation."
   ]
  },
  {
   "cell_type": "markdown",
   "metadata": {},
   "source": [
    "<table>\n",
    "<tr>\n",
    "    <th style=\"width:10%\">Challenges</th>\n",
    "    <th style=\"width:20%\"><a href=\"2-lesson_processing.ipynb\">Data filters</a></th>\n",
    "    <th style=\"width:20%\"><a href=\"2-lesson_association.ipynb\">Association solver</a></th>\n",
    "    <th style=\"width:20%\"><a href=\"3-lesson_outliers.ipynb\">Outlier filters</a></th>\n",
    "    <th style=\"width:20%\"><a href=\"4-lesson_error_minimization.ipynb\">Error minimizer</a></th>\n",
    "</tr>\n",
    "<tr>\n",
    "<td>Environment type </td>\n",
    "    <td><em>Double sided surfaces</em>: extract normal vectors and orient them.</td>\n",
    "    <td>Augment the number of matches to cover noise in surface reconstruction.</td>\n",
    "    <td>Weight wrong surface normal associations.</td>\n",
    "    <td><em>Unstructured environments</em>: point-to-point relies on less reconstruction assumptions.</td>\n",
    "</tr>\n",
    "<tr>\n",
    "<td>Dynamic scene</td>\n",
    "    <td> Removed identified dynamic points (e.g., scanner self-reading). Use algorithms to identify dynamic points based on prior registrations.</td>\n",
    "    <td> Augment the number of matches to augment the change of matching with a static structure.</td>\n",
    "    <td> Weight association using an identified dynamic point.</td>\n",
    "    <td> Use weighted error metric emphasizing static associations.</td>\n",
    "</tr> \n",
    "<tr>\n",
    "<td>Scene size</td>\n",
    "    <td>Down sample large point clouds. Roughly extract the zone of interest.</td>\n",
    "    <td bgcolor=\"#2a0000\"></td>\n",
    "    <td bgcolor=\"#2a0000\"></td>\n",
    "    <td bgcolor=\"#2a0000\"></td>\n",
    "    </tr>\n",
    "<tr>\n",
    "<td>Variable overlap</td>\n",
    "    <td bgcolor=\"#2a0000\"></td>\n",
    "    <td>Avoid using distance approximations.</td>\n",
    "    <td><em>Hard rejection</em>: fix threshold using adaptive techniques. <br> <em>Quartile based solutions</em>: use the lowest expected overlap as a threshold.</td>\n",
    "    <td bgcolor=\"#2a0000\"></td>\n",
    "</tr>\n",
    "<tr> \n",
    "<td>Small overlap</td>\n",
    "<td>Apply filters with leading to a uniform sampling in Euclidean space.</td>\n",
    "<td>Avoid using distance approximations.</td>\n",
    "<td><em>Hard rejection</em>: use a strict threshold.</td>\n",
    "<td bgcolor=\"#2a0000\"></td>\n",
    "</tr>\n",
    "<tr> \n",
    "<td>Real-time</td>\n",
    "    <td>Reduce the number of points with random sampling (low computation footprint). Reduce the number of needed filters. Reduce the use of surface reconstruction filters based on nearest-neighbor search. Use filters relying on the assumption that the ordering of the data is known.</td>\n",
    "    <td>Use kD-tree or other space partitioning techniques. Use distance approximation. Limit the maximal search range. Use nearest-neighbor search relying on the assumption that the ordering of the data is known. Limit the search to one nearest-neighbor per points.</td>\n",
    "    <td bgcolor=\"#2a0000\"></td>\n",
    "    <td>Remove any point with zero weight before minimizing the error. Point-to-plane error converge in fewer iterations than point-to-point.</td>\n",
    "</tr>\n",
    "<tr>\n",
    "<td>Sensor noise</td>\n",
    "    <td>Compute point uncertainty based on specific sensor noise model. Handle shadow points.</td>\n",
    "    <td bgcolor=\"#2a0000\"></td>\n",
    "    <td>Weight association based on the combination of both points uncertainties.</td>\n",
    "    <td>Use weighted error metric using sensor noise information.</td>\n",
    "</tr>\n",
    "<tr>\n",
    "<td>Initial tranformation noise</td>\n",
    "    <td bgcolor=\"#2a0000\"></td>\n",
    "    <td>Use distance metric relying on spaces independent from the transformation parameters (i.e., descriptors). Increase the number of matches per points.</td>\n",
    "    <td>Weight associations based more on descriptors than features.</td>\n",
    "    <td>Point-to-plane has a larger convergence space than point-to-point. Error metrics rely on entropy have a larger convergence space in general. Use weighted error metric dealing with match uncertainties.</td>\n",
    "</tr>\n",
    "<tr>\n",
    "<td>Point distribution</td>\n",
    "<td>Apply filters with leading to a uniform sampling in Euclidean space. Avoid using filters relying on fix distance thresholds. </td>\n",
    "<td>Avoid search relying on a maximal search radius.</td>\n",
    "<td>Avoid using threshold based on fix distances of associated points.</td>\n",
    "<td bgcolor=\"#2a0000\"></td>\n",
    "</tr>\n",
    "</table>\n"
   ]
  },
  {
   "cell_type": "markdown",
   "metadata": {},
   "source": [
    "# Conclusion\n",
    "You should do the following activities to enhance your understanding of the concepts viewed in this lesson:\n",
    "- modify the markdown by adding your own notes using `> my notes`; and\n",
    "- complete the tables [Symbol definitions](#Symbol-definitions) and [Glossary](#Glossary) and add your own definitions.\n",
    "\n",
    "Next step:\n",
    "- [Exam on registration](7-exam_registration.ipynb)"
   ]
  },
  {
   "cell_type": "markdown",
   "metadata": {},
   "source": [
    "## Symbol definitions\n",
    "\n",
    "| Symbol             | Definition  |\n",
    "|--------------------|-------------|\n",
    "|                    |             |"
   ]
  },
  {
   "cell_type": "markdown",
   "metadata": {},
   "source": [
    "## Glossary\n",
    "\n",
    "| English   | Français   | Definition |\n",
    "|-----------|------------|------------|\n",
    "|           |            |            |"
   ]
  }
 ],
 "metadata": {
  "kernelspec": {
   "display_name": "Python 3",
   "language": "python",
   "name": "python3"
  },
  "language_info": {
   "codemirror_mode": {
    "name": "ipython",
    "version": 3
   },
   "file_extension": ".py",
   "mimetype": "text/x-python",
   "name": "python",
   "nbconvert_exporter": "python",
   "pygments_lexer": "ipython3",
   "version": "3.7.6"
  }
 },
 "nbformat": 4,
 "nbformat_minor": 4
}
