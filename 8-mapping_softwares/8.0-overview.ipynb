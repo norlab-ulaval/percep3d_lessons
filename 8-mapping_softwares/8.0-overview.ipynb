{
 "cells": [
  {
   "cell_type": "markdown",
   "metadata": {
    "slideshow": {
     "slide_type": "slide"
    }
   },
   "source": [
    "<p style=\"text-align: center;font-size: 40pt\">Module 8</p>\n",
    "<p style=\"text-align: center;font-size: 20pt\">Mapping softwares</p>"
   ]
  },
  {
   "cell_type": "markdown",
   "metadata": {},
   "source": [
    "# Overview\n",
    "\n",
    "Requirements:\n",
    "- [Robot Operating System (ROS)](../ros/0-overview.ipynb)\n",
    "- [3D tools](../3d_tools/0-overview.ipynb)\n",
    "- [Point cloud registration](../registration/0-overview.ipynb)\n",
    "\n",
    "Objectives:\n",
    "- cover how a 3D mapping software works\n",
    "- have a practical experience of building a 3D map\n",
    "\n",
    "Time planning:\n",
    "- Expect a total of 3.0 hours\n",
    "- 33 % for one reading activities\n",
    "- 67 % for one assignment"
   ]
  },
  {
   "cell_type": "markdown",
   "metadata": {},
   "source": [
    "# Activities\n",
    "\n",
    "This is where the theory converge with the practical side of the lecture.\n",
    "You will see a lot of links to prior lessons in the content of this module.\n",
    "Since this is the last module, the intention is to review what you learn in a fun and practical way.\n",
    "As you read the content, you should appreciate the new knowledge and vocabulary you gathered during the whole lecture.\n",
    "\n",
    "The only practical lesson is:\n",
    "\n",
    "- [ROS mapping node](1-lesson_mapping.ipynb)\n",
    "\n",
    "with one closing assignment:\n",
    "- [Investigating a nuclear power plant](../../exercises/mapping/1-assignment_nuclear.ipynb)\n"
   ]
  },
  {
   "cell_type": "markdown",
   "metadata": {},
   "source": [
    "# The end\n",
    "\n",
    "Once you are done, restart from the beginning and select _Hard mode_ before restarting the lecture.\n",
    "Just kidding, you are all done.\n",
    "Now, it is up to you to decide what to do with that knowledge and to find a way to live a better life!"
   ]
  },
  {
   "cell_type": "markdown",
   "metadata": {},
   "source": [
    "&#8635; [Go back to the list of modules](../modules_overview.ipynb)"
   ]
  },
  {
   "cell_type": "markdown",
   "metadata": {},
   "source": [
    "<p style=\"text-align:center\">\n",
    "<img src=\"../../common/images/module_8.jpeg\" alt=\"../../common/images/module_8.jpeg\" width=100%/>\n",
    "</p>"
   ]
  }
 ],
 "metadata": {
  "kernelspec": {
   "display_name": "Python 3",
   "language": "python",
   "name": "python3"
  },
  "language_info": {
   "codemirror_mode": {
    "name": "ipython",
    "version": 3
   },
   "file_extension": ".py",
   "mimetype": "text/x-python",
   "name": "python",
   "nbconvert_exporter": "python",
   "pygments_lexer": "ipython3",
   "version": "3.7.6"
  }
 },
 "nbformat": 4,
 "nbformat_minor": 4
}
