{
 "cells": [
  {
   "cell_type": "markdown",
   "metadata": {
    "slideshow": {
     "slide_type": "slide"
    }
   },
   "source": [
    "<p style=\"text-align: center;font-size: 40pt\">Exam<\\p>\n",
    "<p style=\"text-align: center;font-size: 20pt\">Don't mess with tomatoes<\\p>\n",
    "<a href=\"https://en.wikipedia.org/wiki/Attack_of_the_Killer_Tomatoes\">\n",
    "<img src=\"images/Attack_of_the_Killer_Tomatoes.jpg\" width=\"100%\" style=\"display:block; margin: 0 auto;\" />\n",
    "</a>"
   ]
  },
  {
   "cell_type": "markdown",
   "metadata": {},
   "source": [
    "# General remarks\n",
    "\n",
    "- **Expected time**: \n",
    "   - 4 hours of study\n",
    "   - 60 min preparation\n",
    "   - 30 min interview\n",
    "   - 10 min feedbacks\n",
    "- **Goal**: to be able to use ROS to debug node configurations.\n",
    "\n",
    "Requirements:\n",
    "1. [Overview of ROS](2.1-lesson-ros-overview.ipynb) + [exercises](../../exercises/ros/1e-exercises_basics.ipynb)\n",
    "1. [ROS visualizer (rviz)](2.2-lesson-ros-rviz.ipynb) + [exercises](../../exercises/ros/2e-exercises_rviz.ipynb)\n",
    "1. [Data recording and playback (rosbag)](2.3-lesson-ros-rosbag.ipynb) + [exercises](../../exercises/ros/3e-exercises_rosbag.ipynb)\n",
    "1. [Transformation frames (tf)](2.4-lesson-ros-tf.ipynb) + [exercises](../../exercises/ros/4e-exercises_tf.ipynb)\n",
    "1. [Processing data (roslaunch)](2.5-lesson-ros-roslaunch.ipynb) + [exercises](../../exercises/ros/5e-exercises_roslaunch.ipynb)\n"
   ]
  },
  {
   "cell_type": "markdown",
   "metadata": {},
   "source": [
    "# Motivation\n",
    "\n",
    "It is rather usual to have to use a ROS package somebody else has written.\n",
    "Sometimes it is well documented and works out of the box, but most probably you will have to do some minor adjustments to make it work.\n",
    "This is where all the tools in ROS become handy.\n",
    "Debugging the configuration of multiple ROS nodes is also necessary when deploying an autonomous vehicle in the wild."
   ]
  },
  {
   "cell_type": "markdown",
   "metadata": {},
   "source": [
    "# Boss &#8470;2: Attack of the Killer Tomatoes in SPACE \n",
    "\n",
    "After many weeks of searching, you just found a git repository with a ROS package that does exactly what you were looking for.\n",
    "Finally, you will be able to play _Attack of the Killer Tomatoes in SPACE_, the sequel of the 1978 classic movie [Attack of the Killer Tomatoes](https://youtu.be/clqDkCJs19s?t=5).\n",
    "The authors of the package advertise that the launch file will open\n",
    "\n",
    "- a node `teleop` that rely on a terminal to read arrow keys of the keyboard.\n",
    "  The node is used to teleoperate a rocket and publishing a `Twist` message;\n",
    "- a node `thruster` converting a `Twist` message to an acceleration message of type `Accel` and publishing its fire length with respect to a rocket using `tf`;\n",
    "- a node `rocket` publishing its pose with respect to space using `tf` and listening to messages of type `Bool` from `deep_space` and `tomatoes` to know if it was hit by something and print \"Ouch!\";\n",
    "- a node `tomatoes` publishing a message of type `Bool` that triggers when a tomato hits the rocket;\n",
    "- a node `deep_space` publishing a message of type `Bool` that triggers when a wall hits the rocket; and finally\n",
    "- `rviz` so you can play your favorite game, Attack of the Killer SPACE Tomatoes in ROS!\n",
    "\n",
    "The nodes `deep_space`, `thruster`, `rocket`, and `tomatoes` also publish 3D markers used by `rviz` to display the game.\n",
    "\n",
    "Here is a video demonstrating what is advertise:"
   ]
  },
  {
   "cell_type": "code",
   "execution_count": null,
   "metadata": {},
   "outputs": [],
   "source": [
    "from IPython.display import YouTubeVideo\n",
    "YouTubeVideo('CPt2RekQ29Q', width=720, height=480)"
   ]
  },
  {
   "cell_type": "markdown",
   "metadata": {},
   "source": [
    "Unfortunately, the package doesn't work as advertised, most probably because the developers made some last minute changes and didn't test before releasing.\n",
    "Given the kind of game at hand, one can hardly ask more from the developers...\n",
    "\n",
    "**Your task**: find all configuration problems and make the package work as advertised."
   ]
  },
  {
   "cell_type": "markdown",
   "metadata": {},
   "source": [
    "# Expectations\n",
    "\n",
    "You need to\n",
    "- be confortable in your virtual machine:\n",
    "  - manipulate multiple terminals\n",
    "  - manipulate rviz\n",
    "- be able to navigate in ROS packages and find existing launch files\n",
    "- be able to open and edit launch files\n",
    "- to investigate node interconnections and configuration issues using dedicated tools (e.g., `rostopic`, `rosnode`, `rqt_graph`, `rqt_tf_tree`, and console messages)\n",
    "\n",
    "You will **not** be asked to:\n",
    "- code in Python and C++\n",
    "- create a new node or package\n",
    "- make changes to compilation and installation files\n",
    "- fix bugs in node implementations.\n",
    "  You are not forbidden to open and read source code, but it's not necessary to accomplish the tasks.\n"
   ]
  },
  {
   "cell_type": "markdown",
   "metadata": {},
   "source": [
    "# Grading\n",
    "\n",
    "During the interview, the instructor will evaluate three themes for a total of 25 points.\n",
    "The following gradation will be used to assign grades:\n",
    "\n",
    "1. basic use of the virtual machine and the operating system (5 points)\n",
    "  - 0/5: the student is not functional, even with help\n",
    "  - 2/5: the student managed to progress, but the instructor had to give all the commands\n",
    "  - 4/5: the student managed to progress, but the instructor had to give few hints\n",
    "  - 5/5: the student is autonomous\n",
    "1. basic understanding of ROS (e.g., visualization, nodes, messages, and frames) (10 points)\n",
    "  - &nbsp;0/10: the student does not understand ROS\n",
    "  - &nbsp;4/10: the student understands ROS, but struggle when using it\n",
    "  - &nbsp;8/10: the student understands and can use ROS, but the instructor had to give few hints\n",
    "  -      10/10: the student is autonomous\n",
    "1. basic understanding of debugging tools (10 points)\n",
    "  - &nbsp;0/10: the student is not functional, even with help\n",
    "  - &nbsp;4/10: the student managed to progress, but the instructor had to guide through all tools\n",
    "  - &nbsp;8/10: the student managed to progress, but the instructor had to give few hints\n",
    "  -      10/10: the student is autonomous"
   ]
  },
  {
   "cell_type": "markdown",
   "metadata": {},
   "source": [
    "# Planning your exam\n",
    "\n",
    "## Between two to seven days in advance\n",
    "\n",
    "Steps:\n",
    "1. Given the above description of the ROS package, draw on paper:\n",
    "   - the node organization and how you expect them to communicate to each other\n",
    "   - the expected hierarchy of `tf` frames\n",
    "1. Prepare your microphone and camera access and settings\n",
    "   - go to [Google Meet](https://meet.google.com/) (or any tools you know to test videoconferencing equipment) and and click _start a meeting_\n",
    "   - before joining the meeting, we will have access to your video stream\n",
    "   - click on the three vertical dots on the lower-right side of your video stream, then Settings\n",
    "   - validate that all accesses are granted and that your settings point to the right microphone and camera\n",
    "   - start a meeting by clicking on the button **Present**, then select **Entire Screen**\n",
    "   - it's normal if you don't see your own screen streaming. \n",
    "     If no pop up appears, you are ready to go.\n",
    "   - close Google Meet\n",
    "1. Test your [connection speed](https://www.google.com/search?q=test+internet+speed)\n",
    "   - a speed above 8 Mb/s should be comfortable\n",
    "   \n",
    "## Ten minutes before your appointment\n",
    "\n",
    "Steps:\n",
    "\n",
    "1. Open your virtual machine and prepare a terminal\n",
    "1. You will receive simple instructions on how to download and install the ROS package. Execute them in the terminal of your virtual machine.\n",
    "1. You will receive a link asking you to join a videoconference on your private channel. Start the meeting.\n",
    "\n",
    "## During the appointment\n",
    "\n",
    "Steps:\n",
    "\n",
    "1. few minutes at the beginning will be used to ensure that you understood the instructions and that you are ready\n",
    "1. the instructor will also answer any organization questions you will have\n",
    "1. once everything is clear, you have 30 min to debug the package and make it work as in the demo\n",
    "   1. for the first five minutes, the instructor will quietly observe what you are doing\n",
    "   1. after five minutes, the instructor will start asking question aiming at\n",
    "      1. validating your understanding of ROS\n",
    "      1. guiding you if you are blocked\n",
    "1. after 30 min or when the game is working, the evaluation is over.\n",
    "   If needed, another 10 min will be used to discuss with the student about the progress and to give general feedbacks."
   ]
  },
  {
   "cell_type": "markdown",
   "metadata": {},
   "source": [
    "&#8635; [Go back to the list of modules](../modules_overview.ipynb)"
   ]
  }
 ],
 "metadata": {
  "kernelspec": {
   "display_name": "Python 3",
   "language": "python",
   "name": "python3"
  },
  "language_info": {
   "codemirror_mode": {
    "name": "ipython",
    "version": 3
   },
   "file_extension": ".py",
   "mimetype": "text/x-python",
   "name": "python",
   "nbconvert_exporter": "python",
   "pygments_lexer": "ipython3",
   "version": "3.7.6"
  }
 },
 "nbformat": 4,
 "nbformat_minor": 4
}
