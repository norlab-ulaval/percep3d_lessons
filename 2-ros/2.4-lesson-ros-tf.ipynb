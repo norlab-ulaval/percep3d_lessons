{
 "cells": [
  {
   "cell_type": "markdown",
   "metadata": {
    "slideshow": {
     "slide_type": "slide"
    }
   },
   "source": [
    "<p style=\"text-align: center;font-size: 40pt\">TF<\\p>\n",
    "<p style=\"text-align: center;font-size: 20pt\">Library for keeping track of multiple coordinate frames over time<\\p>\n",
    "<img src=\"images/tf_title.png\" width=\"100%\">"
   ]
  },
  {
   "cell_type": "markdown",
   "metadata": {},
   "source": [
    "Robots usually consist of different parts which move relative to each other.\n",
    "Mobile robots move around and change their position relative to some given world coordinate frame.\n",
    "To track all this motion, it is natural to attach coordinate frames to the moving parts (or whole robots) and to describe their relative poses by rigid transformations.\n",
    "Thanks to the modules [Welcome to a flat world](../1-transformations_2d/1.0-overview.ipynb) of this course, you are getting a good overview of how rigid transformations work.\n",
    "In ROS, the task of managing all the information related to coordinate frames and transformations between them is handled by the TF library.\n",
    "\n",
    "First of all, visit the [wiki.ros.org/tf2](http://wiki.ros.org/tf2) page and see how the authors of TF introduce it.\n",
    "We are providing a link to _TF2_ which is a successor of the TF in several latest versions of ROS.\n",
    "The changes in TF2 are mainly technical, so this is just to inform you that two versions exist.\n",
    "\n",
    "From the user perspective, the mechanisms of TF are usually hidden and used internally by running ROS nodes.\n",
    "It is however good to have a high-level understanding of the system to be able to detect and fix issues."
   ]
  },
  {
   "cell_type": "markdown",
   "metadata": {},
   "source": [
    "# How it works internally\n",
    "\n",
    "By design, TF is a decentralized system, where each running ROS node that uses TF keeps its own buffer of available transformations.\n",
    "By default, this buffer keeps 20 seconds of history.\n",
    "The transformations are published on the `/tf` and `/tf_static` topics, and all TF-using nodes listen to these topics.\n",
    "Each transform contains a time stamp, name of the coordinate frames (parent and child) and the actual transformation parameters (i.e., a translation vector and a quaternion encoding the rotation).\n",
    "Each coordinate frame is allowed to have maximum one parent frame.\n",
    "This constraint is a design decision taken by the authors of TF to avoid loop in the connection tree.\n",
    "Therefore, the whole set of coordinate frames is organized as directed tree, with no cycles possible.\n",
    "This helps with effective implementation and does not seriously limit the usability of the system.\n",
    "\n",
    "As en example, here is a transformation published on the `/tf` topic:\n",
    "```\n",
    "---\n",
    "transforms: \n",
    "  - \n",
    "    header: \n",
    "      seq: 0\n",
    "      stamp: \n",
    "        secs: 1582746617\n",
    "        nsecs: 256056070\n",
    "      frame_id: \"odom\"\n",
    "    child_frame_id: \"base_link\"\n",
    "    transform: \n",
    "      translation: \n",
    "        x: -2.67658308705\n",
    "        y: 41.3771464098\n",
    "        z: 0.974358148222\n",
    "      rotation: \n",
    "        x: -0.00541755560712\n",
    "        y: 0.00241126321715\n",
    "        z: 0.910911088387\n",
    "        w: 0.412560086478\n",
    "---\n",
    "```\n",
    "\n",
    "You can see for yourself by executing `rostopic echo /tf` while having the rosbag from the Rviz lesson running.\n",
    "The particular transformation shown here comes from a node that handles odometry (i.e., an estimate of a pose of a mobile robot in a fixed world frame).\n",
    "It says what is the expected position and orientation of the robot, named `base_link`, in the fixed coordinate frame, named `odom`, at that given time.\n",
    "\n",
    "The TF then offers functions to find transformations between any two coordinate frames for any time present in the local buffer (from now to those 20 default seconds in history).\n",
    "The size of the buffer can be increased, but from our experience, usually there is no need to.\n",
    "The library also offers functions to transform vector or point coordinates between different frames.\n",
    "This is however all done in code, which is out of the scope of this lesson.\n",
    "You might still want to be able to visualize the coordinate frames..."
   ]
  },
  {
   "cell_type": "markdown",
   "metadata": {},
   "source": [
    "# How to see what is going on in TF\n",
    "\n",
    "There are four ways to investigate what is going on with TF.\n",
    "We will explain them one by one."
   ]
  },
  {
   "cell_type": "markdown",
   "metadata": {},
   "source": [
    "## Using Rviz\n",
    "\n",
    "The most preferred way is to see the frames live in Rviz as they express 3D quantities.\n",
    "Our lesson on Rviz shows you how to do it and you should be able to see something similar to what the title image in this notebook shows.\n",
    "What moves and what stays fixed in the origin of the Rviz render depends on your setting of the _Fixed Frame_ in Rviz.\n",
    "That way, you can make the robot coordinate frame move inside the `odom` or `map` frame, or you can make the `map` and `odom` frames move around the robot, which would be fixed in the origin.\n",
    "Keep in mind that this is only a point of view, as frame of reference is a relative concept.\n",
    "The underlying system of transformations stays the same."
   ]
  },
  {
   "cell_type": "markdown",
   "metadata": {},
   "source": [
    "## Using `rosrun tf view_frames`\n",
    "\n",
    "The ROS package TF contains a neat tool to visualize the TF tree.\n",
    "This comes handy when you cannot use Rviz or when you need a snapshot of the TF system.\n",
    "By executing `rosrun tf view_frames`, you will obtain a pdf file with all the frames the TF heard about in a five-second-long period after executing the command.\n",
    "The pdf is saved in the current folder you executed the command from.\n",
    "For example, running the command on our small example bag file gives us this result:\n",
    "\n",
    "<img src=\"images/tf_tree.png\" width=\"100%\" style=\"display:block; margin: 0 auto;\">\n",
    "\n",
    "To try it for yourself, you will need to first run a rosbag and then do\n",
    "```\n",
    "$ rosrun tf view_frames\n",
    "<wait 5 sec>\n",
    "$ evince frames.pdf\n",
    "```\n",
    "\n",
    "The last command use `evince`, which is simply the pdf viewer in Ubuntu.\n",
    "As you can see, we have a lot of coordinate frames and thus the pdf needs some zooming."
   ]
  },
  {
   "cell_type": "markdown",
   "metadata": {},
   "source": [
    "## Using `rosrun rqt_tf_tree rqt_tf_tree`\n",
    "\n",
    "This way of displaying the TF tree is very similar to the previous one, but uses a dedicated GUI instead of a pdf.\n",
    "You can run the visualization by executing `rosrun rqt_tf_tree rqt_tf_tree`.\n",
    "When using our example rosbag file, the output looks like this:\n",
    "\n",
    "<img src=\"images/rqt_tf_tree.png\" width=\"100%\" style=\"display:block; margin: 0 auto;\">\n",
    "\n",
    "As you can see, the output looks almost identical to the `rosrun tf view_frames`, but it has additional features, such as highlighting related frames when moving the mouse over them and also exporting the tree to different file formats. "
   ]
  },
  {
   "cell_type": "markdown",
   "metadata": {},
   "source": [
    "## Looking up a transformation in a terminal\n",
    "\n",
    "Finally, if you need to know the transformation values exactly, you can _echo_ the transformation to the terminal by executing `rosrun tf tf_echo [source_frame] [target_frame]`.\n",
    "Again using our example rosbag file and calling `rosrun tf tf_echo /odom /base_link` while the bag is playing gives you this output:\n",
    "\n",
    "```\n",
    "At time 1582746646.255\n",
    "- Translation: [-8.619, 46.759, 1.132]\n",
    "- Rotation: in Quaternion [-0.004, 0.004, 0.962, 0.272]\n",
    "            in RPY (radian) [0.007, 0.010, 2.590]\n",
    "            in RPY (degree) [0.378, 0.554, 148.397]\n",
    "At time 1582746647.000\n",
    "- Translation: [-8.619, 46.759, 1.132]\n",
    "- Rotation: in Quaternion [-0.004, 0.005, 0.962, 0.272]\n",
    "            in RPY (radian) [0.007, 0.010, 2.590]\n",
    "            in RPY (degree) [0.397, 0.590, 148.420]\n",
    "At time 1582746648.003\n",
    "- Translation: [-8.619, 46.759, 1.132]\n",
    "- Rotation: in Quaternion [-0.004, 0.005, 0.962, 0.272]\n",
    "            in RPY (radian) [0.007, 0.010, 2.591]\n",
    "            in RPY (degree) [0.407, 0.586, 148.475]\n",
    "At time 1582746648.991\n",
    "- Translation: [-8.619, 46.759, 1.132]\n",
    "- Rotation: in Quaternion [-0.004, 0.005, 0.962, 0.272]\n",
    "            in RPY (radian) [0.007, 0.010, 2.592]\n",
    "            in RPY (degree) [0.417, 0.596, 148.490]\n",
    "````\n",
    "\n",
    "from which you can read the translation and rotation between the requested coordinate frames."
   ]
  },
  {
   "cell_type": "markdown",
   "metadata": {},
   "source": [
    "# Wrap-up\n",
    "\n",
    "This lesson has shown you how to visualize available transformations in TF.\n",
    "\n",
    "To train a little more with TF, go to the [exercise](../../exercises/ex_ros/4e-exercises_tf.ipynb) where we will try a ROS tutorial on TF ;)\n",
    "\n",
    "Then, the last lesson will be:\n",
    "- [Processing data (roslaunch)](2.5-lesson-ros-roslaunch.ipynb)"
   ]
  },
  {
   "cell_type": "markdown",
   "metadata": {},
   "source": [
    "&#8635; [Go back to the list of lessons](2.0-overview.ipynb)"
   ]
  }
 ],
 "metadata": {
  "kernelspec": {
   "display_name": "Python 3",
   "language": "python",
   "name": "python3"
  },
  "language_info": {
   "codemirror_mode": {
    "name": "ipython",
    "version": 3
   },
   "file_extension": ".py",
   "mimetype": "text/x-python",
   "name": "python",
   "nbconvert_exporter": "python",
   "pygments_lexer": "ipython3",
   "version": "3.7.6"
  }
 },
 "nbformat": 4,
 "nbformat_minor": 4
}
