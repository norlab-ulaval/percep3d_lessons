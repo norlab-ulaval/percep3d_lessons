{
 "cells": [
  {
   "cell_type": "markdown",
   "metadata": {
    "slideshow": {
     "slide_type": "slide"
    }
   },
   "source": [
    "<p style=\"text-align: center;font-size: 40pt\">Module 2</p>\n",
    "<p style=\"text-align: center;font-size: 20pt\">Robot Operating System</p>"
   ]
  },
  {
   "cell_type": "code",
   "execution_count": null,
   "metadata": {},
   "outputs": [],
   "source": [
    "from IPython.display import YouTubeVideo\n",
    "YouTubeVideo('xb2_VB2UYnI', width=720, height=480)"
   ]
  },
  {
   "cell_type": "markdown",
   "metadata": {},
   "source": [
    "# Overview\n",
    "\n",
    "Requirements:\n",
    "\n",
    "- [Primer on virtual machine](../0-primers/0.3-lesson_virtual_machine.ipynb)\n",
    "\n",
    "Objectives:\n",
    "\n",
    "- Get use to command lines and Ubuntu\n",
    "- Learn how to use a middleware to handle complex robotic systems\n",
    "\n",
    "Time planning:\n",
    "   - Expect a total of 16.5 hours\n",
    "   - 18 % for installing the virtual machine\n",
    "   - 30 % for three reading activities \n",
    "   - 18 % for eleven exercises\n",
    "   - 24 % for studying\n",
    "   - 9 % for an exam"
   ]
  },
  {
   "cell_type": "markdown",
   "metadata": {},
   "source": [
    "# Activities\n",
    "\n",
    "We start our 3D journey with this module.\n",
    "The activities focuses on having a practical experience on managing pipelines of data streamed from sensors.\n",
    "No game this time, it's getting serious, just watch our for ketchup...\n",
    "\n",
    "1. [Overview of ROS](2.1-lesson-ros-overview.ipynb) + [exercises](../../exercises/ex_ros/1e-exercises_basics.ipynb)\n",
    "1. [ROS visualizer (rviz)](2.2-lesson-ros-rviz.ipynb) + [exercises](../../exercises/ex_ros/2e-exercises_rviz.ipynb)\n",
    "1. [Data recording and playback (rosbag)](2.3-lesson-ros-rosbag.ipynb) + [exercises](../../exercises/ex_ros/3e-exercises_rosbag.ipynb)\n",
    "1. [Transformation frames (tf)](2.4-lesson-ros-tf.ipynb) + [exercises](../../exercises/ex_ros/4e-exercises_tf.ipynb)\n",
    "1. [Processing data (roslaunch)](2.5-lesson-ros-roslaunch.ipynb) + [exercises](../../exercises/ex_ros/5e-exercises_roslaunch.ipynb)\n",
    "\n",
    "and on exam:\n",
    "- [Don't mess with tomatoes](2.6-exam_ros.ipynb)\n"
   ]
  },
  {
   "cell_type": "markdown",
   "metadata": {},
   "source": [
    "&#8635; [Go back to the list of modules](../modules_overview.ipynb#List-of-modules)"
   ]
  },
  {
   "cell_type": "markdown",
   "metadata": {},
   "source": [
    "<p style=\"text-align:center\">\n",
    "<img src=\"../../common/images/module_2.jpeg\" width=100%/>\n",
    "</p>"
   ]
  }
 ],
 "metadata": {
  "kernelspec": {
   "display_name": "Python 3",
   "language": "python",
   "name": "python3"
  },
  "language_info": {
   "codemirror_mode": {
    "name": "ipython",
    "version": 3
   },
   "file_extension": ".py",
   "mimetype": "text/x-python",
   "name": "python",
   "nbconvert_exporter": "python",
   "pygments_lexer": "ipython3",
   "version": "3.7.6"
  }
 },
 "nbformat": 4,
 "nbformat_minor": 4
}
