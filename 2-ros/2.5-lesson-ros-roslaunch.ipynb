{
 "cells": [
  {
   "cell_type": "markdown",
   "metadata": {
    "slideshow": {
     "slide_type": "slide"
    }
   },
   "source": [
    "<p style=\"text-align: center;font-size: 40pt\">Roslaunch</p>\n",
    "<p style=\"text-align: center;font-size: 20pt\">A tool for easily launching multiple ROS nodes</p>\n",
    "<img src=\"images/roslaunch_title.png\" width=\"100%\">"
   ]
  },
  {
   "cell_type": "markdown",
   "metadata": {},
   "source": [
    "So far, we have mostly launched ROS nodes by using the `rosrun` command, which runs a single node.\n",
    "In more complex robotic systems, there will be several nodes running in parallel.\n",
    "It would be impractical to have a new terminal session started for each of them.\n",
    "Also, even launching such a system would be a demanding process.\n",
    "\n",
    "ROS offers a solution: the `roslaunch` tool.\n",
    "Its purpose is to launch groups of ROS nodes automatically based on XML text files that list the necessary nodes, their parameters and possibly includes other launch files as well.\n",
    "While a single node would be run by calling `rosrun [package_name] [node_executable_name]`, the corresponding call for starting a launch file is `roslaunch [package_name] [launch_file_name]`.\n",
    "\n",
    "For example, when you were playing with the turtle simulator in the introduction to ROS, you were running a single node by executing `rosrun turtlesim turtlesim_node`.\n",
    "On the other hand, the more complicated tutorial on TF was launching the two chasing turtles by running `roslaunch turtle_tf turtle_tf_demo.launch`.\n",
    "That launch file actually starts five different ROS nodes which work together to read the keyboard commands, display the graphical window with turtles and manage the computations necessary for the chasing turtle to follow the manually controlled turtle.\n",
    "You can see the actual contents of that launch file in the image above.\n",
    "The same output could be achieved by by separately running all the nodes using the `rosrun` command, but this way is so much more convenient...\n"
   ]
  },
  {
   "cell_type": "markdown",
   "metadata": {},
   "source": [
    "# ROS Parameter Server\n",
    "\n",
    "In the introductory lesson to ROS, we have skipped the [Parameter Server](http://wiki.ros.org/Parameter%20Server) functionality offered by the _roscore_.\n",
    "We will catch-up now by looking at the ROS tutorial on this topic.\n",
    "It will help us understand the contents of ROS launch files, since the ROS parameters are often used there to configure the launched ROS nodes.\n",
    "\n",
    "The concept is explained in detail on the [Parameter Server](http://wiki.ros.org/Parameter%20Server) page, but it is really simple.\n",
    "The _roscore_ process can store parameters, which are accessible by all ROS nodes and also manually from a terminal.\n",
    "Each parameter has a name and a value.\n",
    "The value can be a number, a piece of text (string), logical value (True or False) and some other types.\n",
    "We can set them, read them, and clear them.\n",
    "If you terminate the _roscore_, you loose the parameters set there.\n",
    "We have already touched this mechanism before when playing with our small bag file from the DARPA competition.\n",
    "You have executed the `rosparam set use_sim_time true` command to set the `use_sim_time` parameter to the `true` value telling all the running ROS nodes that we were running with a simulated time.\n",
    "\n",
    "Now, to familiarize more with the terminal commands related to the ROS parameters, proceed to the [Understanding ROS Services and Parameters](http://wiki.ros.org/ROS/Tutorials/UnderstandingServicesParams) and focus on Section 3, which shows you how to set and read ROS parameters from the parameter server.\n",
    "They let you play with parameters that configure the turtle simulator - you need one running, you can start it as usual by calling `rosrun turtlesim turtlesim_node`."
   ]
  },
  {
   "cell_type": "markdown",
   "metadata": {},
   "source": [
    "# How to compose and understand a launch file\n",
    "\n",
    "Ok, now we understand what ROS parameters are.\n",
    "That is good because the launch files are usually full of them, besides the ROS nodes and a few other features.\n",
    "\n",
    "The syntax of a launch file follows the XML standard.\n",
    "Let's dissect the launch file from the TF tutorial you might have already used.\n",
    "You can open the launch file by going into the directory which contains them: `roscd turtle_tf/launch` and then opening the file with\n",
    "```\n",
    "$ gedit turtle_tf_demo.launch \n",
    "```\n",
    "The executable `gedit` is a simple text editor installed by default on Ubuntu.\n",
    "\n",
    "You can see right away that the contents of the launch file are between tags that looks like this:\n",
    "```xml\n",
    "<launch>\n",
    " \n",
    "    ...\n",
    "  \n",
    "</launch>\n",
    "```\n",
    "\n",
    "Now what can we put between them?"
   ]
  },
  {
   "cell_type": "markdown",
   "metadata": {},
   "source": [
    "## The \\<node\\> tag\n",
    "    \n",
    "A new node to be launched by the launch file is defined by the \n",
    "```xml\n",
    "<node name=\"...\" pkg=\"...\" type=\"...\" respawn=\"...\" output=\"...\" >\n",
    "    ...\n",
    "</node>\n",
    "```\n",
    "pair of tags, or if you have nothing to add between them, just by\n",
    "```xml\n",
    "<node name=\"...\" pkg=\"...\" type=\"...\" respawn=\"...\" output=\"...\" />\n",
    "```\n",
    "using a single tag.\n",
    "The attributes of the _node_ tag are documented in Section 1.2 of the [node tag documentation](http://wiki.ros.org/roslaunch/XML/node) page.\n",
    "The most important, non-optional attributes are `name`, `pkg` and `type`.\n",
    "The _name_ attribute sets the name for the node which must be unique for the whole ROS network running under one _roscore_.\n",
    "This name is the name you see in `rosnode list` or in the _rqt_graph_ tool.\n",
    "The _pkg_ is the name of the ROS package that contains the node executable.\n",
    "The _type_ is the actual executable to be launched to become a running ROS node.\n",
    "It is usually a C++ compiled binary or a Python script."
   ]
  },
  {
   "cell_type": "markdown",
   "metadata": {},
   "source": [
    "## The \\<param\\> tag\n",
    "\n",
    "This one is less complicated, its mandatory attributes are just _name_ and _value_ and they correspond to what you already know about ROS parameters.\n",
    "The tag itself can be placed to the highest level in the launch file between the `<launch> ... </launch>` tags, such as:\n",
    "```xml\n",
    "<launch>\n",
    "\n",
    "  ...\n",
    "\n",
    "  <param name=\"scale_linear\" value=\"2\" type=\"double\"/>\n",
    "  \n",
    "  ...\n",
    "  \n",
    "</launch>\n",
    "```\n",
    "as taken from the title image above. Then there will be a `/scale_angular` parameter in the parameter server, which you can read by calling `rosparam get /scale_angular`.\n",
    "Or, the _param_ tag can be placed between _node_ tags, the parameter is then placed into a namespace according to the _node_ name.\n",
    "To demonstrate this, let's have a look at the other part of the example:\n",
    "```xml\n",
    "<launch>\n",
    "\n",
    "  ...\n",
    "  \n",
    "  <node name=\"turtle1_tf_broadcaster\" pkg=\"turtle_tf\" type=\"turtle_tf_broadcaster.py\" respawn=\"false\" output=\"screen\" >\n",
    "    <param name=\"turtle\" type=\"string\" value=\"turtle1\" />\n",
    "  </node>\n",
    "  \n",
    "  ...\n",
    "  \n",
    "</launch>\n",
    "```\n",
    "In this case, the parameter is located in the namespace of the \"_turtle1_tf_broadcaster_\" node, so in the parameter server, you will find its value by calling `rosparam get /turtle1_tf_broadcaster/turtle`. "
   ]
  },
  {
   "cell_type": "markdown",
   "metadata": {},
   "source": [
    "## The \\<remap\\> tag\n",
    "\n",
    "The last tag we present in this lesson is the `remap` tag.\n",
    "It allows us to change names of resources in ROS from within a launch file.\n",
    "This is a powerful feature in ROS which allows flexible re-configuration of its components.\n",
    "\n",
    "Imagine you have a node, which by default publishes images on a topic called \"_output_\".\n",
    "For your purposes, you want to change the name to \"_camera_out_\".\n",
    "Then all that needs to be done is adding the _remap_ tag:\n",
    "```xml\n",
    "<launch>\n",
    "\n",
    "  ...\n",
    "  \n",
    "  <node name=\"[node name]\" pkg=\"[package name]\" type=\"[executable name]\">\n",
    "    <remap from=\"output\" to=\"camera_out\"/>\n",
    "  </node>\n",
    "  \n",
    "  ...\n",
    "  \n",
    "</launch>\n",
    "```"
   ]
  },
  {
   "attachments": {},
   "cell_type": "markdown",
   "metadata": {},
   "source": [
    "# Wrap-up\n",
    "\n",
    "Now you should be able to understand basic contents of launch files.\n",
    "\n",
    "The following [exercise](../../exercises/2-ex_ros/2.5-exercises_roslaunch.ipynb) will let you write one by yourself.\n",
    "\n",
    "After that, it will be time to prepare for your exam through this small [exercise](../../exercises/2-ex_ros/2.6-debugging_simple_node.ipynb):\n",
    "- [Don't mess with tomatoes](2.6-exam_ros.ipynb)"
   ]
  },
  {
   "cell_type": "markdown",
   "metadata": {},
   "source": [
    "&#8635; [Go back to the list of lessons](2.0-overview.ipynb)"
   ]
  }
 ],
 "metadata": {
  "kernelspec": {
   "display_name": "Python 3 (ipykernel)",
   "language": "python",
   "name": "python3"
  },
  "language_info": {
   "codemirror_mode": {
    "name": "ipython",
    "version": 3
   },
   "file_extension": ".py",
   "mimetype": "text/x-python",
   "name": "python",
   "nbconvert_exporter": "python",
   "pygments_lexer": "ipython3",
   "version": "3.10.12"
  }
 },
 "nbformat": 4,
 "nbformat_minor": 4
}
