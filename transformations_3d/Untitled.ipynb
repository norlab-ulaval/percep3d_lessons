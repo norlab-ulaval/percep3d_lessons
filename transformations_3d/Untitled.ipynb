{
 "cells": [
  {
   "cell_type": "markdown",
   "metadata": {
    "slideshow": {
     "slide_type": "slide"
    }
   },
   "source": [
    "<p style=\"text-align: center;font-size: 40pt\">Testing code 3D</p>"
   ]
  },
  {
   "cell_type": "code",
   "execution_count": 3,
   "metadata": {},
   "outputs": [],
   "source": [
    "%matplotlib widget\n",
    "#%matplotlib inline\n",
    "\n",
    "import matplotlib.pyplot as plt\n",
    "from mpl_toolkits import mplot3d\n",
    "from mpl_toolkits.mplot3d import proj3d\n",
    "\n",
    "import numpy as np\n",
    "\n",
    "import ipywidgets as widgets\n",
    "\n",
    "%run ./scripts/helper_func.py\n",
    "%run ../../common/scripts/style.py"
   ]
  },
  {
   "cell_type": "markdown",
   "metadata": {},
   "source": [
    "# Overview \n",
    "\n",
    "Requirements\n",
    "- [Rigid transformation in 2D](../transformations_2d/3-lesson_rigid.ipynb)\n",
    "\n",
    "Objectives of this lesson:\n",
    "\n",
    "- review 2D transformation functions\n",
    "- introduce part of the notations used later for 3D rigid transformation\n",
    "- train on easy to view problems before moving to 3D\n"
   ]
  },
  {
   "cell_type": "markdown",
   "metadata": {},
   "source": [
    "Hidden custom latex commands here $ \\curvearrowright$\n",
    "\n",
    "----\n",
    "[comment]: <> (General commands)\n",
    "$\\newcommand{\\textcomma}{\\quad\\text{,}}$\n",
    "$\\newcommand{\\textdot}{\\quad\\text{.}}$\n",
    "$\\newcommand{\\vec}[1]{\\overrightarrow{#1}}$\n",
    "$\\newcommand{\\mat}[1]{\\mathbf{#1}}$\n",
    "$\\newcommand{\\frame}[1]{\\mathcal{#1}}$\n",
    "$\\newcommand{\\point}[2][]{{}^{#1}\\mathbf{#2}}$\n",
    "$\\newcommand{\\pointsym}[2][]{{}^{#1}\\boldsymbol{#2}}$\n",
    "$\\newcommand{\\matsym}[1]{\\boldsymbol{#1}}$\n",
    "$\\newcommand{\\real}{\\mathbb{R}}$\n",
    "$\\newcommand{\\bmat}[1]{\\begin{bmatrix}#1\\end{bmatrix}}$\n",
    "$\\newcommand{\\F}[2][]{{}_{#2}^{#1}\\mathscr{F}}$\n",
    "$\\newcommand{\\Fmat}[2][]{{}_{#2}^{#1}\\mat{F}}$\n",
    "$\\newcommand{\\origin}[2][]{{}_{#2}^{#1}\\mat{o}}$\n",
    "$\\newcommand{\\T}[2][]{{}_{#2}^{#1}\\mat{T}}$\n",
    "$\\newcommand{\\t}[2][]{{}_{#2}^{#1}\\mat{t}}$\n",
    "$\\newcommand{\\R}[2][]{{}_{#2}^{#1}\\mat{R}}$\n",
    "$\\newcommand{\\f}{\\vec{\\mathscr{f}}}}$\n",
    "$\\newcommand{\\ax}[2][]{{}_{#2}^{#1}\\vec{\\mathscr{x}}}$\n",
    "$\\newcommand{\\ay}[2][]{{}_{#2}^{#1}\\vec{\\mathscr{y}}}$\n",
    "$\\newcommand{\\az}[2][]{{}_{#2}^{#1}\\vec{\\mathscr{z}}}$\n",
    "$\\newcommand{\\aw}[2][]{{}_{#2}^{#1}\\vec{\\mathscr{w}}}$\n",
    "$\\newcommand{\\axi}{\\mathscr{x}}$\n",
    "$\\newcommand{\\ayi}{\\mathscr{y}}$\n",
    "$\\newcommand{\\azi}{\\mathscr{z}}$\n",
    "$\\newcommand{\\awi}{\\mathscr{w}}$\n",
    "$\\newcommand{\\pointx}[2][]{{}^{#1}{#2}_{\\axi}}$\n",
    "$\\newcommand{\\pointy}[2][]{{}^{#1}{#2}_{\\ayi}}$\n",
    "$\\newcommand{\\pointz}[2][]{{}^{#1}{#2}_{\\azi}}$\n",
    "$\\newcommand{\\SO}[1]{\\mathrm{SO}(#1)}$\n",
    "----"
   ]
  },
  {
   "cell_type": "code",
   "execution_count": 2,
   "metadata": {},
   "outputs": [
    {
     "data": {
      "application/vnd.jupyter.widget-view+json": {
       "model_id": "e9ef995f98c04641a39caed4018274eb",
       "version_major": 2,
       "version_minor": 0
      },
      "text/plain": [
       "Canvas(toolbar=Toolbar(toolitems=[('Home', 'Reset original view', 'home', 'home'), ('Back', 'Back to previous …"
      ]
     },
     "metadata": {},
     "output_type": "display_data"
    },
    {
     "name": "stdout",
     "output_type": "stream",
     "text": [
      "[<mpl_toolkits.mplot3d.art3d.Line3D object at 0x7f3f53ff4860>]\n"
     ]
    },
    {
     "data": {
      "application/vnd.jupyter.widget-view+json": {
       "model_id": "c6b74e7021224438b304842bdd25be1f",
       "version_major": 2,
       "version_minor": 0
      },
      "text/plain": [
       "interactive(children=(FloatSlider(value=0.0, description='angle', max=3.141592653589793), Output()), _dom_clas…"
      ]
     },
     "metadata": {},
     "output_type": "display_data"
    }
   ],
   "source": [
    "%matplotlib widget\n",
    "#%matplotlib inline\n",
    "\n",
    "from matplotlib.patches import FancyArrowPatch\n",
    "from matplotlib.text import Text\n",
    "\n",
    "def draw_3d_vector(ax, head, text=\"\", origin=[0,0,0], text_offset=[0,0,0]):\n",
    "    text_global = origin + head + text_offset\n",
    "    quiver_handle = ax.quiver(origin[0], origin[1], origin[2], \n",
    "               head[0], head[1], head[2], length=1., normalize=True, linewidths=0.5)\n",
    "    \n",
    "    x2, y2, _ = proj3d.proj_transform(text_global[0], text_global[1], text_global[2], ax.get_proj())\n",
    "    text_handle = ax.text2D(x2, y2, text, size=20)\n",
    "    return (quiver_handle, text_handle)\n",
    "\n",
    "def rotation_matrix_z(theta):\n",
    "    return np.array([[np.cos(theta), -np.sin(theta), 0],\n",
    "                     [np.sin(theta),  np.cos(theta), 0],\n",
    "                     [0,0,0]])\n",
    "\n",
    "#TODO: do the same with text...\n",
    "class Arrow3D(FancyArrowPatch):\n",
    "    def __init__(self, head, origin=[0,0,0], *args, **kwargs):\n",
    "        FancyArrowPatch.__init__(self, (0,0), (0,0), *args, **kwargs)\n",
    "        xs = [origin[0], head[0]]\n",
    "        ys = [origin[1], head[1]]\n",
    "        zs = [origin[2], head[2]]\n",
    "        self._verts3d = xs, ys, zs\n",
    "        self.init_style = self.get_arrowstyle()\n",
    "\n",
    "    def draw(self, renderer):\n",
    "        xs3d, ys3d, zs3d = self._verts3d\n",
    "        xs, ys, zs = proj3d.proj_transform(xs3d, ys3d, zs3d, renderer.M)\n",
    "        print(renderer.M)\n",
    "        FancyArrowPatch.set_positions(self,(xs[0],ys[0]),(xs[1],ys[1]))\n",
    "        dx = np.abs(xs[0] - xs[1])\n",
    "        dy = np.abs(ys[0] - ys[1])\n",
    "        thresh = 0.04\n",
    "        if dx < thresh and dy < thresh:\n",
    "            self.set_arrowstyle(\"->\",head_length=dx*10, head_width=dx*5.)\n",
    "        else:\n",
    "            self.set_arrowstyle(self.init_style)\n",
    "        FancyArrowPatch.draw(self, renderer)\n",
    "        \n",
    "    def set_positions(self, head, origin=[0,0,0]):\n",
    "        xs = [origin[0], head[0]]\n",
    "        ys = [origin[1], head[1]]\n",
    "        zs = [origin[2], head[2]]\n",
    "        self._verts3d = xs, ys, zs\n",
    "\n",
    "        \n",
    "class Annotation3D(Annotation):\n",
    "    '''Annotate the point xyz with text s'''\n",
    "\n",
    "    def __init__(self, s, xyz, text_offset=[0,0,0],*args, **kwargs):\n",
    "        Annotation.__init__(self,s, xy=(0,0), *args, **kwargs)\n",
    "        self._verts3d = xyz + text_offset\n",
    "        self._offset = text_offset\n",
    "\n",
    "    def draw(self, renderer):\n",
    "        xs3d, ys3d, zs3d = self._verts3d\n",
    "        xs, ys, zs = proj3d.proj_transform(xs3d, ys3d, zs3d, renderer.M)\n",
    "        Annotation.set_position(self, (xs,ys))\n",
    "        Annotation.draw(self, renderer)\n",
    "        \n",
    "    def set_position(self, xyz):\n",
    "        self._verts3d = xyz + self._offset\n",
    "        \n",
    "test = np.array([1,0,0])\n",
    "a = np.array([1,0,0])\n",
    "\n",
    "R = rotation_matrix_z(theta=np.pi/2)\n",
    "b = R @ a\n",
    "c = np.cross(a,b)\n",
    "\n",
    "#plt.close(fig)\n",
    "fig = plt.figure(figsize=(4,4))\n",
    "ax = fig.add_subplot(111,projection=\"3d\")\n",
    "\n",
    "lines  = ax.plot3D([],[],[])\n",
    "\n",
    "print(lines)\n",
    "\n",
    "arr = Arrow3D(b, mutation_scale=20, \n",
    "                lw=3, arrowstyle=\"->\", color=\"r\")\n",
    "ax.add_artist(arr)\n",
    "\n",
    "ann = Annotation3D(r\"$\\mathbf{b}$\", b, text_offset=[0,0,-0.2],size=20)\n",
    "ax.add_artist(ann)\n",
    "\n",
    "ax.set_xlim(-1, 1); ax.set_ylim(-1, 1); ax.set_zlim(-1, 1)\n",
    "ax.set_xlabel(\"X\")\n",
    "#text_handle = ax.text2D(0, 0, \"b\", size=20)\n",
    "\n",
    "\n",
    "#text=ax.text2D(0,0, \"\", va=\"bottom\", ha=\"left\")\n",
    "#fig.canvas.draw()\n",
    "\n",
    "def update(angle=0.0):\n",
    "    global b\n",
    "    global quiver_handle\n",
    "    R = rotation_matrix_z(angle)\n",
    "    b = R @ a\n",
    "    c = np.cross(a,b)\n",
    "    \n",
    "    arr.set_positions(b)\n",
    "    ann.set_position(b)\n",
    "    \n",
    "    #x2, y2, _ = proj3d.proj_transform(b[0], b[1], b[2], ax.get_proj())\n",
    "    #text_handle.set_position((x2,y2))\n",
    "    \n",
    "    fig.canvas.draw() #TODO find refreshing bug here\n",
    "\n",
    "#def on_motion(event):\n",
    "#    x2, y2, _ = proj3d.proj_transform(b[0], b[1], b[2], ax.get_proj())\n",
    "#    text_handle.set_position((x2,y2))\n",
    "    #tx = 'button=%d, x=%d, y=%d, xdata=%f, ydata=%f' % (event.button, event.x, event.y, event.xdata, event.ydata)\n",
    "    #tx = '%f, %f' % (x2,y2)\n",
    "    #text.set_text(tx)\n",
    "\n",
    "#cid = fig.canvas.mpl_connect('motion_notify_event', on_motion)\n",
    "#cid = fig.canvas.mpl_connect('draw_event', on_motion)\n",
    "widgets.interact(update, angle = (0, np.pi, 0.1), continuous_update=True);"
   ]
  }
 ],
 "metadata": {
  "kernelspec": {
   "display_name": "Python 3",
   "language": "python",
   "name": "python3"
  },
  "language_info": {
   "codemirror_mode": {
    "name": "ipython",
    "version": 3
   },
   "file_extension": ".py",
   "mimetype": "text/x-python",
   "name": "python",
   "nbconvert_exporter": "python",
   "pygments_lexer": "ipython3",
   "version": "3.8.2"
  }
 },
 "nbformat": 4,
 "nbformat_minor": 4
}
