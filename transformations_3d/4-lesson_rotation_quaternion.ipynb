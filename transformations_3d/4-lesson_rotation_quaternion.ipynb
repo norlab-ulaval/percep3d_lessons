{
 "cells": [
  {
   "cell_type": "markdown",
   "metadata": {
    "slideshow": {
     "slide_type": "slide"
    }
   },
   "source": [
    "<p style=\"text-align: center;font-size: 40pt\">Rotation in 3D - quaternion</p>"
   ]
  },
  {
   "cell_type": "code",
   "execution_count": null,
   "metadata": {},
   "outputs": [],
   "source": [
    "%matplotlib widget\n",
    "#%matplotlib inline\n",
    "\n",
    "import matplotlib.pyplot as plt\n",
    "from mpl_toolkits import mplot3d\n",
    "\n",
    "\n",
    "import numpy as np\n",
    "\n",
    "import ipywidgets as widgets\n",
    "\n",
    "%run ./scripts/helper_func.py\n",
    "path = \"{0}/lessons/transformations_3d/scripts/helper_func.py\".format(get_root_path())\n",
    "%run $path\n",
    "path = \"{0}/common/scripts/style.py\".format(get_root_path())\n",
    "%run $path"
   ]
  },
  {
   "cell_type": "markdown",
   "metadata": {},
   "source": [
    "# Overview \n",
    "\n",
    "Requirements\n",
    "- [Axis-angle parameters](3-lesson_rotation_axis_angle.ipynb)\n",
    "\n",
    "Objectives of this lesson:\n",
    "\n",
    "- Decipher quaternions\n",
    "- Joke about quaternions\n",
    "- Try not to spawn spontaneous combustions with quaternions\n"
   ]
  },
  {
   "cell_type": "markdown",
   "metadata": {},
   "source": [
    "Hidden custom latex commands here $ \\curvearrowright$\n",
    "\n",
    "----\n",
    "[comment]: <> (General commands)\n",
    "$\\newcommand{\\textcomma}{\\quad\\text{,}}$\n",
    "$\\newcommand{\\textdot}{\\quad\\text{.}}$\n",
    "$\\newcommand{\\vec}[1]{\\overrightarrow{#1}}$\n",
    "$\\newcommand{\\mat}[1]{\\mathbf{#1}}$\n",
    "$\\newcommand{\\frame}[1]{\\mathcal{#1}}$\n",
    "$\\newcommand{\\point}[2][]{{}^{#1}\\mathbf{#2}}$\n",
    "$\\newcommand{\\pointsym}[2][]{{}^{#1}\\boldsymbol{#2}}$\n",
    "$\\newcommand{\\matsym}[1]{\\boldsymbol{#1}}$\n",
    "$\\newcommand{\\real}{\\mathbb{R}}$\n",
    "$\\newcommand{\\bmat}[1]{\\begin{bmatrix}#1\\end{bmatrix}}$\n",
    "$\\newcommand{\\F}[2][]{{}_{#2}^{#1}\\mathscr{F}}$\n",
    "$\\newcommand{\\Fmat}[2][]{{}_{#2}^{#1}\\mat{F}}$\n",
    "$\\newcommand{\\origin}[2][]{{}_{#2}^{#1}\\mat{o}}$\n",
    "$\\newcommand{\\T}[2][]{{}_{#2}^{#1}\\mat{T}}$\n",
    "$\\newcommand{\\t}[2][]{{}_{#2}^{#1}\\mat{t}}$\n",
    "$\\newcommand{\\R}[2][]{{}_{#2}^{#1}\\mat{R}}$\n",
    "$\\newcommand{\\f}{\\vec{\\mathscr{f}}}$\n",
    "$\\newcommand{\\ax}[2][]{{}_{#2}^{#1}\\vec{\\mathscr{x}}}$\n",
    "$\\newcommand{\\ay}[2][]{{}_{#2}^{#1}\\vec{\\mathscr{y}}}$\n",
    "$\\newcommand{\\az}[2][]{{}_{#2}^{#1}\\vec{\\mathscr{z}}}$\n",
    "$\\newcommand{\\aw}[2][]{{}_{#2}^{#1}\\vec{\\mathscr{w}}}$\n",
    "$\\newcommand{\\axi}{\\mathscr{x}}$\n",
    "$\\newcommand{\\ayi}{\\mathscr{y}}$\n",
    "$\\newcommand{\\azi}{\\mathscr{z}}$\n",
    "$\\newcommand{\\awi}{\\mathscr{w}}$\n",
    "$\\newcommand{\\pointx}[2][]{{}^{#1}{#2}_{\\axi}}$\n",
    "$\\newcommand{\\pointy}[2][]{{}^{#1}{#2}_{\\ayi}}$\n",
    "$\\newcommand{\\pointz}[2][]{{}^{#1}{#2}_{\\azi}}$\n",
    "$\\newcommand{\\SO}[1]{\\mathrm{SO}(#1)}$\n",
    "----"
   ]
  },
  {
   "cell_type": "markdown",
   "metadata": {},
   "source": [
    "For me, and this is clearly a personal opinion, quaternions are the [Decepticon](https://en.wikipedia.org/wiki/Decepticon) of rotations.\n",
    "Don't get me wrong, they are great and have huge implications in mathematics, but for rotations, people tend to oversell them.\n",
    "Also, just like Decepticons, if you don't know them you might be scared by them.\n",
    "I could just say that they spawn from three imaginary axis from Cybertron.\n",
    "Unless you are a mathematician, your eyes are already melting and your brain is a little confused.\n",
    "Fear not, you are more prepared than you think by coming from the lesson on axis-angle rotations.\n",
    "In this lesson, I won't go into details about Hamiltonian mechanics and we will focus on a geometrical interpretation of **unit** quaternions with the only goal of using them for 3D rotations.\n",
    "\n",
    "<p style=\"text-align:center\">\n",
    "<img src=\"./images/decepticon.png\" width=25% alt=\"License: Creative Commons 4.0 BY-NC\"/>\n",
    "<br>\n",
    "Yep, I'm making jokes about Transformers. \n",
    "It's a lecture about robots after all.\n",
    "</p>\n",
    "\n",
    "\n",
    "First, let's recall the parametrization for axis-angle rotations:\n",
    "\n",
    "\\begin{aligned}\n",
    "\\matsym{\\theta} = \\{\\mat{e}, \\theta\\}\n",
    "\\textdot\n",
    "\\end{aligned}\n",
    "\n",
    "At this point, you should know that $\\mat{e}$ is the axis of rotation and $\\theta$ is the angle producing the rotation around that axis.\n",
    "If $\\theta = 0$, nothing happens and it's the same thing as multiplying a point by the identity matrix.\n",
    "The following figure is taken from the last lesson and just there to help you visualize the axis and the angle.\n",
    "\n",
    "<p style=\"text-align:center\">\n",
    "<img src=\"./images/axis_angle.png\" width=50% alt=\"\"/>\n",
    "<br>\n",
    "Just as a recap from the last lesson.\n",
    "</p>"
   ]
  },
  {
   "cell_type": "markdown",
   "metadata": {},
   "source": [
    "# Parameters\n",
    "\n",
    "A quaternion $\\mat{q}$ is expressed as a 4 $\\times$ 1 vector.\n",
    "Only unit quaternions can be used for rotations, so we have the additional constraint that $\\mat{q}^T \\mat{q} = 1$, which is the same as writing $||\\mat{q}|| = 1$.\n",
    "\n",
    "\\begin{aligned}\n",
    "\\mat{q} \n",
    "= \\bmat{\\matsym{\\epsilon} \\vphantom{\\frac{\\theta}{2}} \\\\ \\eta \\vphantom{\\frac{\\theta}{2}}}\n",
    "= \\bmat{\\left(\\sin \\frac{\\theta}{2} \\right) \\mat{e} \\\\ \\cos \\frac{\\theta}{2}}\n",
    "= \\bmat{\n",
    "\\left(\\sin \\frac{\\theta}{2} \\right) e_\\axi \\\\ \n",
    "\\left(\\sin \\frac{\\theta}{2} \\right) e_\\ayi \\\\ \n",
    "\\left(\\sin \\frac{\\theta}{2} \\right) e_\\azi \\\\ \n",
    "\\cos \\frac{\\theta}{2}}\n",
    "\\textdot\n",
    "\\end{aligned}\n",
    "\n",
    "Following this definition, it's clear that the vector $\\matsym{\\epsilon}$ is simply the rotation vector $\\mat{e}$ scaled by $\\sin \\frac{\\theta}{2}$.\n",
    "This expression is very similar to our axis-angle notation $\\matsym{\\theta} = \\theta \\mat{e}$.\n",
    "At this stage, if you found axis-angle rotations intuitive, just recall that a quaternion is an axis-angle representation in disguise, and you will be fine.\n",
    "If you want a mnemonic trick for the symbols, recall that $\\mat{e}$ is also named the Euler axis, so you could say that $\\matsym{\\epsilon}$ is a modified version of that vector.\n",
    "From the last equation, you should easily realize that the identity quaternion (i.e., a quaternion producing no rotation) is when $\\theta=0$, so we have \n",
    "\n",
    "\\begin{aligned}\n",
    "\\mat{q} \n",
    "= \\bmat{\\left(\\sin 0 \\right) \\mat{e} \\\\ \\cos 0}\n",
    "= \\bmat{\n",
    "0 \\\\ \n",
    "0 \\\\ \n",
    "0 \\\\ \n",
    "1}\n",
    "\\textdot\n",
    "\\end{aligned}\n",
    "\n",
    "The following interactive figure shows $\\matsym{\\epsilon}$ and $\\eta$ in action.\n",
    "I kept the underlying axis-angle representation for comparison.\n",
    "Also, note that $\\eta$ is not a vector, but to draw its geometrical meaning, it is easier to draw its value as a scaled vector connecting a unit circle (in red).\n",
    "While moving the slider, try to relate how the different values change with respect to the angle of rotation.\n",
    "You can change the value of the axis `e` to generate another rotation."
   ]
  },
  {
   "cell_type": "code",
   "execution_count": null,
   "metadata": {},
   "outputs": [],
   "source": [
    "%matplotlib widget\n",
    "if 'fig' in globals():\n",
    "    plt.close(fig)\n",
    "    \n",
    "fig = plt.figure(figsize=(4,4))\n",
    "\n",
    "P = np.array([[-0.9, -1.1, -0.8],\n",
    "              [-1.1, -1.2, -1.2],\n",
    "              [1.1, 0.6, 0.8]])\n",
    "\n",
    "# rotation axis (make some change here)\n",
    "e = np.array([0, -1, -0.2])\n",
    "\n",
    "# ensure that the vector e is normalized\n",
    "e = e/np.linalg.norm(e)\n",
    "\n",
    "axis_ang = Axis_angle(e)\n",
    "\n",
    "#------------------------\n",
    "# plot \n",
    "ax1 = fig.add_subplot(111, projection=\"3d\")\n",
    "ax = ax1\n",
    "ax.set_title(r\"Axis-angle representation\")\n",
    "\n",
    "# computation to draw the circle for the angle\n",
    "radius = 1.0\n",
    "anchor_axis = np.array([e[0]+radius, e[1], e[2]])\n",
    "anchor_axis = anchor_axis/np.linalg.norm(anchor_axis)\n",
    "\n",
    "if np.dot(anchor_axis, e) > 0.98:\n",
    "    anchor_axis = np.array([e[0], e[1]+radius, e[2]])\n",
    "    anchor_axis = anchor_axis/np.linalg.norm(anchor_axis)\n",
    "    \n",
    "anchor_axis = np.cross(np.cross(e, anchor_axis), e)\n",
    "anchor_axis = anchor_axis/np.linalg.norm(anchor_axis)\n",
    "\n",
    "anchor_theta = e+(radius*anchor_axis)\n",
    "\n",
    "ax.scatter(anchor_theta[0],anchor_theta[1],anchor_theta[2], color=\"tab:red\", alpha=0.5, depthshade=False)\n",
    "\n",
    "# draw rotation axis\n",
    "draw_3d_vector(ax, e, text=r\"\", text_offset=[-0.2,-0.1,0], \n",
    "               color=\"tab:blue\", alpha=0.5, size=12)\n",
    "\n",
    "# prepare handles\n",
    "scat_z = ax.scatter([],[],[], color=\"yellow\", depthshade=False)\n",
    "arc = ax.plot([], [], [], color=\"tab:red\", alpha=0.5)\n",
    "rot_axis = draw_3d_vector(ax, text=r\"$\\vec{\\epsilon}$\", text_offset=[0,0,-0.4], \n",
    "                          color=\"tab:green\", size=12)\n",
    "eta_dist = draw_3d_vector(ax, origin=e, text=r\"$\\eta$\", text_offset=[0,0,-0.4], \n",
    "                          color=\"tab:red\", size=12)\n",
    "\n",
    "# graph decoration\n",
    "draw_3d_frame(ax, size=10)\n",
    "ax.set_axis_off()\n",
    "ax_lim = 1.\n",
    "ax.set_xlim(-ax_lim, ax_lim); ax.set_ylim(-ax_lim, ax_lim); ax.set_zlim(-ax_lim, ax_lim)\n",
    "    \n",
    "def update(theta=0.):\n",
    "    P_prime = np.empty_like(P)\n",
    "        \n",
    "    for i,v in enumerate(P.T):\n",
    "        P_prime[:,i] = axis_ang.rotate_point(v, theta)\n",
    "    scat_z._offsets3d = P_prime\n",
    "    \n",
    "    rot_axis[0].set_positions(np.sin(theta/2)*e)\n",
    "    rot_axis[1].set_position(np.sin(theta/2)*e)\n",
    "    eta_dist[0].set_positions(np.cos(theta/2)*anchor_axis+e, origin=e)\n",
    "    eta_dist[1].set_position(np.cos(theta/2)*anchor_axis+e)\n",
    "    \n",
    "    \n",
    "    A = interpolate_rot(anchor_theta, 0., theta, 0.1, axis_ang.to_mat)\n",
    "    arc[0].set_xdata(A[0,:])\n",
    "    arc[0].set_ydata(A[1,:])\n",
    "    arc[0].set_3d_properties(zs=A[2,:])        \n",
    "            \n",
    "    fig.canvas.draw() # needed!\n",
    "\n",
    "widgets.interact(update, theta = (-2.*np.pi, 2.*np.pi, 0.1), continuous_update=False);"
   ]
  },
  {
   "cell_type": "markdown",
   "metadata": {},
   "source": [
    "# Operations"
   ]
  },
  {
   "cell_type": "markdown",
   "metadata": {},
   "source": [
    "## Inverting rotation\n",
    "\n",
    "Recall that, in the axis-angle representation, we could either inverse the angle $\\theta$ or flip the sign of the axis $\\mat{e}$ to inverse the direction of rotation.\n",
    "The same reasoning applies to quaternions with one particularity to take care.\n",
    "Given that $\\cos(\\theta) = \\cos(-\\theta)$, using $-\\theta$ to inverse the rotation would lead to the same $\\eta$.\n",
    "The only remaining option to inverse rotation is then to flip the axis $\\matsym{\\epsilon}$.\n",
    "Thus, we have\n",
    "\n",
    "\\begin{aligned}\n",
    "\\mat{q}^{-1} = \\bmat{-\\matsym{\\epsilon} \\\\ \\eta}\n",
    "\\textdot\n",
    "\\end{aligned}"
   ]
  },
  {
   "cell_type": "markdown",
   "metadata": {},
   "source": [
    "## Rotating a point\n",
    "\n",
    "Typically, when you read about quaternions, you will see that to rotate a point $p$ using a quaternion $q$, you simply need to do"
   ]
  },
  {
   "cell_type": "markdown",
   "metadata": {},
   "source": [
    "\\begin{aligned}\n",
    "p' &= \\color{red}{qpq^{-1}}\n",
    "\\\\\n",
    "&\\text{(not what you think this is...)}\n",
    "\\textdot\n",
    "\\end{aligned}"
   ]
  },
  {
   "cell_type": "markdown",
   "metadata": {},
   "source": [
    "For a 3D rotation, this equation looks so simple that you would be ready to forget the other rotation representations and solely use quaternions.\n",
    "Unfortunately, this is yet another deceiving equation that confuses many students when starting with quaternions.\n",
    "When you see this equation, what is important to recall is that $q$ and $p$ are **not vectors**, they are elements of a number system that extends the complex numbers, yes the thing with imaginary numbers.\n",
    "I will explain what is going on with imaginary numbers in the next section, but for now we will focus on the linear algebra version of quaternions to clearly see what is going on.\n",
    "\n",
    "Given the $4 \\times 1$ vector representation of a quaternion $\\mat{q}=\\bmat{\\matsym{\\epsilon} & \\eta}^T$, we can rotate a point $\\point{\\hat{p}} = \\bmat{\\point{p} & 1}^T$, expressed in homogeneous coordinates, using"
   ]
  },
  {
   "cell_type": "markdown",
   "metadata": {},
   "source": [
    "\\begin{aligned}\n",
    "\\point{p}' = \\left[\\mat{q} \\right]_{+} \\hat{\\left[ \\point{p} \\right]}_{+} \\mat{q}^{-1}\n",
    "\\textcomma\n",
    "\\end{aligned}"
   ]
  },
  {
   "cell_type": "markdown",
   "metadata": {},
   "source": [
    "with the quaternion compound operator $\\left[\\cdot \\right]_{+} $ being analogous to the matrix version of the cross product operator $\\left[\\cdot \\right]_{\\times}$.\n",
    "This new operator takes a $4 \\times 1$ vector and produces a $4 \\times 4$ matrix such that"
   ]
  },
  {
   "cell_type": "markdown",
   "metadata": {},
   "source": [
    "\\begin{aligned}\n",
    "\\left[\\mat{q} \\right]_{+} = \\bmat{\n",
    "\\eta \\mat{I} + \\left[\\matsym{\\epsilon}\\right]_{\\times} & \\matsym{\\epsilon} \\\\\n",
    "-\\matsym{\\epsilon}^T & \\eta\n",
    "}\n",
    "\\textdot\n",
    "\\end{aligned}"
   ]
  },
  {
   "cell_type": "markdown",
   "metadata": {},
   "source": [
    "This suddenly looks less simple than the equation using simply two multiplications presented in red at the beginning of the section, but it is more representative of what is happening under the hood.\n",
    "Namely, we start to see paterns similar to other rotation representations with the use of cross product.\n",
    "To make the rotation formula explicit, here is the full expansion using matrices"
   ]
  },
  {
   "cell_type": "markdown",
   "metadata": {},
   "source": [
    "\\begin{aligned}\n",
    "\\point{p}' = \n",
    "\\bmat{\n",
    "\\eta \\mat{I} + \\left[\\matsym{\\epsilon}\\right]_{\\times} & \\matsym{\\epsilon} \\\\\n",
    "-\\matsym{\\epsilon}^T & \\eta\n",
    "}\n",
    "\\bmat{\n",
    "\\mat{I} + \\left[\\ \\point{p} \\right]_{\\times} & \\point{p} \\\\\n",
    "-\\point{p}^T & 1\n",
    "}\n",
    "\\bmat{\n",
    "-\\matsym{\\epsilon} \\\\\n",
    "\\eta\n",
    "}\n",
    "\\textdot\n",
    "\\end{aligned}"
   ]
  },
  {
   "cell_type": "markdown",
   "metadata": {},
   "source": [
    "## Converting to a rotation matrix\n",
    "\n",
    "We can rearrange the terms of the last equation to move $\\point{p}$ on the right side of the matrix multiplication, and I'm skipping the details here to keep it short, so we get "
   ]
  },
  {
   "cell_type": "markdown",
   "metadata": {},
   "source": [
    "\\begin{aligned}\n",
    "\\point{p}' = \n",
    "\\bmat{\n",
    "\\eta \\mat{I} + \\left[\\matsym{\\epsilon}\\right]_{\\times} & \\matsym{\\epsilon} \n",
    "\\\\\n",
    "-\\matsym{\\epsilon}^T & \\eta\n",
    "}\n",
    "\\bmat{\n",
    "\\eta \\mat{I} + \\left[\\matsym{\\epsilon}\\right]_{\\times} & -\\matsym{\\epsilon} \n",
    "\\\\\n",
    "\\matsym{\\epsilon}^T & \\eta\n",
    "}\n",
    "\\bmat{\n",
    "\\point{p} \\\\\n",
    "1\n",
    "}\n",
    "\\textcomma\n",
    "\\end{aligned}"
   ]
  },
  {
   "cell_type": "markdown",
   "metadata": {},
   "source": [
    "where you can get an intuition on the motivation of using half the angle (i.e., $\\frac{\\theta}{2}$) in the parametrization, as we have almost twice the same matrix multiplying our point $\\point{p}$.\n",
    "Continuing the expansion, and again details are skipped, we get"
   ]
  },
  {
   "cell_type": "markdown",
   "metadata": {},
   "source": [
    "\\begin{aligned}\n",
    "\\point{p}' &= \n",
    "\\bmat{\n",
    "(\\eta^2 - \\matsym{\\epsilon}^T \\matsym{\\epsilon}) \\mat{I} + 2 \\matsym{\\epsilon}\\matsym{\\epsilon}^T + 2 \\eta \\left[\\matsym{\\epsilon}\\right]_{\\times}  & \\mat{0} \n",
    "\\\\\n",
    "\\mat{0} ^T & 1\n",
    "}\n",
    "\\bmat{\n",
    "\\point{p} \\\\\n",
    "1\n",
    "}\n",
    "\\\\\n",
    "\\\\\n",
    "&= \n",
    "\\bmat{\n",
    "\\mat{R}  & \\mat{0} \n",
    "\\\\\n",
    "\\mat{0} ^T & 1\n",
    "}\n",
    "\\bmat{\n",
    "\\point{p} \\\\\n",
    "1\n",
    "}\n",
    "\\textcomma\n",
    "\\end{aligned}"
   ]
  },
  {
   "cell_type": "markdown",
   "metadata": {},
   "source": [
    "leading to"
   ]
  },
  {
   "cell_type": "markdown",
   "metadata": {},
   "source": [
    "\\begin{aligned}\n",
    "\\R{}(\\matsym{\\epsilon}, \\eta) = \n",
    "(\\eta^2 - \\matsym{\\epsilon}^T \\matsym{\\epsilon}) \\, \\mat{I} \n",
    "\\quad + \\quad  2 \\eta \\, \\left[\\matsym{\\epsilon}\\right]_{\\times}\n",
    "\\quad + \\quad 2 \\, \\matsym{\\epsilon}\\matsym{\\epsilon}^T \n",
    "\\textdot\n",
    "\\end{aligned}"
   ]
  },
  {
   "cell_type": "markdown",
   "metadata": {},
   "source": [
    "If you recall the equation from the axis-angle representation, which looks like "
   ]
  },
  {
   "cell_type": "markdown",
   "metadata": {},
   "source": [
    "\\begin{aligned}\n",
    "\\R{}(\\mat{e}, \\theta) = \n",
    "(\\cos \\theta) \\, \\mat{I} \n",
    "+ (\\sin \\theta) \\, {[\\mat{e}]}_{\\times} \n",
    "+ (1 - \\cos \\theta) \\, \\mat{e}^{} \\mat{e}^T\n",
    "\\textcomma\n",
    "\\end{aligned}"
   ]
  },
  {
   "cell_type": "markdown",
   "metadata": {},
   "source": [
    "we see the similarity, as both conversions rely on Rodrigues' rotation formula, with the key advantage that quaternions don't need $\\sin$ and $\\cos$ functions as they are embedded in the parameters $\\matsym{\\epsilon}$ and $\\eta$.\n",
    "Hopefully, by now you see through the mysterious fog and quaternions are not that scary anymore."
   ]
  },
  {
   "cell_type": "markdown",
   "metadata": {},
   "source": [
    "## Chaining quaternions\n",
    "\n",
    "It is a bit harder to use our notation for multiple frames of reference, such as $\\R[A]{C} = \\R[A]{B} \\; \\R[B]{C}$, with quaternions, so we will simply use three quaternions $\\mat{u}$ , $\\mat{v}$ and $\\mat{w}$.\n",
    "The easiest way to chain rotations is by creating another quaternion using"
   ]
  },
  {
   "cell_type": "markdown",
   "metadata": {},
   "source": [
    "\\begin{aligned}\n",
    "\\mat{q} = \\left[ \\mat{u} \\right]_+ \\left[ \\mat{v} \\right]_+ \\mat{w}\n",
    "\\textcomma\n",
    "\\end{aligned}"
   ]
  },
  {
   "cell_type": "markdown",
   "metadata": {},
   "source": [
    "by strictly respecting the order of rotation $\\mat{w}$, $\\left[ \\mat{v} \\right]_+$, then $\\left[ \\mat{u} \\right]_+$. Then applying our regular rotation equation to rotate a point $\\point{\\hat{p}}$, expressed in homogeneous coordinates, using"
   ]
  },
  {
   "cell_type": "markdown",
   "metadata": {},
   "source": [
    "\\begin{aligned}\n",
    "\\point{p}' = \\left[\\mat{q} \\right]_{+} \\hat{\\left[ \\point{p} \\right]}_{+} \\mat{q}^{-1}\n",
    "\\textdot\n",
    "\\end{aligned}"
   ]
  },
  {
   "cell_type": "markdown",
   "metadata": {},
   "source": [
    "Given that the operator $\\left[\\cdot \\right]_{+}$ is not symmetric, it should be clear that chaining rotations is not a commutative operation, thus"
   ]
  },
  {
   "cell_type": "markdown",
   "metadata": {},
   "source": [
    "\\begin{aligned}\n",
    "\\left[ \\mat{v} \\right]_+ \\mat{w} \\neq \\left[ \\mat{w} \\right]_+ \\mat{v}\n",
    "\\textdot\n",
    "\\end{aligned}"
   ]
  },
  {
   "cell_type": "markdown",
   "metadata": {},
   "source": [
    "As all other rotation representation, the order you use to chain rotations matter.\n",
    "So, be very carefully before combining your quaternions, otherwise it will take you some time to debug your code and figure out why your robot when into the wall instead of avoiding it.\n",
    "\n",
    "Now you can read this:\n",
    "> Question: Why do quaternions work from home? \n",
    ">\n",
    "> Answer: Because they don't commute...\n",
    "\n",
    "understand it, don't laugh because no one should laugh at math jokes really, and then move on."
   ]
  },
  {
   "cell_type": "markdown",
   "metadata": {},
   "source": [
    "# Historical notes\n",
    "\n",
    "In the introduction of this lesson, I told you that we wouldn't bother with imaginary numbers, but I was lying just to not scare you too much...\n",
    "This section assumes that you understand quaternions defined as vectors and aims at removing the mysterious aspect of imaginary axis.\n",
    "Now that we have access to a well-defined linear algebra, it's easy to see the relation between quaternions and 3D rotations, but that wasn't the case back in the time.\n",
    "Quaternions were first introduced as an extension to complex numbers.\n",
    "In fact, quaternions were first proposed by the Irish mathematician [William Rowan Hamilton](https://en.wikipedia.org/wiki/William_Rowan_Hamilton) in 1843 under the format"
   ]
  },
  {
   "cell_type": "markdown",
   "metadata": {},
   "source": [
    "\\begin{aligned}\n",
    "q = a1 + bi + cj + dk\n",
    "\\textcomma\n",
    "\\end{aligned}"
   ]
  },
  {
   "cell_type": "markdown",
   "metadata": {},
   "source": [
    "with $q \\in \\mathbb{H}$.\n",
    "Notice that there is no bold for $q$ so it looks more like a scalar than a vector, but it's part of $\\mathbb{H}$.\n",
    "The H in $\\mathbb{H}$ stands for Hamilton and this space has its own algebraic operators.\n",
    "Just like complex numbers, which look like $a +bi$, $a$ is a scalar, thus the 1 following it, and $b,c,d$ are on their own imaginary axis $i,j,k$.\n",
    "As in any sci-fi movie, to generate the operators, you just need to respect those rules:"
   ]
  },
  {
   "cell_type": "markdown",
   "metadata": {},
   "source": [
    "\\begin{aligned}\n",
    "i^2 &= j^2 = k^2 = -1\n",
    "\\\\\n",
    "ij &= k, \\quad ji = -k \\\\\n",
    "jk &= i, \\quad kj = -i\\\\\n",
    "ki &= j, \\quad ik = -j\n",
    "\\textdot\n",
    "\\end{aligned}"
   ]
  },
  {
   "cell_type": "markdown",
   "metadata": {},
   "source": [
    "This looks confusing, I agree, but an interesting pattern appears when you look at all the multiplication combinations in a table, such as"
   ]
  },
  {
   "cell_type": "markdown",
   "metadata": {},
   "source": [
    "\\begin{aligned}\n",
    "\\begin{matrix}\n",
    "  & \\color{grey}{i}  & \\color{grey}{j}  &  \\color{grey}{k} & \\color{grey}{1} \\\\\n",
    "\\color{grey}{i} & -1 & k  & -j & i \\\\\n",
    "\\color{grey}{j} & -k & -1 &  i & j \\\\\n",
    "\\color{grey}{k} &  j & -i & -1 & k \\\\\n",
    "\\color{grey}{1} &  i &  j &  k & 1 \\\\\n",
    "\\end{matrix}\n",
    "\\end{aligned}"
   ]
  },
  {
   "cell_type": "markdown",
   "metadata": {},
   "source": [
    "We can see something that looks like identity minus some [skew-symmetric matrix](https://en.wikipedia.org/wiki/Skew-symmetric_matrix).\n",
    "Around 40 years after the creation of quaternions, [Josiah Willard Gibbs](https://en.wikipedia.org/wiki/Josiah_Willard_Gibbs) was getting tired of those weird algebraic rules and eventually created the cross product, which was nicely connecting **unit quaternions** to 3D rotations."
   ]
  },
  {
   "cell_type": "markdown",
   "metadata": {},
   "source": [
    "# Problem with conventions\n",
    "\n",
    "When we write the coordinates of a point $\\point{p} = \\bmat{3 & 5 & 8}^T$, it is implicit that $\\point{p} = \\bmat{p_\\axi & p_\\ayi & p_\\azi}^T$.\n",
    "In other words, when we blindly receive an array with three elements, we don't ask ourselves what they mean.\n",
    "We know that the first element is associated to $\\ax{}$, the second one to $\\ay{}$ and the third one to $\\az{}$.\n",
    "But that is only by assuming a convention that everyone respects.\n",
    "Unfortunately, this is not the case with quaternions.\n",
    "In this lesson, I avoided the problem by using the vector component $\\matsym{\\epsilon}$ and the scalar component $\\eta$ in all the equations.\n",
    "In most mathematic libraries, the components will be referred to as `x`, `y`, `z`,  for the elements of the vector $\\matsym{\\epsilon}$ and `w` for the scalar $\\eta$.\n",
    "Unfortunatly, the order you need to pass these parameters to a quaternion constructor will depend of the library.\n",
    "For example:\n",
    "\n",
    "- scipy and ROS expect you to provide an array `[x, y, z, w]`\n",
    "- Matlab and Eigen expect `[w, x, y, z]`\n",
    "\n",
    "The confusion comes from whether the notation respects the original equation from Hamilton or is a bit more aligned with matrix multiplications.\n",
    "Here is a good excerpt from Eigen's documentation that highlights well this confusion:\n",
    "\n",
    "> Note the order of the arguments: the real `w` coefficient first, while internally the coefficients are stored in the following order: `[x, y, z, w]`.\n",
    "\n",
    "There is another convention problem, and that one is more specific to aerospace, with some spillover in robotics.\n",
    "A convention from NASA’s Jet Propulsion Laboratory uses a left-handed notation for rotations, leading to rotation matrix conversions that will flip the rotations.\n",
    "Even in Wikipedia, we see a confusion in the equations.\n",
    "Therefore, as with the other rotation parameters, don't assume that everyone parametrized their quaternions like you.\n",
    "\n",
    "Now you know... \n"
   ]
  },
  {
   "cell_type": "markdown",
   "metadata": {},
   "source": [
    "# Pros and cons\n",
    "\n",
    "- It is easier to normalize a 4 $\\times$ 1 vector than to make sure that a rotation matrix is orthogonal.\n",
    "\n",
    "- More compact representation (four parameters) than rotation matrix (nine parameters).\n",
    "  Given that the angle is hidden in $\\matsym{\\epsilon}$, you get away with storing only the three parameters from $\\matsym{\\epsilon}$ and recovering $\\eta$ using the norm of $\\matsym{\\epsilon}$.\n",
    "\n",
    "- Conversion from a rotation matrix to a quaternion is not a simple formula. \n",
    "  You need an algorithm to avoid divisions per zero in some corner cases. \n",
    "\n",
    "- It requires more operations to rotate a vector than rotation matrices.\n",
    "\n",
    "- Conversions from quaternions to rotation matrices avoid the use of the functions $\\sin$ and $\\cos$, which are needed for the axis-angle representation.\n",
    "\n",
    "- You need to be extra careful about equations randomly found on the Web as conventions may differ from what you expect.\n",
    "\n",
    "- Having a notation that keeps track of different frames is harder because of the multiplications on both sides.\n",
    "\n",
    "- There is no easy way to combine with translations.\n"
   ]
  },
  {
   "cell_type": "markdown",
   "metadata": {},
   "source": [
    "# Conclusion\n",
    "\n",
    "You should do the following activities to enhance your understanding of the concepts viewed in this lesson:\n",
    "- play with the Python scripts provided;\n",
    "- do the [exercises](../../exercises/transformations_3d/4e-exercises_quaternions.ipynb) related to this lesson, they are necessary to connect concepts;\n",
    "- modify the markdown by adding your own notes using `> my notes`; and\n",
    "- complete the tables [Symbol definitions](#Symbol-definitions) and [Glossary](#Glossary) and add your own definitions.\n",
    "\n",
    "Parallel lesson:\n",
    "- [Euler angles](3-lesson_rotation_euler_angles.ipynb)\n",
    "\n",
    "Next lesson:\n",
    "- [Special Euclidean group](5-lesson_se3.ipynb)"
   ]
  },
  {
   "cell_type": "markdown",
   "metadata": {},
   "source": [
    "## Symbol definitions\n",
    "\n",
    "| Symbol                      | Definition            |\n",
    "|--------------------         |-------------          |\n",
    "| $\\real$                     | real set              |\n",
    "| $\\mathbb{H}$                | Hamilton set          |\n",
    "| $\\in$                       | ... is part of ...    |\n",
    "| $\\matsym{\\epsilon}$     | axis part of a quaternion |\n",
    "| $\\eta$       | scalar or angle part of a quaternion |\n",
    "| $\\mat{e}$      | axis part of angle-axis parameters |\n",
    "| $\\theta$      | angle part of angle-axis parameters |\n",
    "| $[\\cdot]_\\times$            | cross product operator|\n",
    "| $[\\cdot]_+$          | quaternion compound operator |\n",
    "| $i$, $j$ and $k$     | imaginary axis |\n",
    "| ...                         |                       |"
   ]
  },
  {
   "cell_type": "markdown",
   "metadata": {},
   "source": [
    "## Glossary\n",
    "\n",
    "| English               | Français                | Definition |\n",
    "|-----------            |------------             |------------|\n",
    "| unit quaternion       | quaternions unitaires   |            |\n",
    "| Decepticons           | Decepticons             |            |\n",
    "| ...                   |                         |            |"
   ]
  }
 ],
 "metadata": {
  "kernelspec": {
   "display_name": "Python 3",
   "language": "python",
   "name": "python3"
  },
  "language_info": {
   "codemirror_mode": {
    "name": "ipython",
    "version": 3
   },
   "file_extension": ".py",
   "mimetype": "text/x-python",
   "name": "python",
   "nbconvert_exporter": "python",
   "pygments_lexer": "ipython3",
   "version": "3.7.6"
  }
 },
 "nbformat": 4,
 "nbformat_minor": 4
}