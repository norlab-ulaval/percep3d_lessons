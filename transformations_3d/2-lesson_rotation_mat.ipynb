{
 "cells": [
  {
   "cell_type": "markdown",
   "metadata": {
    "slideshow": {
     "slide_type": "slide"
    }
   },
   "source": [
    "<p style=\"text-align: center;font-size: 40pt\">Rotation in 3D - matrix</p>"
   ]
  },
  {
   "cell_type": "code",
   "execution_count": null,
   "metadata": {},
   "outputs": [],
   "source": [
    "%matplotlib widget\n",
    "#%matplotlib inline\n",
    "\n",
    "import matplotlib.pyplot as plt\n",
    "from mpl_toolkits import mplot3d\n",
    "\n",
    "\n",
    "import numpy as np\n",
    "\n",
    "import ipywidgets as widgets\n",
    "\n",
    "%run ./scripts/helper_func.py\n",
    "path = \"{0}/lessons/transformations_3d/scripts/helper_func.py\".format(get_root_path())\n",
    "%run $path\n",
    "path = \"{0}/common/scripts/style.py\".format(get_root_path())\n",
    "%run $path"
   ]
  },
  {
   "cell_type": "markdown",
   "metadata": {},
   "source": [
    "# Overview \n",
    "\n",
    "Requirements\n",
    "- [Coordinate systems in 3D](./1-lesson_coordinates_3d.ipynb)\n",
    "\n",
    "Objectives of this lesson:\n",
    "\n",
    "- Give the basis of rotation matrices in 3D\n",
    "- Introduce the concept of principal rotations\n",
    "- Give pros and cons for using rotation matrices\n"
   ]
  },
  {
   "cell_type": "markdown",
   "metadata": {},
   "source": [
    "Hidden custom latex commands here $ \\curvearrowright$\n",
    "\n",
    "----\n",
    "[comment]: <> (General commands)\n",
    "$\\newcommand{\\textcomma}{\\quad\\text{,}}$\n",
    "$\\newcommand{\\textdot}{\\quad\\text{.}}$\n",
    "$\\newcommand{\\vec}[1]{\\overrightarrow{#1}}$\n",
    "$\\newcommand{\\mat}[1]{\\mathbf{#1}}$\n",
    "$\\newcommand{\\frame}[1]{\\mathcal{#1}}$\n",
    "$\\newcommand{\\point}[2][]{{}^{#1}\\mathbf{#2}}$\n",
    "$\\newcommand{\\pointsym}[2][]{{}^{#1}\\boldsymbol{#2}}$\n",
    "$\\newcommand{\\matsym}[1]{\\boldsymbol{#1}}$\n",
    "$\\newcommand{\\real}{\\mathbb{R}}$\n",
    "$\\newcommand{\\bmat}[1]{\\begin{bmatrix}#1\\end{bmatrix}}$\n",
    "$\\newcommand{\\F}[2][]{{}_{#2}^{#1}\\mathscr{F}}$\n",
    "$\\newcommand{\\Fmat}[2][]{{}_{#2}^{#1}\\mat{F}}$\n",
    "$\\newcommand{\\origin}[2][]{{}_{#2}^{#1}\\mat{o}}$\n",
    "$\\newcommand{\\T}[2][]{{}_{#2}^{#1}\\mat{T}}$\n",
    "$\\newcommand{\\t}[2][]{{}_{#2}^{#1}\\mat{t}}$\n",
    "$\\newcommand{\\R}[2][]{{}_{#2}^{#1}\\mat{R}}$\n",
    "$\\newcommand{\\f}{\\vec{\\mathscr{f}}}$\n",
    "$\\newcommand{\\ax}[2][]{{}_{#2}^{#1}\\vec{\\mathscr{x}}}$\n",
    "$\\newcommand{\\ay}[2][]{{}_{#2}^{#1}\\vec{\\mathscr{y}}}$\n",
    "$\\newcommand{\\az}[2][]{{}_{#2}^{#1}\\vec{\\mathscr{z}}}$\n",
    "$\\newcommand{\\aw}[2][]{{}_{#2}^{#1}\\vec{\\mathscr{w}}}$\n",
    "$\\newcommand{\\axi}{\\mathscr{x}}$\n",
    "$\\newcommand{\\ayi}{\\mathscr{y}}$\n",
    "$\\newcommand{\\azi}{\\mathscr{z}}$\n",
    "$\\newcommand{\\awi}{\\mathscr{w}}$\n",
    "$\\newcommand{\\pointx}[2][]{{}^{#1}{#2}_{\\axi}}$\n",
    "$\\newcommand{\\pointy}[2][]{{}^{#1}{#2}_{\\ayi}}$\n",
    "$\\newcommand{\\pointz}[2][]{{}^{#1}{#2}_{\\azi}}$\n",
    "$\\newcommand{\\SO}[1]{\\mathrm{SO}(#1)}$\n",
    "----"
   ]
  },
  {
   "cell_type": "markdown",
   "metadata": {},
   "source": [
    "# Parameters\n",
    "\n",
    "A rotation matrix in 3D is a $3 \\times 3$ matrix, which gives nine parameters to deal with"
   ]
  },
  {
   "cell_type": "markdown",
   "metadata": {},
   "source": [
    "\\begin{aligned}\n",
    "\\R{} \n",
    "&= \\bmat{\n",
    "r_{11} & r_{12} & r_{13} \\\\\n",
    "r_{21} & r_{22} & r_{23} \\\\\n",
    "r_{31} & r_{32} & r_{33} \\\\\n",
    "}\n",
    "\\textdot\n",
    "\\end{aligned}"
   ]
  },
  {
   "cell_type": "markdown",
   "metadata": {},
   "source": [
    "As seen in 2D, rotation matrices are interlinked with the definition of basis vectors, where each column represents coordinates of a vector, such that"
   ]
  },
  {
   "cell_type": "markdown",
   "metadata": {},
   "source": [
    "\\begin{aligned}\n",
    "\\R{} \n",
    "&= \\bmat{\\point{r}_\\axi & \\point{r}_\\ayi & \\point{r}_\\azi}\n",
    "\\textdot\n",
    "\\end{aligned}"
   ]
  },
  {
   "cell_type": "markdown",
   "metadata": {},
   "source": [
    "Each column of the matrix $\\R{}$ can be seen as where its respective standard basis vector would end after applying the rotation.\n",
    "For example, we can rapidly compute"
   ]
  },
  {
   "cell_type": "markdown",
   "metadata": {},
   "source": [
    "\\begin{aligned}\n",
    "\\point{p} &= \\R{} \\ax{}\n",
    "\\\\\n",
    "&= \\bmat{\\point{r}_\\axi & \\point{r}_\\ayi & \\point{r}_\\azi} \n",
    "\\bmat{1 \\\\ 0 \\\\ 0}\n",
    "\\\\\n",
    "&= \\point{r}_\\axi\n",
    "\\textdot\n",
    "\\end{aligned}"
   ]
  },
  {
   "cell_type": "markdown",
   "metadata": {},
   "source": [
    "The same applies to the other standard basis vectors"
   ]
  },
  {
   "cell_type": "markdown",
   "metadata": {},
   "source": [
    "\\begin{aligned}\n",
    "\\point{r}_\\ayi &= \\R{} \\ay{}\n",
    "\\quad \\text{and} \\quad\n",
    "\\point{r}_\\azi = \\R{} \\az{}\n",
    "\\textdot\n",
    "\\end{aligned}"
   ]
  },
  {
   "cell_type": "markdown",
   "metadata": {},
   "source": [
    "# Direction cosine matrix\n",
    "\n",
    "Each coefficient of $\\R{}$ is better explained through the direction cosine matrix.\n",
    "We have seen in the lesson [Rigid transformation in 2D](../transformations_2d/3-lesson_rigid.ipynb) that the direction cosine matrix emerges from a transformation between two reference frames with their own basis vectors.\n",
    "We can do the same demonstration in 3D.\n",
    "\n",
    "Let's define the relation between $\\F{A}$ and $\\F{B}$ in the situation where they share the same origin.\n",
    "We can search for the matrix that would express a point $\\point[B]{p}$ in $\\F{A}$ using "
   ]
  },
  {
   "cell_type": "markdown",
   "metadata": {},
   "source": [
    "\\begin{aligned}\n",
    "\\Fmat{A} \\; \\point[A]{p} &= \\Fmat{B} \\; \\point[B]{p} \\\\\n",
    "\\point[A]{p} &= \\Fmat[A]{}  \\; \\Fmat{B} \\; \\point[B]{p} \\\\\n",
    "&= \\bmat{ \\ax[A]{}^T \\\\ \\ay[A]{}^T \\\\ \\az[A]{}^T} \\bmat{ \\ax{B} & \\ay{B} & \\az{B}} \\; \\point[B]{p} \n",
    "\\\\\n",
    "&= \\bmat{ \n",
    "\\left( \\ax[A]{} \\cdot \\ax{B} \\right) & \\left( \\ax[A]{} \\cdot  \\ay{B} \\right) & \\left( \\ax[A]{} \\cdot  \\az{B} \\right)\n",
    "\\\\ \n",
    "\\left( \\ay[A]{} \\cdot \\ax{B} \\right) & \\left( \\ay[A]{} \\cdot  \\ay{B} \\right) & \\left( \\ay[A]{} \\cdot  \\az{B} \\right)\n",
    "\\\\\n",
    "\\left( \\az[A]{} \\cdot \\ax{B} \\right) & \\left( \\az[A]{} \\cdot  \\ay{B} \\right) & \\left( \\az[A]{} \\cdot  \\az{B} \\right)\n",
    "\\\\\n",
    "}  \n",
    "\\; \\point[B]{p} \n",
    "\\\\\n",
    "&= \\bmat{ \n",
    "\\cos \\theta_{\\axi\\axi} & \\cos \\theta_{\\axi\\ayi} & \\cos \\theta_{\\axi\\azi}\n",
    "\\\\ \n",
    "\\cos \\theta_{\\ayi\\axi} & \\cos \\theta_{\\ayi\\ayi} & \\cos \\theta_{\\ayi\\azi}\n",
    "\\\\\n",
    "\\cos \\theta_{\\azi\\axi} & \\cos \\theta_{\\azi\\ayi} & \\cos \\theta_{\\azi\\azi}\n",
    "\\\\\n",
    "}  \n",
    "\\; \\point[B]{p} \n",
    "\\\\\n",
    "&= \\R[A]{B} \\; \\point[B]{p}\n",
    "\\textcomma\n",
    "\\end{aligned}"
   ]
  },
  {
   "cell_type": "markdown",
   "metadata": {},
   "source": [
    "where the short notation $\\theta_{ij}$ is used to designate the angle between the $i$-basis vector in $\\frame{A}$ and the $j$-basis vector in $\\frame{B}$.\n",
    "Recall that the $\\cos$ function comes from the dot product property stating that the dot product of two unit vectors directly equals the cosine of the angle between them.\n",
    "We finish with a rotation matrix that can be expressed as nine angles, one for each combination of basis vectors from two frames, such that"
   ]
  },
  {
   "cell_type": "markdown",
   "metadata": {},
   "source": [
    "\\begin{aligned}\n",
    "\\R{} \n",
    "&= \\bmat{ \n",
    "\\cos \\theta_{\\axi\\axi} & \\cos \\theta_{\\axi\\ayi} & \\cos \\theta_{\\axi\\azi}\n",
    "\\\\ \n",
    "\\cos \\theta_{\\ayi\\axi} & \\cos \\theta_{\\ayi\\ayi} & \\cos \\theta_{\\ayi\\azi}\n",
    "\\\\\n",
    "\\cos \\theta_{\\azi\\axi} & \\cos \\theta_{\\azi\\ayi} & \\cos \\theta_{\\azi\\azi}\n",
    "\\\\\n",
    "}\n",
    "\\textdot\n",
    "\\end{aligned}"
   ]
  },
  {
   "cell_type": "markdown",
   "metadata": {},
   "source": [
    "Unfortunately, this matrix cannot be further simplified as in the 2D case, but we will develop an intuition of what the matrix means using the _principal rotations_ defined in the next section."
   ]
  },
  {
   "cell_type": "markdown",
   "metadata": {},
   "source": [
    "# Principal rotations\n",
    "\n",
    "Principal rotations are simply a rotation around a single basis vector.\n",
    "This simplification will allow us to express the whole rotation matrix with a single angle.\n",
    "Another way to see a principal rotation around a basis vector is to realize that coordinates of that basis vector will remain unchanged.\n",
    "The following figure shows three points rotating by the same angle, but following different basis vectors.\n",
    "As for many 3D graphs, you will have to rotate the graphs with your mouses to understand better the scene.\n",
    "\n",
    "- Before using the slider to change `theta`, can you predict in which direction the blue points will rotate for a positive value of `theta`?"
   ]
  },
  {
   "cell_type": "code",
   "execution_count": null,
   "metadata": {},
   "outputs": [],
   "source": [
    "%matplotlib widget\n",
    "if 'fig' in globals():\n",
    "    plt.close(fig)\n",
    "    \n",
    "fig = plt.figure(figsize=(9,3))\n",
    "\n",
    "P = np.array([[0.5, 0.1, 0.8],\n",
    "              [0.5, 0.8, 0.2],\n",
    "              [0.5, 0.6, 0.8]])\n",
    "\n",
    "#------------------------\n",
    "# plot for z axis\n",
    "ax1 = fig.add_subplot(131, projection=\"3d\")\n",
    "ax = ax1\n",
    "ax.set_title(r\"Rotation around $\\vec{\\mathscr{z}}$\")\n",
    "\n",
    "# prepare handles\n",
    "scat_z = ax.scatter([],[],[], color=\"tab:blue\", depthshade=False)\n",
    "arc_z_p1 = ax.plot([], [], [], color=\"tab:blue\")\n",
    "arc_z_p2 = ax.plot([], [], [], color=\"tab:blue\")\n",
    "arc_z_p3 = ax.plot([], [], [], color=\"tab:blue\")\n",
    "arc_z = ax.plot([], [], [], color=\"tab:red\")\n",
    "r_z_x, _ = draw_3d_vector(ax, color=\"tab:red\", alpha=0.5)\n",
    "r_z_y, _ = draw_3d_vector(ax, color=\"tab:red\", alpha=0.5)\n",
    "\n",
    "#------------------------\n",
    "# plot for y axis\n",
    "ax2 = fig.add_subplot(132, projection=\"3d\")\n",
    "ax = ax2\n",
    "ax.set_title(r\"Rotation around $\\vec{\\mathscr{y}}$\")\n",
    "\n",
    "\n",
    "# prepare handles\n",
    "scat_y = ax.scatter([],[],[], color=\"tab:blue\", depthshade=False)\n",
    "arc_y_p1 = ax.plot([], [], [], color=\"tab:blue\")\n",
    "arc_y_p2 = ax.plot([], [], [], color=\"tab:blue\")\n",
    "arc_y_p3 = ax.plot([], [], [], color=\"tab:blue\")\n",
    "arc_y = ax.plot([], [], [], color=\"tab:red\")\n",
    "r_y_x, _ = draw_3d_vector(ax, color=\"tab:red\", alpha=0.5)\n",
    "r_y_z, _ = draw_3d_vector(ax, color=\"tab:red\", alpha=0.5)\n",
    "\n",
    "#------------------------\n",
    "# plot for y axis\n",
    "ax3 = fig.add_subplot(133, projection=\"3d\")\n",
    "ax = ax3\n",
    "ax.set_title(r\"Rotation around $\\vec{\\mathscr{x}}$\")\n",
    "\n",
    "# prepare handles\n",
    "scat_x = ax.scatter([],[],[], color=\"tab:blue\", depthshade=False)\n",
    "arc_x_p1 = ax.plot([], [], [], color=\"tab:blue\")\n",
    "arc_x_p2 = ax.plot([], [], [], color=\"tab:blue\")\n",
    "arc_x_p3 = ax.plot([], [], [], color=\"tab:blue\")\n",
    "arc_x = ax.plot([], [], [], color=\"tab:red\")\n",
    "r_x_y, _ = draw_3d_vector(ax, color=\"tab:red\", alpha=0.5)\n",
    "r_x_z, _ = draw_3d_vector(ax, color=\"tab:red\", alpha=0.5)\n",
    "\n",
    "for ax in [ax1, ax2, ax3]:\n",
    "    draw_3d_frame(ax)\n",
    "\n",
    "    ax.set_axis_off()\n",
    "    ax_lim = 1.\n",
    "    ax.set_xlim(-ax_lim, ax_lim); ax.set_ylim(-ax_lim, ax_lim); ax.set_zlim(-ax_lim, ax_lim)\n",
    "\n",
    "    \n",
    "def update(theta=0.):\n",
    "    R_z = rotation_matrix_z(theta)\n",
    "    P_prime = R_z @ P\n",
    "    scat_z._offsets3d = P_prime\n",
    "    for i, arc in enumerate([arc_z_p1, arc_z_p2, arc_z_p3]):\n",
    "        A = interpolate_rot(P[:,i], 0, theta, 0.1, rotation_matrix_z)\n",
    "        arc[0].set_xdata(A[0,:])\n",
    "        arc[0].set_ydata(A[1,:])\n",
    "        arc[0].set_3d_properties(zs=A[2,:])\n",
    "    \n",
    "    r_z_x.set_positions(R_z[:,0])\n",
    "    r_z_y.set_positions(R_z[:,1])\n",
    "    \n",
    "    A = interpolate_rot(np.array([1,0,0]), 0, theta, 0.1, rotation_matrix_z)\n",
    "    arc_z[0].set_xdata(A[0,:])\n",
    "    arc_z[0].set_ydata(A[1,:])\n",
    "    arc_z[0].set_3d_properties(zs=A[2,:])\n",
    "\n",
    "    \n",
    "    R_y = rotation_matrix_y(theta)\n",
    "    P_prime = R_y @ P\n",
    "    scat_y._offsets3d = P_prime\n",
    "    for i, arc in enumerate([arc_y_p1, arc_y_p2, arc_y_p3]):\n",
    "        A = interpolate_rot(P[:,i], 0, theta, 0.1, rotation_matrix_y)\n",
    "        arc[0].set_xdata(A[0,:])\n",
    "        arc[0].set_ydata(A[1,:])\n",
    "        arc[0].set_3d_properties(zs=A[2,:])\n",
    "        \n",
    "    r_y_x.set_positions(R_y[:,0])\n",
    "    r_y_z.set_positions(R_y[:,2])\n",
    "    A = interpolate_rot(np.array([1,0,0]), 0, theta, 0.1, rotation_matrix_y)\n",
    "    arc_y[0].set_xdata(A[0,:])\n",
    "    arc_y[0].set_ydata(A[1,:])\n",
    "    arc_y[0].set_3d_properties(zs=A[2,:])\n",
    "    \n",
    "    R_x = rotation_matrix_x(theta)\n",
    "    P_prime = R_x @ P\n",
    "    scat_x._offsets3d = P_prime\n",
    "    for i, arc in enumerate([arc_x_p1, arc_x_p2, arc_x_p3]):\n",
    "        A = interpolate_rot(P[:,i], 0, theta, 0.1, rotation_matrix_x)\n",
    "        arc[0].set_xdata(A[0,:])\n",
    "        arc[0].set_ydata(A[1,:])\n",
    "        arc[0].set_3d_properties(zs=A[2,:])\n",
    "    \n",
    "    r_x_y.set_positions(R_x[:,1])\n",
    "    r_x_z.set_positions(R_x[:,2])\n",
    "    A = interpolate_rot(np.array([0,1,0]), 0, theta, 0.1, rotation_matrix_x)\n",
    "    arc_x[0].set_xdata(A[0,:])\n",
    "    arc_x[0].set_ydata(A[1,:])\n",
    "    arc_x[0].set_3d_properties(zs=A[2,:])\n",
    "    \n",
    "    fig.canvas.draw() # needed!\n",
    "\n",
    "\n",
    "widgets.interact(update, theta = (-np.pi, np.pi, 0.1), continuous_update=False);"
   ]
  },
  {
   "cell_type": "markdown",
   "metadata": {},
   "source": [
    "Let's see what the rotation matrix for a principal rotation around $\\ay{}$ should look like.\n",
    "Recall that the frame $\\frame{B}$ is the rotating frame.\n",
    "From our prior observation with the figure, we know that coordinates following the axis $\\ay{}$ are not affected by the angle.\n",
    "Thus, we can safely state that"
   ]
  },
  {
   "cell_type": "markdown",
   "metadata": {},
   "source": [
    "\\begin{aligned}\n",
    "\\ay{B} = \\ay{A}\n",
    "\\textdot\n",
    "\\end{aligned}"
   ]
  },
  {
   "cell_type": "markdown",
   "metadata": {},
   "source": [
    "With that equality, we know that $\\ay{B}$ and $\\ay{A}$ will remain parallel, thus"
   ]
  },
  {
   "cell_type": "markdown",
   "metadata": {},
   "source": [
    "\\begin{aligned}\n",
    "\\cos \\theta_{\\ayi\\ayi}\n",
    "&=\n",
    "\\ay[A]{} \\cdot \\ay{B}\n",
    "\\\\\n",
    "&=\n",
    "\\ay{B} \\cdot \\ay{B}\n",
    "\\\\\n",
    "&= 1 \n",
    "\\textdot\n",
    "\\end{aligned}"
   ]
  },
  {
   "cell_type": "markdown",
   "metadata": {},
   "source": [
    "Following the same logic, we know that $\\ay{B}$ will remain perpendicular to $\\ax{A}$ and $\\az{A}$, so any projection on $\\ay{B}$ and $\\ay{A}$ will be zero, leading to "
   ]
  },
  {
   "cell_type": "markdown",
   "metadata": {},
   "source": [
    "\\begin{aligned}\n",
    "\\cos \\theta_{\\axi\\ayi} = \\cos \\theta_{\\ayi\\axi} = \\cos \\theta_{\\azi\\ayi} = \\cos \\theta_{\\ayi\\azi} = 0\n",
    "\\textdot\n",
    "\\end{aligned}"
   ]
  },
  {
   "cell_type": "markdown",
   "metadata": {},
   "source": [
    "Then, what remains is the following cosine matrix $\\R{}_\\ayi $ defining a rotation around $\\ay{}$"
   ]
  },
  {
   "cell_type": "markdown",
   "metadata": {},
   "source": [
    "\\begin{aligned}\n",
    "\\R{}_\\ayi \n",
    "&= \\bmat{ \n",
    "\\cos \\theta_{\\axi\\axi} & 0 & \\cos \\theta_{\\axi\\azi}\n",
    "\\\\ \n",
    "0 & 1 & 0\n",
    "\\\\\n",
    "\\cos \\theta_{\\azi\\axi} & 0 & \\cos \\theta_{\\azi\\azi}\n",
    "\\\\\n",
    "}\n",
    "\\textdot\n",
    "\\end{aligned}"
   ]
  },
  {
   "cell_type": "markdown",
   "metadata": {},
   "source": [
    "We can reuse the simplification we did for a 2D rotation matrix by projecting onto the $\\ax{}\\az{}$ plane, which will give"
   ]
  },
  {
   "cell_type": "markdown",
   "metadata": {},
   "source": [
    "\\begin{aligned}\n",
    "\\R{}_\\ayi \n",
    "&= \\bmat{ \n",
    "\\cos \\theta & 0 & \\cos \\left(\\frac{\\pi}{2} - \\theta\\right)\n",
    "\\\\ \n",
    "0 & 1 & 0\n",
    "\\\\\n",
    "\\cos \\left(\\frac{\\pi}{2} + \\theta\\right) & 0 & \\cos \\theta\n",
    "\\\\\n",
    "}\n",
    "\\\\\n",
    "&= \\bmat{ \n",
    "\\cos \\theta & 0 & \\sin \\theta\n",
    "\\\\ \n",
    "0 & 1 & 0\n",
    "\\\\\n",
    "-\\sin \\theta & 0 & \\cos \\theta\n",
    "\\\\\n",
    "}\n",
    "\\textdot\n",
    "\\end{aligned}"
   ]
  },
  {
   "cell_type": "markdown",
   "metadata": {},
   "source": [
    "Skipping the demonstration for the other two axis, we have all principal rotations being"
   ]
  },
  {
   "cell_type": "markdown",
   "metadata": {},
   "source": [
    "\\begin{aligned}\n",
    "\\R{}_\\axi \n",
    "= \\bmat{ \n",
    "1 & 0 & 0\n",
    "\\\\\n",
    "0 & \\cos \\theta & -\\sin \\theta\n",
    "\\\\ \n",
    "0 & \\sin \\theta & \\cos \\theta\n",
    "\\\\\n",
    "}\n",
    "\\quad\n",
    "\\R{}_\\ayi \n",
    "= \\bmat{ \n",
    "\\cos \\theta & 0 & \\sin \\theta\n",
    "\\\\ \n",
    "0 & 1 & 0\n",
    "\\\\\n",
    "-\\sin \\theta & 0 & \\cos \\theta\n",
    "\\\\\n",
    "}\n",
    "\\quad\n",
    "\\R{}_\\azi \n",
    "= \\bmat{ \n",
    "\\cos \\theta & -\\sin \\theta & 0\n",
    "\\\\\n",
    "\\sin \\theta & \\cos \\theta & 0\n",
    "\\\\ \n",
    "0 & 0 & 1\n",
    "\\\\\n",
    "}\n",
    "\\textdot\n",
    "\\end{aligned}"
   ]
  },
  {
   "cell_type": "markdown",
   "metadata": {},
   "source": [
    "We can also do a sanity check to confirm that coordinates along the axis of rotation won't change.\n",
    "Let's rotate a point $\\point{p}$ using $\\R{}_\\axi$ with"
   ]
  },
  {
   "cell_type": "markdown",
   "metadata": {},
   "source": [
    "\\begin{aligned}\n",
    "\\point{p}' &= \\R{}_\\axi \\point{p}\n",
    "\\\\\n",
    "&= \\bmat{ \n",
    "1 & 0 & 0\n",
    "\\\\\n",
    "0 & \\cos \\theta & -\\sin \\theta\n",
    "\\\\ \n",
    "0 & \\sin \\theta & \\cos \\theta\n",
    "\\\\\n",
    "}\n",
    "\\bmat{ p_\\axi \\\\ p_\\ayi \\\\ p_\\azi }\n",
    "\\\\\n",
    "&= \n",
    "\\bmat{ p_\\axi \n",
    "\\\\ \n",
    "p_\\ayi \\cos \\theta - p_\\azi \\sin \\theta \n",
    "\\\\\n",
    "p_\\ayi \\sin \\theta + p_\\azi \\cos \\theta \n",
    "}\n",
    "\\textdot\n",
    "\\end{aligned}"
   ]
  },
  {
   "cell_type": "markdown",
   "metadata": {},
   "source": [
    "# Constraints\n",
    "\n",
    "Unfortunately, principal rotations are too simple to fully cover all possible rotations.\n",
    "Beyond simple cases, you would need to fix nine angles **and** make sure that the following constraints are respected.\n",
    "Any 3D rotation matrices must:\n",
    "1. **be square**: its size must be 3 $\\times$ 3\n",
    "\n",
    "1. **be orthogonal**: the projection of each column to the others must be zero, for example \n",
    "   \n",
    "   $$r_\\axi \\cdot r_\\ayi = 0 \\textdot$$   \n",
    "instead of validating all dot products, another way to test orthogonality is\n",
    "   \n",
    "   $$ \\R{} \\; \\R{}^T = \\mat{I} \\textdot$$\n",
    "   \n",
    "1. have a positive and unit determinant \n",
    "\n",
    "  $$ \\det(\\R{}) = +1$$\n",
    "  \n",
    "\n",
    "Any matrix with those properties is part of the _special orthogonal group_, abbreviated $\\SO{3}$.\n",
    "We can generalize this group to $n \\times n$ matrices, which would then be part of $\\SO{n}$.\n",
    "All those constraints are true in 2D, so a 2D rotation matrix is said to be part of $\\SO{2}$."
   ]
  },
  {
   "cell_type": "markdown",
   "metadata": {},
   "source": [
    "# Operations\n",
    "\n",
    "There are key operations we tend to do often in robotics, so it's worth to have a look at how this representation of rotations can be used.\n",
    "\n",
    "1. **Rotating a single point** $\\point{p}$:\n",
    "<br>\n",
    "\\begin{aligned}\n",
    "\\point{p}' = \\R{} \\point{p}\n",
    "\\textdot\n",
    "\\end{aligned}\n",
    "<br>\n",
    "1. **Rotating and translating a single point** $\\point{p}$:\n",
    "<br><br>\n",
    "\\begin{aligned}\n",
    "\\point{p}' = \\T{} \\point{p}\n",
    "\\textcomma\n",
    "\\end{aligned}\n",
    "<br>\n",
    "where $\\point{p}$ and $\\point{p}'$ are in homogeneous coordinate, and $\\T{}$ is a rigid transformation, such that\n",
    "<br>\n",
    "\\begin{aligned}\n",
    "\\T{} =\n",
    "\\bmat{\n",
    "\\R{} & \\mat{t} \\\\\n",
    "\\mat{0} & 1\n",
    "}\n",
    "\\textdot\n",
    "\\end{aligned}\n",
    "<br>\n",
    "1. **Rotating a point cloud** $\\mat{P}$:\n",
    "<br><br>\n",
    "\\begin{aligned}\n",
    "\\mat{P}' = \\R{} \\mat{P}\n",
    "\\textdot\n",
    "\\end{aligned}\n",
    "<br>\n",
    "1. **Rotating and translating a point cloud** $\\mat{P}$:\n",
    "<br><br>\n",
    "\\begin{aligned}\n",
    "\\mat{P}' = \\T{} \\mat{P}\n",
    "\\textdot\n",
    "\\end{aligned}\n",
    "<br>\n",
    "1. **Chaining rotations**: multiplying rotation matrices will alway give another rotation matrix\n",
    "<br><br>\n",
    "\\begin{aligned}\n",
    "\\R[A]{D} = \\R[A]{B} \\; \\R[B]{C} \\; \\R[C]{D}\n",
    "\\textdot\n",
    "\\end{aligned}\n",
    "<br>\n",
    "1. **Combining with other transformations**: since all other transformations are easily expressed as matrices, multiplying many of them will give an affine transformation matrix $\\mat{C}$.\n",
    "For example, you can combine rotation with shear and scale matrices using\n",
    "<br><br>\n",
    "\\begin{aligned}\n",
    "\\mat{C} = \\R{} \\; \\mat{M} \\; \\matsym{\\Lambda}\n",
    "\\textdot\n",
    "\\end{aligned}\n"
   ]
  },
  {
   "cell_type": "markdown",
   "metadata": {},
   "source": [
    "# Pros and cons\n",
    "\n",
    "- It is very hard to build a matrix with all nine parameters from scratch and understand what will be the rotation.\n",
    "\n",
    "- Its parameters are not independent. \n",
    "If you change one angle, you need to modify the others to make sure the whole matrix stays constrained.\n",
    "\n",
    "- Because the parameters are not independent, rotation matrices are tedious to use in an optimization problem.\n",
    "For example, such an optimization problem happens when you want to find a rotation that minimizes an alignment error.\n",
    "\n",
    "- It is typically used as a common data structure to hold rotation information.\n",
    "Since the matrix only relies on the right-hand convention, it is relatively safe to start from a rotation matrix and then convert to other representations.\n",
    "\n",
    "- It is fast for point cloud rotations.\n",
    "Most math libraries parallelize instructions for matrix multiplications.\n",
    "Avoiding a `for` loop to go through all points in a point cloud will optimize your computation time.\n",
    "\n",
    "- For a single point, it takes nine multiplications and six additions to rotate it.\n",
    "Other representations are less demanding in terms of basic instructions.\n",
    "\n",
    "- It is easy to combine with translations using homogeneous coordinates.\n",
    "Rigid transformation matrices can be used the same way as in 2D.\n",
    "\n",
    "- Finally, it is the same representation as the one used for the matrix form of basis vectors for a given frame.\n",
    "This representation makes it convenient to debug multiple reference frames.\n",
    "\n"
   ]
  },
  {
   "cell_type": "markdown",
   "metadata": {},
   "source": [
    "# Conclusion\n",
    "\n",
    "You should do the following activities to enhance your understanding of the concepts viewed in this lesson:\n",
    "- play with the Python scripts provided;\n",
    "- do the [exercises](../../exercises/transformations_3d/2e-exercises_rot_mat.ipynb) related to this lesson, they are necessary to connect concepts;\n",
    "- modify the markdown by adding your own notes using `> my notes`; and\n",
    "- complete the tables [Symbol definitions](#Symbol-definitions) and [Glossary](#Glossary) and add your own definitions.\n",
    "\n",
    "Next lessons:\n",
    "- [Euler angles](3-lesson_rotation_euler_angles.ipynb)\n",
    "- [Axis-angle](3-lesson_rotation_axis_angle.ipynb)"
   ]
  },
  {
   "cell_type": "markdown",
   "metadata": {},
   "source": [
    "## Symbol definitions\n",
    "\n",
    "| Symbol                        | Definition                          |\n",
    "|--------------------           |-------------                        |\n",
    "| $\\R{}$                        | rotation matrix                     |\n",
    "| $r_\\axi$, $r_\\ayi$, $r_\\azi$  | each column of the rotation matrix  |\n",
    "| $\\SO{3}$                      | special orthogonal group            |\n",
    "| ...                           |                                     |"
   ]
  },
  {
   "cell_type": "markdown",
   "metadata": {},
   "source": [
    "## Glossary\n",
    "\n",
    "| English                   | Français                       | Definition |\n",
    "|-----------                |------------                    |------------|\n",
    "| special orthogonal group  | groupe spécial orthogonal      |            |\n",
    "| principal rotation        | rotation de base               |            |\n",
    "| ...                       |                                |            |"
   ]
  }
 ],
 "metadata": {
  "kernelspec": {
   "display_name": "Python 3",
   "language": "python",
   "name": "python3"
  },
  "language_info": {
   "codemirror_mode": {
    "name": "ipython",
    "version": 3
   },
   "file_extension": ".py",
   "mimetype": "text/x-python",
   "name": "python",
   "nbconvert_exporter": "python",
   "pygments_lexer": "ipython3",
   "version": "3.7.6"
  }
 },
 "nbformat": 4,
 "nbformat_minor": 4
}