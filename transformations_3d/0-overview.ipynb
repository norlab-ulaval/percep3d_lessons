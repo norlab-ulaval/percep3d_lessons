{
 "cells": [
  {
   "cell_type": "markdown",
   "metadata": {
    "slideshow": {
     "slide_type": "slide"
    }
   },
   "source": [
    "<p style=\"text-align: center;font-size: 40pt\">Module</p>\n",
    "<p style=\"text-align: center;font-size: 20pt\">How hard can it be in 3D?</p>"
   ]
  },
  {
   "cell_type": "markdown",
   "metadata": {},
   "source": [
    "This is where it is starting to get interesting.\n",
    "We only add one dimension to our Cartesian space and suddenly many parameters for transformation functions get more complicated to track. \n",
    "We will use the notation and concepts introduce in the prior module, [Welcome to a flat world](../transformations_2d/0-overview.ipynb), to understand different tranformation functions in 3D.\n",
    "Our main focus will be on rotations, as they are the more complicated part to understand and are necessary to move point clouds.\n",
    "\n",
    "This module has X lessons with exercises:\n",
    "1. [Coordinate systems in 3D](1-lesson_coordinates_3d.ipynb) + exercises\n",
    "1. in any order:\n",
    "   - Euler + exercises\n",
    "   - Rotation matrix + exercises\n",
    "   - Axis-angle + exercises\n",
    "   - Lie algebra + exercises\n",
    "1. Rigid transformation in 3D + exercises\n",
    "\n",
    "and one assignment:\n",
    "- TODO"
   ]
  },
  {
   "cell_type": "markdown",
   "metadata": {},
   "source": [
    "&#8635; [Go back to the list of modules](../lecture_overview.ipynb#List-of-modules)"
   ]
  }
 ],
 "metadata": {
  "kernelspec": {
   "display_name": "Python 3",
   "language": "python",
   "name": "python3"
  },
  "language_info": {
   "codemirror_mode": {
    "name": "ipython",
    "version": 3
   },
   "file_extension": ".py",
   "mimetype": "text/x-python",
   "name": "python",
   "nbconvert_exporter": "python",
   "pygments_lexer": "ipython3",
   "version": "3.8.2"
  }
 },
 "nbformat": 4,
 "nbformat_minor": 4
}
