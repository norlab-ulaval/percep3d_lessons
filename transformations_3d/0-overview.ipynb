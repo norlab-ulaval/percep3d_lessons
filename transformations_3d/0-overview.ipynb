{
 "cells": [
  {
   "cell_type": "markdown",
   "metadata": {
    "slideshow": {
     "slide_type": "slide"
    }
   },
   "source": [
    "<p style=\"text-align: center;font-size: 40pt\">Module 3</p>\n",
    "<p style=\"text-align: center;font-size: 20pt\">How hard can it be in 3D?</p>"
   ]
  },
  {
   "cell_type": "code",
   "execution_count": 1,
   "metadata": {},
   "outputs": [
    {
     "data": {
      "image/jpeg": "[encoded data removed]",
      "text/html": [
       "\n",
       "        <iframe\n",
       "            width=\"720\"\n",
       "            height=\"480\"\n",
       "            src=\"https://www.youtube.com/embed/jFuOA1wlGDo\"\n",
       "            frameborder=\"0\"\n",
       "            allowfullscreen\n",
       "        ></iframe>\n",
       "        "
      ],
      "text/plain": [
       "<IPython.lib.display.YouTubeVideo at 0x7f067d47a510>"
      ]
     },
     "execution_count": 1,
     "metadata": {},
     "output_type": "execute_result"
    }
   ],
   "source": [
    "from IPython.display import YouTubeVideo\n",
    "YouTubeVideo('jFuOA1wlGDo', width=720, height=480)"
   ]
  },
  {
   "cell_type": "markdown",
   "metadata": {},
   "source": [
    "# Overview\n",
    "\n",
    "Requirements:\n",
    "\n",
    "- [Welcome to a flat world](../transformations_2d/0-overview.ipynb)\n",
    "\n",
    "Objectives:\n",
    "\n",
    "- Cover 3D rotations in depth\n",
    "- Prepare for point cloud registration in 3D\n",
    "\n",
    "Time planning:\n",
    "   - Expect a total of 22.8 hours\n",
    "   - 30 % for seven reading activities \n",
    "   - 46 % for 18 exercises\n",
    "   - 18 % for studying\n",
    "   - 6 % for an exam"
   ]
  },
  {
   "cell_type": "markdown",
   "metadata": {},
   "source": [
    "# Activities\n",
    "\n",
    "This is where it is starting to get interesting.\n",
    "We only add one extra dimension to our Cartesian space and suddenly many parameters for transformation functions get more complicated to track. \n",
    "We will use the notation and concepts introduced in the prior module [Welcome to a flat world](../transformations_2d/0-overview.ipynb) to understand different tranformation functions in 3D.\n",
    "Our main focus will be on rotations, as they are the more complicated part to understand and are necessary to move point clouds.\n",
    "By the end of this module, you should have an opinion on _How hard can it be to pass from 2D to 3D?_.\n",
    "\n",
    "Here is the list of activities for this theoretical module:\n",
    "\n",
    "1. [Coordinate systems in 3D](1-lesson_coordinates_3d.ipynb) + [exercises](../../exercises/ex_transformations_3d/1e-exercises_coordinates_3d.ipynb)\n",
    "1. [Rotation matrix](2-lesson_rotation_mat.ipynb) + [exercises](../../exercises/ex_transformations_3d/2e-exercises_rot_mat.ipynb)\n",
    "1. in any order:\n",
    "   1. [Euler angles](3-lesson_rotation_euler_angles.ipynb) + [exercises](../../exercises/ex_transformations_3d/3e-exercises_euler_angles.ipynb)\n",
    "   1. [Axis-angle parameters](3-lesson_rotation_axis_angle.ipynb) + [exercises](../../exercises/ex_transformations_3d/3e-exercises_axis_angle.ipynb)\n",
    "       - [Quaternion](4-lesson_rotation_quaternion.ipynb) + [exercises](../../exercises/ex_transformations_3d/4e-exercises_quaternions.ipynb)\n",
    "1. [Special Euclidean group](5-lesson_se3.ipynb) + [exercises](../../exercises/ex_transformations_3d/5e-exercises_se3.ipynb)\n",
    "    - Extra: [Lie algebra](7-lesson_lie.ipynb)\n",
    "    \n",
    "and one oral exam:\n",
    "- [The curse of dimensionality](6-exam_eucl_space.ipynb)"
   ]
  },
  {
   "cell_type": "markdown",
   "metadata": {},
   "source": [
    "&#8635; [Go back to the list of modules](../modules_overview.ipynb)"
   ]
  },
  {
   "cell_type": "markdown",
   "metadata": {},
   "source": [
    "<p style=\"text-align:center\">\n",
    "<img src=\"../../common/images/module_3.jpeg\" width=100%/>\n",
    "</p>"
   ]
  }
 ],
 "metadata": {
  "kernelspec": {
   "display_name": "Python 3",
   "language": "python",
   "name": "python3"
  },
  "language_info": {
   "codemirror_mode": {
    "name": "ipython",
    "version": 3
   },
   "file_extension": ".py",
   "mimetype": "text/x-python",
   "name": "python",
   "nbconvert_exporter": "python",
   "pygments_lexer": "ipython3",
   "version": "3.7.6"
  }
 },
 "nbformat": 4,
 "nbformat_minor": 4
}
