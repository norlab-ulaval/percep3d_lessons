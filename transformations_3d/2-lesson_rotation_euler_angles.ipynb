{
 "cells": [
  {
   "cell_type": "markdown",
   "metadata": {
    "slideshow": {
     "slide_type": "slide"
    }
   },
   "source": [
    "<p style=\"text-align: center;font-size: 40pt\">Rotation in 3D - Euler angles</p>"
   ]
  },
  {
   "cell_type": "code",
   "execution_count": 1,
   "metadata": {},
   "outputs": [],
   "source": [
    "%matplotlib widget\n",
    "#%matplotlib inline\n",
    "\n",
    "import matplotlib.pyplot as plt\n",
    "from mpl_toolkits import mplot3d\n",
    "\n",
    "\n",
    "import numpy as np\n",
    "\n",
    "import ipywidgets as widgets\n",
    "\n",
    "%run ../transformations_2d/scripts/helper_func.py\n",
    "%run ./scripts/helper_func.py\n",
    "%run ../../common/scripts/style.py"
   ]
  },
  {
   "cell_type": "markdown",
   "metadata": {},
   "source": [
    "# Overview \n",
    "\n",
    "Requirements\n",
    "- [Coordinate systems in 3D](./1-lesson_coordinates_3d.ipynb)\n",
    "\n",
    "Objectives of this lesson:\n",
    "\n",
    "- TODO\n"
   ]
  },
  {
   "cell_type": "markdown",
   "metadata": {},
   "source": [
    "Hidden custom latex commands here $ \\curvearrowright$\n",
    "\n",
    "----\n",
    "[comment]: <> (General commands)\n",
    "$\\newcommand{\\textcomma}{\\quad\\text{,}}$\n",
    "$\\newcommand{\\textdot}{\\quad\\text{.}}$\n",
    "$\\newcommand{\\vec}[1]{\\overrightarrow{#1}}$\n",
    "$\\newcommand{\\mat}[1]{\\mathbf{#1}}$\n",
    "$\\newcommand{\\frame}[1]{\\mathcal{#1}}$\n",
    "$\\newcommand{\\point}[2][]{{}^{#1}\\mathbf{#2}}$\n",
    "$\\newcommand{\\pointsym}[2][]{{}^{#1}\\boldsymbol{#2}}$\n",
    "$\\newcommand{\\matsym}[1]{\\boldsymbol{#1}}$\n",
    "$\\newcommand{\\real}{\\mathbb{R}}$\n",
    "$\\newcommand{\\bmat}[1]{\\begin{bmatrix}#1\\end{bmatrix}}$\n",
    "$\\newcommand{\\F}[2][]{{}_{#2}^{#1}\\mathscr{F}}$\n",
    "$\\newcommand{\\Fmat}[2][]{{}_{#2}^{#1}\\mat{F}}$\n",
    "$\\newcommand{\\origin}[2][]{{}_{#2}^{#1}\\mat{o}}$\n",
    "$\\newcommand{\\T}[2][]{{}_{#2}^{#1}\\mat{T}}$\n",
    "$\\newcommand{\\t}[2][]{{}_{#2}^{#1}\\mat{t}}$\n",
    "$\\newcommand{\\R}[2][]{{}_{#2}^{#1}\\mat{R}}$\n",
    "$\\newcommand{\\f}{\\vec{\\mathscr{f}}}$\n",
    "$\\newcommand{\\ax}[2][]{{}_{#2}^{#1}\\vec{\\mathscr{x}}}$\n",
    "$\\newcommand{\\ay}[2][]{{}_{#2}^{#1}\\vec{\\mathscr{y}}}$\n",
    "$\\newcommand{\\az}[2][]{{}_{#2}^{#1}\\vec{\\mathscr{z}}}$\n",
    "$\\newcommand{\\aw}[2][]{{}_{#2}^{#1}\\vec{\\mathscr{w}}}$\n",
    "$\\newcommand{\\axi}{\\mathscr{x}}$\n",
    "$\\newcommand{\\ayi}{\\mathscr{y}}$\n",
    "$\\newcommand{\\azi}{\\mathscr{z}}$\n",
    "$\\newcommand{\\awi}{\\mathscr{w}}$\n",
    "$\\newcommand{\\pointx}[2][]{{}^{#1}{#2}_{\\axi}}$\n",
    "$\\newcommand{\\pointy}[2][]{{}^{#1}{#2}_{\\ayi}}$\n",
    "$\\newcommand{\\pointz}[2][]{{}^{#1}{#2}_{\\azi}}$\n",
    "$\\newcommand{\\SO}[1]{\\mathrm{SO}(#1)}$\n",
    "----"
   ]
  },
  {
   "cell_type": "markdown",
   "metadata": {},
   "source": [
    "Get yourself a [bill of 200 Swiss franc](https://en.wikipedia.org/wiki/Right-hand_rule#/media/File:CHF_200_9_front.jpg) (~300 $)."
   ]
  },
  {
   "cell_type": "markdown",
   "metadata": {},
   "source": [
    "# Parameters\n",
    "\n",
    "$\\matsym{\\theta} = \\left\\{ \\alpha, \\beta, \\gamma \\right\\}$"
   ]
  },
  {
   "cell_type": "markdown",
   "metadata": {},
   "source": [
    "## Proper Euler angles"
   ]
  },
  {
   "cell_type": "markdown",
   "metadata": {},
   "source": [
    "## Tait–Bryan angles"
   ]
  },
  {
   "cell_type": "markdown",
   "metadata": {},
   "source": [
    "# Convert Euler angles to rotation matrix\n",
    "\n",
    "Recall principal rotations\n",
    "\n",
    "\\begin{aligned}\n",
    "\\R{}_\\axi \n",
    "= \\bmat{ \n",
    "1 & 0 & 0\n",
    "\\\\\n",
    "0 & \\cos \\theta & -\\sin \\theta\n",
    "\\\\ \n",
    "0 & \\sin \\theta & \\cos \\theta\n",
    "\\\\\n",
    "}\n",
    "\\quad\n",
    "\\R{}_\\ayi \n",
    "= \\bmat{ \n",
    "\\cos \\theta & 0 & \\sin \\theta\n",
    "\\\\ \n",
    "0 & 1 & 0\n",
    "\\\\\n",
    "-\\sin \\theta & 0 & \\cos \\theta\n",
    "\\\\\n",
    "}\n",
    "\\quad\n",
    "\\R{}_\\azi \n",
    "= \\bmat{ \n",
    "\\cos \\theta & -\\sin \\theta & 0\n",
    "\\\\\n",
    "\\sin \\theta & \\cos \\theta & 0\n",
    "\\\\ \n",
    "0 & 0 & 1\n",
    "\\\\\n",
    "}\n",
    "\\textdot\n",
    "\\end{aligned}"
   ]
  },
  {
   "cell_type": "markdown",
   "metadata": {},
   "source": [
    "# Singularities\n",
    "\n",
    "Fancy name, gimbal lock.\n"
   ]
  },
  {
   "cell_type": "markdown",
   "metadata": {},
   "source": [
    "# Operations\n",
    "\n",
    "None!\n",
    "Although $\\matsym{\\theta}$ looks like a vector (i.e., it is not, it's a set), you cannot not add or subtract two of them an expect a meaning full result.\n",
    "You need to convert the sets of angles to rotation matrix and chained them properly.\n",
    "\n",
    "Interpolation"
   ]
  },
  {
   "cell_type": "markdown",
   "metadata": {},
   "source": [
    "# Pros and cons\n",
    "\n"
   ]
  },
  {
   "cell_type": "markdown",
   "metadata": {},
   "source": [
    "# Conclusion\n",
    "\n",
    "You should do the following activities to enhance your understanding of the concepts viewed in this lesson:\n",
    "- play with the Python scripts provided;\n",
    "- do the [exercises](../../exercises/transformations_3d/2e-exercises_rot_mat.ipynb) related to this lesson, they are necessary to connect concepts;\n",
    "- modify the markdown by adding your own notes using `> my notes`; and\n",
    "- complete the tables [Symbol definitions](#Symbol-definitions) and [Glossary](#Glossary) and add your own definitions.\n",
    "\n",
    "Parallel lessons:\n",
    "- [Euler angles](2-lesson_rotation_euler.ipynb)\n",
    "- [Axis-angle](2-lesson_rotation_axis_angle.ipynb)\n",
    "- [Quaternion](2-lesson_rotation_quaternion.ipynb)\n",
    "- [Lie algebra](2-lesson_rotation_lie.ipynb)\n",
    "\n",
    "Next lesson:\n",
    "- Rigid transformation in 3D"
   ]
  },
  {
   "cell_type": "markdown",
   "metadata": {},
   "source": [
    "## Symbol definitions\n",
    "\n",
    "| Symbol                        | Definition                          |\n",
    "|--------------------           |-------------                        |\n",
    "| $\\R{}$                        | rotation matrix                     |\n",
    "| $r_\\axi$, $r_\\ayi$, $r_\\azi$  | each column of the rotation matrix  |\n",
    "| $\\SO{3}$                      | special orthogonal group            |\n",
    "| ...                           |                                     |"
   ]
  },
  {
   "cell_type": "markdown",
   "metadata": {},
   "source": [
    "## Glossary\n",
    "\n",
    "| English                   | Français                       | Definition |\n",
    "|-----------                |------------                    |------------|\n",
    "| special orthogonal group  | groupe spécial orthogonal      |            |\n",
    "| ...                       |                                |            |"
   ]
  }
 ],
 "metadata": {
  "kernelspec": {
   "display_name": "Python 3",
   "language": "python",
   "name": "python3"
  },
  "language_info": {
   "codemirror_mode": {
    "name": "ipython",
    "version": 3
   },
   "file_extension": ".py",
   "mimetype": "text/x-python",
   "name": "python",
   "nbconvert_exporter": "python",
   "pygments_lexer": "ipython3",
   "version": "3.8.2"
  }
 },
 "nbformat": 4,
 "nbformat_minor": 4
}
