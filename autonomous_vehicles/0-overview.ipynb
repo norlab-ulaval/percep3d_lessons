{
 "cells": [
  {
   "cell_type": "markdown",
   "metadata": {
    "slideshow": {
     "slide_type": "slide"
    }
   },
   "source": [
    "<p style=\"text-align: center;font-size: 40pt\">Module</p>\n",
    "<p style=\"text-align: center;font-size: 20pt\">Autonomous vehicles</p>"
   ]
  },
  {
   "cell_type": "markdown",
   "metadata": {},
   "source": [
    "\n",
    "\n",
    "This module has 5 lessons without exercise:\n",
    "1. History of autonomous cars\n",
    "1. Examples of autonomous vehicles\n",
    "1. General architecture of autonomous vehicles\n",
    "1. Localization and mapping\n",
    "1. Overview of lidars\n",
    "\n",
    "and two assignments:\n",
    "- analysis of an autonomous car company\n",
    "- analysis of commercial lidars"
   ]
  },
  {
   "cell_type": "markdown",
   "metadata": {},
   "source": [
    "&#8635; [Go back to the list of modules](../lecture_overview.ipynb#List-of-modules)"
   ]
  }
 ],
 "metadata": {
  "kernelspec": {
   "display_name": "Python 3",
   "language": "python",
   "name": "python3"
  },
  "language_info": {
   "codemirror_mode": {
    "name": "ipython",
    "version": 3
   },
   "file_extension": ".py",
   "mimetype": "text/x-python",
   "name": "python",
   "nbconvert_exporter": "python",
   "pygments_lexer": "ipython3",
   "version": "3.8.2"
  }
 },
 "nbformat": 4,
 "nbformat_minor": 4
}
