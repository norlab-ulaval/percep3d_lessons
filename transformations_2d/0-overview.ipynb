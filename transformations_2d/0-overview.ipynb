{
 "cells": [
  {
   "cell_type": "markdown",
   "metadata": {
    "slideshow": {
     "slide_type": "slide"
    }
   },
   "source": [
    "<p style=\"text-align: center;font-size: 40pt\">Module 1</p>\n",
    "<p style=\"text-align: center;font-size: 20pt\">Welcome to a flat world</p>"
   ]
  },
  {
   "cell_type": "markdown",
   "metadata": {},
   "source": [
    "Click on the next cell and press `ctrl-enter`.\n",
    "If you didn't know that yet, got back the [primer on JupyterLab](../primers/1-lesson_jupyterlab.ipynb)."
   ]
  },
  {
   "cell_type": "code",
   "execution_count": 1,
   "metadata": {},
   "outputs": [
    {
     "data": {
      "image/jpeg": "[encoded data removed]",
      "text/html": [
       "\n",
       "        <iframe\n",
       "            width=\"720\"\n",
       "            height=\"480\"\n",
       "            src=\"https://www.youtube.com/embed/pvc1xM57wG4\"\n",
       "            frameborder=\"0\"\n",
       "            allowfullscreen\n",
       "        ></iframe>\n",
       "        "
      ],
      "text/plain": [
       "<IPython.lib.display.YouTubeVideo at 0x7f465c5be590>"
      ]
     },
     "execution_count": 1,
     "metadata": {},
     "output_type": "execute_result"
    }
   ],
   "source": [
    "from IPython.display import YouTubeVideo\n",
    "YouTubeVideo('pvc1xM57wG4', width=720, height=480)"
   ]
  },
  {
   "cell_type": "markdown",
   "metadata": {},
   "source": [
    "# Overview\n",
    "\n",
    "Requirements:\n",
    "\n",
    "- [General introduction](../general_introduction.ipynb)\n",
    "- [Primer on JupyterLab](../primers/1-lesson_jupyterlab.ipynb)\n",
    "- [Primer on Python](../primers/2-linear_algebra_python.ipynb)\n",
    "\n",
    "Objectives:\n",
    "\n",
    "- Refresh knowledges on vectorial algebra by exploring 2D geometry\n",
    "- Get use to notebooks\n",
    "- Get use to Mathjax/latex equations\n",
    "\n",
    "Time planning:\n",
    "   - Expect a total of 20 hours\n",
    "   - 15 % for three reading activities \n",
    "   - 55 % for seven exercises\n",
    "   - 30 % for one graded assignment"
   ]
  },
  {
   "cell_type": "markdown",
   "metadata": {},
   "source": [
    "# Activities\n",
    "\n",
    "Since this module is all about 2D and snakes, so let's get it out of the way and waste a bit of time over [here](https://www.google.com/search?q=play+snake).\n",
    "Once you are done with that, select a lesson:\n",
    "\n",
    "1. [Coordinate systems in 2D](1-lesson_coordinates.ipynb) + [exercises](../../exercises/ex_transformations_2d/1e-exercises_coordinates.ipynb)\n",
    "1. [Transformation functions in 2D](2-lesson_transformation.ipynb) + [exercises](../../exercises/ex_transformations_2d/2e-exercises_transformation.ipynb)\n",
    "1. [Rigid transformation in 2D](3-lesson_rigid.ipynb) + [exercises](../../exercises/ex_transformations_2d/3e-exercises_rigid.ipynb)\n",
    "\n",
    "and one assignment:\n",
    "- [Surviving in a flat world](../../exercises/assignement_2d/4-assignment_flat_world.ipynb)"
   ]
  },
  {
   "cell_type": "markdown",
   "metadata": {},
   "source": [
    "&#8635; [Go back to the list of modules](../modules_overview.ipynb)"
   ]
  },
  {
   "cell_type": "markdown",
   "metadata": {},
   "source": [
    "<p style=\"text-align:center\">\n",
    "<img src=\"../../common/images/module_1.jpeg\" width=100%/>\n",
    "</p>"
   ]
  }
 ],
 "metadata": {
  "kernelspec": {
   "display_name": "Python 3",
   "language": "python",
   "name": "python3"
  },
  "language_info": {
   "codemirror_mode": {
    "name": "ipython",
    "version": 3
   },
   "file_extension": ".py",
   "mimetype": "text/x-python",
   "name": "python",
   "nbconvert_exporter": "python",
   "pygments_lexer": "ipython3",
   "version": "3.7.6"
  },
  "toc-autonumbering": true
 },
 "nbformat": 4,
 "nbformat_minor": 4
}
