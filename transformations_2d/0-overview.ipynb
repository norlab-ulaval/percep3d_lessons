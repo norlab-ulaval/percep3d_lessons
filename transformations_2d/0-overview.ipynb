{
 "cells": [
  {
   "cell_type": "markdown",
   "metadata": {
    "slideshow": {
     "slide_type": "slide"
    }
   },
   "source": [
    "<p style=\"text-align: center;font-size: 40pt\">Module</p>\n",
    "<p style=\"text-align: center;font-size: 20pt\">Welcome to a flat world</p>"
   ]
  },
  {
   "cell_type": "markdown",
   "metadata": {},
   "source": [
    "This module is all about 2D and snakes, so let's get it out of the way and waste a bit of time over [here](https://www.google.com/search?q=play+snake).\n",
    "\n",
    "This module has three lessons with exercises:\n",
    "1. [Coordinate systems in 2D](1-lesson_coordinates.ipynb) + [exercises](../../exercises/transformations_2d/1e-exercises_coordinates.ipynb)\n",
    "1. [Transformation functions in 2D](2-lesson_transformation.ipynb) + [exercises](../../exercises/transformations_2d/2e-exercises_transformation.ipynb)\n",
    "1. [Rigid transformation in 2D](3-lesson_rigid.ipynb) + [exercises](../../exercises/transformations_2d/3e-exercises_rigid.ipynb)\n",
    "\n",
    "and one assignment:\n",
    "- [Surviving in a flat world](../../exercises/transformations_2d/4-assignment_flat_world.ipynb)"
   ]
  },
  {
   "cell_type": "markdown",
   "metadata": {},
   "source": [
    "&#8635; [Go back to the list of modules](../lecture_overview.ipynb#List-of-modules)"
   ]
  }
 ],
 "metadata": {
  "kernelspec": {
   "display_name": "Python 3",
   "language": "python",
   "name": "python3"
  },
  "language_info": {
   "codemirror_mode": {
    "name": "ipython",
    "version": 3
   },
   "file_extension": ".py",
   "mimetype": "text/x-python",
   "name": "python",
   "nbconvert_exporter": "python",
   "pygments_lexer": "ipython3",
   "version": "3.8.2"
  }
 },
 "nbformat": 4,
 "nbformat_minor": 4
}
