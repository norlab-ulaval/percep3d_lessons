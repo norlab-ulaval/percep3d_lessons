{
 "cells": [
  {
   "cell_type": "markdown",
   "metadata": {},
   "source": [
    "<p style=\"text-align: center;font-size: 40pt\">Transformation functions in 2D</p>"
   ]
  },
  {
   "cell_type": "code",
   "execution_count": 3,
   "metadata": {},
   "outputs": [],
   "source": [
    "%matplotlib widget\n",
    "#%matplotlib inline\n",
    "\n",
    "import matplotlib.pyplot as plt\n",
    "\n",
    "import numpy as np\n",
    "\n",
    "import ipywidgets as widgets\n",
    "\n",
    "%run ./scripts/helper_func.py\n",
    "%run ../../common/scripts/style.py"
   ]
  },
  {
   "cell_type": "markdown",
   "metadata": {},
   "source": [
    "# Overview \n",
    "\n",
    "Requirements\n",
    "- [Coordinate systems in 2D](1-lesson_coordinates.ipynb)\n",
    "\n",
    "Objectives of this lesson:\n",
    "\n",
    "- review 2D transformation functions\n",
    "- understand some geometric quantities and how they change with transformations\n",
    "- be comfortable in changing between Cartesian and homogeneous coordinates \n"
   ]
  },
  {
   "cell_type": "markdown",
   "metadata": {},
   "source": [
    "Hidden custom latex commands here $ \\curvearrowright$\n",
    "\n",
    "----\n",
    "[comment]: <> (General commands)\n",
    "$\\newcommand{\\textcomma}{\\quad\\text{,}}$\n",
    "$\\newcommand{\\textdot}{\\quad\\text{.}}$\n",
    "$\\newcommand{\\vec}[1]{\\overrightarrow{#1}}$\n",
    "$\\newcommand{\\mat}[1]{\\mathbf{#1}}$\n",
    "$\\newcommand{\\frame}[1]{\\mathcal{#1}}$\n",
    "$\\newcommand{\\point}[2][]{{}^{#1}\\mathbf{#2}}$\n",
    "$\\newcommand{\\pointsym}[2][]{{}^{#1}\\boldsymbol{#2}}$\n",
    "$\\newcommand{\\matsym}[1]{\\boldsymbol{#1}}$\n",
    "$\\newcommand{\\real}{\\mathbb{R}}$\n",
    "$\\newcommand{\\bmat}[1]{\\begin{bmatrix}#1\\end{bmatrix}}$\n",
    "$\\newcommand{\\F}[2][]{{}_{#2}^{#1}\\mathscr{F}}$\n",
    "$\\newcommand{\\Fmat}[2][]{{}_{#2}^{#1}\\mat{F}}$\n",
    "$\\newcommand{\\origin}[2][]{{}_{#2}^{#1}\\mat{o}}$\n",
    "$\\newcommand{\\T}[2][]{{}_{#2}^{#1}\\mat{T}}$\n",
    "$\\newcommand{\\t}[2][]{{}_{#2}^{#1}\\mat{t}}$\n",
    "$\\newcommand{\\R}[2][]{{}_{#2}^{#1}\\mat{R}}$\n",
    "$\\newcommand{\\f}{\\vec{\\mathscr{f}}}}$\n",
    "$\\newcommand{\\ax}[2][]{{}_{#2}^{#1}\\vec{\\mathscr{x}}}$\n",
    "$\\newcommand{\\ay}[2][]{{}_{#2}^{#1}\\vec{\\mathscr{y}}}$\n",
    "$\\newcommand{\\az}[2][]{{}_{#2}^{#1}\\vec{\\mathscr{z}}}$\n",
    "$\\newcommand{\\aw}[2][]{{}_{#2}^{#1}\\vec{\\mathscr{w}}}$\n",
    "$\\newcommand{\\axi}{\\mathscr{x}}$\n",
    "$\\newcommand{\\ayi}{\\mathscr{y}}$\n",
    "$\\newcommand{\\azi}{\\mathscr{z}}$\n",
    "$\\newcommand{\\awi}{\\mathscr{w}}$\n",
    "$\\newcommand{\\pointx}[2][]{{}^{#1}{#2}_{\\axi}}$\n",
    "$\\newcommand{\\pointy}[2][]{{}^{#1}{#2}_{\\ayi}}$\n",
    "$\\newcommand{\\pointz}[2][]{{}^{#1}{#2}_{\\azi}}$\n",
    "$\\newcommand{\\SO}[1]{\\mathrm{SO}(#1)}$\n",
    "----"
   ]
  },
  {
   "cell_type": "markdown",
   "metadata": {},
   "source": [
    "A transformation function is nothing else than a simple function in the form of $x' = \\mathrm{f}(x)$.\n",
    "In our case, we will focus on geometric transformation functions that we can apply on sets, such that\n",
    "\n",
    "\\begin{aligned}\n",
    "\\mathcal{P}' = \\mathrm{f}(\\matsym{\\theta}, \\mathcal{P}) \\quad \\text{, using}\\\\\n",
    "\\forall \\point{p} \\in \\mathcal{P}: \\point{p}' = \\mathrm{f}( \\matsym{\\theta}, \\point{p}) \n",
    "\\textcomma\n",
    "\\end{aligned}\n",
    "\n",
    "where $\\matsym{\\theta}$ are parameters to the function.\n",
    "\n",
    "The last equations can be read as\n",
    "- an English sentence : apply the function $\\mathrm{f}(\\cdot)$ for all points $\\point{p}$ in the set $\\mathcal{P}$; or\n",
    "- a Python code: \n",
    "```python\n",
    "for p in P: \n",
    "    p = foo(param, p)\n",
    "```\n"
   ]
  },
  {
   "cell_type": "markdown",
   "metadata": {},
   "source": [
    "# Basic transformations\n",
    "\n",
    "Before starting on transformation, it worth noting that we can convert a set of points $\\mathcal{P}$ expressed in homogeneous coordinates as a matrix by mapping\n",
    "\n",
    "\n",
    "\\begin{aligned}\n",
    "\\mathcal{P} = \\{\\point{p}_1, \\point{p}_2, \\cdots, \\point{p}_i \\}\n",
    "\\mapsto\n",
    "\\mat{P} = \n",
    "\\bmat{\n",
    "\\point{p}_1 & \\point{p}_2 & \\cdots & \\point{p}_i\n",
    "}\n",
    "\\textcomma\n",
    "\\end{aligned}\n",
    "\n",
    "where $\\mat{P} \\in \\real^{3 \\times n}$ is a matrix with $n$ points and in which the last row are all set to ones.\n",
    "This matrix representation of a point cloud will help us to optimize transformation functions and express them as matrix multiplication."
   ]
  },
  {
   "cell_type": "markdown",
   "metadata": {},
   "source": [
    "## Translation\n",
    "\n",
    "Translation in Cartesian coordinates is $\\mathcal{P}' = \\mathrm{trans}(\\mat{t}, \\mathcal{P})$, with parameters $\\mat{t} \\in \\real^2$ being\n",
    "\n",
    "\\begin{aligned}\n",
    "\\mat{t} = \\bmat{ t_\\axi \\\\ t_\\ayi }\n",
    "\\textcomma\n",
    "\\end{aligned}\n",
    "\n",
    "and the function for each point is defined as \n",
    "\\begin{aligned}\n",
    "\\point{p}' \n",
    "= \\mathrm{trans}(\\mat{t}, \\point{p})\n",
    "= \\bmat{ p_\\axi + t_\\axi \\\\ p_\\ayi + t_\\ayi }\n",
    "\\textdot\n",
    "\\end{aligned}\n",
    "\n",
    "---\n",
    "\n",
    "A translation in homogeneous coordinates is \n",
    "\\begin{aligned}\n",
    "\\mat{P}' \n",
    "&= \\mathrm{trans}(\\matsym{\\Theta}_\\text{t} \\mat{P}) \\\\\n",
    "&= \\matsym{\\Theta}_\\text{t} \\mat{P} \n",
    "\\textcomma\n",
    "\\end{aligned}\n",
    "\n",
    "with the transformation parameters being\n",
    "\\begin{aligned}\n",
    "\\matsym{\\Theta}_\\text{t} \n",
    "&= \n",
    "\\bmat{\n",
    "\\mat{I} & \\mat{t} \\\\ \n",
    "\\mat{0}^T & 1\n",
    "} \\\\\n",
    "&=\n",
    "\\bmat{\n",
    "1 & 0 & t_\\axi \\\\ \n",
    "0 & 1 & t_\\ayi \\\\\n",
    "0 & 0 & 1\n",
    "}\n",
    "\\textdot\n",
    "\\end{aligned}\n",
    "\n",
    "Here is an example with a small point cloud with geometric quantities defined in the prior lesson computed before and after the transformation."
   ]
  },
  {
   "cell_type": "code",
   "execution_count": 4,
   "metadata": {},
   "outputs": [
    {
     "data": {
      "application/vnd.jupyter.widget-view+json": {
       "model_id": "183bf572ad4942f18de1e7c008fe1b00",
       "version_major": 2,
       "version_minor": 0
      },
      "text/plain": [
       "Canvas(toolbar=Toolbar(toolitems=[('Home', 'Reset original view', 'home', 'home'), ('Back', 'Back to previous …"
      ]
     },
     "metadata": {},
     "output_type": "display_data"
    },
    {
     "data": {
      "text/markdown": [
       "|      | before       | after        | equal\n",
       "|---      |----      |---        |---\n",
       "|p     |[1. 2.]       | [2.  1.7]    | False\n",
       "|q     |[1. 1.]       | [2.  0.7]    | False\n",
       "|lenght of p   | 2.236        | 2.625        | False\n",
       "|lenght of q   | 1.414        | 2.119        | False\n",
       "|direction of p   | [0.45 0.89]  | [0.76 0.65]  | False\n",
       "|direction of q   | [0.71 0.71]  | [0.94 0.33]  | False\n",
       "|dist p q| 1.000        | 1.000        | True\n",
       "|theta p q| 0.322        | 0.368        | False\n",
       "|ratio of lenght p q| 1.581        | 1.239        | False\n",
       "|area p q r | 0.750        | 0.750        | True\n"
      ],
      "text/plain": [
       "<IPython.core.display.Markdown object>"
      ]
     },
     "metadata": {},
     "output_type": "display_data"
    }
   ],
   "source": [
    "# homogeneous coordinates\n",
    "P = np.array([[1., 1., 2.5, 2.],\n",
    "              [2., 1., 2., 3.],\n",
    "              [1., 1., 1., 1.]])\n",
    "tx = 1.; ty = -0.3\n",
    "Theta_t = np.array([[1., 0., tx],\n",
    "                  [0., 1., ty],\n",
    "                  [0., 0., 1.]])\n",
    "\n",
    "P_prime = Theta_t @ P #@ is the matrix multiplication operator in python\n",
    "\n",
    "fig, ax = plt.subplots(nrows=1, ncols=1, figsize=(5,5))\n",
    "\n",
    "draw_frame(ax, name=\"$A$\", color = \"tab:blue\")\n",
    "\n",
    "for i in np.arange(0,P.shape[1]):\n",
    "    draw_point(ax, P[0:2,i], text=\"$\\mathbf{p}_{\" + str(i+1) + \"}$\", text_offset=(0.1, 0))\n",
    "    draw_point(ax, P_prime[0:2,i], text=\"$\\mathbf{p}'_{\" + str(i+1) + \"}$\", text_offset=(0.1, 0), color=\"tab:red\")\n",
    "    draw_vector(ax, P_prime[0:2,i], origin=P[0:2,i], text=\"\")\n",
    "\n",
    "clean_frame(ax, [P, P_prime], \"A translated point cloud\")\n",
    "\n",
    "display_geometric_quantities_2d(P, P_prime)\n",
    "    "
   ]
  },
  {
   "cell_type": "markdown",
   "metadata": {},
   "source": [
    "## Rotation\n",
    "\n",
    "Rotation in Cartesian coordinates is $\\mathcal{P}' = \\mathrm{rot}(\\theta, \\mathcal{P})$, with parameters $\\theta \\in \\real$ being the only parameter, and the function for each point $\\point{p}$ is defined as \n",
    "\n",
    "\\begin{aligned}\n",
    "\\point{p}' \n",
    "&= \\mathrm{rot}(\\theta, \\point{p}) \\\\\n",
    "&= \\bmat{ \n",
    "p_\\axi \\cos\\theta - p_\\ayi \\sin\\theta \\\\\n",
    "p_\\axi \\sin\\theta + p_\\ayi\\cos\\theta\n",
    "}\n",
    "\\textdot\n",
    "\\end{aligned}\n",
    "\n",
    "Those equations can be translated in terms of matrix multiplication using \n",
    "\n",
    "\\begin{aligned}\n",
    "\\mat{P}' = \\mat{R} \\mat{P}\n",
    "\\textcomma\n",
    "\\end{aligned}\n",
    "\n",
    "where $\\mat{P} \\in \\real^{2 \\times n}$ and $\\mat{R} \\in \\SO{2}$ is defined as \n",
    "\n",
    "\\begin{aligned}\n",
    "\\mat{R} = \n",
    "\\bmat{ \n",
    "\\cos\\theta & -\\sin\\theta \\\\ \n",
    "\\sin\\theta & \\cos\\theta \\\\\n",
    "}\n",
    "\\textdot\n",
    "\\end{aligned}\n",
    "\n",
    "For now, we will use the convention that a positive $\\theta$ gives an anticlockwise rotation, which is the most common choice of direction.\n",
    "The motivation for this convention will be explained once we move to 3D.\n",
    "\n",
    "The matrix $\\mat{R}$ is defined as being part of the special orthogonal group 2 (i.e., $\\SO{2}$), which enforces some constraints on what kind of number we can put in it.\n",
    "We will see in details the special orthogonal group in the following lesson.\n",
    "For now, just recall that __*you cannot*__ expect a rotation matrix by doing \n",
    "```python\n",
    "R = np.random.uniform(size=(2,2)) # no no!\n",
    "``` \n",
    "\n",
    "Rotation matrix $\\mat{R}$ are known as an orthogonal matrix, which has the property \n",
    "\\begin{aligned}\n",
    "\\mat{R}^{-1} = \\mat{R}^{T}\n",
    "\\textdot\n",
    "\\end{aligned}\n",
    "\n",
    "---\n",
    "\n",
    "A rotation in homogeneous coordinates is $\\mat{P}' = \\mathrm{rot}(\\matsym{\\Theta}_\\text{r}, \\mat{P}) = \\matsym{\\Theta}_\\text{r} \\mat{P}$, with \n",
    "\n",
    "\\begin{aligned}\n",
    "\\matsym{\\Theta}_\\text{r} = \n",
    "\\bmat{ \n",
    "\\mat{R} & \\mat{0} \\\\ \n",
    "\\mat{0}^T & 1\n",
    "} =\n",
    "\\bmat{ \n",
    "\\cos\\theta & -\\sin\\theta & 0 \\\\ \n",
    "\\sin\\theta & \\cos\\theta & 0 \\\\\n",
    "0 & 0 & 1\n",
    "}\n",
    "\\textdot\n",
    "\\end{aligned}\n",
    "\n",
    "Note that rotations always happen from the origin of the frame of reference."
   ]
  },
  {
   "cell_type": "code",
   "execution_count": 5,
   "metadata": {},
   "outputs": [
    {
     "data": {
      "application/vnd.jupyter.widget-view+json": {
       "model_id": "55cbb2ba14b241a9a9d8eaaf64274f0b",
       "version_major": 2,
       "version_minor": 0
      },
      "text/plain": [
       "Canvas(toolbar=Toolbar(toolitems=[('Home', 'Reset original view', 'home', 'home'), ('Back', 'Back to previous …"
      ]
     },
     "metadata": {},
     "output_type": "display_data"
    },
    {
     "data": {
      "application/vnd.jupyter.widget-view+json": {
       "model_id": "8cb9db13c4c04e9bb9c08f4ca78b8d7a",
       "version_major": 2,
       "version_minor": 0
      },
      "text/plain": [
       "interactive(children=(FloatSlider(value=1.6, description='theta', max=10.0, min=-10.0, step=1.0), Checkbox(val…"
      ]
     },
     "metadata": {},
     "output_type": "display_data"
    }
   ],
   "source": [
    "# homogeneous coordinates\n",
    "P = np.array([[0., 1., 2.5, 2.5],\n",
    "              [2., 1., 2., 3.],\n",
    "              [1., 1., 1., 1.]])\n",
    "\n",
    "fig, ax = plt.subplots(nrows=1, ncols=1, figsize=(5,5))\n",
    "\n",
    "\n",
    "\n",
    "def update(theta=1.6, display=True):\n",
    "    ax.clear() #not optimal for reactiveness\n",
    "    Theta = np.array([[np.cos(theta), -np.sin(theta), 0.],\n",
    "                  [np.sin(theta), np.cos(theta), 0.],\n",
    "                  [0., 0., 1.]])\n",
    "\n",
    "    P_prime = Theta @ P #@ is the matrix multiplication operator in python\n",
    "    for i in np.arange(0,P.shape[1]):\n",
    "        draw_point(ax, P[0:2,i], text=\"$\\mathbf{p}_{\" + str(i+1) + \"}$\", text_offset=(0.1, 0))\n",
    "        draw_point(ax, P_prime[0:2,i], text=\"$\\mathbf{p}'_{\" + str(i+1) + \"}$\", text_offset=(0.1, 0), color=\"tab:red\")\n",
    "        draw_angle_vectors(ax, P[0:2,i], v2=P_prime[0:2,i], text=\"\")\n",
    "\n",
    "    draw_frame(ax, name=\"$A$\", color = \"tab:blue\")\n",
    "    clean_frame(ax, [P, P_prime], \"A rotated point cloud\")\n",
    "    draw_lim = np.max(P)+1\n",
    "    ax.set_xlim(-draw_lim, draw_lim)\n",
    "    ax.set_ylim(-draw_lim, draw_lim)\n",
    "    \n",
    "    fig.canvas.draw_idle()\n",
    "    if(display):\n",
    "        display_geometric_quantities_2d(P, P_prime)\n",
    "    return\n",
    "\n",
    "update(theta=1.6, display=False)\n",
    "widgets.interact(update, theta = (-10, 10, 1.0), continuous_update=False);\n"
   ]
  },
  {
   "cell_type": "markdown",
   "metadata": {},
   "source": [
    "## Scale (non-uniform)\n",
    "\n",
    "Non-uniform scale in Cartesian coordinates is $\\mathcal{P}' = \\mathrm{scale}(\\matsym{\\lambda}, \\mathcal{P})$, with parameters $\\matsym{\\lambda} \\in \\real^2$, and the function for each point is defined as \n",
    "\n",
    "\\begin{aligned}\n",
    "\\point{p}' \n",
    "= \\mathrm{scale}(\\matsym{\\lambda}, \\point{p})\n",
    "= \\bmat{ \n",
    "\\lambda_\\axi p_\\axi \\\\\n",
    "\\lambda_\\ayi p_\\ayi\n",
    "}\n",
    "\\textdot\n",
    "\\end{aligned}\n",
    "\n",
    "In the special case when $\\lambda_\\axi = \\lambda_\\ayi$, the scale is called uniform.\n",
    "The scale equations can be translated in terms of matrix multiplication using $\\mat{P}' = \\matsym{\\Lambda} \\mat{P}$, where $\\mat{P} \\in \\real^{2 \\times n}$ and $\\matsym{\\Lambda} = \\mat{I}\\matsym{\\lambda}$ is defined as \n",
    "\n",
    "\\begin{aligned}\n",
    "\\matsym{\\Lambda} = \n",
    "\\bmat{ \n",
    "\\lambda_\\axi & 0 \\\\ \n",
    "0 & \\lambda_\\ayi \\\\\n",
    "}\n",
    "\\textdot\n",
    "\\end{aligned}\n",
    "\n",
    "---\n",
    "\n",
    "A scale in homogeneous coordinates is $\\mat{P}' = \\mathrm{scale}(\\matsym{\\Lambda}, \\mat{P}) = \\matsym{\\Lambda} \\mat{P}$, with \n",
    "\n",
    "\\begin{aligned}\n",
    "\\matsym{\\Lambda} = \n",
    "\\bmat{ \n",
    "\\lambda_\\axi & 0 & 0 \\\\ \n",
    "0 & \\lambda_\\ayi & 0 \\\\\n",
    "0 & 0 & 1\n",
    "}\n",
    "\\textdot\n",
    "\\end{aligned}"
   ]
  },
  {
   "cell_type": "code",
   "execution_count": 6,
   "metadata": {},
   "outputs": [
    {
     "data": {
      "application/vnd.jupyter.widget-view+json": {
       "model_id": "f8d581e7f0474cde84c35511f4618a8d",
       "version_major": 2,
       "version_minor": 0
      },
      "text/plain": [
       "Canvas(toolbar=Toolbar(toolitems=[('Home', 'Reset original view', 'home', 'home'), ('Back', 'Back to previous …"
      ]
     },
     "metadata": {},
     "output_type": "display_data"
    },
    {
     "data": {
      "text/markdown": [
       "|      | before       | after        | equal\n",
       "|---      |----      |---        |---\n",
       "|p     |[0.5 0.5]       | [1.25 0.7 ]    | False\n",
       "|q     |[0.5 1.5]       | [1.25 2.1 ]    | False\n",
       "|lenght of p   | 0.707        | 1.433        | False\n",
       "|lenght of q   | 1.581        | 2.444        | False\n",
       "|direction of p   | [0.71 0.71]  | [0.87 0.49]  | False\n",
       "|direction of q   | [0.32 0.95]  | [0.51 0.86]  | False\n",
       "|dist p q| 1.000        | 1.400        | False\n",
       "|theta p q| 0.464        | 0.523        | False\n",
       "|ratio of lenght p q| 0.447        | 0.586        | False\n",
       "|area p q r | -0.500        | -1.750        | False\n"
      ],
      "text/plain": [
       "<IPython.core.display.Markdown object>"
      ]
     },
     "metadata": {},
     "output_type": "display_data"
    }
   ],
   "source": [
    "## homogeneous coordinates\n",
    "P = np.array([[0.5, 0.5, 1.5, 1.5],\n",
    "              [0.5, 1.5, 1.5, 0.5],\n",
    "              [1., 1., 1., 1.]])\n",
    "lamda_x = 2.5; lamda_y = 1.4\n",
    "Theta = np.array([[lamda_x, 0., 0],\n",
    "                  [0., lamda_y, 0],\n",
    "                  [0., 0., 1.]])\n",
    "\n",
    "P_prime = Theta @ P #@ is the matrix multiplication operator in python\n",
    "\n",
    "fig, ax = plt.subplots(nrows=1, ncols=1, figsize=(5,5))\n",
    "\n",
    "draw_frame(ax, name=\"$A$\", color = \"tab:blue\")\n",
    "\n",
    "for i in np.arange(0,P.shape[1]):\n",
    "    draw_point(ax, P[0:2,i], text=\"$\\mathbf{p}_{\" + str(i+1) + \"}$\", text_offset=(0.1, 0))\n",
    "    draw_point(ax, P_prime[0:2,i], text=\"$\\mathbf{p}'_{\" + str(i+1) + \"}$\", text_offset=(0.1, 0), color=\"tab:red\")\n",
    "    draw_vector(ax, P_prime[0:2,i], origin=P[0:2,i], text=\"\")\n",
    "\n",
    "clean_frame(ax, [P, P_prime], \"A scaled point cloud\")\n",
    "display_geometric_quantities_2d(P, P_prime)"
   ]
  },
  {
   "cell_type": "markdown",
   "metadata": {},
   "source": [
    "**Side note**: with some specific parameters, scaling can be use for reflection on the $\\ax{}$ axis or the $\\ay{}$ axis, where scales are constrain to $\\lambda_i \\in \\{-1, 1\\}$ (i.e., they take the value of either -1 or 1).\n",
    "Reflection as a whole is more complicated than that, but not covered in this class."
   ]
  },
  {
   "cell_type": "code",
   "execution_count": 7,
   "metadata": {},
   "outputs": [
    {
     "data": {
      "application/vnd.jupyter.widget-view+json": {
       "model_id": "05f1107a9b794472a90ebf7cea33b55e",
       "version_major": 2,
       "version_minor": 0
      },
      "text/plain": [
       "Canvas(toolbar=Toolbar(toolitems=[('Home', 'Reset original view', 'home', 'home'), ('Back', 'Back to previous …"
      ]
     },
     "metadata": {},
     "output_type": "display_data"
    },
    {
     "data": {
      "text/markdown": [
       "|      | before       | after        | equal\n",
       "|---      |----      |---        |---\n",
       "|p     |[0.5 2. ]       | [-0.5  2. ]    | False\n",
       "|q     |[1. 1.]       | [-1.  1.]    | False\n",
       "|lenght of p   | 2.062        | 2.062        | True\n",
       "|lenght of q   | 1.414        | 1.414        | True\n",
       "|direction of p   | [0.24 0.97]  | [-0.24  0.97]  | False\n",
       "|direction of q   | [0.71 0.71]  | [-0.71  0.71]  | False\n",
       "|dist p q| 1.118        | 1.118        | True\n",
       "|theta p q| 0.540        | 0.540        | True\n",
       "|ratio of lenght p q| 1.458        | 1.458        | True\n",
       "|area p q r | 0.075        | -0.075        | False\n"
      ],
      "text/plain": [
       "<IPython.core.display.Markdown object>"
      ]
     },
     "metadata": {},
     "output_type": "display_data"
    }
   ],
   "source": [
    "## homogeneous coordinates\n",
    "P = np.array([[0.5, 1., 1.5, 2.],\n",
    "              [2., 1., 0.3, 3.],\n",
    "              [1., 1., 1., 1.]])\n",
    "\n",
    "lamda_x = -1; lamda_y = 1\n",
    "Theta = np.array([[lamda_x, 0., 0],\n",
    "                  [0., lamda_y, 0],\n",
    "                  [0., 0., 1.]])\n",
    "\n",
    "P_prime = Theta @ P #@ is the matrix multiplication operator in python\n",
    "\n",
    "fig, ax = plt.subplots(nrows=1, ncols=1, figsize=(5,5))\n",
    "\n",
    "draw_frame(ax, name=\"$A$\", color = \"tab:blue\")\n",
    "\n",
    "for i in np.arange(0,P.shape[1]):\n",
    "    draw_point(ax, P[0:2,i], text=\"$\\mathbf{p}_{\" + str(i+1) + \"}$\", text_offset=(0.1, 0))\n",
    "    draw_point(ax, P_prime[0:2,i], text=\"$\\mathbf{p}'_{\" + str(i+1) + \"}$\", text_offset=(0.1, 0), color=\"tab:red\")\n",
    "    draw_vector(ax, P_prime[0:2,i], origin=P[0:2,i], text=\"\")\n",
    "\n",
    "clean_frame(ax, [P, P_prime], \"A reflected point cloud\")\n",
    "display_geometric_quantities_2d(P, P_prime)"
   ]
  },
  {
   "cell_type": "markdown",
   "metadata": {},
   "source": [
    "## Shear\n",
    "\n",
    "Shear in Cartesian coordinates is $\\mathcal{P}' = \\mathrm{shear}(m, \\mathcal{P})$, with parameters $m \\in \\real$, and the function for each point is defined as either\n",
    "\n",
    "\\begin{aligned}\n",
    "\\point{p}' \n",
    "&= \\mathrm{shear}_\\axi(m, \\point{p})\n",
    "= \\bmat{ \n",
    " p_\\axi + m p_\\ayi \\\\\n",
    " p_\\ayi\n",
    "} \n",
    "\\quad \\text{or} \\\\\n",
    "&= \\mathrm{shear}_\\ayi(m, \\point{p})\n",
    "= \\bmat{ \n",
    " p_\\axi \\\\\n",
    " p_\\ayi + m p_\\axi\n",
    "} \n",
    "\\textdot\n",
    "\\end{aligned}\n",
    "\n",
    "Those equations can be translated in terms of matrix multiplication using $\\mat{P}' = \\mat{M} \\mat{P}$, where $\\mat{P} \\in \\real^{2 \\times n}$ and $\\mat{M}$ is defined as either\n",
    "\n",
    "\\begin{aligned}\n",
    "\\mat{M}_\\axi \n",
    "&= \n",
    "\\bmat{ \n",
    "1 & m \\\\ \n",
    "0 & 1 \\\\\n",
    "}\n",
    "\\quad \\text{or} \\\\\n",
    "\\mat{M}_\\ayi \n",
    "&= \n",
    "\\bmat{ \n",
    "1 & 0 \\\\ \n",
    "m & 1 \\\\\n",
    "}\n",
    "\\textdot\n",
    "\\end{aligned}\n",
    "\n",
    "---\n",
    "\n",
    "A shear in homogeneous coordinates is $\\mat{P}' = \\mathrm{shear}(\\mat{M}, \\mat{P}) = \\mat{M} \\mat{P}$, with \n",
    "\n",
    "\\begin{aligned}\n",
    "\\mat{M}_\\axi \n",
    "&= \n",
    "\\bmat{ \n",
    "1 & m & 0 \\\\ \n",
    "0 & 1 & 0 \\\\\n",
    "0 & 0 & 1\n",
    "}\n",
    "\\quad \\text{or} \\\\\n",
    "\\mat{M}_\\ayi \n",
    "&= \n",
    "\\bmat{ \n",
    "1 & 0 & 0 \\\\ \n",
    "m & 1 & 0 \\\\\n",
    "0 & 0 & 1\n",
    "}\n",
    "\\textdot\n",
    "\\end{aligned}\n",
    "\n",
    "Shear transformation has the property of preserving areas.\n",
    "The parameter $m$ can also be expressed as the shear angle $m=\\tan(\\theta)$, where $\\theta$ formed with the opposite axis."
   ]
  },
  {
   "cell_type": "code",
   "execution_count": 8,
   "metadata": {},
   "outputs": [
    {
     "data": {
      "application/vnd.jupyter.widget-view+json": {
       "model_id": "25b34c97460542389e5b6e1c20ada4d2",
       "version_major": 2,
       "version_minor": 0
      },
      "text/plain": [
       "Canvas(toolbar=Toolbar(toolitems=[('Home', 'Reset original view', 'home', 'home'), ('Back', 'Back to previous …"
      ]
     },
     "metadata": {},
     "output_type": "display_data"
    },
    {
     "data": {
      "text/markdown": [
       "|      | before       | after        | equal\n",
       "|---      |----      |---        |---\n",
       "|p     |[0.5 0.5]       | [1.  0.5]    | False\n",
       "|q     |[0.5 1.5]       | [2.  1.5]    | False\n",
       "|lenght of p   | 0.707        | 1.118        | False\n",
       "|lenght of q   | 1.581        | 2.500        | False\n",
       "|direction of p   | [0.71 0.71]  | [0.89 0.45]  | False\n",
       "|direction of q   | [0.32 0.95]  | [0.8 0.6]  | False\n",
       "|dist p q| 1.000        | 1.414        | False\n",
       "|theta p q| 0.464        | 0.180        | False\n",
       "|ratio of lenght p q| 0.447        | 0.447        | True\n",
       "|area p q r | -0.500        | -0.500        | True\n"
      ],
      "text/plain": [
       "<IPython.core.display.Markdown object>"
      ]
     },
     "metadata": {},
     "output_type": "display_data"
    }
   ],
   "source": [
    "## homogeneous coordinates\n",
    "P = np.array([[0.5, 0.5, 1.5, 1.5],\n",
    "              [0.5, 1.5, 1.5, 0.5],\n",
    "              [1., 1., 1., 1.]])\n",
    "m_x = np.tan(np.pi/4)\n",
    "M_x = np.array([[1, m_x, 0],\n",
    "                [0, 1, 0],\n",
    "                [0, 0, 1]])\n",
    "\n",
    "P_prime = M_x @ P #@ is the matrix multiplication operator in python\n",
    "P_prime_y = M_x.T @ P\n",
    "\n",
    "fig, ax = plt.subplots(nrows=1, ncols=1, figsize=(5,5))\n",
    "\n",
    "draw_frame(ax, name=\"$A$\", color = \"tab:blue\")\n",
    "ax.add_patch(plt.Polygon(P[0:2,:].T, color='white', alpha=0.2))\n",
    "ax.add_patch(plt.Polygon(P_prime[0:2,:].T, color='tab:red', alpha=0.2))\n",
    "ax.add_patch(plt.Polygon(P_prime_y[0:2,:].T, color='tab:green', alpha=0.2))\n",
    "\n",
    "for i in np.arange(0,P.shape[1]):\n",
    "    draw_point(ax, P[0:2,i], text=\"$\\mathbf{p}_{\" + str(i+1) + \"}$\", text_offset=(0.1, 0))\n",
    "    draw_point(ax, P_prime[0:2,i], text=\"$\\mathbf{p}'_{\" + str(i+1) + \"}$\", text_offset=(0.1, 0), color=\"tab:red\")\n",
    "    draw_point(ax, P_prime_y[0:2,i], text=\"$\\mathbf{p}'_{\" + str(i+1) + \"}$\", text_offset=(0.1, 0), color=\"tab:green\")\n",
    "\n",
    "clean_frame(ax, [P, P_prime], \"A sheared point clouds\")\n",
    "display_geometric_quantities_2d(P, P_prime)"
   ]
  },
  {
   "cell_type": "markdown",
   "metadata": {},
   "source": [
    "## Affine transformation\n",
    "\n",
    "An affine transformation in Cartesian coordinates is defined as $\\mathcal{P}' = \\mathrm{affine}(\\mat{A}, \\mat{b}, \\mathcal{P})$, with parameters $\\mat{A} \\in \\real^{2 \\times 2}$, $\\mat{b} \\in \\real^{2}$ and the function for each point is defined as \n",
    "\n",
    "\\begin{aligned}\n",
    "\\point{p}' \n",
    "= \\mathrm{affine}(\\mat{A}, \\mat{b}, \\point{p})\n",
    "= \\mat{A} \\point{p} + \\mat{b}\n",
    "\\textdot\n",
    "\\end{aligned}\n",
    "\n",
    "As opposed to rotations, any scalars can be put in $\\mat{A}$, so one could just do\n",
    "```python\n",
    "A = np.random.uniform(size=(2,2)) # ah, finally!\n",
    "``` \n",
    "---\n",
    "\n",
    "An affine transformation in homogeneous coordinates is $\\point{p}' = \\mat{C} \\point{p}$, with\n",
    "\n",
    "\\begin{aligned}\n",
    "\\mat{C} = \n",
    "\\bmat{ \n",
    "\\mat{A} & \\mat{b} \\\\ \n",
    "\\mat{0}^T & 1\n",
    "}\n",
    "\\textdot\n",
    "\\end{aligned}"
   ]
  },
  {
   "cell_type": "code",
   "execution_count": 9,
   "metadata": {},
   "outputs": [
    {
     "data": {
      "application/vnd.jupyter.widget-view+json": {
       "model_id": "dc1f33ecc6cb4c2baa3760841f627059",
       "version_major": 2,
       "version_minor": 0
      },
      "text/plain": [
       "Canvas(toolbar=Toolbar(toolitems=[('Home', 'Reset original view', 'home', 'home'), ('Back', 'Back to previous …"
      ]
     },
     "metadata": {},
     "output_type": "display_data"
    },
    {
     "data": {
      "text/markdown": [
       "|      | before       | after        | equal\n",
       "|---      |----      |---        |---\n",
       "|p     |[0.5 0.5]       | [-0.32  0.37]    | False\n",
       "|q     |[0.5 2.5]       | [3.04 1.78]    | False\n",
       "|lenght of p   | 0.707        | 0.494        | False\n",
       "|lenght of q   | 2.550        | 3.521        | False\n",
       "|direction of p   | [0.71 0.71]  | [-0.65  0.76]  | False\n",
       "|direction of q   | [0.2  0.98]  | [0.86 0.51]  | False\n",
       "|dist p q| 2.000        | 3.642        | False\n",
       "|theta p q| 0.588        | 1.752        | False\n",
       "|ratio of lenght p q| 0.277        | 0.140        | False\n",
       "|area p q r | -2.000        | -0.758        | False\n"
      ],
      "text/plain": [
       "<IPython.core.display.Markdown object>"
      ]
     },
     "metadata": {},
     "output_type": "display_data"
    }
   ],
   "source": [
    "## homogeneous coordinates\n",
    "P = np.array([[0.5, 0.5, 2.5, 2.5, 2.5],\n",
    "              [0.5, 2.5, 2.5, 1.5, 0.5],\n",
    "              [1., 1., 1., 1., 1.]])\n",
    "\n",
    "A = 2*np.random.uniform(size=(2,2), low=-1*np.ones((2,2))) \n",
    "b = np.random.uniform(size=(2,1), low=-1*np.ones((2,1)))\n",
    "C = np.hstack((A,b))\n",
    "C = np.vstack((C,[0,0,1]))\n",
    "\n",
    "P_prime = C @ P #@ is the matrix multiplication operator in python\n",
    "\n",
    "fig, ax = plt.subplots(nrows=1, ncols=1, figsize=(5,5))\n",
    "\n",
    "draw_frame(ax, name=\"$A$\", color = \"tab:blue\")\n",
    "ax.add_patch(plt.Polygon(P[0:2,:].T, color='white', alpha=0.2))\n",
    "ax.add_patch(plt.Polygon(P_prime[0:2,:].T, color='tab:red', alpha=0.2))\n",
    "\n",
    "for i in np.arange(0,P.shape[1]):\n",
    "    draw_point(ax, P[0:2,i], text=\"$\\mathbf{p}_{\" + str(i+1) + \"}$\", text_offset=(0.1, 0))\n",
    "    draw_point(ax, P_prime[0:2,i], text=\"$\\mathbf{p}'_{\" + str(i+1) + \"}$\", text_offset=(0.1, 0), color=\"tab:red\")\n",
    "\n",
    "clean_frame(ax, [P, P_prime], \"An affine transformation\")\n",
    "display_geometric_quantities_2d(P, P_prime)"
   ]
  },
  {
   "cell_type": "markdown",
   "metadata": {},
   "source": [
    "# Inverse transformation\n",
    "\n",
    "Affine transformations are the general version of all the other basic transformations.\n",
    "Often, it is interesting to come back to the original point cloud, so the following identity become useful\n",
    "\n",
    "\\begin{aligned}\n",
    "\\mat{P}' &= \\mat{C} \\mat{P} \\\\\n",
    "\\mat{C}^{-1} \\mat{P}' &= \\underbrace{\\mat{C}^{-1} \\mat{C}}_{\\mat{I}} \\mat{P} \\\\\n",
    "\\mat{C}^{-1} \\mat{P}' &= \\mat{P}\n",
    "\\textdot\n",
    "\\end{aligned}\n",
    "\n",
    "This equation means that the inverse of an affine matrix $\\mat{C}^{-1}$ in homogeneous coordinates will take a transformed point cloud $\\mat{P}'$ back to its original location $\\mat{P}$."
   ]
  },
  {
   "cell_type": "markdown",
   "metadata": {},
   "source": [
    "# Chained transformations\n",
    "\n",
    "Another property is that all affine transformation, including basic transformation functions (translation, rotation, scale, shear, and affine), **can be chained** in homogeneous coordinates using matrix multiplication.\n",
    "Chaining affine transformations will produce another valid affine transformation matrix\n",
    "For example, one that would scale and rotate a point cloud could simply do\n",
    "\n",
    "\\begin{aligned}\n",
    "\\mat{P}' \n",
    "&= \\matsym{\\Theta}_\\text{r} \\matsym{\\Lambda} \\mat{P} \\\\\n",
    "&= \\bmat{ \n",
    "\\cos\\theta & -\\sin\\theta & 0 \\\\ \n",
    "\\sin\\theta & \\cos\\theta & 0 \\\\\n",
    "0 & 0 & 1\n",
    "}\n",
    "\\bmat{ \n",
    "\\lambda_\\axi & 0 & 0 \\\\ \n",
    "0 & \\lambda_\\ayi & 0 \\\\\n",
    "0 & 0 & 1\n",
    "}\n",
    "\\mat{P} \\\\\n",
    "&=\n",
    "\\bmat{ \n",
    "\\lambda_\\axi \\cos\\theta & -\\sin\\theta & 0 \\\\ \n",
    "\\sin\\theta & \\lambda_\\ayi \\cos\\theta & 0 \\\\\n",
    "0 & 0 & 1\n",
    "}\n",
    "\\mat{P}\n",
    "\\textdot\n",
    "\\end{aligned}"
   ]
  },
  {
   "cell_type": "markdown",
   "metadata": {},
   "source": [
    "# Conclusion\n",
    "\n",
    "You should do the following activities to enhance your understanding of the concepts viewed in this lesson:\n",
    "- play with the Python scripts provided;\n",
    "- do the [exercises](../../exercises/transformations_2d/2e-exercises_transformation.ipynb) related to this lesson, they are necessary to connect concepts;\n",
    "- modify the markdown by adding your own notes using `> my notes`; and\n",
    "- complete the tables [Symbol definitions](#Symbol-definitions) and [Glossary](#Glossary) and add your own definitions.\n",
    "\n",
    "Next lesson:\n",
    "- [Rigid transformation in 2D](3-lesson_rigid.ipynb)"
   ]
  },
  {
   "cell_type": "markdown",
   "metadata": {},
   "source": [
    "## Symbol definitions\n",
    "\n",
    "| Symbol                                 | Definition                       |\n",
    "|--------------------                    |-------------                     |\n",
    "| $\\matsym{\\Theta}_\\text{t}$, $\\mat{t}$  | translation parameters           |\n",
    "| $\\matsym{\\Theta}_\\text{r}$, $\\mat{R}$  | rotations parameters             |\n",
    "| $\\matsym{\\Lambda}$, $\\matsym{\\lambda}$ | scale (and reflexion) parameters |\n",
    "| $\\mat{M}_\\axi$, $\\mat{M}_\\ayi$, $m$    | shear parameters                 |\n",
    "| $\\mat{C}$, $\\mat{A}$, $\\mat{b}$        | affine parameters                |\n",
    "| $x$                                    | scalar                           |\n",
    "| $\\vec{x}$                              | vector                           |\n",
    "| $\\point{x}$                            | coordinates of a point           |\n",
    "| $x_i$                                  | $i^{\\text{th}}$ scalar of a set  |\n",
    "| ...                                    |                                  |"
   ]
  },
  {
   "cell_type": "markdown",
   "metadata": {},
   "source": [
    "## Glossary\n",
    "\n",
    "| English             | Français              | Definition |\n",
    "|-----------          |------------           |------------|\n",
    "| scale               | dilatation            |            |\n",
    "| shear               | transvection          |            |\n",
    "| affine              | transformation affine |            |\n",
    "| ...                 |                       |            |"
   ]
  }
 ],
 "metadata": {
  "kernelspec": {
   "display_name": "Python 3",
   "language": "python",
   "name": "python3"
  },
  "language_info": {
   "codemirror_mode": {
    "name": "ipython",
    "version": 3
   },
   "file_extension": ".py",
   "mimetype": "text/x-python",
   "name": "python",
   "nbconvert_exporter": "python",
   "pygments_lexer": "ipython3",
   "version": "3.8.2"
  }
 },
 "nbformat": 4,
 "nbformat_minor": 4
}
