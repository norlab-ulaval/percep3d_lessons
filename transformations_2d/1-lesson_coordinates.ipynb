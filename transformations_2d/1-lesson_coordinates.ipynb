{
 "cells": [
  {
   "cell_type": "markdown",
   "metadata": {
    "slideshow": {
     "slide_type": "slide"
    }
   },
   "source": [
    "<p style=\"text-align: center;font-size: 40pt\">Coordinate systems in 2D</p>"
   ]
  },
  {
   "cell_type": "code",
   "execution_count": 2,
   "metadata": {},
   "outputs": [],
   "source": [
    "%matplotlib widget\n",
    "#%matplotlib inline\n",
    "\n",
    "import matplotlib.pyplot as plt\n",
    "from mpl_toolkits import mplot3d\n",
    "\n",
    "import numpy as np\n",
    "\n",
    "import ipywidgets as widgets\n",
    "\n",
    "%run ./scripts/helper_func.py\n",
    "%run ../transformations_3d/scripts/helper_func.py\n",
    "%run ../../common/scripts/style.py"
   ]
  },
  {
   "cell_type": "markdown",
   "metadata": {},
   "source": [
    "# Overview \n",
    "\n",
    "Objectives of this lesson:\n",
    "\n",
    "- introduce part of the notations used later for 3D rigid transformation\n",
    "- practice on problems that are easy to plot in 2D before moving to 3D\n"
   ]
  },
  {
   "cell_type": "markdown",
   "metadata": {},
   "source": [
    "Hidden custom latex commands here $ \\curvearrowright$\n",
    "\n",
    "----\n",
    "[comment]: <> (General commands)\n",
    "$\\newcommand{\\textcomma}{\\quad\\text{,}}$\n",
    "$\\newcommand{\\textdot}{\\quad\\text{.}}$\n",
    "$\\newcommand{\\vec}[1]{\\overrightarrow{#1}}$\n",
    "$\\newcommand{\\mat}[1]{\\mathbf{#1}}$\n",
    "$\\newcommand{\\frame}[1]{\\mathcal{#1}}$\n",
    "$\\newcommand{\\point}[2][]{{}^{#1}\\mathbf{#2}}$\n",
    "$\\newcommand{\\pointsym}[2][]{{}^{#1}\\boldsymbol{#2}}$\n",
    "$\\newcommand{\\matsym}[1]{\\boldsymbol{#1}}$\n",
    "$\\newcommand{\\real}{\\mathbb{R}}$\n",
    "$\\newcommand{\\bmat}[1]{\\begin{bmatrix}#1\\end{bmatrix}}$\n",
    "$\\newcommand{\\F}[2][]{{}_{#2}^{#1}\\mathscr{F}}$\n",
    "$\\newcommand{\\Fmat}[2][]{{}_{#2}^{#1}\\mat{F}}$\n",
    "$\\newcommand{\\origin}[2][]{{}_{#2}^{#1}\\mat{o}}$\n",
    "$\\newcommand{\\T}[2][]{{}_{#2}^{#1}\\mat{T}}$\n",
    "$\\newcommand{\\t}[2][]{{}_{#2}^{#1}\\mat{t}}$\n",
    "$\\newcommand{\\R}[2][]{{}_{#2}^{#1}\\mat{R}}$\n",
    "$\\newcommand{\\f}{\\vec{\\mathscr{f}}}}$\n",
    "$\\newcommand{\\ax}[2][]{{}_{#2}^{#1}\\vec{\\mathscr{x}}}$\n",
    "$\\newcommand{\\ay}[2][]{{}_{#2}^{#1}\\vec{\\mathscr{y}}}$\n",
    "$\\newcommand{\\az}[2][]{{}_{#2}^{#1}\\vec{\\mathscr{z}}}$\n",
    "$\\newcommand{\\aw}[2][]{{}_{#2}^{#1}\\vec{\\mathscr{w}}}$\n",
    "$\\newcommand{\\axi}{\\mathscr{x}}$\n",
    "$\\newcommand{\\ayi}{\\mathscr{y}}$\n",
    "$\\newcommand{\\azi}{\\mathscr{z}}$\n",
    "$\\newcommand{\\awi}{\\mathscr{w}}$\n",
    "$\\newcommand{\\pointx}[2][]{{}^{#1}{#2}_{\\axi}}$\n",
    "$\\newcommand{\\pointy}[2][]{{}^{#1}{#2}_{\\ayi}}$\n",
    "$\\newcommand{\\pointz}[2][]{{}^{#1}{#2}_{\\azi}}$\n",
    "$\\newcommand{\\SO}[1]{\\mathrm{SO}(#1)}$\n",
    "----"
   ]
  },
  {
   "cell_type": "markdown",
   "metadata": {
    "slideshow": {
     "slide_type": "subslide"
    }
   },
   "source": [
    "# Definitions\n",
    "\n",
    "In this section, we will take our time to define something that looks simple: a point in space.\n",
    "We will start by defining the space.\n",
    "\n",
    "Our first coordinated system is the the **Cartesian coordinate system**, which is an Euclidean space defined by an origin $\\origin{}$ and a set $\\F{}$ of orthogonal unit vectors $\\f$ called **standard basis vectors**, such that\n",
    "\n",
    "\\begin{aligned}\n",
    "\\F{} = \\{ \\f_1, \\f_2, \\cdots, \\f_d \\} \\quad \\text{, with } \\quad \\| \\f_i \\| = 1, \\forall i \\in [1, \\cdots, d]\n",
    "\\textdot\n",
    "\\end{aligned}\n",
    "\n",
    "We can cast this generic definition to 2D (i.e., $d=2$), where $\\f_1$ is commonly named $\\ax{}$ and $\\f_2$ named $\\ay{}$, leading to\n",
    "\n",
    "\\begin{aligned}\n",
    "\\origin{}  &= \\bmat{ 0 \\\\ 0 } \\\\\n",
    "\\F{} &= \\{ \\ax{}, \\ay{} \\} \\quad \\text{, with} \\\\\n",
    "\\ax{} &= \\bmat{ 1 \\\\ 0 } \n",
    "\\quad \\text{ and } \\quad \\ay{} = \\bmat{ 0 \\\\ 1 }\n",
    "\\textdot\n",
    "\\end{aligned}\n",
    "\n",
    "From that definition, it should be clear that \n",
    "\n",
    "\\begin{aligned}\n",
    "\\ax{} \\cdot \\ay{} = 0\n",
    "\\textcomma\n",
    "\\end{aligned}\n",
    "\n",
    "where the operator ($\\cdot$) is the [dot product](https://en.wikipedia.org/wiki/Dot_product).\n",
    "We also fix that\n",
    "\n",
    "\\begin{aligned}\n",
    "\\mathrm{det}\\left(\\bmat{ \\ax{} & \\ay{} }\\right) = +1\n",
    "\\textdot\n",
    "\\end{aligned}\n",
    "\n",
    "A special care needs to be taken on the sign of the determinant.\n",
    "We will see later that it defines the rotation direction.\n",
    "In our case, a rotation from $\\ax{}$ to $\\ay{}$ is positive.\n",
    "We use a special notation in the form of cursive letters for the basis vectors $\\ax{}$ and $\\ay{}$ to avoid confusion with a general $n \\times 1$ matrix (vector) $\\mat{x}$ and a scalar $x$ often used in linear algebra (e.g., $\\mat{y} = \\mat{A}\\mat{x}$).\n",
    "\n",
    "Then, we can define a **frame of reference** $\\frame{A}$ as a set of basis vectors $\\F{A}$ connected at the origin $\\origin{A}$, leading to \n",
    "\n",
    "\\begin{aligned}\n",
    "\\frame{A} &= \\{ \\F{A}, \\origin{A} \\}\n",
    "\\textdot\n",
    "\\end{aligned}\n",
    "\n",
    "Finally, we can define **coordinates of a point** in that space $\\point{p} \\in \\real^2$ containing scalars, such that\n",
    "\n",
    "\\begin{aligned}\n",
    "\\point{p} =\n",
    "\\begin{bmatrix}\n",
    "p_\\axi \\\\\n",
    "p_\\ayi\n",
    "\\end{bmatrix}\n",
    "\\textdot\n",
    "\\end{aligned}\n",
    "\n",
    "Those coordinates represent an Euclidean vector $\\vec{p}$, where each of the coordinates multiply its corresponding basis vectors, leading to \n",
    "\n",
    "\\begin{aligned}\n",
    "\\vec{p} = \\ax{} p_\\axi + \\ay{} p_\\ayi\n",
    "\\textdot\n",
    "\\end{aligned}\n",
    "\n",
    "This vector $\\vec{p}$ have its tail at the origin $\\origin{A}$ and its head at the coordinates $\\point{p}$.\n",
    "To recap, $\\vec{p}$ is a vector and $\\point{p}$ are coordinates of that vector, which is implicitly connected to $\\origin{}$.\n",
    "\n",
    "\n",
    "## Notation\n",
    "\n",
    "For simplification of the notation, we will often omit the frame-specific name if there is only one frame where all the quantities are expressed, so we can simply use a set of basis vectors $\\F{}$, an origin $\\origin{}$, and a point $\\point{p}$.\n",
    "As we will see later, sometimes we need many frames of reference.\n",
    "In these cases, we will use an explicit notation for a frame $\\frame{A}$, where we have a set of basis vectors $\\F{A}$, an origin $\\origin{A}$, and a point $\\point[A]{p}$.\n",
    "This notation helps us to clarify sentences such as \"a point $\\point[A]{p}$ is expressed in a frame $\\frame{A}$ as opposed to a point $\\point[B]{p}$ expressed in $\\frame{B}$\".\n",
    "\n",
    "The next two figures show all those variables in a complete drawing and the simplified version that will be used for the following section."
   ]
  },
  {
   "cell_type": "code",
   "execution_count": 3,
   "metadata": {
    "jupyter": {
     "source_hidden": true
    }
   },
   "outputs": [
    {
     "data": {
      "application/vnd.jupyter.widget-view+json": {
       "model_id": "6d2f140a745a4bca9203a4a9598a6636",
       "version_major": 2,
       "version_minor": 0
      },
      "text/plain": [
       "Canvas(toolbar=Toolbar(toolitems=[('Home', 'Reset original view', 'home', 'home'), ('Back', 'Back to previous …"
      ]
     },
     "metadata": {},
     "output_type": "display_data"
    }
   ],
   "source": [
    "O = np.array([0.,0.])\n",
    "x = np.array([1.,0.])\n",
    "y = np.array([0.,1.])\n",
    "p = np.array([2.,3.])\n",
    "px = p[0]*x\n",
    "py = p[1]*y\n",
    "\n",
    "\n",
    "fig, axs = plt.subplots(nrows=1, ncols=2, figsize=(10,5))\n",
    "\n",
    "# complet representation\n",
    "draw_vector(axs[0], text=r\"$ \\vec{\\mathscr{x}} p_\\mathscr{x}$\", \n",
    "            head=px, text_offset=(-0.2, -0.4))\n",
    "draw_vector(axs[0], text=r\"$ \\vec{\\mathscr{y}} p_\\mathscr{y}$\", \n",
    "            head=px+py, origin=px, text_offset=(0.1, -0.5))\n",
    "draw_vector(axs[0], text=r\"$\\vec{p}$\", \n",
    "            head=p, text_offset=(-0.5, -0.5))\n",
    "draw_base_vector(axs[0], text=r\"$ \\vec{\\mathscr{x}}$\", \n",
    "                 head=x, color=\"tab:red\", text_offset=(0., -0.1))\n",
    "draw_base_vector(axs[0], head=y, text=r\"$ \\vec{\\mathscr{y}}$\", color=\"tab:green\",\n",
    "                ha='right',va='top', text_offset=(-0.1, 0))\n",
    "axs[0].text(O[0], O[1], \"$\\mathscr{F}_{O}$\", color = \"tab:blue\", size=30, ha='right',va='top')\n",
    "clean_frame(axs[0], p, \"A reference frame (complete)\")\n",
    "\n",
    "# simple representation\n",
    "draw_frame(axs[1], name=\"$O$\", color = \"tab:blue\")\n",
    "draw_point(axs[1], p, text=\"${}^{O}\\mathbf{p}$\")\n",
    "clean_frame(axs[1], p, \"A reference frame (simplified)\")"
   ]
  },
  {
   "cell_type": "markdown",
   "metadata": {},
   "source": [
    "Then, we can define a point cloud as an **unordered** set of points, such that\n",
    "\n",
    "\\begin{aligned}\n",
    "\\mathcal{P} = \\{\\point{p}_1, \\point{p}_2, \\cdots, \\point{p}_i \\} \\textcomma\n",
    "\\end{aligned}\n",
    "\n",
    "with $|\\mathcal{P}| = n$ (i.e., the set contains $n$ points).\n",
    "Sometimes, we need to be more explicit about the frame of reference the point cloud is expressed in by using the notation ${}^A\\mathcal{P}$ is a point cloud in frame $\\frame{A}$.\n",
    "A simple point cloud with four points would look like this."
   ]
  },
  {
   "cell_type": "code",
   "execution_count": 4,
   "metadata": {},
   "outputs": [
    {
     "data": {
      "application/vnd.jupyter.widget-view+json": {
       "model_id": "cf58fc2628c9413ab22956bb636c552e",
       "version_major": 2,
       "version_minor": 0
      },
      "text/plain": [
       "Canvas(toolbar=Toolbar(toolitems=[('Home', 'Reset original view', 'home', 'home'), ('Back', 'Back to previous …"
      ]
     },
     "metadata": {},
     "output_type": "display_data"
    }
   ],
   "source": [
    "P = np.array([[1,2], [1,1], [2.5, 2.], [2,0.3]])\n",
    "\n",
    "fig, ax = plt.subplots(nrows=1, ncols=1, figsize=(5,5))\n",
    "\n",
    "draw_frame(ax, name=\"$A$\", color = \"tab:blue\")\n",
    "\n",
    "for i,p in enumerate(P):\n",
    "    draw_point(ax, p, text=\"$\\mathbf{p}_{\" + str(i+1) + \"}$\", text_offset=(0.1, 0))\n",
    "\n",
    "clean_frame(ax, P, \"A point cloud in frame $A$\")"
   ]
  },
  {
   "cell_type": "markdown",
   "metadata": {},
   "source": [
    "## Homogeneous coordinates\n",
    "\n",
    "Our second coordinate system is the **homogeneous coordinates** or projective coordinates.\n",
    "This system has the particularity of being able to represent the infinity, which was not the case for the Cartesian coordinates.\n",
    "Because it can represent one more element, an extra dimension is required.\n",
    "For example, if Cartesian coordinates are used in 2D, we will need three dimensions for its equivalent homogeneous coordinates.\n",
    "The reference frame for this system is defined as follows\n",
    "\n",
    "\\begin{aligned}\n",
    "\\origin{}  &= \\bmat{ 0 \\\\ 0 \\\\ 1 } \\\\\n",
    "\\F{} &= \\{ \\ax{}, \\ay{}, \\aw{} \\} \\quad \\text{, with} \\\\\n",
    "\\ax{} &= \\bmat{ 1 \\\\ 0 \\\\ 0 } \n",
    "\\quad \\text{ , } \\quad \\ay{} = \\bmat{ 0 \\\\ 1 \\\\ 0 }\n",
    "\\quad \\text{ , and } \\quad \\aw{} = \\bmat{ 0 \\\\ 0 \\\\ 1 }\n",
    "\\textdot\n",
    "\\end{aligned}\n",
    "\n",
    "We can project a point $\\point{p}_\\text{homo}$ homogeneous coordinates to a point $\\point{p}_\\text{cart}$ Cartesian coordinates using\n",
    "\n",
    "\\begin{aligned}\n",
    "\\point{p}_\\text{homo} = \n",
    "\\bmat{\n",
    "p_\\axi \\\\\n",
    "p_\\ayi \\\\\n",
    "\\color{red}{p_\\awi}\\\\\n",
    "}\n",
    "\\mapsto\n",
    "\\point{p}_\\text{cart} = \n",
    "\\bmat{\n",
    "\\left(\\frac{p_\\axi}{\\color{red}{p_\\awi}}\\right) \\\\\n",
    "\\left(\\frac{p_\\ayi}{\\color{red}{p_\\awi}}\\right) \\\\\n",
    "}\n",
    "\\textdot\n",
    "\\end{aligned}\n",
    "\n",
    "The Cartesian coordinates are called the projective space, as we loose a dimension in the conversion.\n",
    "With this definition, we can observe that any point $\\point{p}_\\text{homo}$ with $p_\\awi=0$ will represent a point at infinity in Cartesian coordinates:\n",
    "\n",
    "\\begin{aligned}\n",
    "\\point{p}_\\text{homo} = \n",
    "\\bmat{\n",
    "p_\\axi \\\\\n",
    "p_\\ayi \\\\\n",
    "0\\\\\n",
    "}\n",
    "\\mapsto\n",
    "\\point{p}_\\text{cart} = \n",
    "\\bmat{\n",
    "\\infty \\\\\n",
    "\\infty \\\\\n",
    "}\n",
    "\\textdot\n",
    "\\end{aligned}\n",
    "\n",
    "It is also worth noting that homogeneous coordinates with all zeros are undefined in the projective space because of the zeros divided by a zero\n",
    "\n",
    "\\begin{aligned}\n",
    "\\point{p}_\\text{homo} = \n",
    "\\bmat{\n",
    "0 \\\\\n",
    "0 \\\\\n",
    "0\n",
    "}\n",
    "\\mapsto\n",
    "\\mathrm{undefined}\n",
    "\\textdot\n",
    "\\end{aligned}\n",
    "\n",
    "This is why the origin of this frame is at $\\bmat{0 & 0 & 1}^T$.\n",
    "\n",
    "To explore this coordinate space, let us use a helix defined in homogeneous coordinates and see how it projects into the Cartesian coordinates.\n",
    "Before playing with the graph, predict what will happen to the Cartesian frame when\n",
    "- we stretch the helix in the direction of $\\aw{}$?\n",
    "- we force all $p_\\awi$ to be ones?\n",
    "- we stretch the helix toward the plane representing $p_\\awi=0$?\n",
    "- we stretch the helix under the plane representing $p_\\awi=0$?"
   ]
  },
  {
   "cell_type": "code",
   "execution_count": 3,
   "metadata": {},
   "outputs": [
    {
     "data": {
      "application/vnd.jupyter.widget-view+json": {
       "model_id": "57f021fcabe54913ac89869cb6cb3910",
       "version_major": 2,
       "version_minor": 0
      },
      "text/plain": [
       "Canvas(toolbar=Toolbar(toolitems=[('Home', 'Reset original view', 'home', 'home'), ('Back', 'Back to previous …"
      ]
     },
     "metadata": {},
     "output_type": "display_data"
    },
    {
     "data": {
      "application/vnd.jupyter.widget-view+json": {
       "model_id": "87ea01f04c8543a59a2be0e398b65281",
       "version_major": 2,
       "version_minor": 0
      },
      "text/plain": [
       "interactive(children=(FloatSlider(value=1.0, description='pw_max', max=5.5, min=-5.0), Output()), _dom_classes…"
      ]
     },
     "metadata": {},
     "output_type": "display_data"
    }
   ],
   "source": [
    "%matplotlib widget\n",
    "#%matplotlib inline\n",
    "\n",
    "\n",
    "origin = np.array([0,0,1])\n",
    "x = np.array([1,0,0])\n",
    "y = np.array([0,1,0])\n",
    "w = np.array([0,0,1])\n",
    "\n",
    "#plt.close(fig)\n",
    "fig = plt.figure(figsize=(8,4))\n",
    "ax1 = fig.add_subplot(121,projection=\"3d\")\n",
    "\n",
    "draw_3d_frame(ax1, origin=origin, text_z=r\"$\\vec{\\mathscr{w}}$\" )\n",
    "\n",
    "ax1.set_xlim(-2, 2); ax1.set_ylim(-2, 2); ax1.set_zlim(-1, 3)\n",
    "ax1.set_axis_off()\n",
    "ax1.set_title(\"Homogeneous frame\")\n",
    "\n",
    "ax2 = fig.add_subplot(122)\n",
    "draw_frame(ax2, text_x=r\"$ \\vec{\\mathscr{x}}$\", text_y=r\"$ \\vec{\\mathscr{y}}$\")\n",
    "ax2.set_axis_off()\n",
    "ax2.set_title(\"Cartesian frame\")\n",
    "\n",
    "# helix equations\n",
    "n = 100\n",
    "theta = np.linspace(-2*np.pi, 4*np.pi, n)\n",
    "radius = 1.5\n",
    "\n",
    "homo_x = radius*np.cos(theta)\n",
    "homo_y = radius*np.sin(theta)\n",
    "homo_w = np.linspace(0.4, 1.2, n)\n",
    "\n",
    "ax1.plot3D(homo_x, homo_y, homo_w, \"-\", color=\"tab:blue\")\n",
    "scat3d = ax1.scatter(homo_x, homo_y, homo_w, c=homo_w, depthshade=False)\n",
    "\n",
    "# draw plane for infinit values\n",
    "size = 2.\n",
    "px = np.array([-1., 1., 1., -1.])*size\n",
    "py = np.array([1, 1, -1, -1])*size\n",
    "pz = np.array([0,0,0,0])*size\n",
    "plane = list(zip(px,py,pz))\n",
    "ax1.add_collection3d(mplot3d.art3d.Poly3DCollection([plane], alpha=0.3))\n",
    "\n",
    "# corresponding Cartesian coordinates\n",
    "cart_x = homo_x/homo_w\n",
    "cart_y = homo_y/homo_w\n",
    "\n",
    "ax2.plot(cart_x, cart_y)\n",
    "scat = ax2.scatter(cart_x, cart_y, c=homo_w, zorder=3)\n",
    "s_range = (0.1, 5.5)\n",
    "ax2.set_xlim((np.min([cart_x,cart_y])-0.1, np.max([cart_x,cart_y])+0.1))\n",
    "ax2.set_ylim((np.min([cart_x,cart_y])-0.1, np.max([cart_x,cart_y])+0.1))\n",
    "\n",
    "def update(pw_max=1.):\n",
    "    global homo_x, cart_x, cart_y\n",
    "    del ax1.lines[0]\n",
    "    del ax2.lines[0]\n",
    "\n",
    "    homo_w = np.linspace(1., pw_max, len(homo_x))\n",
    "    ax1.plot3D(homo_x, homo_y, homo_w, \"-\", color=\"tab:blue\")\n",
    "    scat3d._offsets3d = np.array([homo_x, homo_y, homo_w])\n",
    "    scat3d.set_array(homo_w)\n",
    "    scat3d.set_clim((np.min(homo_w), np.max(homo_w)))\n",
    "\n",
    "    keep_points = (homo_w != 0.)\n",
    "    cart_x = homo_x[keep_points]/homo_w[keep_points]\n",
    "    cart_y = homo_y[keep_points]/homo_w[keep_points]\n",
    "    ax2.plot(cart_x, cart_y, color=\"tab:blue\")\n",
    "    print(\"Nb Cartesian coordinates: %i / %i\" % (len(cart_x), len(homo_x)))\n",
    "    scat.set_offsets(np.array([cart_x, cart_y]).T)\n",
    "    scat.set_array(homo_w)\n",
    "    scat.set_clim(np.min(homo_w), np.max(homo_w))\n",
    "    fig.canvas.draw() #TODO find refreshing bug here\n",
    "\n",
    "widgets.interact(update, pw_max = (-5., 5.5, 0.1), continuous_update=False);"
   ]
  },
  {
   "cell_type": "markdown",
   "metadata": {},
   "source": [
    "There are infinite possibilities to convert from Cartesian to homogeneous coordinates, as any value of $p_\\awi$ would satisfy our constraints.\n",
    "Luckily, for point cloud manipulations, we limit ourself to a constant scale $p_\\awi=1$ for all points, leading to the simple conversion from Cartesian to homogeneous \n",
    "\n",
    "\\begin{aligned}\n",
    "\\point{p}_\\text{cart} = \n",
    "\\bmat{\n",
    "p_\\axi \\\\\n",
    "p_\\ayi \\\\\n",
    "}\n",
    "\\mapsto\n",
    "\\point{p}_\\text{homo} = \n",
    "\\bmat{\n",
    "p_\\axi \\\\\n",
    "p_\\ayi \\\\\n",
    "1\\\\\n",
    "}\n",
    "\\textdot\n",
    "\\end{aligned}\n",
    "\n",
    "The conversion is so trivial that we will not carry out any specific notation to differentiate both spaces, letting the context define the coordinate system. \n",
    "This context is often the dimensionality of the matrix in front of the point."
   ]
  },
  {
   "cell_type": "markdown",
   "metadata": {},
   "source": [
    "## Geometric quantities\n",
    "\n",
    "Using two points $\\point{p}$ and $\\point{q}$, we can define some geometric quantities of interest:\n",
    "- Location of a vector: the coordinates of $\\point{p}$\n",
    "$$p_\\mathscr{x} \\quad \\text{and} \\quad p_\\mathscr{y}$$\n",
    "- Vector length: \n",
    "$$l = \\|\\vec{p}\\|$$\n",
    "- Orientation of a vector: where the vector is pointing as a unit vector \n",
    "$$\\vec{u} = \\frac{\\vec{p}}{ \\|\\vec{p}\\|}$$\n",
    "- Distance between vectors:\n",
    "$$d = \\|\\vec{p} - \\vec{q}\\|$$\n",
    "- Angle between vectors${}^\\text{(1)}$: \n",
    "$$\\theta = \\arccos\\left( \\frac{\\vec{p} \\cdot \\vec{q}}{\\|\\vec{p}\\|\\|\\vec{q}\\|} \\right)$$\n",
    "- Ratio of two vector lengths: \n",
    "$$r = \\frac{\\|\\vec{p}\\|}{\\|\\vec{q}\\|}$$\n",
    "- Area between three vectors${}^\\text{(2)}$:\n",
    "$$ a = \\frac{1}{2}\\mathrm{det}\\left(\\bmat{\\vec{q} - \\vec{p} & \\vec{r} - \\vec{p} }\\right) $$\n",
    "\n",
    "${}^\\text{(1)}$Note here that the angle between two vectors is always positive as the function $\\arccos(\\cdot)$ is defined for the range $[0, \\pi]$.\n",
    "\n",
    "${}^\\text{(2)}$Note that any area using more than three points could be used.\n",
    "Using the [determinant of two points](https://en.wikipedia.org/wiki/Determinant#2_%C3%97_2_matrices) subtracted by a third one is just an easy way to compute an area with only two points.\n",
    "\n",
    "Here is an example of those quantities."
   ]
  },
  {
   "cell_type": "code",
   "execution_count": 6,
   "metadata": {},
   "outputs": [
    {
     "data": {
      "application/vnd.jupyter.widget-view+json": {
       "model_id": "29b51f34448440ca8ace54be7d4c333f",
       "version_major": 2,
       "version_minor": 0
      },
      "text/plain": [
       "Canvas(toolbar=Toolbar(toolitems=[('Home', 'Reset original view', 'home', 'home'), ('Back', 'Back to previous …"
      ]
     },
     "metadata": {},
     "output_type": "display_data"
    },
    {
     "name": "stdout",
     "output_type": "stream",
     "text": [
      "p     =[2.  1.5]\n",
      "q     =[2.5 5. ]\n",
      "l_p   = 2.500\n",
      "l_q   = 5.590\n",
      "u_p   = [0.8 0.6]\n",
      "u_q   = [0.45 0.89]\n",
      "dist = 3.536\n",
      "theta = 0.464\n",
      "ratio = 0.447\n",
      "area  = 3.800\n"
     ]
    }
   ],
   "source": [
    "p = np.array([2, 1.5])\n",
    "q = np.array([2.5, 5.])\n",
    "r = np.array([4., 0.3])\n",
    "\n",
    "\n",
    "l_p = np.linalg.norm(p)\n",
    "l_q = np.linalg.norm(q)\n",
    "u_p = p/l_p\n",
    "u_q = q/l_q\n",
    "dist = np.linalg.norm(p - q)\n",
    "theta = np.arccos(np.dot(p,q)/(l_p*l_q))\n",
    "ratio = l_p/l_q\n",
    "area = 0.5*np.abs(np.linalg.det(np.vstack([q-p, r-p]).T))\n",
    "\n",
    "fig, ax = plt.subplots(nrows=1, ncols=1, figsize=(5,5))\n",
    "\n",
    "draw_frame(ax, name=\"$A$\", color = \"tab:blue\")\n",
    "draw_vector(ax, head=p, text=r\"$\\vec{p}$\", text_offset=(-0.2, -0.9))\n",
    "draw_vector(ax, head=q, text=r\"$\\vec{q}$\", text_offset=(-0.3, 0))                       \n",
    "draw_vector(ax, head=r, text=r\"$\\vec{r}$\", text_offset=(-0.3, -0.9)) \n",
    "draw_angle_vectors(ax, p, v2=q, radius=1.)\n",
    "triangle = np.vstack([p, q, r])\n",
    "ax.add_patch(plt.Polygon(triangle, color='white', alpha=0.2))\n",
    "clean_frame(ax, [p, q, p+q], \"Some geometric quantities\")\n",
    "\n",
    "print(\"p     =\" +str(p))\n",
    "print(\"q     =\" +str(q))\n",
    "print(\"l_p   = %.3f\" %l_p)\n",
    "print(\"l_q   = %.3f\" %l_q)\n",
    "print(\"u_p   = \"  + str(u_p))\n",
    "print(\"u_q   = \"  + str(u_q))\n",
    "print(\"dist = %.3f\" %dist)\n",
    "print(\"theta = %.3f\" %theta)\n",
    "print(\"ratio = %.3f\" %ratio)\n",
    "print(\"area  = %.3f\" %area)\n"
   ]
  },
  {
   "cell_type": "markdown",
   "metadata": {},
   "source": [
    "# Conclusion\n",
    "\n",
    "You should do the following activities to enhance your understanding of the concepts viewed in this lesson:\n",
    "- play with the Python scripts provided;\n",
    "- do the [exercises](../../exercises/transformations_2d/1e-exercises_coordinates.ipynb) related to this lesson, they are necessary to connect concepts;\n",
    "- modify the markdown by adding your own notes using `> my notes`; and\n",
    "- complete the tables [Symbol definitions](#Symbol-definitions) and [Glossary](#Glossary) and add your own definitions.\n",
    "\n",
    "Next lesson:\n",
    "- [Transformation functions in 2D](2-lesson_transformation.ipynb)"
   ]
  },
  {
   "cell_type": "markdown",
   "metadata": {},
   "source": [
    "## Symbol definitions\n",
    "\n",
    "| Symbol             | Definition            |\n",
    "|--------------------|-------------          |\n",
    "| $\\frame{A}$        | A frame of reference  |\n",
    "| $\\F{A}$            | set of basis vector of the frame of reference $\\frame{A}$       |\n",
    "| $\\f$               | basis vector          |\n",
    "| $\\ax{}$ and $\\ay{}$| 2D basis vector       |\n",
    "| $x$                | scalar                |\n",
    "| $\\vec{x}$          | vector                |\n",
    "| $\\mat{X}$          | matrix                |\n",
    "| $\\point{x}$        | coordinates of a point|\n",
    "| $x_i$              | $i^{\\text{th}}$ scalar of a set                |\n",
    "| $\\real$            | real set              |\n",
    "| $\\in$              | ... is part of ...    |\n",
    "| $\\point{a}\\cdot\\point{b}$            | dot product           |\n",
    "| $\\|\\vec{x}\\|$      | Euclidean norm of a vector $\\vec{x}$      |\n",
    "| ...                |                       |"
   ]
  },
  {
   "cell_type": "markdown",
   "metadata": {},
   "source": [
    "## Glossary\n",
    "\n",
    "| English               | Français        | Definition |\n",
    "|-----------            |------------     |------------|\n",
    "| frame of reference    | référentiel     |            |\n",
    "| basis vector          | vecteur de base |            |\n",
    "| ...                   |                 |            |"
   ]
  }
 ],
 "metadata": {
  "kernelspec": {
   "display_name": "Python 3",
   "language": "python",
   "name": "python3"
  },
  "language_info": {
   "codemirror_mode": {
    "name": "ipython",
    "version": 3
   },
   "file_extension": ".py",
   "mimetype": "text/x-python",
   "name": "python",
   "nbconvert_exporter": "python",
   "pygments_lexer": "ipython3",
   "version": "3.8.2"
  },
  "toc-showtags": false
 },
 "nbformat": 4,
 "nbformat_minor": 4
}
